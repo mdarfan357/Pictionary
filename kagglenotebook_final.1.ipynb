{
 "cells": [
  {
   "cell_type": "markdown",
   "id": "323c6923",
   "metadata": {
    "papermill": {
     "duration": 0.008829,
     "end_time": "2023-03-23T06:34:54.665106",
     "exception": false,
     "start_time": "2023-03-23T06:34:54.656277",
     "status": "completed"
    },
    "tags": []
   },
   "source": [
    "# 0. Data Importing from kaggle"
   ]
  },
  {
   "cell_type": "code",
   "execution_count": 1,
   "id": "79af3f23",
   "metadata": {
    "execution": {
     "iopub.execute_input": "2023-03-23T06:34:54.682367Z",
     "iopub.status.busy": "2023-03-23T06:34:54.681916Z",
     "iopub.status.idle": "2023-03-23T06:34:55.749581Z",
     "shell.execute_reply": "2023-03-23T06:34:55.748501Z"
    },
    "papermill": {
     "duration": 1.079006,
     "end_time": "2023-03-23T06:34:55.751977",
     "exception": false,
     "start_time": "2023-03-23T06:34:54.672971",
     "status": "completed"
    },
    "tags": []
   },
   "outputs": [
    {
     "data": {
      "application/vnd.jupyter.widget-view+json": {
       "model_id": "76a9f816abbb42818da03f80f8ee7b5d",
       "version_major": 2,
       "version_minor": 0
      },
      "text/plain": [
       "0it [00:00, ?it/s]"
      ]
     },
     "metadata": {},
     "output_type": "display_data"
    }
   ],
   "source": [
    "import os\n",
    "from tqdm.notebook import tqdm\n",
    "for dirname, _, filenames in tqdm(os.walk('/kaggle/input')):\n",
    "    for filename in filenames:\n",
    "        os.path.join(dirname, filename)\n",
    "#         print(os.path.join(dirname, filename))"
   ]
  },
  {
   "cell_type": "markdown",
   "id": "ba98ca56",
   "metadata": {
    "papermill": {
     "duration": 0.013753,
     "end_time": "2023-03-23T06:34:55.777296",
     "exception": false,
     "start_time": "2023-03-23T06:34:55.763543",
     "status": "completed"
    },
    "tags": []
   },
   "source": [
    "# Limiting GPU usage"
   ]
  },
  {
   "cell_type": "code",
   "execution_count": 2,
   "id": "8b91abed",
   "metadata": {
    "execution": {
     "iopub.execute_input": "2023-03-23T06:34:55.802192Z",
     "iopub.status.busy": "2023-03-23T06:34:55.801648Z",
     "iopub.status.idle": "2023-03-23T06:35:08.866217Z",
     "shell.execute_reply": "2023-03-23T06:35:08.864468Z"
    },
    "papermill": {
     "duration": 13.079833,
     "end_time": "2023-03-23T06:35:08.868507",
     "exception": false,
     "start_time": "2023-03-23T06:34:55.788674",
     "status": "completed"
    },
    "tags": []
   },
   "outputs": [
    {
     "name": "stdout",
     "output_type": "stream",
     "text": [
      "2 Physical GPUs, 2 Logical GPUs\n"
     ]
    }
   ],
   "source": [
    "# limit memory to prevent data leak\n",
    "import tensorflow as tf\n",
    "gpus = tf.config.list_physical_devices('GPU')\n",
    "if gpus:\n",
    "  try:\n",
    "    # Currently, memory growth needs to be the same across GPUs\n",
    "    for gpu in gpus:\n",
    "      tf.config.experimental.set_memory_growth(gpu, True)\n",
    "    logical_gpus = tf.config.list_logical_devices('GPU')\n",
    "    print(len(gpus), \"Physical GPUs,\", len(logical_gpus), \"Logical GPUs\")\n",
    "    \n",
    "    del logical_gpus,gpus\n",
    "  except RuntimeError as e:\n",
    "    # Memory growth must be set before GPUs have been initialized\n",
    "    print(e)\n"
   ]
  },
  {
   "cell_type": "markdown",
   "id": "c16c04b3",
   "metadata": {
    "papermill": {
     "duration": 0.007369,
     "end_time": "2023-03-23T06:35:08.883717",
     "exception": false,
     "start_time": "2023-03-23T06:35:08.876348",
     "status": "completed"
    },
    "tags": []
   },
   "source": [
    "# 1. Importing modules"
   ]
  },
  {
   "cell_type": "code",
   "execution_count": 3,
   "id": "d9532161",
   "metadata": {
    "execution": {
     "iopub.execute_input": "2023-03-23T06:35:08.901041Z",
     "iopub.status.busy": "2023-03-23T06:35:08.899576Z",
     "iopub.status.idle": "2023-03-23T06:35:09.074742Z",
     "shell.execute_reply": "2023-03-23T06:35:09.073651Z"
    },
    "papermill": {
     "duration": 0.18573,
     "end_time": "2023-03-23T06:35:09.076868",
     "exception": false,
     "start_time": "2023-03-23T06:35:08.891138",
     "status": "completed"
    },
    "tags": []
   },
   "outputs": [
    {
     "name": "stdout",
     "output_type": "stream",
     "text": [
      "588\n"
     ]
    },
    {
     "data": {
      "text/plain": [
       "56"
      ]
     },
     "execution_count": 3,
     "metadata": {},
     "output_type": "execute_result"
    }
   ],
   "source": [
    "import numpy as np\n",
    "import pandas as pd\n",
    "import json\n",
    "import gc\n",
    "import matplotlib.pyplot as plt\n",
    "%matplotlib inline\n",
    "from glob import glob\n",
    "import os\n",
    "train_files = glob(\"../input/quickdraw-doodle-recognition/train_simplified/*.csv\")\n",
    "\n",
    "# calculating data size per category\n",
    "rows = 200000\n",
    "# rows = 10000\n",
    "rows = rows - (rows % 340)\n",
    "cat_size = rows // 340\n",
    "print(cat_size)\n",
    "gc.collect()"
   ]
  },
  {
   "cell_type": "markdown",
   "id": "693a5c3c",
   "metadata": {
    "papermill": {
     "duration": 0.007491,
     "end_time": "2023-03-23T06:35:09.092281",
     "exception": false,
     "start_time": "2023-03-23T06:35:09.084790",
     "status": "completed"
    },
    "tags": []
   },
   "source": [
    "# 2. Image Preprocessing \n",
    "1. converting data in text json to an image \n",
    "2. normalizing the image size\n",
    "3. normalizing the image pixels\n"
   ]
  },
  {
   "cell_type": "code",
   "execution_count": 4,
   "id": "aa865f06",
   "metadata": {
    "execution": {
     "iopub.execute_input": "2023-03-23T06:35:09.109972Z",
     "iopub.status.busy": "2023-03-23T06:35:09.109382Z",
     "iopub.status.idle": "2023-03-23T06:35:09.310041Z",
     "shell.execute_reply": "2023-03-23T06:35:09.309069Z"
    },
    "papermill": {
     "duration": 0.212652,
     "end_time": "2023-03-23T06:35:09.312623",
     "exception": false,
     "start_time": "2023-03-23T06:35:09.099971",
     "status": "completed"
    },
    "tags": []
   },
   "outputs": [],
   "source": [
    "from PIL import Image, ImageDraw\n",
    "from dask import bag\n",
    "def drawStrokes(matrixOfStrokes):\n",
    "    image = Image.new(\"RGB\", (256,256), color=255)\n",
    "    image_draw = ImageDraw.Draw(image)\n",
    "    for stroke in json.loads(matrixOfStrokes):\n",
    "        for i in range(len(stroke[0])-1):\n",
    "            image_draw.line([stroke[0][i], \n",
    "                             stroke[1][i],\n",
    "                             stroke[0][i+1], \n",
    "                             stroke[1][i+1]],\n",
    "                            fill=0, width=5)\n",
    "    return np.array(image.resize((32,32)))/255."
   ]
  },
  {
   "cell_type": "code",
   "execution_count": 5,
   "id": "eba36a8a",
   "metadata": {
    "execution": {
     "iopub.execute_input": "2023-03-23T06:35:09.329669Z",
     "iopub.status.busy": "2023-03-23T06:35:09.329379Z",
     "iopub.status.idle": "2023-03-23T06:49:37.242701Z",
     "shell.execute_reply": "2023-03-23T06:49:37.241518Z"
    },
    "papermill": {
     "duration": 867.924509,
     "end_time": "2023-03-23T06:49:37.245111",
     "exception": false,
     "start_time": "2023-03-23T06:35:09.320602",
     "status": "completed"
    },
    "tags": []
   },
   "outputs": [
    {
     "data": {
      "application/vnd.jupyter.widget-view+json": {
       "model_id": "672f98339fd94148bd649ec6cc548c11",
       "version_major": 2,
       "version_minor": 0
      },
      "text/plain": [
       "  0%|          | 0/340 [00:00<?, ?it/s]"
      ]
     },
     "metadata": {},
     "output_type": "display_data"
    }
   ],
   "source": [
    "from tqdm.notebook import tqdm\n",
    "drawingArray = np.zeros((rows,32,32,3))\n",
    "categories = pd.Series([None] * rows)\n",
    "i = 0\n",
    "for f in tqdm(train_files):\n",
    "    for df in pd.read_csv(f, index_col=\"key_id\", chunksize=1000, nrows=cat_size):\n",
    "        df = df.drop(['countrycode','timestamp','recognized'],axis=1)\n",
    "        imagebag = bag.from_sequence(df.drawing.values).map(drawStrokes)\n",
    "        imagebag = np.array(imagebag.compute())\n",
    "        categories[i:(i + imagebag.shape[0])] = df[\"word\"].replace(\"\\s+\", \"_\", regex=True)\n",
    "        drawingArray[i:(i + imagebag.shape[0])] = imagebag\n",
    "        i += imagebag.shape[0]\n"
   ]
  },
  {
   "cell_type": "code",
   "execution_count": 6,
   "id": "69298d28",
   "metadata": {
    "execution": {
     "iopub.execute_input": "2023-03-23T06:49:37.265052Z",
     "iopub.status.busy": "2023-03-23T06:49:37.263294Z",
     "iopub.status.idle": "2023-03-23T06:49:37.474813Z",
     "shell.execute_reply": "2023-03-23T06:49:37.473725Z"
    },
    "papermill": {
     "duration": 0.223252,
     "end_time": "2023-03-23T06:49:37.477062",
     "exception": false,
     "start_time": "2023-03-23T06:49:37.253810",
     "status": "completed"
    },
    "tags": []
   },
   "outputs": [
    {
     "data": {
      "text/plain": [
       "39"
      ]
     },
     "execution_count": 6,
     "metadata": {},
     "output_type": "execute_result"
    }
   ],
   "source": [
    "gc.collect()"
   ]
  },
  {
   "cell_type": "code",
   "execution_count": 7,
   "id": "0f75c12c",
   "metadata": {
    "execution": {
     "iopub.execute_input": "2023-03-23T06:49:37.496149Z",
     "iopub.status.busy": "2023-03-23T06:49:37.494460Z",
     "iopub.status.idle": "2023-03-23T06:49:37.513188Z",
     "shell.execute_reply": "2023-03-23T06:49:37.512094Z"
    },
    "papermill": {
     "duration": 0.029796,
     "end_time": "2023-03-23T06:49:37.515314",
     "exception": false,
     "start_time": "2023-03-23T06:49:37.485518",
     "status": "completed"
    },
    "tags": []
   },
   "outputs": [
    {
     "data": {
      "text/plain": [
       "traffic_light    588\n",
       "umbrella         588\n",
       "house            588\n",
       "trombone         588\n",
       "paper_clip       588\n",
       "                ... \n",
       "rain             588\n",
       "rabbit           588\n",
       "lantern          588\n",
       "toaster          588\n",
       "fish             588\n",
       "Length: 340, dtype: int64"
      ]
     },
     "execution_count": 7,
     "metadata": {},
     "output_type": "execute_result"
    }
   ],
   "source": [
    "categories.value_counts()"
   ]
  },
  {
   "cell_type": "markdown",
   "id": "c48ee55f",
   "metadata": {
    "papermill": {
     "duration": 0.007944,
     "end_time": "2023-03-23T06:49:37.531204",
     "exception": false,
     "start_time": "2023-03-23T06:49:37.523260",
     "status": "completed"
    },
    "tags": []
   },
   "source": [
    "# 3. Train Test split"
   ]
  },
  {
   "cell_type": "code",
   "execution_count": 8,
   "id": "3433cc46",
   "metadata": {
    "execution": {
     "iopub.execute_input": "2023-03-23T06:49:37.548484Z",
     "iopub.status.busy": "2023-03-23T06:49:37.548206Z",
     "iopub.status.idle": "2023-03-23T06:50:25.648555Z",
     "shell.execute_reply": "2023-03-23T06:50:25.647488Z"
    },
    "papermill": {
     "duration": 48.112444,
     "end_time": "2023-03-23T06:50:25.651667",
     "exception": false,
     "start_time": "2023-03-23T06:49:37.539223",
     "status": "completed"
    },
    "tags": []
   },
   "outputs": [],
   "source": [
    "\n",
    "from sklearn.model_selection import train_test_split\n",
    "indecator = pd.get_dummies(categories)\n",
    "tr_x,tst_x,tr_indecator,tst_indecator = train_test_split(drawingArray, indecator, test_size=0.25,random_state=0,stratify=indecator)\n"
   ]
  },
  {
   "cell_type": "code",
   "execution_count": 9,
   "id": "75c96990",
   "metadata": {
    "execution": {
     "iopub.execute_input": "2023-03-23T06:50:25.670280Z",
     "iopub.status.busy": "2023-03-23T06:50:25.669954Z",
     "iopub.status.idle": "2023-03-23T06:50:25.689035Z",
     "shell.execute_reply": "2023-03-23T06:50:25.687909Z"
    },
    "papermill": {
     "duration": 0.033461,
     "end_time": "2023-03-23T06:50:25.694015",
     "exception": false,
     "start_time": "2023-03-23T06:50:25.660554",
     "status": "completed"
    },
    "tags": []
   },
   "outputs": [
    {
     "name": "stdout",
     "output_type": "stream",
     "text": [
      "The_Eiffel_Tower : 441\n",
      "The_Great_Wall_of_China : 441\n",
      "The_Mona_Lisa : 441\n",
      "airplane : 441\n",
      "alarm_clock : 441\n",
      "ambulance : 441\n"
     ]
    }
   ],
   "source": [
    "itr = 0\n",
    "for df in tr_indecator:\n",
    "    print(f\"{df} : {tr_indecator[df].value_counts()[1]}\")\n",
    "    if itr == 5:\n",
    "        break\n",
    "    else:\n",
    "        itr+= 1"
   ]
  },
  {
   "cell_type": "code",
   "execution_count": 10,
   "id": "1e09895e",
   "metadata": {
    "execution": {
     "iopub.execute_input": "2023-03-23T06:50:25.713173Z",
     "iopub.status.busy": "2023-03-23T06:50:25.712200Z",
     "iopub.status.idle": "2023-03-23T06:50:25.725210Z",
     "shell.execute_reply": "2023-03-23T06:50:25.723610Z"
    },
    "papermill": {
     "duration": 0.024721,
     "end_time": "2023-03-23T06:50:25.727299",
     "exception": false,
     "start_time": "2023-03-23T06:50:25.702578",
     "status": "completed"
    },
    "tags": []
   },
   "outputs": [
    {
     "name": "stdout",
     "output_type": "stream",
     "text": [
      "The_Eiffel_Tower : 147\n",
      "The_Great_Wall_of_China : 147\n",
      "The_Mona_Lisa : 147\n",
      "airplane : 147\n",
      "alarm_clock : 147\n",
      "ambulance : 147\n"
     ]
    }
   ],
   "source": [
    "itr = 0\n",
    "for df in tst_indecator:\n",
    "    try:\n",
    "        print(f\"{df} : {tst_indecator[df].value_counts()[1]}\")\n",
    "    except:\n",
    "        print(f\"{df} : 0\")\n",
    "        \n",
    "    if itr == 5:\n",
    "        break\n",
    "    else:\n",
    "        itr+= 1"
   ]
  },
  {
   "cell_type": "code",
   "execution_count": 11,
   "id": "50d85d79",
   "metadata": {
    "execution": {
     "iopub.execute_input": "2023-03-23T06:50:25.750615Z",
     "iopub.status.busy": "2023-03-23T06:50:25.749488Z",
     "iopub.status.idle": "2023-03-23T06:50:26.266021Z",
     "shell.execute_reply": "2023-03-23T06:50:26.265026Z"
    },
    "papermill": {
     "duration": 0.532281,
     "end_time": "2023-03-23T06:50:26.268202",
     "exception": false,
     "start_time": "2023-03-23T06:50:25.735921",
     "status": "completed"
    },
    "tags": []
   },
   "outputs": [
    {
     "data": {
      "text/plain": [
       "63"
      ]
     },
     "execution_count": 11,
     "metadata": {},
     "output_type": "execute_result"
    }
   ],
   "source": [
    "del drawingArray,categories\n",
    "gc.collect()"
   ]
  },
  {
   "cell_type": "markdown",
   "id": "dcbcb64a",
   "metadata": {
    "papermill": {
     "duration": 0.008484,
     "end_time": "2023-03-23T06:50:26.286019",
     "exception": false,
     "start_time": "2023-03-23T06:50:26.277535",
     "status": "completed"
    },
    "tags": []
   },
   "source": [
    "# 4. Creating Deep learning model"
   ]
  },
  {
   "cell_type": "code",
   "execution_count": 12,
   "id": "e237fa98",
   "metadata": {
    "execution": {
     "iopub.execute_input": "2023-03-23T06:50:26.305119Z",
     "iopub.status.busy": "2023-03-23T06:50:26.304790Z",
     "iopub.status.idle": "2023-03-23T06:50:26.311408Z",
     "shell.execute_reply": "2023-03-23T06:50:26.310597Z"
    },
    "papermill": {
     "duration": 0.018599,
     "end_time": "2023-03-23T06:50:26.313399",
     "exception": false,
     "start_time": "2023-03-23T06:50:26.294800",
     "status": "completed"
    },
    "tags": []
   },
   "outputs": [],
   "source": [
    "from keras.callbacks import ModelCheckpoint\n",
    "from tensorflow.keras.optimizers.legacy import Adam\n",
    "\n",
    "filepath = 'my_best_model.hdf5'\n",
    "\n",
    "checkpoint = ModelCheckpoint(filepath=filepath, \n",
    "                             monitor=\"val_loss\", \n",
    "                             save_best_only=True,\n",
    "                             mode='min')\n",
    "\n",
    "callbacks = [checkpoint]"
   ]
  },
  {
   "cell_type": "code",
   "execution_count": 13,
   "id": "3deb8e9e",
   "metadata": {
    "execution": {
     "iopub.execute_input": "2023-03-23T06:50:26.332118Z",
     "iopub.status.busy": "2023-03-23T06:50:26.331298Z",
     "iopub.status.idle": "2023-03-23T06:50:26.512888Z",
     "shell.execute_reply": "2023-03-23T06:50:26.511856Z"
    },
    "papermill": {
     "duration": 0.193244,
     "end_time": "2023-03-23T06:50:26.515055",
     "exception": false,
     "start_time": "2023-03-23T06:50:26.321811",
     "status": "completed"
    },
    "tags": []
   },
   "outputs": [
    {
     "data": {
      "text/plain": [
       "42"
      ]
     },
     "execution_count": 13,
     "metadata": {},
     "output_type": "execute_result"
    }
   ],
   "source": [
    "gc.collect()"
   ]
  },
  {
   "cell_type": "code",
   "execution_count": 14,
   "id": "5594b814",
   "metadata": {
    "execution": {
     "iopub.execute_input": "2023-03-23T06:50:26.534799Z",
     "iopub.status.busy": "2023-03-23T06:50:26.534469Z",
     "iopub.status.idle": "2023-03-23T06:50:27.301107Z",
     "shell.execute_reply": "2023-03-23T06:50:27.295843Z"
    },
    "papermill": {
     "duration": 0.779272,
     "end_time": "2023-03-23T06:50:27.303533",
     "exception": false,
     "start_time": "2023-03-23T06:50:26.524261",
     "status": "completed"
    },
    "tags": []
   },
   "outputs": [],
   "source": [
    "import tensorflow as tf\n",
    "from tensorflow.keras.models import Sequential,Model\n",
    "from tensorflow.keras.layers import *\n",
    "\n",
    "\n",
    "strategy = tf.distribute.MirroredStrategy()\n",
    "with strategy.scope():\n",
    "    model = Sequential()\n",
    "    model.add(Conv2D(128,kernel_size=(5,5),padding=\"same\",activation=\"relu\",input_shape=(32,32,3)))\n",
    "    model.add(MaxPooling2D(pool_size=(2, 2)))\n",
    "    model.add(BatchNormalization())\n",
    "    model.add(Dropout(0.25))\n",
    "    \n",
    "\n",
    "    model.add(Conv2D(128, kernel_size=(3,3),activation=\"relu\", strides=1))\n",
    "    model.add(MaxPooling2D(pool_size=(2, 2)))\n",
    "    model.add(BatchNormalization())\n",
    "    model.add(Dropout(0.25))\n",
    "\n",
    "    model.add(Conv2D(64, kernel_size=(3,3),activation=\"relu\", strides=1))\n",
    "    model.add(MaxPooling2D(pool_size=(2, 2)))\n",
    "    model.add(BatchNormalization())\n",
    "    model.add(Dropout(0.25))\n",
    "\n",
    "    model.add(Flatten())\n",
    "    model.add(Dense(1024,activation=\"relu\"))\n",
    "    model.add(BatchNormalization())\n",
    "    model.add(Dropout(0.3))\n",
    "\n",
    "    model.add(Dense(512,activation=\"relu\"))\n",
    "    model.add(BatchNormalization())\n",
    "    model.add(Dropout(0.25))\n",
    "\n",
    "    model.add(Dense(340,activation=\"softmax\"))"
   ]
  },
  {
   "cell_type": "code",
   "execution_count": 15,
   "id": "a17885da",
   "metadata": {
    "execution": {
     "iopub.execute_input": "2023-03-23T06:50:27.331985Z",
     "iopub.status.busy": "2023-03-23T06:50:27.331411Z",
     "iopub.status.idle": "2023-03-23T06:50:27.372656Z",
     "shell.execute_reply": "2023-03-23T06:50:27.371285Z"
    },
    "papermill": {
     "duration": 0.060221,
     "end_time": "2023-03-23T06:50:27.376301",
     "exception": false,
     "start_time": "2023-03-23T06:50:27.316080",
     "status": "completed"
    },
    "tags": []
   },
   "outputs": [],
   "source": [
    "model.compile(loss='categorical_crossentropy',\n",
    "              optimizer= \"adam\",\n",
    "              metrics=['accuracy'])\n"
   ]
  },
  {
   "cell_type": "code",
   "execution_count": 16,
   "id": "540254e7",
   "metadata": {
    "execution": {
     "iopub.execute_input": "2023-03-23T06:50:27.403650Z",
     "iopub.status.busy": "2023-03-23T06:50:27.402669Z",
     "iopub.status.idle": "2023-03-23T06:50:27.475088Z",
     "shell.execute_reply": "2023-03-23T06:50:27.473757Z"
    },
    "papermill": {
     "duration": 0.120734,
     "end_time": "2023-03-23T06:50:27.506919",
     "exception": false,
     "start_time": "2023-03-23T06:50:27.386185",
     "status": "completed"
    },
    "tags": []
   },
   "outputs": [
    {
     "name": "stdout",
     "output_type": "stream",
     "text": [
      "Model: \"sequential\"\n",
      "_________________________________________________________________\n",
      " Layer (type)                Output Shape              Param #   \n",
      "=================================================================\n",
      " conv2d (Conv2D)             (None, 32, 32, 128)       9728      \n",
      "                                                                 \n",
      " max_pooling2d (MaxPooling2D  (None, 16, 16, 128)      0         \n",
      " )                                                               \n",
      "                                                                 \n",
      " batch_normalization (BatchN  (None, 16, 16, 128)      512       \n",
      " ormalization)                                                   \n",
      "                                                                 \n",
      " dropout (Dropout)           (None, 16, 16, 128)       0         \n",
      "                                                                 \n",
      " conv2d_1 (Conv2D)           (None, 14, 14, 128)       147584    \n",
      "                                                                 \n",
      " max_pooling2d_1 (MaxPooling  (None, 7, 7, 128)        0         \n",
      " 2D)                                                             \n",
      "                                                                 \n",
      " batch_normalization_1 (Batc  (None, 7, 7, 128)        512       \n",
      " hNormalization)                                                 \n",
      "                                                                 \n",
      " dropout_1 (Dropout)         (None, 7, 7, 128)         0         \n",
      "                                                                 \n",
      " conv2d_2 (Conv2D)           (None, 5, 5, 64)          73792     \n",
      "                                                                 \n",
      " max_pooling2d_2 (MaxPooling  (None, 2, 2, 64)         0         \n",
      " 2D)                                                             \n",
      "                                                                 \n",
      " batch_normalization_2 (Batc  (None, 2, 2, 64)         256       \n",
      " hNormalization)                                                 \n",
      "                                                                 \n",
      " dropout_2 (Dropout)         (None, 2, 2, 64)          0         \n",
      "                                                                 \n",
      " flatten (Flatten)           (None, 256)               0         \n",
      "                                                                 \n",
      " dense (Dense)               (None, 1024)              263168    \n",
      "                                                                 \n",
      " batch_normalization_3 (Batc  (None, 1024)             4096      \n",
      " hNormalization)                                                 \n",
      "                                                                 \n",
      " dropout_3 (Dropout)         (None, 1024)              0         \n",
      "                                                                 \n",
      " dense_1 (Dense)             (None, 512)               524800    \n",
      "                                                                 \n",
      " batch_normalization_4 (Batc  (None, 512)              2048      \n",
      " hNormalization)                                                 \n",
      "                                                                 \n",
      " dropout_4 (Dropout)         (None, 512)               0         \n",
      "                                                                 \n",
      " dense_2 (Dense)             (None, 340)               174420    \n",
      "                                                                 \n",
      "=================================================================\n",
      "Total params: 1,200,916\n",
      "Trainable params: 1,197,204\n",
      "Non-trainable params: 3,712\n",
      "_________________________________________________________________\n"
     ]
    }
   ],
   "source": [
    "model.summary()"
   ]
  },
  {
   "cell_type": "code",
   "execution_count": 17,
   "id": "a58af5d3",
   "metadata": {
    "execution": {
     "iopub.execute_input": "2023-03-23T06:50:27.533479Z",
     "iopub.status.busy": "2023-03-23T06:50:27.533086Z",
     "iopub.status.idle": "2023-03-23T06:50:27.726706Z",
     "shell.execute_reply": "2023-03-23T06:50:27.725727Z"
    },
    "papermill": {
     "duration": 0.209266,
     "end_time": "2023-03-23T06:50:27.728919",
     "exception": false,
     "start_time": "2023-03-23T06:50:27.519653",
     "status": "completed"
    },
    "tags": []
   },
   "outputs": [
    {
     "data": {
      "text/plain": [
       "473"
      ]
     },
     "execution_count": 17,
     "metadata": {},
     "output_type": "execute_result"
    }
   ],
   "source": [
    "gc.collect()"
   ]
  },
  {
   "cell_type": "markdown",
   "id": "b21f2319",
   "metadata": {
    "papermill": {
     "duration": 0.012321,
     "end_time": "2023-03-23T06:50:27.754996",
     "exception": false,
     "start_time": "2023-03-23T06:50:27.742675",
     "status": "completed"
    },
    "tags": []
   },
   "source": [
    "# 5. Training Deep learning model  "
   ]
  },
  {
   "cell_type": "markdown",
   "id": "1e34c5c2",
   "metadata": {
    "papermill": {
     "duration": 0.01182,
     "end_time": "2023-03-23T06:50:27.778440",
     "exception": false,
     "start_time": "2023-03-23T06:50:27.766620",
     "status": "completed"
    },
    "tags": []
   },
   "source": [
    "RUN 1"
   ]
  },
  {
   "cell_type": "code",
   "execution_count": 18,
   "id": "179b9774",
   "metadata": {
    "execution": {
     "iopub.execute_input": "2023-03-23T06:50:27.804563Z",
     "iopub.status.busy": "2023-03-23T06:50:27.804192Z",
     "iopub.status.idle": "2023-03-23T07:47:04.353720Z",
     "shell.execute_reply": "2023-03-23T07:47:04.352617Z"
    },
    "papermill": {
     "duration": 3398.887325,
     "end_time": "2023-03-23T07:47:06.677834",
     "exception": false,
     "start_time": "2023-03-23T06:50:27.790509",
     "status": "completed"
    },
    "tags": []
   },
   "outputs": [
    {
     "name": "stdout",
     "output_type": "stream",
     "text": [
      "Epoch 1/100\n"
     ]
    },
    {
     "name": "stderr",
     "output_type": "stream",
     "text": [
      "2023-03-23 06:50:41.282734: E tensorflow/core/grappler/optimizers/meta_optimizer.cc:954] layout failed: INVALID_ARGUMENT: Size of values 0 does not match size of permutation 4 @ fanin shape insequential/dropout/dropout/SelectV2-2-TransposeNHWCToNCHW-LayoutOptimizer\n"
     ]
    },
    {
     "name": "stdout",
     "output_type": "stream",
     "text": [
      "1172/1172 [==============================] - 59s 33ms/step - loss: 4.0293 - accuracy: 0.1830 - val_loss: 4.0359 - val_accuracy: 0.1767\n",
      "Epoch 2/100\n",
      "1172/1172 [==============================] - 33s 29ms/step - loss: 3.0467 - accuracy: 0.3167 - val_loss: 4.5984 - val_accuracy: 0.1496\n",
      "Epoch 3/100\n",
      "1172/1172 [==============================] - 32s 27ms/step - loss: 2.7679 - accuracy: 0.3652 - val_loss: 6.0920 - val_accuracy: 0.0561\n",
      "Epoch 4/100\n",
      "1172/1172 [==============================] - 33s 29ms/step - loss: 2.6065 - accuracy: 0.3935 - val_loss: 3.7935 - val_accuracy: 0.1965\n",
      "Epoch 5/100\n",
      "1172/1172 [==============================] - 32s 27ms/step - loss: 2.4971 - accuracy: 0.4133 - val_loss: 5.8715 - val_accuracy: 0.0983\n",
      "Epoch 6/100\n",
      "1172/1172 [==============================] - 32s 27ms/step - loss: 2.4169 - accuracy: 0.4296 - val_loss: 2.4720 - val_accuracy: 0.4267\n",
      "Epoch 7/100\n",
      "1172/1172 [==============================] - 32s 27ms/step - loss: 2.3471 - accuracy: 0.4424 - val_loss: 4.1661 - val_accuracy: 0.1610\n",
      "Epoch 8/100\n",
      "1172/1172 [==============================] - 32s 27ms/step - loss: 2.2968 - accuracy: 0.4528 - val_loss: 2.6499 - val_accuracy: 0.3880\n",
      "Epoch 9/100\n",
      "1172/1172 [==============================] - 34s 29ms/step - loss: 2.2487 - accuracy: 0.4599 - val_loss: 2.2357 - val_accuracy: 0.4723\n",
      "Epoch 10/100\n",
      "1172/1172 [==============================] - 32s 27ms/step - loss: 2.2086 - accuracy: 0.4676 - val_loss: 3.3532 - val_accuracy: 0.2980\n",
      "Epoch 11/100\n",
      "1172/1172 [==============================] - 32s 27ms/step - loss: 2.1771 - accuracy: 0.4747 - val_loss: 3.2092 - val_accuracy: 0.3123\n",
      "Epoch 12/100\n",
      "1172/1172 [==============================] - 34s 29ms/step - loss: 2.1436 - accuracy: 0.4817 - val_loss: 2.8202 - val_accuracy: 0.3648\n",
      "Epoch 13/100\n",
      "1172/1172 [==============================] - 32s 28ms/step - loss: 2.1182 - accuracy: 0.4854 - val_loss: 2.3430 - val_accuracy: 0.4525\n",
      "Epoch 14/100\n",
      "1172/1172 [==============================] - 32s 27ms/step - loss: 2.0998 - accuracy: 0.4917 - val_loss: 2.7135 - val_accuracy: 0.3993\n",
      "Epoch 15/100\n",
      "1172/1172 [==============================] - 32s 27ms/step - loss: 2.0755 - accuracy: 0.4928 - val_loss: 2.1849 - val_accuracy: 0.4886\n",
      "Epoch 16/100\n",
      "1172/1172 [==============================] - 32s 27ms/step - loss: 2.0529 - accuracy: 0.4982 - val_loss: 2.3523 - val_accuracy: 0.4521\n",
      "Epoch 17/100\n",
      "1172/1172 [==============================] - 32s 28ms/step - loss: 2.0350 - accuracy: 0.5010 - val_loss: 2.5315 - val_accuracy: 0.4302\n",
      "Epoch 18/100\n",
      "1172/1172 [==============================] - 32s 27ms/step - loss: 2.0113 - accuracy: 0.5069 - val_loss: 1.9732 - val_accuracy: 0.5293\n",
      "Epoch 19/100\n",
      "1172/1172 [==============================] - 32s 27ms/step - loss: 1.9995 - accuracy: 0.5083 - val_loss: 2.2520 - val_accuracy: 0.4705\n",
      "Epoch 20/100\n",
      "1172/1172 [==============================] - 32s 27ms/step - loss: 1.9843 - accuracy: 0.5120 - val_loss: 2.2962 - val_accuracy: 0.4611\n",
      "Epoch 21/100\n",
      "1172/1172 [==============================] - 34s 29ms/step - loss: 1.9696 - accuracy: 0.5151 - val_loss: 2.6067 - val_accuracy: 0.4064\n",
      "Epoch 22/100\n",
      "1172/1172 [==============================] - 32s 28ms/step - loss: 1.9607 - accuracy: 0.5157 - val_loss: 1.9379 - val_accuracy: 0.5360\n",
      "Epoch 23/100\n",
      "1172/1172 [==============================] - 34s 29ms/step - loss: 1.9396 - accuracy: 0.5198 - val_loss: 2.2877 - val_accuracy: 0.4654\n",
      "Epoch 24/100\n",
      "1172/1172 [==============================] - 32s 27ms/step - loss: 1.9307 - accuracy: 0.5214 - val_loss: 2.0001 - val_accuracy: 0.5274\n",
      "Epoch 25/100\n",
      "1172/1172 [==============================] - 34s 29ms/step - loss: 1.9226 - accuracy: 0.5245 - val_loss: 1.9244 - val_accuracy: 0.5434\n",
      "Epoch 26/100\n",
      "1172/1172 [==============================] - 32s 28ms/step - loss: 1.9086 - accuracy: 0.5266 - val_loss: 2.0363 - val_accuracy: 0.5163\n",
      "Epoch 27/100\n",
      "1172/1172 [==============================] - 34s 29ms/step - loss: 1.8997 - accuracy: 0.5277 - val_loss: 2.2687 - val_accuracy: 0.4716\n",
      "Epoch 28/100\n",
      "1172/1172 [==============================] - 32s 28ms/step - loss: 1.8883 - accuracy: 0.5299 - val_loss: 2.2997 - val_accuracy: 0.4755\n",
      "Epoch 29/100\n",
      "1172/1172 [==============================] - 33s 28ms/step - loss: 1.8808 - accuracy: 0.5310 - val_loss: 2.5566 - val_accuracy: 0.4150\n",
      "Epoch 30/100\n",
      "1172/1172 [==============================] - 33s 28ms/step - loss: 1.8671 - accuracy: 0.5315 - val_loss: 1.9006 - val_accuracy: 0.5467\n",
      "Epoch 31/100\n",
      "1172/1172 [==============================] - 33s 28ms/step - loss: 1.8606 - accuracy: 0.5353 - val_loss: 2.3646 - val_accuracy: 0.4533\n",
      "Epoch 32/100\n",
      "1172/1172 [==============================] - 34s 29ms/step - loss: 1.8495 - accuracy: 0.5387 - val_loss: 2.5764 - val_accuracy: 0.4152\n",
      "Epoch 33/100\n",
      "1172/1172 [==============================] - 33s 28ms/step - loss: 1.8461 - accuracy: 0.5378 - val_loss: 3.2132 - val_accuracy: 0.3137\n",
      "Epoch 34/100\n",
      "1172/1172 [==============================] - 32s 28ms/step - loss: 1.8426 - accuracy: 0.5382 - val_loss: 1.9670 - val_accuracy: 0.5338\n",
      "Epoch 35/100\n",
      "1172/1172 [==============================] - 34s 29ms/step - loss: 1.8322 - accuracy: 0.5417 - val_loss: 2.1949 - val_accuracy: 0.4821\n",
      "Epoch 36/100\n",
      "1172/1172 [==============================] - 32s 28ms/step - loss: 1.8248 - accuracy: 0.5403 - val_loss: 2.3218 - val_accuracy: 0.4505\n",
      "Epoch 37/100\n",
      "1172/1172 [==============================] - 34s 29ms/step - loss: 1.8152 - accuracy: 0.5442 - val_loss: 2.0302 - val_accuracy: 0.5204\n",
      "Epoch 38/100\n",
      "1172/1172 [==============================] - 33s 28ms/step - loss: 1.8135 - accuracy: 0.5429 - val_loss: 2.1479 - val_accuracy: 0.4937\n",
      "Epoch 39/100\n",
      "1172/1172 [==============================] - 33s 28ms/step - loss: 1.8032 - accuracy: 0.5464 - val_loss: 2.6008 - val_accuracy: 0.4299\n",
      "Epoch 40/100\n",
      "1172/1172 [==============================] - 33s 28ms/step - loss: 1.8000 - accuracy: 0.5478 - val_loss: 2.4603 - val_accuracy: 0.4318\n",
      "Epoch 41/100\n",
      "1172/1172 [==============================] - 33s 28ms/step - loss: 1.7968 - accuracy: 0.5479 - val_loss: 1.7941 - val_accuracy: 0.5715\n",
      "Epoch 42/100\n",
      "1172/1172 [==============================] - 32s 28ms/step - loss: 1.7889 - accuracy: 0.5485 - val_loss: 2.2795 - val_accuracy: 0.4694\n",
      "Epoch 43/100\n",
      "1172/1172 [==============================] - 33s 28ms/step - loss: 1.7820 - accuracy: 0.5513 - val_loss: 1.8639 - val_accuracy: 0.5565\n",
      "Epoch 44/100\n",
      "1172/1172 [==============================] - 33s 28ms/step - loss: 1.7768 - accuracy: 0.5500 - val_loss: 1.9645 - val_accuracy: 0.5363\n",
      "Epoch 45/100\n",
      "1172/1172 [==============================] - 33s 28ms/step - loss: 1.7689 - accuracy: 0.5529 - val_loss: 2.3646 - val_accuracy: 0.4513\n",
      "Epoch 46/100\n",
      "1172/1172 [==============================] - 35s 29ms/step - loss: 1.7698 - accuracy: 0.5518 - val_loss: 1.9250 - val_accuracy: 0.5449\n",
      "Epoch 47/100\n",
      "1172/1172 [==============================] - 34s 29ms/step - loss: 1.7668 - accuracy: 0.5540 - val_loss: 2.0240 - val_accuracy: 0.5307\n",
      "Epoch 48/100\n",
      "1172/1172 [==============================] - 33s 28ms/step - loss: 1.7600 - accuracy: 0.5553 - val_loss: 1.9246 - val_accuracy: 0.5482\n",
      "Epoch 49/100\n",
      "1172/1172 [==============================] - 34s 29ms/step - loss: 1.7600 - accuracy: 0.5526 - val_loss: 1.8938 - val_accuracy: 0.5492\n",
      "Epoch 50/100\n",
      "1172/1172 [==============================] - 34s 29ms/step - loss: 1.7534 - accuracy: 0.5556 - val_loss: 1.9392 - val_accuracy: 0.5429\n",
      "Epoch 51/100\n",
      "1172/1172 [==============================] - 33s 28ms/step - loss: 1.7453 - accuracy: 0.5560 - val_loss: 2.2016 - val_accuracy: 0.4850\n",
      "Epoch 52/100\n",
      "1172/1172 [==============================] - 33s 28ms/step - loss: 1.7416 - accuracy: 0.5567 - val_loss: 2.2396 - val_accuracy: 0.4815\n",
      "Epoch 53/100\n",
      "1172/1172 [==============================] - 35s 30ms/step - loss: 1.7322 - accuracy: 0.5593 - val_loss: 1.7411 - val_accuracy: 0.5844\n",
      "Epoch 54/100\n",
      "1172/1172 [==============================] - 33s 28ms/step - loss: 1.7313 - accuracy: 0.5600 - val_loss: 2.1086 - val_accuracy: 0.5048\n",
      "Epoch 55/100\n",
      "1172/1172 [==============================] - 33s 28ms/step - loss: 1.7303 - accuracy: 0.5599 - val_loss: 2.0481 - val_accuracy: 0.5152\n",
      "Epoch 56/100\n",
      "1172/1172 [==============================] - 35s 30ms/step - loss: 1.7250 - accuracy: 0.5604 - val_loss: 2.0497 - val_accuracy: 0.5153\n",
      "Epoch 57/100\n",
      "1172/1172 [==============================] - 35s 30ms/step - loss: 1.7222 - accuracy: 0.5622 - val_loss: 1.9370 - val_accuracy: 0.5491\n",
      "Epoch 58/100\n",
      "1172/1172 [==============================] - 33s 28ms/step - loss: 1.7171 - accuracy: 0.5610 - val_loss: 1.9765 - val_accuracy: 0.5320\n",
      "Epoch 59/100\n",
      "1172/1172 [==============================] - 33s 28ms/step - loss: 1.7197 - accuracy: 0.5613 - val_loss: 2.0791 - val_accuracy: 0.5117\n",
      "Epoch 60/100\n",
      "1172/1172 [==============================] - 34s 29ms/step - loss: 1.7151 - accuracy: 0.5618 - val_loss: 1.7232 - val_accuracy: 0.5894\n",
      "Epoch 61/100\n",
      "1172/1172 [==============================] - 33s 28ms/step - loss: 1.7095 - accuracy: 0.5621 - val_loss: 1.8709 - val_accuracy: 0.5536\n",
      "Epoch 62/100\n",
      "1172/1172 [==============================] - 33s 28ms/step - loss: 1.7021 - accuracy: 0.5642 - val_loss: 1.9687 - val_accuracy: 0.5356\n",
      "Epoch 63/100\n",
      "1172/1172 [==============================] - 35s 30ms/step - loss: 1.7014 - accuracy: 0.5659 - val_loss: 1.8615 - val_accuracy: 0.5584\n",
      "Epoch 64/100\n",
      "1172/1172 [==============================] - 33s 28ms/step - loss: 1.6968 - accuracy: 0.5652 - val_loss: 2.6654 - val_accuracy: 0.3899\n",
      "Epoch 65/100\n",
      "1172/1172 [==============================] - 33s 28ms/step - loss: 1.6937 - accuracy: 0.5667 - val_loss: 2.9976 - val_accuracy: 0.3527\n",
      "Epoch 66/100\n",
      "1172/1172 [==============================] - 34s 29ms/step - loss: 1.6873 - accuracy: 0.5673 - val_loss: 2.0022 - val_accuracy: 0.5299\n",
      "Epoch 67/100\n",
      "1172/1172 [==============================] - 34s 29ms/step - loss: 1.6832 - accuracy: 0.5698 - val_loss: 1.7579 - val_accuracy: 0.5850\n",
      "Epoch 68/100\n",
      "1172/1172 [==============================] - 33s 28ms/step - loss: 1.6821 - accuracy: 0.5688 - val_loss: 2.3478 - val_accuracy: 0.4680\n",
      "Epoch 69/100\n",
      "1172/1172 [==============================] - 33s 28ms/step - loss: 1.6812 - accuracy: 0.5679 - val_loss: 1.9028 - val_accuracy: 0.5509\n",
      "Epoch 70/100\n",
      "1172/1172 [==============================] - 33s 28ms/step - loss: 1.6813 - accuracy: 0.5689 - val_loss: 1.8184 - val_accuracy: 0.5674\n",
      "Epoch 71/100\n",
      "1172/1172 [==============================] - 35s 29ms/step - loss: 1.6818 - accuracy: 0.5672 - val_loss: 1.7575 - val_accuracy: 0.5811\n",
      "Epoch 72/100\n",
      "1172/1172 [==============================] - 33s 28ms/step - loss: 1.6725 - accuracy: 0.5721 - val_loss: 2.0580 - val_accuracy: 0.5162\n",
      "Epoch 73/100\n",
      "1172/1172 [==============================] - 33s 28ms/step - loss: 1.6708 - accuracy: 0.5715 - val_loss: 1.8955 - val_accuracy: 0.5500\n",
      "Epoch 74/100\n",
      "1172/1172 [==============================] - 33s 28ms/step - loss: 1.6639 - accuracy: 0.5724 - val_loss: 2.0378 - val_accuracy: 0.5278\n",
      "Epoch 75/100\n",
      "1172/1172 [==============================] - 33s 28ms/step - loss: 1.6615 - accuracy: 0.5726 - val_loss: 2.1583 - val_accuracy: 0.4988\n",
      "Epoch 76/100\n",
      "1172/1172 [==============================] - 33s 28ms/step - loss: 1.6643 - accuracy: 0.5733 - val_loss: 1.8366 - val_accuracy: 0.5701\n",
      "Epoch 77/100\n",
      "1172/1172 [==============================] - 35s 30ms/step - loss: 1.6608 - accuracy: 0.5734 - val_loss: 1.9271 - val_accuracy: 0.5447\n",
      "Epoch 78/100\n",
      "1172/1172 [==============================] - 35s 30ms/step - loss: 1.6599 - accuracy: 0.5722 - val_loss: 2.0381 - val_accuracy: 0.5195\n",
      "Epoch 79/100\n",
      "1172/1172 [==============================] - 34s 29ms/step - loss: 1.6593 - accuracy: 0.5731 - val_loss: 1.7946 - val_accuracy: 0.5750\n",
      "Epoch 80/100\n",
      "1172/1172 [==============================] - 35s 30ms/step - loss: 1.6529 - accuracy: 0.5734 - val_loss: 1.8100 - val_accuracy: 0.5685\n",
      "Epoch 81/100\n",
      "1172/1172 [==============================] - 33s 28ms/step - loss: 1.6505 - accuracy: 0.5760 - val_loss: 1.8627 - val_accuracy: 0.5561\n",
      "Epoch 82/100\n",
      "1172/1172 [==============================] - 33s 28ms/step - loss: 1.6474 - accuracy: 0.5750 - val_loss: 2.0151 - val_accuracy: 0.5246\n",
      "Epoch 83/100\n",
      "1172/1172 [==============================] - 33s 28ms/step - loss: 1.6490 - accuracy: 0.5754 - val_loss: 2.2744 - val_accuracy: 0.4729\n",
      "Epoch 84/100\n",
      "1172/1172 [==============================] - 33s 28ms/step - loss: 1.6431 - accuracy: 0.5765 - val_loss: 1.8454 - val_accuracy: 0.5639\n",
      "Epoch 85/100\n",
      "1172/1172 [==============================] - 35s 30ms/step - loss: 1.6421 - accuracy: 0.5763 - val_loss: 1.9109 - val_accuracy: 0.5516\n",
      "Epoch 86/100\n",
      "1172/1172 [==============================] - 35s 30ms/step - loss: 1.6393 - accuracy: 0.5763 - val_loss: 1.9284 - val_accuracy: 0.5448\n",
      "Epoch 87/100\n",
      "1172/1172 [==============================] - 36s 30ms/step - loss: 1.6382 - accuracy: 0.5791 - val_loss: 2.2258 - val_accuracy: 0.4791\n",
      "Epoch 88/100\n",
      "1172/1172 [==============================] - 33s 29ms/step - loss: 1.6401 - accuracy: 0.5763 - val_loss: 2.0696 - val_accuracy: 0.5214\n",
      "Epoch 89/100\n",
      "1172/1172 [==============================] - 34s 29ms/step - loss: 1.6296 - accuracy: 0.5788 - val_loss: 1.7465 - val_accuracy: 0.5870\n",
      "Epoch 90/100\n",
      "1172/1172 [==============================] - 33s 28ms/step - loss: 1.6353 - accuracy: 0.5765 - val_loss: 1.8755 - val_accuracy: 0.5593\n",
      "Epoch 91/100\n",
      "1172/1172 [==============================] - 34s 29ms/step - loss: 1.6271 - accuracy: 0.5778 - val_loss: 3.7525 - val_accuracy: 0.2769\n",
      "Epoch 92/100\n",
      "1172/1172 [==============================] - 34s 29ms/step - loss: 1.6296 - accuracy: 0.5789 - val_loss: 1.8516 - val_accuracy: 0.5656\n",
      "Epoch 93/100\n",
      "1172/1172 [==============================] - 34s 29ms/step - loss: 1.6192 - accuracy: 0.5804 - val_loss: 2.4898 - val_accuracy: 0.4335\n",
      "Epoch 94/100\n",
      "1172/1172 [==============================] - 35s 30ms/step - loss: 1.6300 - accuracy: 0.5785 - val_loss: 2.0488 - val_accuracy: 0.5213\n",
      "Epoch 95/100\n",
      "1172/1172 [==============================] - 35s 30ms/step - loss: 1.6256 - accuracy: 0.5793 - val_loss: 1.7673 - val_accuracy: 0.5784\n",
      "Epoch 96/100\n",
      "1172/1172 [==============================] - 35s 30ms/step - loss: 1.6171 - accuracy: 0.5804 - val_loss: 1.7498 - val_accuracy: 0.5880\n",
      "Epoch 97/100\n",
      "1172/1172 [==============================] - 34s 29ms/step - loss: 1.6213 - accuracy: 0.5780 - val_loss: 1.7942 - val_accuracy: 0.5753\n",
      "Epoch 98/100\n",
      "1172/1172 [==============================] - 34s 29ms/step - loss: 1.6129 - accuracy: 0.5824 - val_loss: 1.8334 - val_accuracy: 0.5669\n",
      "Epoch 99/100\n",
      "1172/1172 [==============================] - 36s 30ms/step - loss: 1.6089 - accuracy: 0.5833 - val_loss: 2.2120 - val_accuracy: 0.4857\n",
      "Epoch 100/100\n",
      "1172/1172 [==============================] - 35s 30ms/step - loss: 1.6134 - accuracy: 0.5830 - val_loss: 1.8108 - val_accuracy: 0.5747\n",
      "dict_keys(['loss', 'accuracy', 'val_loss', 'val_accuracy'])\n"
     ]
    },
    {
     "data": {
      "image/png": "[encoded data removed]",
      "text/plain": [
       "<Figure size 640x480 with 1 Axes>"
      ]
     },
     "metadata": {},
     "output_type": "display_data"
    },
    {
     "data": {
      "image/png": "[encoded data removed]",
      "text/plain": [
       "<Figure size 640x480 with 1 Axes>"
      ]
     },
     "metadata": {},
     "output_type": "display_data"
    }
   ],
   "source": [
    "# history = model.fit(tr_x, tr_indecator,batch_size=200,epochs=100\n",
    "#           ,validation_data=(tst_x,tst_indecator))\n",
    "\n",
    "history = model.fit(tr_x, tr_indecator,batch_size=128,epochs=100\n",
    "          ,validation_data=(tst_x,tst_indecator),callbacks=callbacks)\n",
    "\n",
    "print(history.history.keys())\n",
    "# summarize history for accuracy\n",
    "plt.plot(history.history['accuracy'])\n",
    "plt.plot(history.history['val_accuracy'])\n",
    "plt.title('model accuracy')\n",
    "plt.ylabel('accuracy')\n",
    "plt.xlabel('epoch')\n",
    "plt.legend(['train', 'test'], loc='upper left')\n",
    "plt.show()\n",
    "# summarize history for loss\n",
    "plt.plot(history.history['loss'])\n",
    "plt.plot(history.history['val_loss'])\n",
    "plt.title('model loss')\n",
    "plt.ylabel('loss')\n",
    "plt.xlabel('epoch')\n",
    "plt.legend(['train', 'test'], loc='upper left')\n",
    "plt.show()\n"
   ]
  },
  {
   "cell_type": "markdown",
   "id": "f81434fa",
   "metadata": {
    "papermill": {
     "duration": 2.495422,
     "end_time": "2023-03-23T07:47:11.706844",
     "exception": false,
     "start_time": "2023-03-23T07:47:09.211422",
     "status": "completed"
    },
    "tags": []
   },
   "source": [
    "# 6. Saving model "
   ]
  },
  {
   "cell_type": "code",
   "execution_count": 19,
   "id": "a0d73132",
   "metadata": {
    "execution": {
     "iopub.execute_input": "2023-03-23T07:47:17.341595Z",
     "iopub.status.busy": "2023-03-23T07:47:17.341220Z",
     "iopub.status.idle": "2023-03-23T07:47:17.467073Z",
     "shell.execute_reply": "2023-03-23T07:47:17.466020Z"
    },
    "papermill": {
     "duration": 2.686277,
     "end_time": "2023-03-23T07:47:17.469577",
     "exception": false,
     "start_time": "2023-03-23T07:47:14.783300",
     "status": "completed"
    },
    "tags": []
   },
   "outputs": [],
   "source": [
    "from tensorflow.keras.models import save_model\n",
    "save_model(model,\"CNN.h5\")"
   ]
  },
  {
   "cell_type": "code",
   "execution_count": 20,
   "id": "745df50f",
   "metadata": {
    "execution": {
     "iopub.execute_input": "2023-03-23T07:47:22.430886Z",
     "iopub.status.busy": "2023-03-23T07:47:22.430424Z",
     "iopub.status.idle": "2023-03-23T07:47:22.435078Z",
     "shell.execute_reply": "2023-03-23T07:47:22.433967Z"
    },
    "papermill": {
     "duration": 2.561984,
     "end_time": "2023-03-23T07:47:22.437457",
     "exception": false,
     "start_time": "2023-03-23T07:47:19.875473",
     "status": "completed"
    },
    "tags": []
   },
   "outputs": [],
   "source": [
    "# RUN 1\n",
    "# Epoch 30/30\n",
    "# 600/600 [==============================] - 18s 30ms/step - loss: 2.2876 - accuracy: 0.4391 - val_loss: 2.1696 - val_accuracy: 0.4867\n",
    "\n",
    "# RUN 2\n"
   ]
  },
  {
   "attachments": {
    "4273c578-af84-4c9e-88dd-5444a2f183b6.png": {
     "image/png": "[encoded data removed]"
    }
   },
   "cell_type": "markdown",
   "id": "ead394c9",
   "metadata": {
    "papermill": {
     "duration": 2.433333,
     "end_time": "2023-03-23T07:47:27.502254",
     "exception": false,
     "start_time": "2023-03-23T07:47:25.068921",
     "status": "completed"
    },
    "tags": []
   },
   "source": [
    "![image.png](attachment:4273c578-af84-4c9e-88dd-5444a2f183b6.png)"
   ]
  },
  {
   "cell_type": "markdown",
   "id": "6ce5ba94",
   "metadata": {
    "papermill": {
     "duration": 2.601237,
     "end_time": "2023-03-23T07:47:32.530240",
     "exception": false,
     "start_time": "2023-03-23T07:47:29.929003",
     "status": "completed"
    },
    "tags": []
   },
   "source": [
    "RUN 3\n"
   ]
  },
  {
   "attachments": {
    "181b7464-4188-4ae0-ad7a-bf463094a3a3.png": {
     "image/png": "[encoded data removed]"
    }
   },
   "cell_type": "markdown",
   "id": "ebdf5955",
   "metadata": {
    "papermill": {
     "duration": 2.520712,
     "end_time": "2023-03-23T07:47:37.739651",
     "exception": false,
     "start_time": "2023-03-23T07:47:35.218939",
     "status": "completed"
    },
    "tags": []
   },
   "source": [
    "![image.png](attachment:181b7464-4188-4ae0-ad7a-bf463094a3a3.png)"
   ]
  },
  {
   "cell_type": "markdown",
   "id": "10604793",
   "metadata": {
    "papermill": {
     "duration": 2.431475,
     "end_time": "2023-03-23T07:47:42.602857",
     "exception": false,
     "start_time": "2023-03-23T07:47:40.171382",
     "status": "completed"
    },
    "tags": []
   },
   "source": [
    "RUN 4\n"
   ]
  },
  {
   "attachments": {
    "94eb3fe7-cc5e-4c3c-ae1e-5b267e5e0a8e.png": {
     "image/png": "[encoded data removed]"
    }
   },
   "cell_type": "markdown",
   "id": "2cfc7ef9",
   "metadata": {
    "papermill": {
     "duration": 3.113568,
     "end_time": "2023-03-23T07:47:48.310534",
     "exception": false,
     "start_time": "2023-03-23T07:47:45.196966",
     "status": "completed"
    },
    "tags": []
   },
   "source": [
    "![image.png](attachment:94eb3fe7-cc5e-4c3c-ae1e-5b267e5e0a8e.png)"
   ]
  },
  {
   "cell_type": "markdown",
   "id": "334eae34",
   "metadata": {
    "papermill": {
     "duration": 2.407352,
     "end_time": "2023-03-23T07:47:53.218567",
     "exception": false,
     "start_time": "2023-03-23T07:47:50.811215",
     "status": "completed"
    },
    "tags": []
   },
   "source": []
  }
 ],
 "metadata": {
  "kernelspec": {
   "display_name": "Python 3",
   "language": "python",
   "name": "python3"
  },
  "language_info": {
   "codemirror_mode": {
    "name": "ipython",
    "version": 3
   },
   "file_extension": ".py",
   "mimetype": "text/x-python",
   "name": "python",
   "nbconvert_exporter": "python",
   "pygments_lexer": "ipython3",
   "version": "3.7.12"
  },
  "papermill": {
   "default_parameters": {},
   "duration": 4394.62086,
   "end_time": "2023-03-23T07:47:58.987477",
   "environment_variables": {},
   "exception": null,
   "input_path": "__notebook__.ipynb",
   "output_path": "__notebook__.ipynb",
   "parameters": {},
   "start_time": "2023-03-23T06:34:44.366617",
   "version": "2.4.0"
  },
  "widgets": {
   "application/vnd.jupyter.widget-state+json": {
    "state": {
     "1c72df6a3bad4985aabaa8e5f695e6d9": {
      "model_module": "@jupyter-widgets/controls",
      "model_module_version": "1.5.0",
      "model_name": "HTMLModel",
      "state": {
       "_dom_classes": [],
       "_model_module": "@jupyter-widgets/controls",
       "_model_module_version": "1.5.0",
       "_model_name": "HTMLModel",
       "_view_count": null,
       "_view_module": "@jupyter-widgets/controls",
       "_view_module_version": "1.5.0",
       "_view_name": "HTMLView",
       "description": "",
       "description_tooltip": null,
       "layout": "IPY_MODEL_70ebff85bbd4465e848eda9f096f15ce",
       "placeholder": "​",
       "style": "IPY_MODEL_89a0dbf9d60a4933b0f5ff20ef4c1cc6",
       "value": " 4/? [00:00&lt;00:00,  4.25it/s]"
      }
     },
     "26e91b5072ae439cad1a4dd3cfe9b83a": {
      "model_module": "@jupyter-widgets/controls",
      "model_module_version": "1.5.0",
      "model_name": "ProgressStyleModel",
      "state": {
       "_model_module": "@jupyter-widgets/controls",
       "_model_module_version": "1.5.0",
       "_model_name": "ProgressStyleModel",
       "_view_count": null,
       "_view_module": "@jupyter-widgets/base",
       "_view_module_version": "1.2.0",
       "_view_name": "StyleView",
       "bar_color": null,
       "description_width": ""
      }
     },
     "2805862c24914eb8880cf6472d5280ca": {
      "model_module": "@jupyter-widgets/controls",
      "model_module_version": "1.5.0",
      "model_name": "HTMLModel",
      "state": {
       "_dom_classes": [],
       "_model_module": "@jupyter-widgets/controls",
       "_model_module_version": "1.5.0",
       "_model_name": "HTMLModel",
       "_view_count": null,
       "_view_module": "@jupyter-widgets/controls",
       "_view_module_version": "1.5.0",
       "_view_name": "HTMLView",
       "description": "",
       "description_tooltip": null,
       "layout": "IPY_MODEL_3d2e544827da430bab49e6e6abc7df98",
       "placeholder": "​",
       "style": "IPY_MODEL_3a17320611d741c3bb673f069f4120a8",
       "value": ""
      }
     },
     "33bfd20af13a492297bc58d06470af95": {
      "model_module": "@jupyter-widgets/base",
      "model_module_version": "1.2.0",
      "model_name": "LayoutModel",
      "state": {
       "_model_module": "@jupyter-widgets/base",
       "_model_module_version": "1.2.0",
       "_model_name": "LayoutModel",
       "_view_count": null,
       "_view_module": "@jupyter-widgets/base",
       "_view_module_version": "1.2.0",
       "_view_name": "LayoutView",
       "align_content": null,
       "align_items": null,
       "align_self": null,
       "border": null,
       "bottom": null,
       "display": null,
       "flex": null,
       "flex_flow": null,
       "grid_area": null,
       "grid_auto_columns": null,
       "grid_auto_flow": null,
       "grid_auto_rows": null,
       "grid_column": null,
       "grid_gap": null,
       "grid_row": null,
       "grid_template_areas": null,
       "grid_template_columns": null,
       "grid_template_rows": null,
       "height": null,
       "justify_content": null,
       "justify_items": null,
       "left": null,
       "margin": null,
       "max_height": null,
       "max_width": null,
       "min_height": null,
       "min_width": null,
       "object_fit": null,
       "object_position": null,
       "order": null,
       "overflow": null,
       "overflow_x": null,
       "overflow_y": null,
       "padding": null,
       "right": null,
       "top": null,
       "visibility": null,
       "width": null
      }
     },
     "348592ba05dd47d8b718ef9548201811": {
      "model_module": "@jupyter-widgets/controls",
      "model_module_version": "1.5.0",
      "model_name": "DescriptionStyleModel",
      "state": {
       "_model_module": "@jupyter-widgets/controls",
       "_model_module_version": "1.5.0",
       "_model_name": "DescriptionStyleModel",
       "_view_count": null,
       "_view_module": "@jupyter-widgets/base",
       "_view_module_version": "1.2.0",
       "_view_name": "StyleView",
       "description_width": ""
      }
     },
     "3a17320611d741c3bb673f069f4120a8": {
      "model_module": "@jupyter-widgets/controls",
      "model_module_version": "1.5.0",
      "model_name": "DescriptionStyleModel",
      "state": {
       "_model_module": "@jupyter-widgets/controls",
       "_model_module_version": "1.5.0",
       "_model_name": "DescriptionStyleModel",
       "_view_count": null,
       "_view_module": "@jupyter-widgets/base",
       "_view_module_version": "1.2.0",
       "_view_name": "StyleView",
       "description_width": ""
      }
     },
     "3d2e544827da430bab49e6e6abc7df98": {
      "model_module": "@jupyter-widgets/base",
      "model_module_version": "1.2.0",
      "model_name": "LayoutModel",
      "state": {
       "_model_module": "@jupyter-widgets/base",
       "_model_module_version": "1.2.0",
       "_model_name": "LayoutModel",
       "_view_count": null,
       "_view_module": "@jupyter-widgets/base",
       "_view_module_version": "1.2.0",
       "_view_name": "LayoutView",
       "align_content": null,
       "align_items": null,
       "align_self": null,
       "border": null,
       "bottom": null,
       "display": null,
       "flex": null,
       "flex_flow": null,
       "grid_area": null,
       "grid_auto_columns": null,
       "grid_auto_flow": null,
       "grid_auto_rows": null,
       "grid_column": null,
       "grid_gap": null,
       "grid_row": null,
       "grid_template_areas": null,
       "grid_template_columns": null,
       "grid_template_rows": null,
       "height": null,
       "justify_content": null,
       "justify_items": null,
       "left": null,
       "margin": null,
       "max_height": null,
       "max_width": null,
       "min_height": null,
       "min_width": null,
       "object_fit": null,
       "object_position": null,
       "order": null,
       "overflow": null,
       "overflow_x": null,
       "overflow_y": null,
       "padding": null,
       "right": null,
       "top": null,
       "visibility": null,
       "width": null
      }
     },
     "6332e2cb057a4b75be86d55884695b8e": {
      "model_module": "@jupyter-widgets/base",
      "model_module_version": "1.2.0",
      "model_name": "LayoutModel",
      "state": {
       "_model_module": "@jupyter-widgets/base",
       "_model_module_version": "1.2.0",
       "_model_name": "LayoutModel",
       "_view_count": null,
       "_view_module": "@jupyter-widgets/base",
       "_view_module_version": "1.2.0",
       "_view_name": "LayoutView",
       "align_content": null,
       "align_items": null,
       "align_self": null,
       "border": null,
       "bottom": null,
       "display": null,
       "flex": null,
       "flex_flow": null,
       "grid_area": null,
       "grid_auto_columns": null,
       "grid_auto_flow": null,
       "grid_auto_rows": null,
       "grid_column": null,
       "grid_gap": null,
       "grid_row": null,
       "grid_template_areas": null,
       "grid_template_columns": null,
       "grid_template_rows": null,
       "height": null,
       "justify_content": null,
       "justify_items": null,
       "left": null,
       "margin": null,
       "max_height": null,
       "max_width": null,
       "min_height": null,
       "min_width": null,
       "object_fit": null,
       "object_position": null,
       "order": null,
       "overflow": null,
       "overflow_x": null,
       "overflow_y": null,
       "padding": null,
       "right": null,
       "top": null,
       "visibility": null,
       "width": null
      }
     },
     "672f98339fd94148bd649ec6cc548c11": {
      "model_module": "@jupyter-widgets/controls",
      "model_module_version": "1.5.0",
      "model_name": "HBoxModel",
      "state": {
       "_dom_classes": [],
       "_model_module": "@jupyter-widgets/controls",
       "_model_module_version": "1.5.0",
       "_model_name": "HBoxModel",
       "_view_count": null,
       "_view_module": "@jupyter-widgets/controls",
       "_view_module_version": "1.5.0",
       "_view_name": "HBoxView",
       "box_style": "",
       "children": [
        "IPY_MODEL_c04d69efcf2e4e54ae2768a08475ba53",
        "IPY_MODEL_fddf63f6f6b145658d6038d03d34b361",
        "IPY_MODEL_b2110a87ed2e4ff9ae349c0865e5bc9c"
       ],
       "layout": "IPY_MODEL_33bfd20af13a492297bc58d06470af95"
      }
     },
     "68b43d4306dc46388d78a0335b7f2802": {
      "model_module": "@jupyter-widgets/controls",
      "model_module_version": "1.5.0",
      "model_name": "FloatProgressModel",
      "state": {
       "_dom_classes": [],
       "_model_module": "@jupyter-widgets/controls",
       "_model_module_version": "1.5.0",
       "_model_name": "FloatProgressModel",
       "_view_count": null,
       "_view_module": "@jupyter-widgets/controls",
       "_view_module_version": "1.5.0",
       "_view_name": "ProgressView",
       "bar_style": "success",
       "description": "",
       "description_tooltip": null,
       "layout": "IPY_MODEL_c977f8f1790947039151a75f10e4cc41",
       "max": 1.0,
       "min": 0.0,
       "orientation": "horizontal",
       "style": "IPY_MODEL_749761a0816544d9b5ab49ca212a2cb7",
       "value": 1.0
      }
     },
     "702f70a3bbaa4bb480273a12d484d416": {
      "model_module": "@jupyter-widgets/base",
      "model_module_version": "1.2.0",
      "model_name": "LayoutModel",
      "state": {
       "_model_module": "@jupyter-widgets/base",
       "_model_module_version": "1.2.0",
       "_model_name": "LayoutModel",
       "_view_count": null,
       "_view_module": "@jupyter-widgets/base",
       "_view_module_version": "1.2.0",
       "_view_name": "LayoutView",
       "align_content": null,
       "align_items": null,
       "align_self": null,
       "border": null,
       "bottom": null,
       "display": null,
       "flex": null,
       "flex_flow": null,
       "grid_area": null,
       "grid_auto_columns": null,
       "grid_auto_flow": null,
       "grid_auto_rows": null,
       "grid_column": null,
       "grid_gap": null,
       "grid_row": null,
       "grid_template_areas": null,
       "grid_template_columns": null,
       "grid_template_rows": null,
       "height": null,
       "justify_content": null,
       "justify_items": null,
       "left": null,
       "margin": null,
       "max_height": null,
       "max_width": null,
       "min_height": null,
       "min_width": null,
       "object_fit": null,
       "object_position": null,
       "order": null,
       "overflow": null,
       "overflow_x": null,
       "overflow_y": null,
       "padding": null,
       "right": null,
       "top": null,
       "visibility": null,
       "width": null
      }
     },
     "70ebff85bbd4465e848eda9f096f15ce": {
      "model_module": "@jupyter-widgets/base",
      "model_module_version": "1.2.0",
      "model_name": "LayoutModel",
      "state": {
       "_model_module": "@jupyter-widgets/base",
       "_model_module_version": "1.2.0",
       "_model_name": "LayoutModel",
       "_view_count": null,
       "_view_module": "@jupyter-widgets/base",
       "_view_module_version": "1.2.0",
       "_view_name": "LayoutView",
       "align_content": null,
       "align_items": null,
       "align_self": null,
       "border": null,
       "bottom": null,
       "display": null,
       "flex": null,
       "flex_flow": null,
       "grid_area": null,
       "grid_auto_columns": null,
       "grid_auto_flow": null,
       "grid_auto_rows": null,
       "grid_column": null,
       "grid_gap": null,
       "grid_row": null,
       "grid_template_areas": null,
       "grid_template_columns": null,
       "grid_template_rows": null,
       "height": null,
       "justify_content": null,
       "justify_items": null,
       "left": null,
       "margin": null,
       "max_height": null,
       "max_width": null,
       "min_height": null,
       "min_width": null,
       "object_fit": null,
       "object_position": null,
       "order": null,
       "overflow": null,
       "overflow_x": null,
       "overflow_y": null,
       "padding": null,
       "right": null,
       "top": null,
       "visibility": null,
       "width": null
      }
     },
     "749761a0816544d9b5ab49ca212a2cb7": {
      "model_module": "@jupyter-widgets/controls",
      "model_module_version": "1.5.0",
      "model_name": "ProgressStyleModel",
      "state": {
       "_model_module": "@jupyter-widgets/controls",
       "_model_module_version": "1.5.0",
       "_model_name": "ProgressStyleModel",
       "_view_count": null,
       "_view_module": "@jupyter-widgets/base",
       "_view_module_version": "1.2.0",
       "_view_name": "StyleView",
       "bar_color": null,
       "description_width": ""
      }
     },
     "76a9f816abbb42818da03f80f8ee7b5d": {
      "model_module": "@jupyter-widgets/controls",
      "model_module_version": "1.5.0",
      "model_name": "HBoxModel",
      "state": {
       "_dom_classes": [],
       "_model_module": "@jupyter-widgets/controls",
       "_model_module_version": "1.5.0",
       "_model_name": "HBoxModel",
       "_view_count": null,
       "_view_module": "@jupyter-widgets/controls",
       "_view_module_version": "1.5.0",
       "_view_name": "HBoxView",
       "box_style": "",
       "children": [
        "IPY_MODEL_2805862c24914eb8880cf6472d5280ca",
        "IPY_MODEL_68b43d4306dc46388d78a0335b7f2802",
        "IPY_MODEL_1c72df6a3bad4985aabaa8e5f695e6d9"
       ],
       "layout": "IPY_MODEL_c6300cfbb307419bae6d4ccdf1cd71e3"
      }
     },
     "82c7501ae06a4dfc9523ef19f61958ed": {
      "model_module": "@jupyter-widgets/controls",
      "model_module_version": "1.5.0",
      "model_name": "DescriptionStyleModel",
      "state": {
       "_model_module": "@jupyter-widgets/controls",
       "_model_module_version": "1.5.0",
       "_model_name": "DescriptionStyleModel",
       "_view_count": null,
       "_view_module": "@jupyter-widgets/base",
       "_view_module_version": "1.2.0",
       "_view_name": "StyleView",
       "description_width": ""
      }
     },
     "89a0dbf9d60a4933b0f5ff20ef4c1cc6": {
      "model_module": "@jupyter-widgets/controls",
      "model_module_version": "1.5.0",
      "model_name": "DescriptionStyleModel",
      "state": {
       "_model_module": "@jupyter-widgets/controls",
       "_model_module_version": "1.5.0",
       "_model_name": "DescriptionStyleModel",
       "_view_count": null,
       "_view_module": "@jupyter-widgets/base",
       "_view_module_version": "1.2.0",
       "_view_name": "StyleView",
       "description_width": ""
      }
     },
     "b2110a87ed2e4ff9ae349c0865e5bc9c": {
      "model_module": "@jupyter-widgets/controls",
      "model_module_version": "1.5.0",
      "model_name": "HTMLModel",
      "state": {
       "_dom_classes": [],
       "_model_module": "@jupyter-widgets/controls",
       "_model_module_version": "1.5.0",
       "_model_name": "HTMLModel",
       "_view_count": null,
       "_view_module": "@jupyter-widgets/controls",
       "_view_module_version": "1.5.0",
       "_view_name": "HTMLView",
       "description": "",
       "description_tooltip": null,
       "layout": "IPY_MODEL_b8b64f81deed4936ae17710c16e6479d",
       "placeholder": "​",
       "style": "IPY_MODEL_348592ba05dd47d8b718ef9548201811",
       "value": " 340/340 [14:27&lt;00:00,  2.58s/it]"
      }
     },
     "b8b64f81deed4936ae17710c16e6479d": {
      "model_module": "@jupyter-widgets/base",
      "model_module_version": "1.2.0",
      "model_name": "LayoutModel",
      "state": {
       "_model_module": "@jupyter-widgets/base",
       "_model_module_version": "1.2.0",
       "_model_name": "LayoutModel",
       "_view_count": null,
       "_view_module": "@jupyter-widgets/base",
       "_view_module_version": "1.2.0",
       "_view_name": "LayoutView",
       "align_content": null,
       "align_items": null,
       "align_self": null,
       "border": null,
       "bottom": null,
       "display": null,
       "flex": null,
       "flex_flow": null,
       "grid_area": null,
       "grid_auto_columns": null,
       "grid_auto_flow": null,
       "grid_auto_rows": null,
       "grid_column": null,
       "grid_gap": null,
       "grid_row": null,
       "grid_template_areas": null,
       "grid_template_columns": null,
       "grid_template_rows": null,
       "height": null,
       "justify_content": null,
       "justify_items": null,
       "left": null,
       "margin": null,
       "max_height": null,
       "max_width": null,
       "min_height": null,
       "min_width": null,
       "object_fit": null,
       "object_position": null,
       "order": null,
       "overflow": null,
       "overflow_x": null,
       "overflow_y": null,
       "padding": null,
       "right": null,
       "top": null,
       "visibility": null,
       "width": null
      }
     },
     "c04d69efcf2e4e54ae2768a08475ba53": {
      "model_module": "@jupyter-widgets/controls",
      "model_module_version": "1.5.0",
      "model_name": "HTMLModel",
      "state": {
       "_dom_classes": [],
       "_model_module": "@jupyter-widgets/controls",
       "_model_module_version": "1.5.0",
       "_model_name": "HTMLModel",
       "_view_count": null,
       "_view_module": "@jupyter-widgets/controls",
       "_view_module_version": "1.5.0",
       "_view_name": "HTMLView",
       "description": "",
       "description_tooltip": null,
       "layout": "IPY_MODEL_702f70a3bbaa4bb480273a12d484d416",
       "placeholder": "​",
       "style": "IPY_MODEL_82c7501ae06a4dfc9523ef19f61958ed",
       "value": "100%"
      }
     },
     "c6300cfbb307419bae6d4ccdf1cd71e3": {
      "model_module": "@jupyter-widgets/base",
      "model_module_version": "1.2.0",
      "model_name": "LayoutModel",
      "state": {
       "_model_module": "@jupyter-widgets/base",
       "_model_module_version": "1.2.0",
       "_model_name": "LayoutModel",
       "_view_count": null,
       "_view_module": "@jupyter-widgets/base",
       "_view_module_version": "1.2.0",
       "_view_name": "LayoutView",
       "align_content": null,
       "align_items": null,
       "align_self": null,
       "border": null,
       "bottom": null,
       "display": null,
       "flex": null,
       "flex_flow": null,
       "grid_area": null,
       "grid_auto_columns": null,
       "grid_auto_flow": null,
       "grid_auto_rows": null,
       "grid_column": null,
       "grid_gap": null,
       "grid_row": null,
       "grid_template_areas": null,
       "grid_template_columns": null,
       "grid_template_rows": null,
       "height": null,
       "justify_content": null,
       "justify_items": null,
       "left": null,
       "margin": null,
       "max_height": null,
       "max_width": null,
       "min_height": null,
       "min_width": null,
       "object_fit": null,
       "object_position": null,
       "order": null,
       "overflow": null,
       "overflow_x": null,
       "overflow_y": null,
       "padding": null,
       "right": null,
       "top": null,
       "visibility": null,
       "width": null
      }
     },
     "c977f8f1790947039151a75f10e4cc41": {
      "model_module": "@jupyter-widgets/base",
      "model_module_version": "1.2.0",
      "model_name": "LayoutModel",
      "state": {
       "_model_module": "@jupyter-widgets/base",
       "_model_module_version": "1.2.0",
       "_model_name": "LayoutModel",
       "_view_count": null,
       "_view_module": "@jupyter-widgets/base",
       "_view_module_version": "1.2.0",
       "_view_name": "LayoutView",
       "align_content": null,
       "align_items": null,
       "align_self": null,
       "border": null,
       "bottom": null,
       "display": null,
       "flex": null,
       "flex_flow": null,
       "grid_area": null,
       "grid_auto_columns": null,
       "grid_auto_flow": null,
       "grid_auto_rows": null,
       "grid_column": null,
       "grid_gap": null,
       "grid_row": null,
       "grid_template_areas": null,
       "grid_template_columns": null,
       "grid_template_rows": null,
       "height": null,
       "justify_content": null,
       "justify_items": null,
       "left": null,
       "margin": null,
       "max_height": null,
       "max_width": null,
       "min_height": null,
       "min_width": null,
       "object_fit": null,
       "object_position": null,
       "order": null,
       "overflow": null,
       "overflow_x": null,
       "overflow_y": null,
       "padding": null,
       "right": null,
       "top": null,
       "visibility": null,
       "width": "20px"
      }
     },
     "fddf63f6f6b145658d6038d03d34b361": {
      "model_module": "@jupyter-widgets/controls",
      "model_module_version": "1.5.0",
      "model_name": "FloatProgressModel",
      "state": {
       "_dom_classes": [],
       "_model_module": "@jupyter-widgets/controls",
       "_model_module_version": "1.5.0",
       "_model_name": "FloatProgressModel",
       "_view_count": null,
       "_view_module": "@jupyter-widgets/controls",
       "_view_module_version": "1.5.0",
       "_view_name": "ProgressView",
       "bar_style": "success",
       "description": "",
       "description_tooltip": null,
       "layout": "IPY_MODEL_6332e2cb057a4b75be86d55884695b8e",
       "max": 340.0,
       "min": 0.0,
       "orientation": "horizontal",
       "style": "IPY_MODEL_26e91b5072ae439cad1a4dd3cfe9b83a",
       "value": 340.0
      }
     }
    },
    "version_major": 2,
    "version_minor": 0
   }
  }
 },
 "nbformat": 4,
 "nbformat_minor": 5
}
