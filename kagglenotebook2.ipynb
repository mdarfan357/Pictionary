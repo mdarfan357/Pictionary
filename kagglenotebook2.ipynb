{
 "cells": [
  {
   "cell_type": "markdown",
   "id": "644810cb",
   "metadata": {
    "papermill": {
     "duration": 0.008027,
     "end_time": "2023-03-22T08:02:59.005246",
     "exception": false,
     "start_time": "2023-03-22T08:02:58.997219",
     "status": "completed"
    },
    "tags": []
   },
   "source": [
    "# 0. Data Importing from kaggle"
   ]
  },
  {
   "cell_type": "code",
   "execution_count": 1,
   "id": "06759320",
   "metadata": {
    "execution": {
     "iopub.execute_input": "2023-03-22T08:02:59.020994Z",
     "iopub.status.busy": "2023-03-22T08:02:59.020518Z",
     "iopub.status.idle": "2023-03-22T08:02:59.124023Z",
     "shell.execute_reply": "2023-03-22T08:02:59.122930Z"
    },
    "papermill": {
     "duration": 0.122245,
     "end_time": "2023-03-22T08:02:59.134377",
     "exception": false,
     "start_time": "2023-03-22T08:02:59.012132",
     "status": "completed"
    },
    "tags": []
   },
   "outputs": [
    {
     "name": "stdout",
     "output_type": "stream",
     "text": [
      "/kaggle/input/quickdraw-doodle-recognition/sample_submission.csv\n",
      "/kaggle/input/quickdraw-doodle-recognition/test_raw.csv\n",
      "/kaggle/input/quickdraw-doodle-recognition/test_simplified.csv\n",
      "/kaggle/input/quickdraw-doodle-recognition/train_simplified/traffic light.csv\n",
      "/kaggle/input/quickdraw-doodle-recognition/train_simplified/rhinoceros.csv\n",
      "/kaggle/input/quickdraw-doodle-recognition/train_simplified/bed.csv\n",
      "/kaggle/input/quickdraw-doodle-recognition/train_simplified/school bus.csv\n",
      "/kaggle/input/quickdraw-doodle-recognition/train_simplified/van.csv\n",
      "/kaggle/input/quickdraw-doodle-recognition/train_simplified/octopus.csv\n",
      "/kaggle/input/quickdraw-doodle-recognition/train_simplified/firetruck.csv\n",
      "/kaggle/input/quickdraw-doodle-recognition/train_simplified/laptop.csv\n",
      "/kaggle/input/quickdraw-doodle-recognition/train_simplified/tractor.csv\n",
      "/kaggle/input/quickdraw-doodle-recognition/train_simplified/matches.csv\n",
      "/kaggle/input/quickdraw-doodle-recognition/train_simplified/windmill.csv\n",
      "/kaggle/input/quickdraw-doodle-recognition/train_simplified/square.csv\n",
      "/kaggle/input/quickdraw-doodle-recognition/train_simplified/pineapple.csv\n",
      "/kaggle/input/quickdraw-doodle-recognition/train_simplified/candle.csv\n",
      "/kaggle/input/quickdraw-doodle-recognition/train_simplified/mosquito.csv\n",
      "/kaggle/input/quickdraw-doodle-recognition/train_simplified/pear.csv\n",
      "/kaggle/input/quickdraw-doodle-recognition/train_simplified/boomerang.csv\n",
      "/kaggle/input/quickdraw-doodle-recognition/train_simplified/lollipop.csv\n",
      "/kaggle/input/quickdraw-doodle-recognition/train_simplified/yoga.csv\n",
      "/kaggle/input/quickdraw-doodle-recognition/train_simplified/waterslide.csv\n",
      "/kaggle/input/quickdraw-doodle-recognition/train_simplified/swan.csv\n",
      "/kaggle/input/quickdraw-doodle-recognition/train_simplified/triangle.csv\n",
      "/kaggle/input/quickdraw-doodle-recognition/train_simplified/diving board.csv\n",
      "/kaggle/input/quickdraw-doodle-recognition/train_simplified/crayon.csv\n",
      "/kaggle/input/quickdraw-doodle-recognition/train_simplified/hockey puck.csv\n",
      "/kaggle/input/quickdraw-doodle-recognition/train_simplified/moustache.csv\n",
      "/kaggle/input/quickdraw-doodle-recognition/train_simplified/calendar.csv\n",
      "/kaggle/input/quickdraw-doodle-recognition/train_simplified/cow.csv\n",
      "/kaggle/input/quickdraw-doodle-recognition/train_simplified/fire hydrant.csv\n",
      "/kaggle/input/quickdraw-doodle-recognition/train_simplified/hot air balloon.csv\n",
      "/kaggle/input/quickdraw-doodle-recognition/train_simplified/helmet.csv\n",
      "/kaggle/input/quickdraw-doodle-recognition/train_simplified/parrot.csv\n",
      "/kaggle/input/quickdraw-doodle-recognition/train_simplified/hot tub.csv\n",
      "/kaggle/input/quickdraw-doodle-recognition/train_simplified/baseball.csv\n",
      "/kaggle/input/quickdraw-doodle-recognition/train_simplified/saw.csv\n",
      "/kaggle/input/quickdraw-doodle-recognition/train_simplified/mouth.csv\n",
      "/kaggle/input/quickdraw-doodle-recognition/train_simplified/passport.csv\n",
      "/kaggle/input/quickdraw-doodle-recognition/train_simplified/campfire.csv\n",
      "/kaggle/input/quickdraw-doodle-recognition/train_simplified/car.csv\n",
      "/kaggle/input/quickdraw-doodle-recognition/train_simplified/bulldozer.csv\n",
      "/kaggle/input/quickdraw-doodle-recognition/train_simplified/pencil.csv\n",
      "/kaggle/input/quickdraw-doodle-recognition/train_simplified/wine glass.csv\n",
      "/kaggle/input/quickdraw-doodle-recognition/train_simplified/marker.csv\n",
      "/kaggle/input/quickdraw-doodle-recognition/train_simplified/axe.csv\n",
      "/kaggle/input/quickdraw-doodle-recognition/train_simplified/mug.csv\n",
      "/kaggle/input/quickdraw-doodle-recognition/train_simplified/see saw.csv\n",
      "/kaggle/input/quickdraw-doodle-recognition/train_simplified/foot.csv\n",
      "/kaggle/input/quickdraw-doodle-recognition/train_simplified/door.csv\n",
      "/kaggle/input/quickdraw-doodle-recognition/train_simplified/beach.csv\n",
      "/kaggle/input/quickdraw-doodle-recognition/train_simplified/cruise ship.csv\n",
      "/kaggle/input/quickdraw-doodle-recognition/train_simplified/drums.csv\n",
      "/kaggle/input/quickdraw-doodle-recognition/train_simplified/necklace.csv\n",
      "/kaggle/input/quickdraw-doodle-recognition/train_simplified/spoon.csv\n",
      "/kaggle/input/quickdraw-doodle-recognition/train_simplified/motorbike.csv\n",
      "/kaggle/input/quickdraw-doodle-recognition/train_simplified/megaphone.csv\n",
      "/kaggle/input/quickdraw-doodle-recognition/train_simplified/penguin.csv\n",
      "/kaggle/input/quickdraw-doodle-recognition/train_simplified/washing machine.csv\n",
      "/kaggle/input/quickdraw-doodle-recognition/train_simplified/giraffe.csv\n",
      "/kaggle/input/quickdraw-doodle-recognition/train_simplified/monkey.csv\n",
      "/kaggle/input/quickdraw-doodle-recognition/train_simplified/shoe.csv\n",
      "/kaggle/input/quickdraw-doodle-recognition/train_simplified/microphone.csv\n",
      "/kaggle/input/quickdraw-doodle-recognition/train_simplified/skyscraper.csv\n",
      "/kaggle/input/quickdraw-doodle-recognition/train_simplified/blackberry.csv\n",
      "/kaggle/input/quickdraw-doodle-recognition/train_simplified/sword.csv\n",
      "/kaggle/input/quickdraw-doodle-recognition/train_simplified/nail.csv\n",
      "/kaggle/input/quickdraw-doodle-recognition/train_simplified/birthday cake.csv\n",
      "/kaggle/input/quickdraw-doodle-recognition/train_simplified/carrot.csv\n",
      "/kaggle/input/quickdraw-doodle-recognition/train_simplified/lobster.csv\n",
      "/kaggle/input/quickdraw-doodle-recognition/train_simplified/hourglass.csv\n",
      "/kaggle/input/quickdraw-doodle-recognition/train_simplified/microwave.csv\n",
      "/kaggle/input/quickdraw-doodle-recognition/train_simplified/cannon.csv\n",
      "/kaggle/input/quickdraw-doodle-recognition/train_simplified/clarinet.csv\n",
      "/kaggle/input/quickdraw-doodle-recognition/train_simplified/basketball.csv\n",
      "/kaggle/input/quickdraw-doodle-recognition/train_simplified/pliers.csv\n",
      "/kaggle/input/quickdraw-doodle-recognition/train_simplified/bee.csv\n",
      "/kaggle/input/quickdraw-doodle-recognition/train_simplified/flashlight.csv\n",
      "/kaggle/input/quickdraw-doodle-recognition/train_simplified/leaf.csv\n",
      "/kaggle/input/quickdraw-doodle-recognition/train_simplified/belt.csv\n",
      "/kaggle/input/quickdraw-doodle-recognition/train_simplified/grass.csv\n",
      "/kaggle/input/quickdraw-doodle-recognition/train_simplified/river.csv\n",
      "/kaggle/input/quickdraw-doodle-recognition/train_simplified/peas.csv\n",
      "/kaggle/input/quickdraw-doodle-recognition/train_simplified/elbow.csv\n",
      "/kaggle/input/quickdraw-doodle-recognition/train_simplified/tiger.csv\n",
      "/kaggle/input/quickdraw-doodle-recognition/train_simplified/roller coaster.csv\n",
      "/kaggle/input/quickdraw-doodle-recognition/train_simplified/piano.csv\n",
      "/kaggle/input/quickdraw-doodle-recognition/train_simplified/trumpet.csv\n",
      "/kaggle/input/quickdraw-doodle-recognition/train_simplified/snowflake.csv\n",
      "/kaggle/input/quickdraw-doodle-recognition/train_simplified/bandage.csv\n",
      "/kaggle/input/quickdraw-doodle-recognition/train_simplified/bowtie.csv\n",
      "/kaggle/input/quickdraw-doodle-recognition/train_simplified/harp.csv\n",
      "/kaggle/input/quickdraw-doodle-recognition/train_simplified/onion.csv\n",
      "/kaggle/input/quickdraw-doodle-recognition/train_simplified/stairs.csv\n",
      "/kaggle/input/quickdraw-doodle-recognition/train_simplified/bus.csv\n",
      "/kaggle/input/quickdraw-doodle-recognition/train_simplified/oven.csv\n",
      "/kaggle/input/quickdraw-doodle-recognition/train_simplified/stop sign.csv\n",
      "/kaggle/input/quickdraw-doodle-recognition/train_simplified/chair.csv\n",
      "/kaggle/input/quickdraw-doodle-recognition/train_simplified/guitar.csv\n",
      "/kaggle/input/quickdraw-doodle-recognition/train_simplified/headphones.csv\n",
      "/kaggle/input/quickdraw-doodle-recognition/train_simplified/hockey stick.csv\n",
      "/kaggle/input/quickdraw-doodle-recognition/train_simplified/sheep.csv\n",
      "/kaggle/input/quickdraw-doodle-recognition/train_simplified/leg.csv\n",
      "/kaggle/input/quickdraw-doodle-recognition/train_simplified/popsicle.csv\n",
      "/kaggle/input/quickdraw-doodle-recognition/train_simplified/suitcase.csv\n",
      "/kaggle/input/quickdraw-doodle-recognition/train_simplified/snorkel.csv\n",
      "/kaggle/input/quickdraw-doodle-recognition/train_simplified/angel.csv\n",
      "/kaggle/input/quickdraw-doodle-recognition/train_simplified/scissors.csv\n",
      "/kaggle/input/quickdraw-doodle-recognition/train_simplified/line.csv\n",
      "/kaggle/input/quickdraw-doodle-recognition/train_simplified/shorts.csv\n",
      "/kaggle/input/quickdraw-doodle-recognition/train_simplified/toaster.csv\n",
      "/kaggle/input/quickdraw-doodle-recognition/train_simplified/lantern.csv\n",
      "/kaggle/input/quickdraw-doodle-recognition/train_simplified/rabbit.csv\n",
      "/kaggle/input/quickdraw-doodle-recognition/train_simplified/rain.csv\n",
      "/kaggle/input/quickdraw-doodle-recognition/train_simplified/camel.csv\n",
      "/kaggle/input/quickdraw-doodle-recognition/train_simplified/mouse.csv\n",
      "/kaggle/input/quickdraw-doodle-recognition/train_simplified/snail.csv\n",
      "/kaggle/input/quickdraw-doodle-recognition/train_simplified/cell phone.csv\n",
      "/kaggle/input/quickdraw-doodle-recognition/train_simplified/couch.csv\n",
      "/kaggle/input/quickdraw-doodle-recognition/train_simplified/butterfly.csv\n",
      "/kaggle/input/quickdraw-doodle-recognition/train_simplified/bear.csv\n",
      "/kaggle/input/quickdraw-doodle-recognition/train_simplified/light bulb.csv\n",
      "/kaggle/input/quickdraw-doodle-recognition/train_simplified/flower.csv\n",
      "/kaggle/input/quickdraw-doodle-recognition/train_simplified/paint can.csv\n",
      "/kaggle/input/quickdraw-doodle-recognition/train_simplified/hedgehog.csv\n",
      "/kaggle/input/quickdraw-doodle-recognition/train_simplified/teddy-bear.csv\n",
      "/kaggle/input/quickdraw-doodle-recognition/train_simplified/stitches.csv\n",
      "/kaggle/input/quickdraw-doodle-recognition/train_simplified/bathtub.csv\n",
      "/kaggle/input/quickdraw-doodle-recognition/train_simplified/blueberry.csv\n",
      "/kaggle/input/quickdraw-doodle-recognition/train_simplified/police car.csv\n",
      "/kaggle/input/quickdraw-doodle-recognition/train_simplified/crab.csv\n",
      "/kaggle/input/quickdraw-doodle-recognition/train_simplified/jail.csv\n",
      "/kaggle/input/quickdraw-doodle-recognition/train_simplified/ear.csv\n",
      "/kaggle/input/quickdraw-doodle-recognition/train_simplified/violin.csv\n",
      "/kaggle/input/quickdraw-doodle-recognition/train_simplified/grapes.csv\n",
      "/kaggle/input/quickdraw-doodle-recognition/train_simplified/ocean.csv\n",
      "/kaggle/input/quickdraw-doodle-recognition/train_simplified/telephone.csv\n",
      "/kaggle/input/quickdraw-doodle-recognition/train_simplified/bucket.csv\n",
      "/kaggle/input/quickdraw-doodle-recognition/train_simplified/anvil.csv\n",
      "/kaggle/input/quickdraw-doodle-recognition/train_simplified/animal migration.csv\n",
      "/kaggle/input/quickdraw-doodle-recognition/train_simplified/hamburger.csv\n",
      "/kaggle/input/quickdraw-doodle-recognition/train_simplified/dog.csv\n",
      "/kaggle/input/quickdraw-doodle-recognition/train_simplified/bush.csv\n",
      "/kaggle/input/quickdraw-doodle-recognition/train_simplified/whale.csv\n",
      "/kaggle/input/quickdraw-doodle-recognition/train_simplified/dresser.csv\n",
      "/kaggle/input/quickdraw-doodle-recognition/train_simplified/bicycle.csv\n",
      "/kaggle/input/quickdraw-doodle-recognition/train_simplified/church.csv\n",
      "/kaggle/input/quickdraw-doodle-recognition/train_simplified/table.csv\n",
      "/kaggle/input/quickdraw-doodle-recognition/train_simplified/hand.csv\n",
      "/kaggle/input/quickdraw-doodle-recognition/train_simplified/bread.csv\n",
      "/kaggle/input/quickdraw-doodle-recognition/train_simplified/toothpaste.csv\n",
      "/kaggle/input/quickdraw-doodle-recognition/train_simplified/raccoon.csv\n",
      "/kaggle/input/quickdraw-doodle-recognition/train_simplified/sandwich.csv\n",
      "/kaggle/input/quickdraw-doodle-recognition/train_simplified/barn.csv\n",
      "/kaggle/input/quickdraw-doodle-recognition/train_simplified/eyeglasses.csv\n",
      "/kaggle/input/quickdraw-doodle-recognition/train_simplified/cactus.csv\n",
      "/kaggle/input/quickdraw-doodle-recognition/train_simplified/smiley face.csv\n",
      "/kaggle/input/quickdraw-doodle-recognition/train_simplified/screwdriver.csv\n",
      "/kaggle/input/quickdraw-doodle-recognition/train_simplified/sun.csv\n",
      "/kaggle/input/quickdraw-doodle-recognition/train_simplified/envelope.csv\n",
      "/kaggle/input/quickdraw-doodle-recognition/train_simplified/map.csv\n",
      "/kaggle/input/quickdraw-doodle-recognition/train_simplified/radio.csv\n",
      "/kaggle/input/quickdraw-doodle-recognition/train_simplified/lighthouse.csv\n",
      "/kaggle/input/quickdraw-doodle-recognition/train_simplified/frog.csv\n",
      "/kaggle/input/quickdraw-doodle-recognition/train_simplified/peanut.csv\n",
      "/kaggle/input/quickdraw-doodle-recognition/train_simplified/sleeping bag.csv\n",
      "/kaggle/input/quickdraw-doodle-recognition/train_simplified/feather.csv\n",
      "/kaggle/input/quickdraw-doodle-recognition/train_simplified/The Great Wall of China.csv\n",
      "/kaggle/input/quickdraw-doodle-recognition/train_simplified/pillow.csv\n",
      "/kaggle/input/quickdraw-doodle-recognition/train_simplified/stethoscope.csv\n",
      "/kaggle/input/quickdraw-doodle-recognition/train_simplified/baseball bat.csv\n",
      "/kaggle/input/quickdraw-doodle-recognition/train_simplified/vase.csv\n",
      "/kaggle/input/quickdraw-doodle-recognition/train_simplified/sailboat.csv\n",
      "/kaggle/input/quickdraw-doodle-recognition/train_simplified/pond.csv\n",
      "/kaggle/input/quickdraw-doodle-recognition/train_simplified/crocodile.csv\n",
      "/kaggle/input/quickdraw-doodle-recognition/train_simplified/cake.csv\n",
      "/kaggle/input/quickdraw-doodle-recognition/train_simplified/kangaroo.csv\n",
      "/kaggle/input/quickdraw-doodle-recognition/train_simplified/pool.csv\n",
      "/kaggle/input/quickdraw-doodle-recognition/train_simplified/hurricane.csv\n",
      "/kaggle/input/quickdraw-doodle-recognition/train_simplified/hammer.csv\n",
      "/kaggle/input/quickdraw-doodle-recognition/train_simplified/tennis racquet.csv\n",
      "/kaggle/input/quickdraw-doodle-recognition/train_simplified/calculator.csv\n",
      "/kaggle/input/quickdraw-doodle-recognition/train_simplified/knee.csv\n",
      "/kaggle/input/quickdraw-doodle-recognition/train_simplified/The Eiffel Tower.csv\n",
      "/kaggle/input/quickdraw-doodle-recognition/train_simplified/cloud.csv\n",
      "/kaggle/input/quickdraw-doodle-recognition/train_simplified/lion.csv\n",
      "/kaggle/input/quickdraw-doodle-recognition/train_simplified/strawberry.csv\n",
      "/kaggle/input/quickdraw-doodle-recognition/train_simplified/fireplace.csv\n",
      "/kaggle/input/quickdraw-doodle-recognition/train_simplified/sink.csv\n",
      "/kaggle/input/quickdraw-doodle-recognition/train_simplified/hexagon.csv\n",
      "/kaggle/input/quickdraw-doodle-recognition/train_simplified/pizza.csv\n",
      "/kaggle/input/quickdraw-doodle-recognition/train_simplified/lipstick.csv\n",
      "/kaggle/input/quickdraw-doodle-recognition/train_simplified/flamingo.csv\n",
      "/kaggle/input/quickdraw-doodle-recognition/train_simplified/spider.csv\n",
      "/kaggle/input/quickdraw-doodle-recognition/train_simplified/star.csv\n",
      "/kaggle/input/quickdraw-doodle-recognition/train_simplified/streetlight.csv\n",
      "/kaggle/input/quickdraw-doodle-recognition/train_simplified/frying pan.csv\n",
      "/kaggle/input/quickdraw-doodle-recognition/train_simplified/cup.csv\n",
      "/kaggle/input/quickdraw-doodle-recognition/train_simplified/television.csv\n",
      "/kaggle/input/quickdraw-doodle-recognition/train_simplified/palm tree.csv\n",
      "/kaggle/input/quickdraw-doodle-recognition/train_simplified/eye.csv\n",
      "/kaggle/input/quickdraw-doodle-recognition/train_simplified/rake.csv\n",
      "/kaggle/input/quickdraw-doodle-recognition/train_simplified/pants.csv\n",
      "/kaggle/input/quickdraw-doodle-recognition/train_simplified/tooth.csv\n",
      "/kaggle/input/quickdraw-doodle-recognition/train_simplified/string bean.csv\n",
      "/kaggle/input/quickdraw-doodle-recognition/train_simplified/bracelet.csv\n",
      "/kaggle/input/quickdraw-doodle-recognition/train_simplified/crown.csv\n",
      "/kaggle/input/quickdraw-doodle-recognition/train_simplified/flip flops.csv\n",
      "/kaggle/input/quickdraw-doodle-recognition/train_simplified/teapot.csv\n",
      "/kaggle/input/quickdraw-doodle-recognition/train_simplified/compass.csv\n",
      "/kaggle/input/quickdraw-doodle-recognition/train_simplified/power outlet.csv\n",
      "/kaggle/input/quickdraw-doodle-recognition/train_simplified/beard.csv\n",
      "/kaggle/input/quickdraw-doodle-recognition/train_simplified/rainbow.csv\n",
      "/kaggle/input/quickdraw-doodle-recognition/train_simplified/toothbrush.csv\n",
      "/kaggle/input/quickdraw-doodle-recognition/train_simplified/canoe.csv\n",
      "/kaggle/input/quickdraw-doodle-recognition/train_simplified/alarm clock.csv\n",
      "/kaggle/input/quickdraw-doodle-recognition/train_simplified/tornado.csv\n",
      "/kaggle/input/quickdraw-doodle-recognition/train_simplified/circle.csv\n",
      "/kaggle/input/quickdraw-doodle-recognition/train_simplified/pig.csv\n",
      "/kaggle/input/quickdraw-doodle-recognition/train_simplified/horse.csv\n",
      "/kaggle/input/quickdraw-doodle-recognition/train_simplified/computer.csv\n",
      "/kaggle/input/quickdraw-doodle-recognition/train_simplified/squiggle.csv\n",
      "/kaggle/input/quickdraw-doodle-recognition/train_simplified/fan.csv\n",
      "/kaggle/input/quickdraw-doodle-recognition/train_simplified/broccoli.csv\n",
      "/kaggle/input/quickdraw-doodle-recognition/train_simplified/hat.csv\n",
      "/kaggle/input/quickdraw-doodle-recognition/train_simplified/wine bottle.csv\n",
      "/kaggle/input/quickdraw-doodle-recognition/train_simplified/umbrella.csv\n",
      "/kaggle/input/quickdraw-doodle-recognition/train_simplified/The Mona Lisa.csv\n",
      "/kaggle/input/quickdraw-doodle-recognition/train_simplified/backpack.csv\n",
      "/kaggle/input/quickdraw-doodle-recognition/train_simplified/chandelier.csv\n",
      "/kaggle/input/quickdraw-doodle-recognition/train_simplified/cooler.csv\n",
      "/kaggle/input/quickdraw-doodle-recognition/train_simplified/basket.csv\n",
      "/kaggle/input/quickdraw-doodle-recognition/train_simplified/paper clip.csv\n",
      "/kaggle/input/quickdraw-doodle-recognition/train_simplified/trombone.csv\n",
      "/kaggle/input/quickdraw-doodle-recognition/train_simplified/house.csv\n",
      "/kaggle/input/quickdraw-doodle-recognition/train_simplified/cat.csv\n",
      "/kaggle/input/quickdraw-doodle-recognition/train_simplified/dolphin.csv\n",
      "/kaggle/input/quickdraw-doodle-recognition/train_simplified/moon.csv\n",
      "/kaggle/input/quickdraw-doodle-recognition/train_simplified/shark.csv\n",
      "/kaggle/input/quickdraw-doodle-recognition/train_simplified/swing set.csv\n",
      "/kaggle/input/quickdraw-doodle-recognition/train_simplified/speedboat.csv\n",
      "/kaggle/input/quickdraw-doodle-recognition/train_simplified/skull.csv\n",
      "/kaggle/input/quickdraw-doodle-recognition/train_simplified/cello.csv\n",
      "/kaggle/input/quickdraw-doodle-recognition/train_simplified/toe.csv\n",
      "/kaggle/input/quickdraw-doodle-recognition/train_simplified/underwear.csv\n",
      "/kaggle/input/quickdraw-doodle-recognition/train_simplified/golf club.csv\n",
      "/kaggle/input/quickdraw-doodle-recognition/train_simplified/paintbrush.csv\n",
      "/kaggle/input/quickdraw-doodle-recognition/train_simplified/tree.csv\n",
      "/kaggle/input/quickdraw-doodle-recognition/train_simplified/panda.csv\n",
      "/kaggle/input/quickdraw-doodle-recognition/train_simplified/camouflage.csv\n",
      "/kaggle/input/quickdraw-doodle-recognition/train_simplified/pickup truck.csv\n",
      "/kaggle/input/quickdraw-doodle-recognition/train_simplified/ladder.csv\n",
      "/kaggle/input/quickdraw-doodle-recognition/train_simplified/arm.csv\n",
      "/kaggle/input/quickdraw-doodle-recognition/train_simplified/clock.csv\n",
      "/kaggle/input/quickdraw-doodle-recognition/train_simplified/fence.csv\n",
      "/kaggle/input/quickdraw-doodle-recognition/train_simplified/sea turtle.csv\n",
      "/kaggle/input/quickdraw-doodle-recognition/train_simplified/jacket.csv\n",
      "/kaggle/input/quickdraw-doodle-recognition/train_simplified/diamond.csv\n",
      "/kaggle/input/quickdraw-doodle-recognition/train_simplified/octagon.csv\n",
      "/kaggle/input/quickdraw-doodle-recognition/train_simplified/remote control.csv\n",
      "/kaggle/input/quickdraw-doodle-recognition/train_simplified/stove.csv\n",
      "/kaggle/input/quickdraw-doodle-recognition/train_simplified/train.csv\n",
      "/kaggle/input/quickdraw-doodle-recognition/train_simplified/tent.csv\n",
      "/kaggle/input/quickdraw-doodle-recognition/train_simplified/parachute.csv\n",
      "/kaggle/input/quickdraw-doodle-recognition/train_simplified/ice cream.csv\n",
      "/kaggle/input/quickdraw-doodle-recognition/train_simplified/truck.csv\n",
      "/kaggle/input/quickdraw-doodle-recognition/train_simplified/castle.csv\n",
      "/kaggle/input/quickdraw-doodle-recognition/train_simplified/finger.csv\n",
      "/kaggle/input/quickdraw-doodle-recognition/train_simplified/potato.csv\n",
      "/kaggle/input/quickdraw-doodle-recognition/train_simplified/binoculars.csv\n",
      "/kaggle/input/quickdraw-doodle-recognition/train_simplified/helicopter.csv\n",
      "/kaggle/input/quickdraw-doodle-recognition/train_simplified/snowman.csv\n",
      "/kaggle/input/quickdraw-doodle-recognition/train_simplified/ant.csv\n",
      "/kaggle/input/quickdraw-doodle-recognition/train_simplified/toilet.csv\n",
      "/kaggle/input/quickdraw-doodle-recognition/train_simplified/flying saucer.csv\n",
      "/kaggle/input/quickdraw-doodle-recognition/train_simplified/steak.csv\n",
      "/kaggle/input/quickdraw-doodle-recognition/train_simplified/owl.csv\n",
      "/kaggle/input/quickdraw-doodle-recognition/train_simplified/t-shirt.csv\n",
      "/kaggle/input/quickdraw-doodle-recognition/train_simplified/house plant.csv\n",
      "/kaggle/input/quickdraw-doodle-recognition/train_simplified/soccer ball.csv\n",
      "/kaggle/input/quickdraw-doodle-recognition/train_simplified/apple.csv\n",
      "/kaggle/input/quickdraw-doodle-recognition/train_simplified/book.csv\n",
      "/kaggle/input/quickdraw-doodle-recognition/train_simplified/face.csv\n",
      "/kaggle/input/quickdraw-doodle-recognition/train_simplified/sock.csv\n",
      "/kaggle/input/quickdraw-doodle-recognition/train_simplified/drill.csv\n",
      "/kaggle/input/quickdraw-doodle-recognition/train_simplified/donut.csv\n",
      "/kaggle/input/quickdraw-doodle-recognition/train_simplified/saxophone.csv\n",
      "/kaggle/input/quickdraw-doodle-recognition/train_simplified/dishwasher.csv\n",
      "/kaggle/input/quickdraw-doodle-recognition/train_simplified/camera.csv\n",
      "/kaggle/input/quickdraw-doodle-recognition/train_simplified/hospital.csv\n",
      "/kaggle/input/quickdraw-doodle-recognition/train_simplified/broom.csv\n",
      "/kaggle/input/quickdraw-doodle-recognition/train_simplified/lightning.csv\n",
      "/kaggle/input/quickdraw-doodle-recognition/train_simplified/watermelon.csv\n",
      "/kaggle/input/quickdraw-doodle-recognition/train_simplified/spreadsheet.csv\n",
      "/kaggle/input/quickdraw-doodle-recognition/train_simplified/bridge.csv\n",
      "/kaggle/input/quickdraw-doodle-recognition/train_simplified/coffee cup.csv\n",
      "/kaggle/input/quickdraw-doodle-recognition/train_simplified/ambulance.csv\n",
      "/kaggle/input/quickdraw-doodle-recognition/train_simplified/key.csv\n",
      "/kaggle/input/quickdraw-doodle-recognition/train_simplified/picture frame.csv\n",
      "/kaggle/input/quickdraw-doodle-recognition/train_simplified/nose.csv\n",
      "/kaggle/input/quickdraw-doodle-recognition/train_simplified/purse.csv\n",
      "/kaggle/input/quickdraw-doodle-recognition/train_simplified/stereo.csv\n",
      "/kaggle/input/quickdraw-doodle-recognition/train_simplified/keyboard.csv\n",
      "/kaggle/input/quickdraw-doodle-recognition/train_simplified/elephant.csv\n",
      "/kaggle/input/quickdraw-doodle-recognition/train_simplified/zigzag.csv\n",
      "/kaggle/input/quickdraw-doodle-recognition/train_simplified/bird.csv\n",
      "/kaggle/input/quickdraw-doodle-recognition/train_simplified/sweater.csv\n",
      "/kaggle/input/quickdraw-doodle-recognition/train_simplified/mailbox.csv\n",
      "/kaggle/input/quickdraw-doodle-recognition/train_simplified/banana.csv\n",
      "/kaggle/input/quickdraw-doodle-recognition/train_simplified/bench.csv\n",
      "/kaggle/input/quickdraw-doodle-recognition/train_simplified/snake.csv\n",
      "/kaggle/input/quickdraw-doodle-recognition/train_simplified/scorpion.csv\n",
      "/kaggle/input/quickdraw-doodle-recognition/train_simplified/submarine.csv\n",
      "/kaggle/input/quickdraw-doodle-recognition/train_simplified/ceiling fan.csv\n",
      "/kaggle/input/quickdraw-doodle-recognition/train_simplified/duck.csv\n",
      "/kaggle/input/quickdraw-doodle-recognition/train_simplified/skateboard.csv\n",
      "/kaggle/input/quickdraw-doodle-recognition/train_simplified/eraser.csv\n",
      "/kaggle/input/quickdraw-doodle-recognition/train_simplified/fork.csv\n",
      "/kaggle/input/quickdraw-doodle-recognition/train_simplified/hot dog.csv\n",
      "/kaggle/input/quickdraw-doodle-recognition/train_simplified/squirrel.csv\n",
      "/kaggle/input/quickdraw-doodle-recognition/train_simplified/rollerskates.csv\n",
      "/kaggle/input/quickdraw-doodle-recognition/train_simplified/zebra.csv\n",
      "/kaggle/input/quickdraw-doodle-recognition/train_simplified/mountain.csv\n",
      "/kaggle/input/quickdraw-doodle-recognition/train_simplified/wristwatch.csv\n",
      "/kaggle/input/quickdraw-doodle-recognition/train_simplified/dumbbell.csv\n",
      "/kaggle/input/quickdraw-doodle-recognition/train_simplified/mermaid.csv\n",
      "/kaggle/input/quickdraw-doodle-recognition/train_simplified/cookie.csv\n",
      "/kaggle/input/quickdraw-doodle-recognition/train_simplified/garden.csv\n",
      "/kaggle/input/quickdraw-doodle-recognition/train_simplified/asparagus.csv\n",
      "/kaggle/input/quickdraw-doodle-recognition/train_simplified/bottlecap.csv\n",
      "/kaggle/input/quickdraw-doodle-recognition/train_simplified/airplane.csv\n",
      "/kaggle/input/quickdraw-doodle-recognition/train_simplified/mushroom.csv\n",
      "/kaggle/input/quickdraw-doodle-recognition/train_simplified/bat.csv\n",
      "/kaggle/input/quickdraw-doodle-recognition/train_simplified/wheel.csv\n",
      "/kaggle/input/quickdraw-doodle-recognition/train_simplified/dragon.csv\n",
      "/kaggle/input/quickdraw-doodle-recognition/train_simplified/goatee.csv\n",
      "/kaggle/input/quickdraw-doodle-recognition/train_simplified/floor lamp.csv\n",
      "/kaggle/input/quickdraw-doodle-recognition/train_simplified/garden hose.csv\n",
      "/kaggle/input/quickdraw-doodle-recognition/train_simplified/postcard.csv\n",
      "/kaggle/input/quickdraw-doodle-recognition/train_simplified/shovel.csv\n",
      "/kaggle/input/quickdraw-doodle-recognition/train_simplified/brain.csv\n",
      "/kaggle/input/quickdraw-doodle-recognition/train_simplified/fish.csv\n",
      "/kaggle/input/quickdraw-doodle-recognition/train_raw/traffic light.csv\n",
      "/kaggle/input/quickdraw-doodle-recognition/train_raw/rhinoceros.csv\n",
      "/kaggle/input/quickdraw-doodle-recognition/train_raw/bed.csv\n",
      "/kaggle/input/quickdraw-doodle-recognition/train_raw/school bus.csv\n",
      "/kaggle/input/quickdraw-doodle-recognition/train_raw/van.csv\n",
      "/kaggle/input/quickdraw-doodle-recognition/train_raw/octopus.csv\n",
      "/kaggle/input/quickdraw-doodle-recognition/train_raw/firetruck.csv\n",
      "/kaggle/input/quickdraw-doodle-recognition/train_raw/laptop.csv\n",
      "/kaggle/input/quickdraw-doodle-recognition/train_raw/tractor.csv\n",
      "/kaggle/input/quickdraw-doodle-recognition/train_raw/matches.csv\n",
      "/kaggle/input/quickdraw-doodle-recognition/train_raw/windmill.csv\n",
      "/kaggle/input/quickdraw-doodle-recognition/train_raw/square.csv\n",
      "/kaggle/input/quickdraw-doodle-recognition/train_raw/pineapple.csv\n",
      "/kaggle/input/quickdraw-doodle-recognition/train_raw/candle.csv\n",
      "/kaggle/input/quickdraw-doodle-recognition/train_raw/mosquito.csv\n",
      "/kaggle/input/quickdraw-doodle-recognition/train_raw/pear.csv\n",
      "/kaggle/input/quickdraw-doodle-recognition/train_raw/boomerang.csv\n",
      "/kaggle/input/quickdraw-doodle-recognition/train_raw/lollipop.csv\n",
      "/kaggle/input/quickdraw-doodle-recognition/train_raw/yoga.csv\n",
      "/kaggle/input/quickdraw-doodle-recognition/train_raw/waterslide.csv\n",
      "/kaggle/input/quickdraw-doodle-recognition/train_raw/swan.csv\n",
      "/kaggle/input/quickdraw-doodle-recognition/train_raw/triangle.csv\n",
      "/kaggle/input/quickdraw-doodle-recognition/train_raw/diving board.csv\n",
      "/kaggle/input/quickdraw-doodle-recognition/train_raw/crayon.csv\n",
      "/kaggle/input/quickdraw-doodle-recognition/train_raw/hockey puck.csv\n",
      "/kaggle/input/quickdraw-doodle-recognition/train_raw/moustache.csv\n",
      "/kaggle/input/quickdraw-doodle-recognition/train_raw/calendar.csv\n",
      "/kaggle/input/quickdraw-doodle-recognition/train_raw/cow.csv\n",
      "/kaggle/input/quickdraw-doodle-recognition/train_raw/fire hydrant.csv\n",
      "/kaggle/input/quickdraw-doodle-recognition/train_raw/hot air balloon.csv\n",
      "/kaggle/input/quickdraw-doodle-recognition/train_raw/helmet.csv\n",
      "/kaggle/input/quickdraw-doodle-recognition/train_raw/parrot.csv\n",
      "/kaggle/input/quickdraw-doodle-recognition/train_raw/hot tub.csv\n",
      "/kaggle/input/quickdraw-doodle-recognition/train_raw/baseball.csv\n",
      "/kaggle/input/quickdraw-doodle-recognition/train_raw/saw.csv\n",
      "/kaggle/input/quickdraw-doodle-recognition/train_raw/mouth.csv\n",
      "/kaggle/input/quickdraw-doodle-recognition/train_raw/passport.csv\n",
      "/kaggle/input/quickdraw-doodle-recognition/train_raw/campfire.csv\n",
      "/kaggle/input/quickdraw-doodle-recognition/train_raw/car.csv\n",
      "/kaggle/input/quickdraw-doodle-recognition/train_raw/bulldozer.csv\n",
      "/kaggle/input/quickdraw-doodle-recognition/train_raw/pencil.csv\n",
      "/kaggle/input/quickdraw-doodle-recognition/train_raw/wine glass.csv\n",
      "/kaggle/input/quickdraw-doodle-recognition/train_raw/marker.csv\n",
      "/kaggle/input/quickdraw-doodle-recognition/train_raw/axe.csv\n",
      "/kaggle/input/quickdraw-doodle-recognition/train_raw/mug.csv\n",
      "/kaggle/input/quickdraw-doodle-recognition/train_raw/see saw.csv\n",
      "/kaggle/input/quickdraw-doodle-recognition/train_raw/foot.csv\n",
      "/kaggle/input/quickdraw-doodle-recognition/train_raw/door.csv\n",
      "/kaggle/input/quickdraw-doodle-recognition/train_raw/beach.csv\n",
      "/kaggle/input/quickdraw-doodle-recognition/train_raw/cruise ship.csv\n",
      "/kaggle/input/quickdraw-doodle-recognition/train_raw/drums.csv\n",
      "/kaggle/input/quickdraw-doodle-recognition/train_raw/necklace.csv\n",
      "/kaggle/input/quickdraw-doodle-recognition/train_raw/spoon.csv\n",
      "/kaggle/input/quickdraw-doodle-recognition/train_raw/motorbike.csv\n",
      "/kaggle/input/quickdraw-doodle-recognition/train_raw/megaphone.csv\n",
      "/kaggle/input/quickdraw-doodle-recognition/train_raw/penguin.csv\n",
      "/kaggle/input/quickdraw-doodle-recognition/train_raw/washing machine.csv\n",
      "/kaggle/input/quickdraw-doodle-recognition/train_raw/giraffe.csv\n",
      "/kaggle/input/quickdraw-doodle-recognition/train_raw/monkey.csv\n",
      "/kaggle/input/quickdraw-doodle-recognition/train_raw/shoe.csv\n",
      "/kaggle/input/quickdraw-doodle-recognition/train_raw/microphone.csv\n",
      "/kaggle/input/quickdraw-doodle-recognition/train_raw/skyscraper.csv\n",
      "/kaggle/input/quickdraw-doodle-recognition/train_raw/blackberry.csv\n",
      "/kaggle/input/quickdraw-doodle-recognition/train_raw/sword.csv\n",
      "/kaggle/input/quickdraw-doodle-recognition/train_raw/nail.csv\n",
      "/kaggle/input/quickdraw-doodle-recognition/train_raw/birthday cake.csv\n",
      "/kaggle/input/quickdraw-doodle-recognition/train_raw/carrot.csv\n",
      "/kaggle/input/quickdraw-doodle-recognition/train_raw/lobster.csv\n",
      "/kaggle/input/quickdraw-doodle-recognition/train_raw/hourglass.csv\n",
      "/kaggle/input/quickdraw-doodle-recognition/train_raw/microwave.csv\n",
      "/kaggle/input/quickdraw-doodle-recognition/train_raw/cannon.csv\n",
      "/kaggle/input/quickdraw-doodle-recognition/train_raw/clarinet.csv\n",
      "/kaggle/input/quickdraw-doodle-recognition/train_raw/basketball.csv\n",
      "/kaggle/input/quickdraw-doodle-recognition/train_raw/pliers.csv\n",
      "/kaggle/input/quickdraw-doodle-recognition/train_raw/bee.csv\n",
      "/kaggle/input/quickdraw-doodle-recognition/train_raw/flashlight.csv\n",
      "/kaggle/input/quickdraw-doodle-recognition/train_raw/leaf.csv\n",
      "/kaggle/input/quickdraw-doodle-recognition/train_raw/belt.csv\n",
      "/kaggle/input/quickdraw-doodle-recognition/train_raw/grass.csv\n",
      "/kaggle/input/quickdraw-doodle-recognition/train_raw/river.csv\n",
      "/kaggle/input/quickdraw-doodle-recognition/train_raw/peas.csv\n",
      "/kaggle/input/quickdraw-doodle-recognition/train_raw/elbow.csv\n",
      "/kaggle/input/quickdraw-doodle-recognition/train_raw/tiger.csv\n",
      "/kaggle/input/quickdraw-doodle-recognition/train_raw/roller coaster.csv\n",
      "/kaggle/input/quickdraw-doodle-recognition/train_raw/piano.csv\n",
      "/kaggle/input/quickdraw-doodle-recognition/train_raw/trumpet.csv\n",
      "/kaggle/input/quickdraw-doodle-recognition/train_raw/snowflake.csv\n",
      "/kaggle/input/quickdraw-doodle-recognition/train_raw/bandage.csv\n",
      "/kaggle/input/quickdraw-doodle-recognition/train_raw/bowtie.csv\n",
      "/kaggle/input/quickdraw-doodle-recognition/train_raw/harp.csv\n",
      "/kaggle/input/quickdraw-doodle-recognition/train_raw/onion.csv\n",
      "/kaggle/input/quickdraw-doodle-recognition/train_raw/stairs.csv\n",
      "/kaggle/input/quickdraw-doodle-recognition/train_raw/bus.csv\n",
      "/kaggle/input/quickdraw-doodle-recognition/train_raw/oven.csv\n",
      "/kaggle/input/quickdraw-doodle-recognition/train_raw/stop sign.csv\n",
      "/kaggle/input/quickdraw-doodle-recognition/train_raw/chair.csv\n",
      "/kaggle/input/quickdraw-doodle-recognition/train_raw/guitar.csv\n",
      "/kaggle/input/quickdraw-doodle-recognition/train_raw/headphones.csv\n",
      "/kaggle/input/quickdraw-doodle-recognition/train_raw/hockey stick.csv\n",
      "/kaggle/input/quickdraw-doodle-recognition/train_raw/sheep.csv\n",
      "/kaggle/input/quickdraw-doodle-recognition/train_raw/leg.csv\n",
      "/kaggle/input/quickdraw-doodle-recognition/train_raw/popsicle.csv\n",
      "/kaggle/input/quickdraw-doodle-recognition/train_raw/suitcase.csv\n",
      "/kaggle/input/quickdraw-doodle-recognition/train_raw/snorkel.csv\n",
      "/kaggle/input/quickdraw-doodle-recognition/train_raw/angel.csv\n",
      "/kaggle/input/quickdraw-doodle-recognition/train_raw/scissors.csv\n",
      "/kaggle/input/quickdraw-doodle-recognition/train_raw/line.csv\n",
      "/kaggle/input/quickdraw-doodle-recognition/train_raw/shorts.csv\n",
      "/kaggle/input/quickdraw-doodle-recognition/train_raw/toaster.csv\n",
      "/kaggle/input/quickdraw-doodle-recognition/train_raw/lantern.csv\n",
      "/kaggle/input/quickdraw-doodle-recognition/train_raw/rabbit.csv\n",
      "/kaggle/input/quickdraw-doodle-recognition/train_raw/rain.csv\n",
      "/kaggle/input/quickdraw-doodle-recognition/train_raw/camel.csv\n",
      "/kaggle/input/quickdraw-doodle-recognition/train_raw/mouse.csv\n",
      "/kaggle/input/quickdraw-doodle-recognition/train_raw/snail.csv\n",
      "/kaggle/input/quickdraw-doodle-recognition/train_raw/cell phone.csv\n",
      "/kaggle/input/quickdraw-doodle-recognition/train_raw/couch.csv\n",
      "/kaggle/input/quickdraw-doodle-recognition/train_raw/butterfly.csv\n",
      "/kaggle/input/quickdraw-doodle-recognition/train_raw/bear.csv\n",
      "/kaggle/input/quickdraw-doodle-recognition/train_raw/light bulb.csv\n",
      "/kaggle/input/quickdraw-doodle-recognition/train_raw/flower.csv\n",
      "/kaggle/input/quickdraw-doodle-recognition/train_raw/paint can.csv\n",
      "/kaggle/input/quickdraw-doodle-recognition/train_raw/hedgehog.csv\n",
      "/kaggle/input/quickdraw-doodle-recognition/train_raw/teddy-bear.csv\n",
      "/kaggle/input/quickdraw-doodle-recognition/train_raw/stitches.csv\n",
      "/kaggle/input/quickdraw-doodle-recognition/train_raw/bathtub.csv\n",
      "/kaggle/input/quickdraw-doodle-recognition/train_raw/blueberry.csv\n",
      "/kaggle/input/quickdraw-doodle-recognition/train_raw/police car.csv\n",
      "/kaggle/input/quickdraw-doodle-recognition/train_raw/crab.csv\n",
      "/kaggle/input/quickdraw-doodle-recognition/train_raw/jail.csv\n",
      "/kaggle/input/quickdraw-doodle-recognition/train_raw/ear.csv\n",
      "/kaggle/input/quickdraw-doodle-recognition/train_raw/violin.csv\n",
      "/kaggle/input/quickdraw-doodle-recognition/train_raw/grapes.csv\n",
      "/kaggle/input/quickdraw-doodle-recognition/train_raw/ocean.csv\n",
      "/kaggle/input/quickdraw-doodle-recognition/train_raw/telephone.csv\n",
      "/kaggle/input/quickdraw-doodle-recognition/train_raw/bucket.csv\n",
      "/kaggle/input/quickdraw-doodle-recognition/train_raw/anvil.csv\n",
      "/kaggle/input/quickdraw-doodle-recognition/train_raw/animal migration.csv\n",
      "/kaggle/input/quickdraw-doodle-recognition/train_raw/hamburger.csv\n",
      "/kaggle/input/quickdraw-doodle-recognition/train_raw/dog.csv\n",
      "/kaggle/input/quickdraw-doodle-recognition/train_raw/bush.csv\n",
      "/kaggle/input/quickdraw-doodle-recognition/train_raw/whale.csv\n",
      "/kaggle/input/quickdraw-doodle-recognition/train_raw/dresser.csv\n",
      "/kaggle/input/quickdraw-doodle-recognition/train_raw/bicycle.csv\n",
      "/kaggle/input/quickdraw-doodle-recognition/train_raw/church.csv\n",
      "/kaggle/input/quickdraw-doodle-recognition/train_raw/table.csv\n",
      "/kaggle/input/quickdraw-doodle-recognition/train_raw/hand.csv\n",
      "/kaggle/input/quickdraw-doodle-recognition/train_raw/bread.csv\n",
      "/kaggle/input/quickdraw-doodle-recognition/train_raw/toothpaste.csv\n",
      "/kaggle/input/quickdraw-doodle-recognition/train_raw/raccoon.csv\n",
      "/kaggle/input/quickdraw-doodle-recognition/train_raw/sandwich.csv\n",
      "/kaggle/input/quickdraw-doodle-recognition/train_raw/barn.csv\n",
      "/kaggle/input/quickdraw-doodle-recognition/train_raw/eyeglasses.csv\n",
      "/kaggle/input/quickdraw-doodle-recognition/train_raw/cactus.csv\n",
      "/kaggle/input/quickdraw-doodle-recognition/train_raw/smiley face.csv\n",
      "/kaggle/input/quickdraw-doodle-recognition/train_raw/screwdriver.csv\n",
      "/kaggle/input/quickdraw-doodle-recognition/train_raw/sun.csv\n",
      "/kaggle/input/quickdraw-doodle-recognition/train_raw/envelope.csv\n",
      "/kaggle/input/quickdraw-doodle-recognition/train_raw/map.csv\n",
      "/kaggle/input/quickdraw-doodle-recognition/train_raw/radio.csv\n",
      "/kaggle/input/quickdraw-doodle-recognition/train_raw/lighthouse.csv\n",
      "/kaggle/input/quickdraw-doodle-recognition/train_raw/frog.csv\n",
      "/kaggle/input/quickdraw-doodle-recognition/train_raw/peanut.csv\n",
      "/kaggle/input/quickdraw-doodle-recognition/train_raw/sleeping bag.csv\n",
      "/kaggle/input/quickdraw-doodle-recognition/train_raw/feather.csv\n",
      "/kaggle/input/quickdraw-doodle-recognition/train_raw/The Great Wall of China.csv\n",
      "/kaggle/input/quickdraw-doodle-recognition/train_raw/pillow.csv\n",
      "/kaggle/input/quickdraw-doodle-recognition/train_raw/stethoscope.csv\n",
      "/kaggle/input/quickdraw-doodle-recognition/train_raw/baseball bat.csv\n",
      "/kaggle/input/quickdraw-doodle-recognition/train_raw/vase.csv\n",
      "/kaggle/input/quickdraw-doodle-recognition/train_raw/sailboat.csv\n",
      "/kaggle/input/quickdraw-doodle-recognition/train_raw/pond.csv\n",
      "/kaggle/input/quickdraw-doodle-recognition/train_raw/crocodile.csv\n",
      "/kaggle/input/quickdraw-doodle-recognition/train_raw/cake.csv\n",
      "/kaggle/input/quickdraw-doodle-recognition/train_raw/kangaroo.csv\n",
      "/kaggle/input/quickdraw-doodle-recognition/train_raw/pool.csv\n",
      "/kaggle/input/quickdraw-doodle-recognition/train_raw/hurricane.csv\n",
      "/kaggle/input/quickdraw-doodle-recognition/train_raw/hammer.csv\n",
      "/kaggle/input/quickdraw-doodle-recognition/train_raw/tennis racquet.csv\n",
      "/kaggle/input/quickdraw-doodle-recognition/train_raw/calculator.csv\n",
      "/kaggle/input/quickdraw-doodle-recognition/train_raw/knee.csv\n",
      "/kaggle/input/quickdraw-doodle-recognition/train_raw/The Eiffel Tower.csv\n",
      "/kaggle/input/quickdraw-doodle-recognition/train_raw/cloud.csv\n",
      "/kaggle/input/quickdraw-doodle-recognition/train_raw/lion.csv\n",
      "/kaggle/input/quickdraw-doodle-recognition/train_raw/strawberry.csv\n",
      "/kaggle/input/quickdraw-doodle-recognition/train_raw/fireplace.csv\n",
      "/kaggle/input/quickdraw-doodle-recognition/train_raw/sink.csv\n",
      "/kaggle/input/quickdraw-doodle-recognition/train_raw/hexagon.csv\n",
      "/kaggle/input/quickdraw-doodle-recognition/train_raw/pizza.csv\n",
      "/kaggle/input/quickdraw-doodle-recognition/train_raw/lipstick.csv\n",
      "/kaggle/input/quickdraw-doodle-recognition/train_raw/flamingo.csv\n",
      "/kaggle/input/quickdraw-doodle-recognition/train_raw/spider.csv\n",
      "/kaggle/input/quickdraw-doodle-recognition/train_raw/star.csv\n",
      "/kaggle/input/quickdraw-doodle-recognition/train_raw/streetlight.csv\n",
      "/kaggle/input/quickdraw-doodle-recognition/train_raw/frying pan.csv\n",
      "/kaggle/input/quickdraw-doodle-recognition/train_raw/cup.csv\n",
      "/kaggle/input/quickdraw-doodle-recognition/train_raw/television.csv\n",
      "/kaggle/input/quickdraw-doodle-recognition/train_raw/palm tree.csv\n",
      "/kaggle/input/quickdraw-doodle-recognition/train_raw/eye.csv\n",
      "/kaggle/input/quickdraw-doodle-recognition/train_raw/rake.csv\n",
      "/kaggle/input/quickdraw-doodle-recognition/train_raw/pants.csv\n",
      "/kaggle/input/quickdraw-doodle-recognition/train_raw/tooth.csv\n",
      "/kaggle/input/quickdraw-doodle-recognition/train_raw/string bean.csv\n",
      "/kaggle/input/quickdraw-doodle-recognition/train_raw/bracelet.csv\n",
      "/kaggle/input/quickdraw-doodle-recognition/train_raw/crown.csv\n",
      "/kaggle/input/quickdraw-doodle-recognition/train_raw/flip flops.csv\n",
      "/kaggle/input/quickdraw-doodle-recognition/train_raw/teapot.csv\n",
      "/kaggle/input/quickdraw-doodle-recognition/train_raw/compass.csv\n",
      "/kaggle/input/quickdraw-doodle-recognition/train_raw/power outlet.csv\n",
      "/kaggle/input/quickdraw-doodle-recognition/train_raw/beard.csv\n",
      "/kaggle/input/quickdraw-doodle-recognition/train_raw/rainbow.csv\n",
      "/kaggle/input/quickdraw-doodle-recognition/train_raw/toothbrush.csv\n",
      "/kaggle/input/quickdraw-doodle-recognition/train_raw/canoe.csv\n",
      "/kaggle/input/quickdraw-doodle-recognition/train_raw/alarm clock.csv\n",
      "/kaggle/input/quickdraw-doodle-recognition/train_raw/tornado.csv\n",
      "/kaggle/input/quickdraw-doodle-recognition/train_raw/circle.csv\n",
      "/kaggle/input/quickdraw-doodle-recognition/train_raw/pig.csv\n",
      "/kaggle/input/quickdraw-doodle-recognition/train_raw/horse.csv\n",
      "/kaggle/input/quickdraw-doodle-recognition/train_raw/computer.csv\n",
      "/kaggle/input/quickdraw-doodle-recognition/train_raw/squiggle.csv\n",
      "/kaggle/input/quickdraw-doodle-recognition/train_raw/fan.csv\n",
      "/kaggle/input/quickdraw-doodle-recognition/train_raw/broccoli.csv\n",
      "/kaggle/input/quickdraw-doodle-recognition/train_raw/hat.csv\n",
      "/kaggle/input/quickdraw-doodle-recognition/train_raw/wine bottle.csv\n",
      "/kaggle/input/quickdraw-doodle-recognition/train_raw/umbrella.csv\n",
      "/kaggle/input/quickdraw-doodle-recognition/train_raw/The Mona Lisa.csv\n",
      "/kaggle/input/quickdraw-doodle-recognition/train_raw/backpack.csv\n",
      "/kaggle/input/quickdraw-doodle-recognition/train_raw/chandelier.csv\n",
      "/kaggle/input/quickdraw-doodle-recognition/train_raw/cooler.csv\n",
      "/kaggle/input/quickdraw-doodle-recognition/train_raw/basket.csv\n",
      "/kaggle/input/quickdraw-doodle-recognition/train_raw/paper clip.csv\n",
      "/kaggle/input/quickdraw-doodle-recognition/train_raw/trombone.csv\n",
      "/kaggle/input/quickdraw-doodle-recognition/train_raw/house.csv\n",
      "/kaggle/input/quickdraw-doodle-recognition/train_raw/cat.csv\n",
      "/kaggle/input/quickdraw-doodle-recognition/train_raw/dolphin.csv\n",
      "/kaggle/input/quickdraw-doodle-recognition/train_raw/moon.csv\n",
      "/kaggle/input/quickdraw-doodle-recognition/train_raw/shark.csv\n",
      "/kaggle/input/quickdraw-doodle-recognition/train_raw/swing set.csv\n",
      "/kaggle/input/quickdraw-doodle-recognition/train_raw/speedboat.csv\n",
      "/kaggle/input/quickdraw-doodle-recognition/train_raw/skull.csv\n",
      "/kaggle/input/quickdraw-doodle-recognition/train_raw/cello.csv\n",
      "/kaggle/input/quickdraw-doodle-recognition/train_raw/toe.csv\n",
      "/kaggle/input/quickdraw-doodle-recognition/train_raw/underwear.csv\n",
      "/kaggle/input/quickdraw-doodle-recognition/train_raw/golf club.csv\n",
      "/kaggle/input/quickdraw-doodle-recognition/train_raw/paintbrush.csv\n",
      "/kaggle/input/quickdraw-doodle-recognition/train_raw/tree.csv\n",
      "/kaggle/input/quickdraw-doodle-recognition/train_raw/panda.csv\n",
      "/kaggle/input/quickdraw-doodle-recognition/train_raw/camouflage.csv\n",
      "/kaggle/input/quickdraw-doodle-recognition/train_raw/pickup truck.csv\n",
      "/kaggle/input/quickdraw-doodle-recognition/train_raw/ladder.csv\n",
      "/kaggle/input/quickdraw-doodle-recognition/train_raw/arm.csv\n",
      "/kaggle/input/quickdraw-doodle-recognition/train_raw/clock.csv\n",
      "/kaggle/input/quickdraw-doodle-recognition/train_raw/fence.csv\n",
      "/kaggle/input/quickdraw-doodle-recognition/train_raw/sea turtle.csv\n",
      "/kaggle/input/quickdraw-doodle-recognition/train_raw/jacket.csv\n",
      "/kaggle/input/quickdraw-doodle-recognition/train_raw/diamond.csv\n",
      "/kaggle/input/quickdraw-doodle-recognition/train_raw/octagon.csv\n",
      "/kaggle/input/quickdraw-doodle-recognition/train_raw/remote control.csv\n",
      "/kaggle/input/quickdraw-doodle-recognition/train_raw/stove.csv\n",
      "/kaggle/input/quickdraw-doodle-recognition/train_raw/train.csv\n",
      "/kaggle/input/quickdraw-doodle-recognition/train_raw/tent.csv\n",
      "/kaggle/input/quickdraw-doodle-recognition/train_raw/parachute.csv\n",
      "/kaggle/input/quickdraw-doodle-recognition/train_raw/ice cream.csv\n",
      "/kaggle/input/quickdraw-doodle-recognition/train_raw/truck.csv\n",
      "/kaggle/input/quickdraw-doodle-recognition/train_raw/castle.csv\n",
      "/kaggle/input/quickdraw-doodle-recognition/train_raw/finger.csv\n",
      "/kaggle/input/quickdraw-doodle-recognition/train_raw/potato.csv\n",
      "/kaggle/input/quickdraw-doodle-recognition/train_raw/binoculars.csv\n",
      "/kaggle/input/quickdraw-doodle-recognition/train_raw/helicopter.csv\n",
      "/kaggle/input/quickdraw-doodle-recognition/train_raw/snowman.csv\n",
      "/kaggle/input/quickdraw-doodle-recognition/train_raw/ant.csv\n",
      "/kaggle/input/quickdraw-doodle-recognition/train_raw/toilet.csv\n",
      "/kaggle/input/quickdraw-doodle-recognition/train_raw/flying saucer.csv\n",
      "/kaggle/input/quickdraw-doodle-recognition/train_raw/steak.csv\n",
      "/kaggle/input/quickdraw-doodle-recognition/train_raw/owl.csv\n",
      "/kaggle/input/quickdraw-doodle-recognition/train_raw/t-shirt.csv\n",
      "/kaggle/input/quickdraw-doodle-recognition/train_raw/house plant.csv\n",
      "/kaggle/input/quickdraw-doodle-recognition/train_raw/soccer ball.csv\n",
      "/kaggle/input/quickdraw-doodle-recognition/train_raw/apple.csv\n",
      "/kaggle/input/quickdraw-doodle-recognition/train_raw/book.csv\n",
      "/kaggle/input/quickdraw-doodle-recognition/train_raw/face.csv\n",
      "/kaggle/input/quickdraw-doodle-recognition/train_raw/sock.csv\n",
      "/kaggle/input/quickdraw-doodle-recognition/train_raw/drill.csv\n",
      "/kaggle/input/quickdraw-doodle-recognition/train_raw/donut.csv\n",
      "/kaggle/input/quickdraw-doodle-recognition/train_raw/saxophone.csv\n",
      "/kaggle/input/quickdraw-doodle-recognition/train_raw/dishwasher.csv\n",
      "/kaggle/input/quickdraw-doodle-recognition/train_raw/camera.csv\n",
      "/kaggle/input/quickdraw-doodle-recognition/train_raw/hospital.csv\n",
      "/kaggle/input/quickdraw-doodle-recognition/train_raw/broom.csv\n",
      "/kaggle/input/quickdraw-doodle-recognition/train_raw/lightning.csv\n",
      "/kaggle/input/quickdraw-doodle-recognition/train_raw/watermelon.csv\n",
      "/kaggle/input/quickdraw-doodle-recognition/train_raw/spreadsheet.csv\n",
      "/kaggle/input/quickdraw-doodle-recognition/train_raw/bridge.csv\n",
      "/kaggle/input/quickdraw-doodle-recognition/train_raw/coffee cup.csv\n",
      "/kaggle/input/quickdraw-doodle-recognition/train_raw/ambulance.csv\n",
      "/kaggle/input/quickdraw-doodle-recognition/train_raw/key.csv\n",
      "/kaggle/input/quickdraw-doodle-recognition/train_raw/picture frame.csv\n",
      "/kaggle/input/quickdraw-doodle-recognition/train_raw/nose.csv\n",
      "/kaggle/input/quickdraw-doodle-recognition/train_raw/purse.csv\n",
      "/kaggle/input/quickdraw-doodle-recognition/train_raw/stereo.csv\n",
      "/kaggle/input/quickdraw-doodle-recognition/train_raw/keyboard.csv\n",
      "/kaggle/input/quickdraw-doodle-recognition/train_raw/elephant.csv\n",
      "/kaggle/input/quickdraw-doodle-recognition/train_raw/zigzag.csv\n",
      "/kaggle/input/quickdraw-doodle-recognition/train_raw/bird.csv\n",
      "/kaggle/input/quickdraw-doodle-recognition/train_raw/sweater.csv\n",
      "/kaggle/input/quickdraw-doodle-recognition/train_raw/mailbox.csv\n",
      "/kaggle/input/quickdraw-doodle-recognition/train_raw/banana.csv\n",
      "/kaggle/input/quickdraw-doodle-recognition/train_raw/bench.csv\n",
      "/kaggle/input/quickdraw-doodle-recognition/train_raw/snake.csv\n",
      "/kaggle/input/quickdraw-doodle-recognition/train_raw/scorpion.csv\n",
      "/kaggle/input/quickdraw-doodle-recognition/train_raw/submarine.csv\n",
      "/kaggle/input/quickdraw-doodle-recognition/train_raw/ceiling fan.csv\n",
      "/kaggle/input/quickdraw-doodle-recognition/train_raw/duck.csv\n",
      "/kaggle/input/quickdraw-doodle-recognition/train_raw/skateboard.csv\n",
      "/kaggle/input/quickdraw-doodle-recognition/train_raw/eraser.csv\n",
      "/kaggle/input/quickdraw-doodle-recognition/train_raw/fork.csv\n",
      "/kaggle/input/quickdraw-doodle-recognition/train_raw/hot dog.csv\n",
      "/kaggle/input/quickdraw-doodle-recognition/train_raw/squirrel.csv\n",
      "/kaggle/input/quickdraw-doodle-recognition/train_raw/rollerskates.csv\n",
      "/kaggle/input/quickdraw-doodle-recognition/train_raw/zebra.csv\n",
      "/kaggle/input/quickdraw-doodle-recognition/train_raw/mountain.csv\n",
      "/kaggle/input/quickdraw-doodle-recognition/train_raw/wristwatch.csv\n",
      "/kaggle/input/quickdraw-doodle-recognition/train_raw/dumbbell.csv\n",
      "/kaggle/input/quickdraw-doodle-recognition/train_raw/mermaid.csv\n",
      "/kaggle/input/quickdraw-doodle-recognition/train_raw/cookie.csv\n",
      "/kaggle/input/quickdraw-doodle-recognition/train_raw/garden.csv\n",
      "/kaggle/input/quickdraw-doodle-recognition/train_raw/asparagus.csv\n",
      "/kaggle/input/quickdraw-doodle-recognition/train_raw/bottlecap.csv\n",
      "/kaggle/input/quickdraw-doodle-recognition/train_raw/airplane.csv\n",
      "/kaggle/input/quickdraw-doodle-recognition/train_raw/mushroom.csv\n",
      "/kaggle/input/quickdraw-doodle-recognition/train_raw/bat.csv\n",
      "/kaggle/input/quickdraw-doodle-recognition/train_raw/wheel.csv\n",
      "/kaggle/input/quickdraw-doodle-recognition/train_raw/dragon.csv\n",
      "/kaggle/input/quickdraw-doodle-recognition/train_raw/goatee.csv\n",
      "/kaggle/input/quickdraw-doodle-recognition/train_raw/floor lamp.csv\n",
      "/kaggle/input/quickdraw-doodle-recognition/train_raw/garden hose.csv\n",
      "/kaggle/input/quickdraw-doodle-recognition/train_raw/postcard.csv\n",
      "/kaggle/input/quickdraw-doodle-recognition/train_raw/shovel.csv\n",
      "/kaggle/input/quickdraw-doodle-recognition/train_raw/brain.csv\n",
      "/kaggle/input/quickdraw-doodle-recognition/train_raw/fish.csv\n"
     ]
    }
   ],
   "source": [
    "import os\n",
    "for dirname, _, filenames in os.walk('/kaggle/input'):\n",
    "    for filename in filenames:\n",
    "        print(os.path.join(dirname, filename))"
   ]
  },
  {
   "cell_type": "markdown",
   "id": "08d92fd8",
   "metadata": {
    "papermill": {
     "duration": 0.007464,
     "end_time": "2023-03-22T08:02:59.150825",
     "exception": false,
     "start_time": "2023-03-22T08:02:59.143361",
     "status": "completed"
    },
    "tags": []
   },
   "source": [
    "# Limiting GPU usage"
   ]
  },
  {
   "cell_type": "code",
   "execution_count": 2,
   "id": "e8369fb5",
   "metadata": {
    "execution": {
     "iopub.execute_input": "2023-03-22T08:02:59.167382Z",
     "iopub.status.busy": "2023-03-22T08:02:59.167017Z",
     "iopub.status.idle": "2023-03-22T08:03:09.455153Z",
     "shell.execute_reply": "2023-03-22T08:03:09.453989Z"
    },
    "papermill": {
     "duration": 10.299804,
     "end_time": "2023-03-22T08:03:09.457926",
     "exception": false,
     "start_time": "2023-03-22T08:02:59.158122",
     "status": "completed"
    },
    "tags": []
   },
   "outputs": [
    {
     "name": "stdout",
     "output_type": "stream",
     "text": [
      "1 Physical GPUs, 1 Logical GPUs\n"
     ]
    }
   ],
   "source": [
    "# limit memory to prevent data leak\n",
    "import tensorflow as tf\n",
    "gpus = tf.config.list_physical_devices('GPU')\n",
    "if gpus:\n",
    "  try:\n",
    "    # Currently, memory growth needs to be the same across GPUs\n",
    "    for gpu in gpus:\n",
    "      tf.config.experimental.set_memory_growth(gpu, True)\n",
    "    logical_gpus = tf.config.list_logical_devices('GPU')\n",
    "    print(len(gpus), \"Physical GPUs,\", len(logical_gpus), \"Logical GPUs\")\n",
    "    \n",
    "    del logical_gpus,gpus\n",
    "  except RuntimeError as e:\n",
    "    # Memory growth must be set before GPUs have been initialized\n",
    "    print(e)\n"
   ]
  },
  {
   "cell_type": "markdown",
   "id": "b73c4ec6",
   "metadata": {
    "papermill": {
     "duration": 0.008023,
     "end_time": "2023-03-22T08:03:09.473840",
     "exception": false,
     "start_time": "2023-03-22T08:03:09.465817",
     "status": "completed"
    },
    "tags": []
   },
   "source": [
    "# 1. Importing modules"
   ]
  },
  {
   "cell_type": "code",
   "execution_count": 3,
   "id": "5ef27a43",
   "metadata": {
    "execution": {
     "iopub.execute_input": "2023-03-22T08:03:09.491068Z",
     "iopub.status.busy": "2023-03-22T08:03:09.490364Z",
     "iopub.status.idle": "2023-03-22T08:03:09.684017Z",
     "shell.execute_reply": "2023-03-22T08:03:09.683026Z"
    },
    "papermill": {
     "duration": 0.204821,
     "end_time": "2023-03-22T08:03:09.686281",
     "exception": false,
     "start_time": "2023-03-22T08:03:09.481460",
     "status": "completed"
    },
    "tags": []
   },
   "outputs": [
    {
     "name": "stdout",
     "output_type": "stream",
     "text": [
      "588\n"
     ]
    },
    {
     "data": {
      "text/plain": [
       "56"
      ]
     },
     "execution_count": 3,
     "metadata": {},
     "output_type": "execute_result"
    }
   ],
   "source": [
    "import numpy as np\n",
    "import pandas as pd\n",
    "import json\n",
    "import gc\n",
    "import matplotlib.pyplot as plt\n",
    "%matplotlib inline\n",
    "from glob import glob\n",
    "import os\n",
    "train_files = glob(\"../input/quickdraw-doodle-recognition/train_simplified/*.csv\")\n",
    "\n",
    "# calculating data size per category\n",
    "rows = 200000\n",
    "# rows = 10000\n",
    "rows = rows - (rows % 340)\n",
    "cat_size = rows // 340\n",
    "print(cat_size)\n",
    "gc.collect()"
   ]
  },
  {
   "cell_type": "markdown",
   "id": "356d70dc",
   "metadata": {
    "papermill": {
     "duration": 0.007565,
     "end_time": "2023-03-22T08:03:09.701721",
     "exception": false,
     "start_time": "2023-03-22T08:03:09.694156",
     "status": "completed"
    },
    "tags": []
   },
   "source": [
    "# 2. Image Preprocessing \n",
    "1. converting data in text json to an image \n",
    "2. normalizing the image size\n",
    "3. normalizing the image pixels\n"
   ]
  },
  {
   "cell_type": "code",
   "execution_count": 4,
   "id": "129d55bd",
   "metadata": {
    "execution": {
     "iopub.execute_input": "2023-03-22T08:03:09.718271Z",
     "iopub.status.busy": "2023-03-22T08:03:09.717960Z",
     "iopub.status.idle": "2023-03-22T08:03:09.916684Z",
     "shell.execute_reply": "2023-03-22T08:03:09.915672Z"
    },
    "papermill": {
     "duration": 0.209886,
     "end_time": "2023-03-22T08:03:09.919250",
     "exception": false,
     "start_time": "2023-03-22T08:03:09.709364",
     "status": "completed"
    },
    "tags": []
   },
   "outputs": [],
   "source": [
    "from PIL import Image, ImageDraw\n",
    "from dask import bag\n",
    "def drawStrokes(matrixOfStrokes):\n",
    "    image = Image.new(\"RGB\", (256,256), color=255)\n",
    "    image_draw = ImageDraw.Draw(image)\n",
    "    for stroke in json.loads(matrixOfStrokes):\n",
    "        for i in range(len(stroke[0])-1):\n",
    "            image_draw.line([stroke[0][i], \n",
    "                             stroke[1][i],\n",
    "                             stroke[0][i+1], \n",
    "                             stroke[1][i+1]],\n",
    "                            fill=0, width=5)\n",
    "    return np.array(image.resize((32,32)))/255."
   ]
  },
  {
   "cell_type": "code",
   "execution_count": 5,
   "id": "6877c7a0",
   "metadata": {
    "execution": {
     "iopub.execute_input": "2023-03-22T08:03:09.936589Z",
     "iopub.status.busy": "2023-03-22T08:03:09.936254Z",
     "iopub.status.idle": "2023-03-22T08:17:27.959887Z",
     "shell.execute_reply": "2023-03-22T08:17:27.958750Z"
    },
    "papermill": {
     "duration": 858.034739,
     "end_time": "2023-03-22T08:17:27.962232",
     "exception": false,
     "start_time": "2023-03-22T08:03:09.927493",
     "status": "completed"
    },
    "tags": []
   },
   "outputs": [
    {
     "data": {
      "application/vnd.jupyter.widget-view+json": {
       "model_id": "def0e7bdd875420e9c3761136bdbb178",
       "version_major": 2,
       "version_minor": 0
      },
      "text/plain": [
       "  0%|          | 0/340 [00:00<?, ?it/s]"
      ]
     },
     "metadata": {},
     "output_type": "display_data"
    }
   ],
   "source": [
    "from tqdm.notebook import tqdm\n",
    "drawingArray = np.zeros((rows,32,32,3))\n",
    "categories = pd.Series([None] * rows)\n",
    "i = 0\n",
    "for f in tqdm(train_files):\n",
    "    for df in pd.read_csv(f, index_col=\"key_id\", chunksize=1000, nrows=cat_size):\n",
    "        df = df.drop(['countrycode','timestamp','recognized'],axis=1)\n",
    "        imagebag = bag.from_sequence(df.drawing.values).map(drawStrokes)\n",
    "        imagebag = np.array(imagebag.compute())\n",
    "        categories[i:(i + imagebag.shape[0])] = df[\"word\"].replace(\"\\s+\", \"_\", regex=True)\n",
    "        drawingArray[i:(i + imagebag.shape[0])] = imagebag\n",
    "        i += imagebag.shape[0]\n"
   ]
  },
  {
   "cell_type": "code",
   "execution_count": 6,
   "id": "ef36656f",
   "metadata": {
    "execution": {
     "iopub.execute_input": "2023-03-22T08:17:27.979699Z",
     "iopub.status.busy": "2023-03-22T08:17:27.979345Z",
     "iopub.status.idle": "2023-03-22T08:17:28.233009Z",
     "shell.execute_reply": "2023-03-22T08:17:28.231902Z"
    },
    "papermill": {
     "duration": 0.264904,
     "end_time": "2023-03-22T08:17:28.235248",
     "exception": false,
     "start_time": "2023-03-22T08:17:27.970344",
     "status": "completed"
    },
    "tags": []
   },
   "outputs": [
    {
     "data": {
      "text/plain": [
       "54"
      ]
     },
     "execution_count": 6,
     "metadata": {},
     "output_type": "execute_result"
    }
   ],
   "source": [
    "gc.collect()"
   ]
  },
  {
   "cell_type": "code",
   "execution_count": 7,
   "id": "a248fa03",
   "metadata": {
    "execution": {
     "iopub.execute_input": "2023-03-22T08:17:28.253188Z",
     "iopub.status.busy": "2023-03-22T08:17:28.252314Z",
     "iopub.status.idle": "2023-03-22T08:17:28.270819Z",
     "shell.execute_reply": "2023-03-22T08:17:28.269720Z"
    },
    "papermill": {
     "duration": 0.029776,
     "end_time": "2023-03-22T08:17:28.273138",
     "exception": false,
     "start_time": "2023-03-22T08:17:28.243362",
     "status": "completed"
    },
    "tags": []
   },
   "outputs": [
    {
     "data": {
      "text/plain": [
       "traffic_light    588\n",
       "umbrella         588\n",
       "house            588\n",
       "trombone         588\n",
       "paper_clip       588\n",
       "                ... \n",
       "rain             588\n",
       "rabbit           588\n",
       "lantern          588\n",
       "toaster          588\n",
       "fish             588\n",
       "Length: 340, dtype: int64"
      ]
     },
     "execution_count": 7,
     "metadata": {},
     "output_type": "execute_result"
    }
   ],
   "source": [
    "categories.value_counts()"
   ]
  },
  {
   "cell_type": "markdown",
   "id": "99244726",
   "metadata": {
    "papermill": {
     "duration": 0.007934,
     "end_time": "2023-03-22T08:17:28.289140",
     "exception": false,
     "start_time": "2023-03-22T08:17:28.281206",
     "status": "completed"
    },
    "tags": []
   },
   "source": [
    "# 3. Train Test split"
   ]
  },
  {
   "cell_type": "code",
   "execution_count": 8,
   "id": "e508ffe5",
   "metadata": {
    "execution": {
     "iopub.execute_input": "2023-03-22T08:17:28.307350Z",
     "iopub.status.busy": "2023-03-22T08:17:28.306252Z",
     "iopub.status.idle": "2023-03-22T08:18:16.094999Z",
     "shell.execute_reply": "2023-03-22T08:18:16.093862Z"
    },
    "papermill": {
     "duration": 47.800469,
     "end_time": "2023-03-22T08:18:16.097549",
     "exception": false,
     "start_time": "2023-03-22T08:17:28.297080",
     "status": "completed"
    },
    "tags": []
   },
   "outputs": [],
   "source": [
    "\n",
    "from sklearn.model_selection import train_test_split\n",
    "indecator = pd.get_dummies(categories)\n",
    "tr_x,tst_x,tr_indecator,tst_indecator = train_test_split(drawingArray, indecator, test_size=0.25,random_state=0,stratify=indecator)\n"
   ]
  },
  {
   "cell_type": "code",
   "execution_count": 9,
   "id": "35507f2a",
   "metadata": {
    "execution": {
     "iopub.execute_input": "2023-03-22T08:18:16.115537Z",
     "iopub.status.busy": "2023-03-22T08:18:16.115191Z",
     "iopub.status.idle": "2023-03-22T08:18:16.133255Z",
     "shell.execute_reply": "2023-03-22T08:18:16.132047Z"
    },
    "papermill": {
     "duration": 0.029927,
     "end_time": "2023-03-22T08:18:16.136007",
     "exception": false,
     "start_time": "2023-03-22T08:18:16.106080",
     "status": "completed"
    },
    "tags": []
   },
   "outputs": [
    {
     "name": "stdout",
     "output_type": "stream",
     "text": [
      "The_Eiffel_Tower : 441\n",
      "The_Great_Wall_of_China : 441\n",
      "The_Mona_Lisa : 441\n",
      "airplane : 441\n",
      "alarm_clock : 441\n",
      "ambulance : 441\n"
     ]
    }
   ],
   "source": [
    "itr = 0\n",
    "for df in tr_indecator:\n",
    "    print(f\"{df} : {tr_indecator[df].value_counts()[1]}\")\n",
    "    if itr == 5:\n",
    "        break\n",
    "    else:\n",
    "        itr+= 1"
   ]
  },
  {
   "cell_type": "code",
   "execution_count": 10,
   "id": "e43613b5",
   "metadata": {
    "execution": {
     "iopub.execute_input": "2023-03-22T08:18:16.154890Z",
     "iopub.status.busy": "2023-03-22T08:18:16.153868Z",
     "iopub.status.idle": "2023-03-22T08:18:16.165342Z",
     "shell.execute_reply": "2023-03-22T08:18:16.164214Z"
    },
    "papermill": {
     "duration": 0.023997,
     "end_time": "2023-03-22T08:18:16.168612",
     "exception": false,
     "start_time": "2023-03-22T08:18:16.144615",
     "status": "completed"
    },
    "tags": []
   },
   "outputs": [
    {
     "name": "stdout",
     "output_type": "stream",
     "text": [
      "The_Eiffel_Tower : 147\n",
      "The_Great_Wall_of_China : 147\n",
      "The_Mona_Lisa : 147\n",
      "airplane : 147\n",
      "alarm_clock : 147\n",
      "ambulance : 147\n"
     ]
    }
   ],
   "source": [
    "itr = 0\n",
    "for df in tst_indecator:\n",
    "    try:\n",
    "        print(f\"{df} : {tst_indecator[df].value_counts()[1]}\")\n",
    "    except:\n",
    "        print(f\"{df} : 0\")\n",
    "        \n",
    "    if itr == 5:\n",
    "        break\n",
    "    else:\n",
    "        itr+= 1"
   ]
  },
  {
   "cell_type": "code",
   "execution_count": 11,
   "id": "a13125b3",
   "metadata": {
    "execution": {
     "iopub.execute_input": "2023-03-22T08:18:16.186332Z",
     "iopub.status.busy": "2023-03-22T08:18:16.186037Z",
     "iopub.status.idle": "2023-03-22T08:18:16.701099Z",
     "shell.execute_reply": "2023-03-22T08:18:16.699927Z"
    },
    "papermill": {
     "duration": 0.527091,
     "end_time": "2023-03-22T08:18:16.703902",
     "exception": false,
     "start_time": "2023-03-22T08:18:16.176811",
     "status": "completed"
    },
    "tags": []
   },
   "outputs": [
    {
     "data": {
      "text/plain": [
       "63"
      ]
     },
     "execution_count": 11,
     "metadata": {},
     "output_type": "execute_result"
    }
   ],
   "source": [
    "del drawingArray,categories\n",
    "gc.collect()"
   ]
  },
  {
   "cell_type": "markdown",
   "id": "61149e94",
   "metadata": {
    "papermill": {
     "duration": 0.008304,
     "end_time": "2023-03-22T08:18:16.720987",
     "exception": false,
     "start_time": "2023-03-22T08:18:16.712683",
     "status": "completed"
    },
    "tags": []
   },
   "source": [
    "# 4. Creating Deep learning model"
   ]
  },
  {
   "cell_type": "code",
   "execution_count": 12,
   "id": "79f6f068",
   "metadata": {
    "execution": {
     "iopub.execute_input": "2023-03-22T08:18:16.739533Z",
     "iopub.status.busy": "2023-03-22T08:18:16.739133Z",
     "iopub.status.idle": "2023-03-22T08:18:16.746146Z",
     "shell.execute_reply": "2023-03-22T08:18:16.745210Z"
    },
    "papermill": {
     "duration": 0.018882,
     "end_time": "2023-03-22T08:18:16.748241",
     "exception": false,
     "start_time": "2023-03-22T08:18:16.729359",
     "status": "completed"
    },
    "tags": []
   },
   "outputs": [],
   "source": [
    "from keras.callbacks import ModelCheckpoint\n",
    "from tensorflow.keras.optimizers.legacy import Adam\n",
    "\n",
    "filepath = 'my_best_model.hdf5'\n",
    "\n",
    "checkpoint = ModelCheckpoint(filepath=filepath, \n",
    "                             monitor=\"val_loss\", \n",
    "                             save_best_only=True,\n",
    "                             mode='min')\n",
    "\n",
    "callbacks = [checkpoint]"
   ]
  },
  {
   "cell_type": "code",
   "execution_count": 13,
   "id": "cf52307b",
   "metadata": {
    "execution": {
     "iopub.execute_input": "2023-03-22T08:18:16.767657Z",
     "iopub.status.busy": "2023-03-22T08:18:16.766517Z",
     "iopub.status.idle": "2023-03-22T08:18:16.956187Z",
     "shell.execute_reply": "2023-03-22T08:18:16.955016Z"
    },
    "papermill": {
     "duration": 0.201931,
     "end_time": "2023-03-22T08:18:16.958924",
     "exception": false,
     "start_time": "2023-03-22T08:18:16.756993",
     "status": "completed"
    },
    "tags": []
   },
   "outputs": [
    {
     "data": {
      "text/plain": [
       "42"
      ]
     },
     "execution_count": 13,
     "metadata": {},
     "output_type": "execute_result"
    }
   ],
   "source": [
    "gc.collect()"
   ]
  },
  {
   "cell_type": "code",
   "execution_count": 14,
   "id": "548451f7",
   "metadata": {
    "execution": {
     "iopub.execute_input": "2023-03-22T08:18:16.978235Z",
     "iopub.status.busy": "2023-03-22T08:18:16.977311Z",
     "iopub.status.idle": "2023-03-22T08:18:17.541335Z",
     "shell.execute_reply": "2023-03-22T08:18:17.540331Z"
    },
    "papermill": {
     "duration": 0.576472,
     "end_time": "2023-03-22T08:18:17.544247",
     "exception": false,
     "start_time": "2023-03-22T08:18:16.967775",
     "status": "completed"
    },
    "tags": []
   },
   "outputs": [],
   "source": [
    "import tensorflow as tf\n",
    "from tensorflow.keras.models import Sequential,Model\n",
    "from tensorflow.keras.layers import Dense,Dropout,Flatten,Conv2D,MaxPooling2D,Activation,BatchNormalization\n",
    "# from tensorflow.keras.optimizers import Adam\n",
    "\n",
    "strategy = tf.distribute.MirroredStrategy()\n",
    "with strategy.scope():\n",
    "    \n",
    "    model = Sequential()\n",
    "\n",
    "    model.add(Conv2D(128, (3,3), activation = 'relu', padding = 'same', input_shape=(32, 32, 3)))\n",
    "    model.add(Conv2D(128, (3,3), activation = 'relu', padding = 'same'))\n",
    "    model.add(MaxPooling2D(2,2))\n",
    "    model.add(BatchNormalization())\n",
    "\n",
    "    model.add(Conv2D(256, (3,3), activation = 'relu', padding = 'same'))\n",
    "    model.add(Conv2D(256, (3,3), activation = 'relu', padding = 'same'))\n",
    "    model.add(MaxPooling2D(2,2))\n",
    "    model.add(BatchNormalization())\n",
    "\n",
    "    model.add(Conv2D(512, (3,3), activation = 'relu', padding = 'same'))\n",
    "    model.add(Conv2D(512, (3,3), activation = 'relu', padding = 'same'))\n",
    "    model.add(MaxPooling2D(2,2))\n",
    "    model.add(BatchNormalization())\n",
    "\n",
    "    model.add(Conv2D(1024, (3,3), activation = 'relu', padding = 'same'))\n",
    "    model.add(Conv2D(1024, (3,3), activation = 'relu', padding = 'same'))\n",
    "    model.add(MaxPooling2D(2,2))\n",
    "    model.add(BatchNormalization())\n",
    "    model.add(Flatten())\n",
    "\n",
    "#     model.add(Dense(2048, activation='relu'))\n",
    "#     model.add(BatchNormalization())\n",
    "    \n",
    "#     model.add(Dense(1024, activation='relu'))\n",
    "#     model.add(BatchNormalization())\n",
    "\n",
    "    model.add(Dense(1024, activation='relu'))\n",
    "    model.add(BatchNormalization())\n",
    "\n",
    "    model.add(Dense(512, activation='relu'))\n",
    "    model.add(BatchNormalization())\n",
    "\n",
    "    model.add(Dense(340, activation='softmax'))"
   ]
  },
  {
   "cell_type": "code",
   "execution_count": 15,
   "id": "8cc9289c",
   "metadata": {
    "execution": {
     "iopub.execute_input": "2023-03-22T08:18:17.563271Z",
     "iopub.status.busy": "2023-03-22T08:18:17.562948Z",
     "iopub.status.idle": "2023-03-22T08:18:17.584053Z",
     "shell.execute_reply": "2023-03-22T08:18:17.583067Z"
    },
    "papermill": {
     "duration": 0.033108,
     "end_time": "2023-03-22T08:18:17.586260",
     "exception": false,
     "start_time": "2023-03-22T08:18:17.553152",
     "status": "completed"
    },
    "tags": []
   },
   "outputs": [],
   "source": [
    "model.compile(loss='categorical_crossentropy',\n",
    "              optimizer= \"adam\",\n",
    "              metrics=['accuracy'])\n",
    "\n",
    "# model.compile(loss='categorical_crossentropy',\n",
    "#                   optimizer=\"adam\",\n",
    "#                   metrics=['accuracy'])\n"
   ]
  },
  {
   "cell_type": "code",
   "execution_count": 16,
   "id": "87896e91",
   "metadata": {
    "execution": {
     "iopub.execute_input": "2023-03-22T08:18:17.605465Z",
     "iopub.status.busy": "2023-03-22T08:18:17.605118Z",
     "iopub.status.idle": "2023-03-22T08:18:17.682603Z",
     "shell.execute_reply": "2023-03-22T08:18:17.681675Z"
    },
    "papermill": {
     "duration": 0.119734,
     "end_time": "2023-03-22T08:18:17.714974",
     "exception": false,
     "start_time": "2023-03-22T08:18:17.595240",
     "status": "completed"
    },
    "tags": []
   },
   "outputs": [
    {
     "name": "stdout",
     "output_type": "stream",
     "text": [
      "Model: \"sequential\"\n",
      "_________________________________________________________________\n",
      " Layer (type)                Output Shape              Param #   \n",
      "=================================================================\n",
      " conv2d (Conv2D)             (None, 32, 32, 128)       3584      \n",
      "                                                                 \n",
      " conv2d_1 (Conv2D)           (None, 32, 32, 128)       147584    \n",
      "                                                                 \n",
      " max_pooling2d (MaxPooling2D  (None, 16, 16, 128)      0         \n",
      " )                                                               \n",
      "                                                                 \n",
      " batch_normalization (BatchN  (None, 16, 16, 128)      512       \n",
      " ormalization)                                                   \n",
      "                                                                 \n",
      " conv2d_2 (Conv2D)           (None, 16, 16, 256)       295168    \n",
      "                                                                 \n",
      " conv2d_3 (Conv2D)           (None, 16, 16, 256)       590080    \n",
      "                                                                 \n",
      " max_pooling2d_1 (MaxPooling  (None, 8, 8, 256)        0         \n",
      " 2D)                                                             \n",
      "                                                                 \n",
      " batch_normalization_1 (Batc  (None, 8, 8, 256)        1024      \n",
      " hNormalization)                                                 \n",
      "                                                                 \n",
      " conv2d_4 (Conv2D)           (None, 8, 8, 512)         1180160   \n",
      "                                                                 \n",
      " conv2d_5 (Conv2D)           (None, 8, 8, 512)         2359808   \n",
      "                                                                 \n",
      " max_pooling2d_2 (MaxPooling  (None, 4, 4, 512)        0         \n",
      " 2D)                                                             \n",
      "                                                                 \n",
      " batch_normalization_2 (Batc  (None, 4, 4, 512)        2048      \n",
      " hNormalization)                                                 \n",
      "                                                                 \n",
      " conv2d_6 (Conv2D)           (None, 4, 4, 1024)        4719616   \n",
      "                                                                 \n",
      " conv2d_7 (Conv2D)           (None, 4, 4, 1024)        9438208   \n",
      "                                                                 \n",
      " max_pooling2d_3 (MaxPooling  (None, 2, 2, 1024)       0         \n",
      " 2D)                                                             \n",
      "                                                                 \n",
      " batch_normalization_3 (Batc  (None, 2, 2, 1024)       4096      \n",
      " hNormalization)                                                 \n",
      "                                                                 \n",
      " flatten (Flatten)           (None, 4096)              0         \n",
      "                                                                 \n",
      " dense (Dense)               (None, 1024)              4195328   \n",
      "                                                                 \n",
      " batch_normalization_4 (Batc  (None, 1024)             4096      \n",
      " hNormalization)                                                 \n",
      "                                                                 \n",
      " dense_1 (Dense)             (None, 512)               524800    \n",
      "                                                                 \n",
      " batch_normalization_5 (Batc  (None, 512)              2048      \n",
      " hNormalization)                                                 \n",
      "                                                                 \n",
      " dense_2 (Dense)             (None, 340)               174420    \n",
      "                                                                 \n",
      "=================================================================\n",
      "Total params: 23,642,580\n",
      "Trainable params: 23,635,668\n",
      "Non-trainable params: 6,912\n",
      "_________________________________________________________________\n"
     ]
    }
   ],
   "source": [
    "model.summary()"
   ]
  },
  {
   "cell_type": "code",
   "execution_count": 17,
   "id": "0e56f49a",
   "metadata": {
    "execution": {
     "iopub.execute_input": "2023-03-22T08:18:17.741037Z",
     "iopub.status.busy": "2023-03-22T08:18:17.740677Z",
     "iopub.status.idle": "2023-03-22T08:18:17.942500Z",
     "shell.execute_reply": "2023-03-22T08:18:17.941470Z"
    },
    "papermill": {
     "duration": 0.21733,
     "end_time": "2023-03-22T08:18:17.944607",
     "exception": false,
     "start_time": "2023-03-22T08:18:17.727277",
     "status": "completed"
    },
    "tags": []
   },
   "outputs": [
    {
     "data": {
      "text/plain": [
       "1222"
      ]
     },
     "execution_count": 17,
     "metadata": {},
     "output_type": "execute_result"
    }
   ],
   "source": [
    "gc.collect()"
   ]
  },
  {
   "cell_type": "markdown",
   "id": "9299963c",
   "metadata": {
    "papermill": {
     "duration": 0.011773,
     "end_time": "2023-03-22T08:18:17.968684",
     "exception": false,
     "start_time": "2023-03-22T08:18:17.956911",
     "status": "completed"
    },
    "tags": []
   },
   "source": [
    "# 5. Training Deep learning model  "
   ]
  },
  {
   "cell_type": "code",
   "execution_count": 18,
   "id": "0c02caee",
   "metadata": {
    "execution": {
     "iopub.execute_input": "2023-03-22T08:18:17.994512Z",
     "iopub.status.busy": "2023-03-22T08:18:17.993520Z",
     "iopub.status.idle": "2023-03-22T10:18:53.296383Z",
     "shell.execute_reply": "2023-03-22T10:18:53.295376Z"
    },
    "papermill": {
     "duration": 7235.318191,
     "end_time": "2023-03-22T10:18:53.298731",
     "exception": false,
     "start_time": "2023-03-22T08:18:17.980540",
     "status": "completed"
    },
    "tags": []
   },
   "outputs": [
    {
     "name": "stdout",
     "output_type": "stream",
     "text": [
      "Epoch 1/100\n",
      "1172/1172 [==============================] - 94s 65ms/step - loss: 3.2391 - accuracy: 0.2977 - val_loss: 3.9718 - val_accuracy: 0.2342\n",
      "Epoch 2/100\n",
      "1172/1172 [==============================] - 75s 64ms/step - loss: 1.9536 - accuracy: 0.5251 - val_loss: 3.0555 - val_accuracy: 0.3292\n",
      "Epoch 3/100\n",
      "1172/1172 [==============================] - 71s 60ms/step - loss: 1.5876 - accuracy: 0.6030 - val_loss: 17.4482 - val_accuracy: 0.0073\n",
      "Epoch 4/100\n",
      "1172/1172 [==============================] - 71s 61ms/step - loss: 1.3443 - accuracy: 0.6550 - val_loss: 1.8720 - val_accuracy: 0.5530\n",
      "Epoch 5/100\n",
      "1172/1172 [==============================] - 72s 61ms/step - loss: 1.1159 - accuracy: 0.7055 - val_loss: 1.8246 - val_accuracy: 0.5625\n",
      "Epoch 6/100\n",
      "1172/1172 [==============================] - 72s 61ms/step - loss: 0.8904 - accuracy: 0.7564 - val_loss: 1.7464 - val_accuracy: 0.6031\n",
      "Epoch 7/100\n",
      "1172/1172 [==============================] - 71s 61ms/step - loss: 0.6721 - accuracy: 0.8091 - val_loss: 6.7739 - val_accuracy: 0.1335\n",
      "Epoch 8/100\n",
      "1172/1172 [==============================] - 71s 60ms/step - loss: 0.4811 - accuracy: 0.8575 - val_loss: 1.9864 - val_accuracy: 0.6047\n",
      "Epoch 9/100\n",
      "1172/1172 [==============================] - 71s 60ms/step - loss: 0.3509 - accuracy: 0.8940 - val_loss: 2.2146 - val_accuracy: 0.5930\n",
      "Epoch 10/100\n",
      "1172/1172 [==============================] - 71s 60ms/step - loss: 0.2785 - accuracy: 0.9134 - val_loss: 2.3469 - val_accuracy: 0.5942\n",
      "Epoch 11/100\n",
      "1172/1172 [==============================] - 71s 60ms/step - loss: 0.2290 - accuracy: 0.9271 - val_loss: 2.7076 - val_accuracy: 0.5544\n",
      "Epoch 12/100\n",
      "1172/1172 [==============================] - 74s 63ms/step - loss: 0.1958 - accuracy: 0.9374 - val_loss: 3.1541 - val_accuracy: 0.5052\n",
      "Epoch 13/100\n",
      "1172/1172 [==============================] - 71s 60ms/step - loss: 0.1699 - accuracy: 0.9456 - val_loss: 2.8286 - val_accuracy: 0.5850\n",
      "Epoch 14/100\n",
      "1172/1172 [==============================] - 71s 60ms/step - loss: 0.1546 - accuracy: 0.9505 - val_loss: 2.9641 - val_accuracy: 0.5704\n",
      "Epoch 15/100\n",
      "1172/1172 [==============================] - 71s 60ms/step - loss: 0.1415 - accuracy: 0.9548 - val_loss: 3.0159 - val_accuracy: 0.5846\n",
      "Epoch 16/100\n",
      "1172/1172 [==============================] - 74s 63ms/step - loss: 0.1309 - accuracy: 0.9582 - val_loss: 3.0536 - val_accuracy: 0.5705\n",
      "Epoch 17/100\n",
      "1172/1172 [==============================] - 71s 60ms/step - loss: 0.1194 - accuracy: 0.9615 - val_loss: 2.9778 - val_accuracy: 0.5875\n",
      "Epoch 18/100\n",
      "1172/1172 [==============================] - 71s 60ms/step - loss: 0.1113 - accuracy: 0.9645 - val_loss: 3.0728 - val_accuracy: 0.5955\n",
      "Epoch 19/100\n",
      "1172/1172 [==============================] - 71s 60ms/step - loss: 0.1058 - accuracy: 0.9656 - val_loss: 3.1442 - val_accuracy: 0.5828\n",
      "Epoch 20/100\n",
      "1172/1172 [==============================] - 71s 61ms/step - loss: 0.0943 - accuracy: 0.9698 - val_loss: 3.1502 - val_accuracy: 0.5948\n",
      "Epoch 21/100\n",
      "1172/1172 [==============================] - 71s 60ms/step - loss: 0.0992 - accuracy: 0.9685 - val_loss: 3.2169 - val_accuracy: 0.5849\n",
      "Epoch 22/100\n",
      "1172/1172 [==============================] - 71s 60ms/step - loss: 0.0880 - accuracy: 0.9720 - val_loss: 3.3494 - val_accuracy: 0.5983\n",
      "Epoch 23/100\n",
      "1172/1172 [==============================] - 71s 60ms/step - loss: 0.0849 - accuracy: 0.9726 - val_loss: 3.6299 - val_accuracy: 0.5203\n",
      "Epoch 24/100\n",
      "1172/1172 [==============================] - 71s 61ms/step - loss: 0.0814 - accuracy: 0.9741 - val_loss: 3.3522 - val_accuracy: 0.5995\n",
      "Epoch 25/100\n",
      "1172/1172 [==============================] - 71s 61ms/step - loss: 0.0744 - accuracy: 0.9761 - val_loss: 5.7465 - val_accuracy: 0.3405\n",
      "Epoch 26/100\n",
      "1172/1172 [==============================] - 71s 60ms/step - loss: 0.0751 - accuracy: 0.9761 - val_loss: 3.4315 - val_accuracy: 0.5963\n",
      "Epoch 27/100\n",
      "1172/1172 [==============================] - 74s 63ms/step - loss: 0.0751 - accuracy: 0.9760 - val_loss: 3.6772 - val_accuracy: 0.5334\n",
      "Epoch 28/100\n",
      "1172/1172 [==============================] - 71s 60ms/step - loss: 0.0649 - accuracy: 0.9791 - val_loss: 3.3611 - val_accuracy: 0.6042\n",
      "Epoch 29/100\n",
      "1172/1172 [==============================] - 71s 60ms/step - loss: 0.0629 - accuracy: 0.9802 - val_loss: 3.4293 - val_accuracy: 0.5996\n",
      "Epoch 30/100\n",
      "1172/1172 [==============================] - 74s 63ms/step - loss: 0.0634 - accuracy: 0.9800 - val_loss: 3.5751 - val_accuracy: 0.5760\n",
      "Epoch 31/100\n",
      "1172/1172 [==============================] - 71s 60ms/step - loss: 0.0620 - accuracy: 0.9808 - val_loss: 3.5601 - val_accuracy: 0.6031\n",
      "Epoch 32/100\n",
      "1172/1172 [==============================] - 74s 63ms/step - loss: 0.0599 - accuracy: 0.9811 - val_loss: 3.6559 - val_accuracy: 0.5978\n",
      "Epoch 33/100\n",
      "1172/1172 [==============================] - 71s 60ms/step - loss: 0.0584 - accuracy: 0.9813 - val_loss: 3.6277 - val_accuracy: 0.5690\n",
      "Epoch 34/100\n",
      "1172/1172 [==============================] - 71s 60ms/step - loss: 0.0538 - accuracy: 0.9828 - val_loss: 4.7786 - val_accuracy: 0.4427\n",
      "Epoch 35/100\n",
      "1172/1172 [==============================] - 71s 60ms/step - loss: 0.0532 - accuracy: 0.9830 - val_loss: 3.9611 - val_accuracy: 0.5364\n",
      "Epoch 36/100\n",
      "1172/1172 [==============================] - 71s 60ms/step - loss: 0.0499 - accuracy: 0.9843 - val_loss: 3.7153 - val_accuracy: 0.5955\n",
      "Epoch 37/100\n",
      "1172/1172 [==============================] - 71s 60ms/step - loss: 0.0520 - accuracy: 0.9833 - val_loss: 3.6457 - val_accuracy: 0.6036\n",
      "Epoch 38/100\n",
      "1172/1172 [==============================] - 71s 61ms/step - loss: 0.0464 - accuracy: 0.9853 - val_loss: 3.5941 - val_accuracy: 0.5977\n",
      "Epoch 39/100\n",
      "1172/1172 [==============================] - 74s 63ms/step - loss: 0.0496 - accuracy: 0.9847 - val_loss: 3.7449 - val_accuracy: 0.6025\n",
      "Epoch 40/100\n",
      "1172/1172 [==============================] - 74s 63ms/step - loss: 0.0482 - accuracy: 0.9852 - val_loss: 3.6075 - val_accuracy: 0.6075\n",
      "Epoch 41/100\n",
      "1172/1172 [==============================] - 71s 61ms/step - loss: 0.0433 - accuracy: 0.9863 - val_loss: 3.7704 - val_accuracy: 0.5946\n",
      "Epoch 42/100\n",
      "1172/1172 [==============================] - 71s 61ms/step - loss: 0.0439 - accuracy: 0.9864 - val_loss: 3.7628 - val_accuracy: 0.6068\n",
      "Epoch 43/100\n",
      "1172/1172 [==============================] - 71s 60ms/step - loss: 0.0400 - accuracy: 0.9873 - val_loss: 3.8118 - val_accuracy: 0.5879\n",
      "Epoch 44/100\n",
      "1172/1172 [==============================] - 71s 60ms/step - loss: 0.0420 - accuracy: 0.9868 - val_loss: 4.0419 - val_accuracy: 0.5782\n",
      "Epoch 45/100\n",
      "1172/1172 [==============================] - 71s 61ms/step - loss: 0.0412 - accuracy: 0.9872 - val_loss: 3.7760 - val_accuracy: 0.5950\n",
      "Epoch 46/100\n",
      "1172/1172 [==============================] - 71s 60ms/step - loss: 0.0399 - accuracy: 0.9877 - val_loss: 4.8954 - val_accuracy: 0.4648\n",
      "Epoch 47/100\n",
      "1172/1172 [==============================] - 71s 61ms/step - loss: 0.0414 - accuracy: 0.9873 - val_loss: 4.0038 - val_accuracy: 0.5545\n",
      "Epoch 48/100\n",
      "1172/1172 [==============================] - 71s 60ms/step - loss: 0.0373 - accuracy: 0.9883 - val_loss: 3.8724 - val_accuracy: 0.5883\n",
      "Epoch 49/100\n",
      "1172/1172 [==============================] - 71s 61ms/step - loss: 0.0345 - accuracy: 0.9892 - val_loss: 3.7930 - val_accuracy: 0.6028\n",
      "Epoch 50/100\n",
      "1172/1172 [==============================] - 71s 60ms/step - loss: 0.0353 - accuracy: 0.9891 - val_loss: 3.8568 - val_accuracy: 0.5983\n",
      "Epoch 51/100\n",
      "1172/1172 [==============================] - 71s 61ms/step - loss: 0.0347 - accuracy: 0.9893 - val_loss: 4.4618 - val_accuracy: 0.5215\n",
      "Epoch 52/100\n",
      "1172/1172 [==============================] - 74s 63ms/step - loss: 0.0341 - accuracy: 0.9892 - val_loss: 6.7044 - val_accuracy: 0.3308\n",
      "Epoch 53/100\n",
      "1172/1172 [==============================] - 71s 61ms/step - loss: 0.0350 - accuracy: 0.9890 - val_loss: 3.9740 - val_accuracy: 0.6007\n",
      "Epoch 54/100\n",
      "1172/1172 [==============================] - 71s 61ms/step - loss: 0.0347 - accuracy: 0.9893 - val_loss: 4.1484 - val_accuracy: 0.5642\n",
      "Epoch 55/100\n",
      "1172/1172 [==============================] - 71s 60ms/step - loss: 0.0338 - accuracy: 0.9898 - val_loss: 3.8460 - val_accuracy: 0.6060\n",
      "Epoch 56/100\n",
      "1172/1172 [==============================] - 71s 61ms/step - loss: 0.0297 - accuracy: 0.9906 - val_loss: 4.0444 - val_accuracy: 0.5812\n",
      "Epoch 57/100\n",
      "1172/1172 [==============================] - 71s 61ms/step - loss: 0.0344 - accuracy: 0.9893 - val_loss: 3.8956 - val_accuracy: 0.5873\n",
      "Epoch 58/100\n",
      "1172/1172 [==============================] - 71s 60ms/step - loss: 0.0320 - accuracy: 0.9902 - val_loss: 3.9848 - val_accuracy: 0.6018\n",
      "Epoch 59/100\n",
      "1172/1172 [==============================] - 71s 61ms/step - loss: 0.0236 - accuracy: 0.9926 - val_loss: 3.9281 - val_accuracy: 0.6013\n",
      "Epoch 60/100\n",
      "1172/1172 [==============================] - 71s 61ms/step - loss: 0.0329 - accuracy: 0.9898 - val_loss: 3.9376 - val_accuracy: 0.5989\n",
      "Epoch 61/100\n",
      "1172/1172 [==============================] - 71s 60ms/step - loss: 0.0315 - accuracy: 0.9903 - val_loss: 3.8731 - val_accuracy: 0.5804\n",
      "Epoch 62/100\n",
      "1172/1172 [==============================] - 71s 61ms/step - loss: 0.0270 - accuracy: 0.9914 - val_loss: 4.0712 - val_accuracy: 0.5956\n",
      "Epoch 63/100\n",
      "1172/1172 [==============================] - 75s 64ms/step - loss: 0.0281 - accuracy: 0.9915 - val_loss: 3.9838 - val_accuracy: 0.6078\n",
      "Epoch 64/100\n",
      "1172/1172 [==============================] - 71s 61ms/step - loss: 0.0260 - accuracy: 0.9921 - val_loss: 4.0046 - val_accuracy: 0.6058\n",
      "Epoch 65/100\n",
      "1172/1172 [==============================] - 74s 63ms/step - loss: 0.0260 - accuracy: 0.9919 - val_loss: 5.4627 - val_accuracy: 0.4258\n",
      "Epoch 66/100\n",
      "1172/1172 [==============================] - 71s 61ms/step - loss: 0.0254 - accuracy: 0.9920 - val_loss: 4.0277 - val_accuracy: 0.6062\n",
      "Epoch 67/100\n",
      "1172/1172 [==============================] - 71s 60ms/step - loss: 0.0263 - accuracy: 0.9917 - val_loss: 4.0615 - val_accuracy: 0.6059\n",
      "Epoch 68/100\n",
      "1172/1172 [==============================] - 71s 60ms/step - loss: 0.0252 - accuracy: 0.9922 - val_loss: 4.0869 - val_accuracy: 0.5835\n",
      "Epoch 69/100\n",
      "1172/1172 [==============================] - 71s 61ms/step - loss: 0.0252 - accuracy: 0.9922 - val_loss: 4.0383 - val_accuracy: 0.6068\n",
      "Epoch 70/100\n",
      "1172/1172 [==============================] - 71s 61ms/step - loss: 0.0243 - accuracy: 0.9923 - val_loss: 3.9654 - val_accuracy: 0.6054\n",
      "Epoch 71/100\n",
      "1172/1172 [==============================] - 74s 63ms/step - loss: 0.0283 - accuracy: 0.9915 - val_loss: 4.1285 - val_accuracy: 0.6026\n",
      "Epoch 72/100\n",
      "1172/1172 [==============================] - 71s 61ms/step - loss: 0.0224 - accuracy: 0.9929 - val_loss: 4.0738 - val_accuracy: 0.6070\n",
      "Epoch 73/100\n",
      "1172/1172 [==============================] - 71s 61ms/step - loss: 0.0220 - accuracy: 0.9932 - val_loss: 4.0718 - val_accuracy: 0.6041\n",
      "Epoch 74/100\n",
      "1172/1172 [==============================] - 71s 61ms/step - loss: 0.0259 - accuracy: 0.9919 - val_loss: 4.0366 - val_accuracy: 0.6086\n",
      "Epoch 75/100\n",
      "1172/1172 [==============================] - 71s 61ms/step - loss: 0.0204 - accuracy: 0.9935 - val_loss: 4.1246 - val_accuracy: 0.5967\n",
      "Epoch 76/100\n",
      "1172/1172 [==============================] - 71s 61ms/step - loss: 0.0241 - accuracy: 0.9925 - val_loss: 4.1547 - val_accuracy: 0.6030\n",
      "Epoch 77/100\n",
      "1172/1172 [==============================] - 71s 61ms/step - loss: 0.0221 - accuracy: 0.9931 - val_loss: 4.0711 - val_accuracy: 0.6047\n",
      "Epoch 78/100\n",
      "1172/1172 [==============================] - 71s 61ms/step - loss: 0.0225 - accuracy: 0.9930 - val_loss: 4.0879 - val_accuracy: 0.5863\n",
      "Epoch 79/100\n",
      "1172/1172 [==============================] - 71s 61ms/step - loss: 0.0225 - accuracy: 0.9931 - val_loss: 4.0911 - val_accuracy: 0.6059\n",
      "Epoch 80/100\n",
      "1172/1172 [==============================] - 71s 61ms/step - loss: 0.0217 - accuracy: 0.9934 - val_loss: 4.1459 - val_accuracy: 0.6077\n",
      "Epoch 81/100\n",
      "1172/1172 [==============================] - 72s 61ms/step - loss: 0.0230 - accuracy: 0.9928 - val_loss: 4.1283 - val_accuracy: 0.6084\n",
      "Epoch 82/100\n",
      "1172/1172 [==============================] - 71s 61ms/step - loss: 0.0190 - accuracy: 0.9940 - val_loss: 4.1400 - val_accuracy: 0.5918\n",
      "Epoch 83/100\n",
      "1172/1172 [==============================] - 74s 64ms/step - loss: 0.0204 - accuracy: 0.9939 - val_loss: 4.3193 - val_accuracy: 0.6003\n",
      "Epoch 84/100\n",
      "1172/1172 [==============================] - 71s 61ms/step - loss: 0.0206 - accuracy: 0.9936 - val_loss: 4.2451 - val_accuracy: 0.5930\n",
      "Epoch 85/100\n",
      "1172/1172 [==============================] - 71s 61ms/step - loss: 0.0209 - accuracy: 0.9933 - val_loss: 4.2121 - val_accuracy: 0.6081\n",
      "Epoch 86/100\n",
      "1172/1172 [==============================] - 71s 61ms/step - loss: 0.0180 - accuracy: 0.9945 - val_loss: 4.2061 - val_accuracy: 0.5983\n",
      "Epoch 87/100\n",
      "1172/1172 [==============================] - 71s 61ms/step - loss: 0.0201 - accuracy: 0.9937 - val_loss: 4.2034 - val_accuracy: 0.6069\n",
      "Epoch 88/100\n",
      "1172/1172 [==============================] - 71s 61ms/step - loss: 0.0183 - accuracy: 0.9944 - val_loss: 4.2600 - val_accuracy: 0.6035\n",
      "Epoch 89/100\n",
      "1172/1172 [==============================] - 71s 61ms/step - loss: 0.0205 - accuracy: 0.9937 - val_loss: 4.2459 - val_accuracy: 0.6075\n",
      "Epoch 90/100\n",
      "1172/1172 [==============================] - 71s 61ms/step - loss: 0.0178 - accuracy: 0.9944 - val_loss: 4.1866 - val_accuracy: 0.5956\n",
      "Epoch 91/100\n",
      "1172/1172 [==============================] - 75s 64ms/step - loss: 0.0178 - accuracy: 0.9946 - val_loss: 4.3794 - val_accuracy: 0.5902\n",
      "Epoch 92/100\n",
      "1172/1172 [==============================] - 71s 61ms/step - loss: 0.0195 - accuracy: 0.9940 - val_loss: 4.1588 - val_accuracy: 0.6046\n",
      "Epoch 93/100\n",
      "1172/1172 [==============================] - 71s 61ms/step - loss: 0.0164 - accuracy: 0.9950 - val_loss: 4.3023 - val_accuracy: 0.6091\n",
      "Epoch 94/100\n",
      "1172/1172 [==============================] - 71s 61ms/step - loss: 0.0172 - accuracy: 0.9948 - val_loss: 4.2551 - val_accuracy: 0.6060\n",
      "Epoch 95/100\n",
      "1172/1172 [==============================] - 72s 61ms/step - loss: 0.0173 - accuracy: 0.9946 - val_loss: 6.1371 - val_accuracy: 0.4211\n",
      "Epoch 96/100\n",
      "1172/1172 [==============================] - 71s 61ms/step - loss: 0.0173 - accuracy: 0.9945 - val_loss: 4.3558 - val_accuracy: 0.6113\n",
      "Epoch 97/100\n",
      "1172/1172 [==============================] - 71s 61ms/step - loss: 0.0158 - accuracy: 0.9951 - val_loss: 4.3828 - val_accuracy: 0.5967\n",
      "Epoch 98/100\n",
      "1172/1172 [==============================] - 75s 64ms/step - loss: 0.0178 - accuracy: 0.9945 - val_loss: 4.2700 - val_accuracy: 0.6045\n",
      "Epoch 99/100\n",
      "1172/1172 [==============================] - 71s 61ms/step - loss: 0.0164 - accuracy: 0.9950 - val_loss: 4.2895 - val_accuracy: 0.6073\n",
      "Epoch 100/100\n",
      "1172/1172 [==============================] - 71s 61ms/step - loss: 0.0165 - accuracy: 0.9949 - val_loss: 4.3860 - val_accuracy: 0.6074\n",
      "dict_keys(['loss', 'accuracy', 'val_loss', 'val_accuracy'])\n"
     ]
    },
    {
     "data": {
      "image/png": "[encoded data removed]",
      "text/plain": [
       "<Figure size 640x480 with 1 Axes>"
      ]
     },
     "metadata": {},
     "output_type": "display_data"
    },
    {
     "data": {
      "image/png": "[encoded data removed]",
      "text/plain": [
       "<Figure size 640x480 with 1 Axes>"
      ]
     },
     "metadata": {},
     "output_type": "display_data"
    },
    {
     "data": {
      "image/png": "[encoded data removed]",
      "text/plain": [
       "<Figure size 640x480 with 1 Axes>"
      ]
     },
     "metadata": {},
     "output_type": "display_data"
    }
   ],
   "source": [
    "# history = model.fit(tr_x, tr_indecator,batch_size=200,epochs=100\n",
    "#           ,validation_data=(tst_x,tst_indecator))\n",
    "\n",
    "history = model.fit(tr_x, tr_indecator,batch_size=128,epochs=100\n",
    "          ,validation_data=(tst_x,tst_indecator),callbacks=callbacks)\n",
    "\n",
    "print(history.history.keys())\n",
    "# summarize history for accuracy\n",
    "plt.plot(history.history['accuracy'])\n",
    "plt.plot(history.history['val_accuracy'])\n",
    "plt.title('model accuracy')\n",
    "plt.ylabel('accuracy')\n",
    "plt.xlabel('epoch')\n",
    "plt.legend(['train', 'test'], loc='upper left')\n",
    "plt.show()\n",
    "# summarize history for loss\n",
    "plt.plot(history.history['loss'])\n",
    "plt.plot(history.history['val_loss'])\n",
    "plt.title('model loss')\n",
    "plt.ylabel('loss')\n",
    "plt.xlabel('epoch')\n",
    "plt.legend(['train', 'test'], loc='upper left')\n",
    "plt.show()\n",
    "\n",
    "# loss vs accuracy\n",
    "plt.plot(history.history['loss'])\n",
    "plt.plot(history.history['val_loss'])\n",
    "plt.title('model loss')\n",
    "plt.ylabel('loss')\n",
    "plt.xlabel('epoch')\n",
    "plt.legend(['train', 'test'], loc='upper left')\n",
    "plt.show()"
   ]
  },
  {
   "cell_type": "markdown",
   "id": "0bdaf3dc",
   "metadata": {
    "papermill": {
     "duration": 6.727916,
     "end_time": "2023-03-22T10:19:06.969970",
     "exception": false,
     "start_time": "2023-03-22T10:19:00.242054",
     "status": "completed"
    },
    "tags": []
   },
   "source": [
    "# 6. Saving model "
   ]
  },
  {
   "cell_type": "code",
   "execution_count": 19,
   "id": "e1d6d648",
   "metadata": {
    "execution": {
     "iopub.execute_input": "2023-03-22T10:19:21.475268Z",
     "iopub.status.busy": "2023-03-22T10:19:21.474897Z",
     "iopub.status.idle": "2023-03-22T10:19:22.202476Z",
     "shell.execute_reply": "2023-03-22T10:19:22.201247Z"
    },
    "papermill": {
     "duration": 8.30056,
     "end_time": "2023-03-22T10:19:22.205093",
     "exception": false,
     "start_time": "2023-03-22T10:19:13.904533",
     "status": "completed"
    },
    "tags": []
   },
   "outputs": [],
   "source": [
    "# Epoch 3/30\n",
    "# 600/600 [==============================] - 18s 31ms/step - loss: 3.9758 - accuracy: 0.1538 - val_loss: 3.4755 - val_accuracy: 0.2401\n",
    "\n",
    "from tensorflow.keras.models import save_model\n",
    "save_model(model,\"CNN_30ep_20kdata_4layers.h5\")"
   ]
  },
  {
   "cell_type": "code",
   "execution_count": 20,
   "id": "763e3b7d",
   "metadata": {
    "execution": {
     "iopub.execute_input": "2023-03-22T10:19:36.077955Z",
     "iopub.status.busy": "2023-03-22T10:19:36.077566Z",
     "iopub.status.idle": "2023-03-22T10:19:36.081957Z",
     "shell.execute_reply": "2023-03-22T10:19:36.080820Z"
    },
    "papermill": {
     "duration": 7.085035,
     "end_time": "2023-03-22T10:19:36.084109",
     "exception": false,
     "start_time": "2023-03-22T10:19:28.999074",
     "status": "completed"
    },
    "tags": []
   },
   "outputs": [],
   "source": [
    "# RUN 1\n",
    "# Epoch 30/30\n",
    "# 600/600 [==============================] - 18s 30ms/step - loss: 2.2876 - accuracy: 0.4391 - val_loss: 2.1696 - val_accuracy: 0.4867\n",
    "\n",
    "# RUN 2\n"
   ]
  },
  {
   "attachments": {
    "4273c578-af84-4c9e-88dd-5444a2f183b6.png": {
     "image/png": "[encoded data removed]"
    }
   },
   "cell_type": "markdown",
   "id": "73690415",
   "metadata": {
    "papermill": {
     "duration": 7.158192,
     "end_time": "2023-03-22T10:19:50.466139",
     "exception": false,
     "start_time": "2023-03-22T10:19:43.307947",
     "status": "completed"
    },
    "tags": []
   },
   "source": [
    "![image.png](attachment:4273c578-af84-4c9e-88dd-5444a2f183b6.png)"
   ]
  },
  {
   "cell_type": "markdown",
   "id": "96b014bb",
   "metadata": {
    "papermill": {
     "duration": 6.784533,
     "end_time": "2023-03-22T10:20:04.145495",
     "exception": false,
     "start_time": "2023-03-22T10:19:57.360962",
     "status": "completed"
    },
    "tags": []
   },
   "source": [
    "RUN 3\n"
   ]
  },
  {
   "attachments": {
    "181b7464-4188-4ae0-ad7a-bf463094a3a3.png": {
     "image/png": "[encoded data removed]"
    }
   },
   "cell_type": "markdown",
   "id": "5f6bc50a",
   "metadata": {
    "papermill": {
     "duration": 7.300075,
     "end_time": "2023-03-22T10:20:18.320297",
     "exception": false,
     "start_time": "2023-03-22T10:20:11.020222",
     "status": "completed"
    },
    "tags": []
   },
   "source": [
    "![image.png](attachment:181b7464-4188-4ae0-ad7a-bf463094a3a3.png)"
   ]
  },
  {
   "cell_type": "code",
   "execution_count": 21,
   "id": "c9d80285",
   "metadata": {
    "execution": {
     "iopub.execute_input": "2023-03-22T10:20:32.162471Z",
     "iopub.status.busy": "2023-03-22T10:20:32.162082Z",
     "iopub.status.idle": "2023-03-22T10:20:32.375045Z",
     "shell.execute_reply": "2023-03-22T10:20:32.374083Z"
    },
    "papermill": {
     "duration": 7.302676,
     "end_time": "2023-03-22T10:20:32.377510",
     "exception": false,
     "start_time": "2023-03-22T10:20:25.074834",
     "status": "completed"
    },
    "tags": []
   },
   "outputs": [
    {
     "data": {
      "text/plain": [
       "[<matplotlib.lines.Line2D at 0x7ff724be4f10>]"
      ]
     },
     "execution_count": 21,
     "metadata": {},
     "output_type": "execute_result"
    },
    {
     "data": {
      "image/png": "[encoded data removed]",
      "text/plain": [
       "<Figure size 640x480 with 1 Axes>"
      ]
     },
     "metadata": {},
     "output_type": "display_data"
    }
   ],
   "source": [
    "plt.plot(history.history['accuracy'],history.history['loss'])"
   ]
  },
  {
   "cell_type": "code",
   "execution_count": null,
   "id": "f7d379be",
   "metadata": {
    "papermill": {
     "duration": 6.81177,
     "end_time": "2023-03-22T10:20:46.137435",
     "exception": false,
     "start_time": "2023-03-22T10:20:39.325665",
     "status": "completed"
    },
    "tags": []
   },
   "outputs": [],
   "source": []
  }
 ],
 "metadata": {
  "kernelspec": {
   "display_name": "Python 3",
   "language": "python",
   "name": "python3"
  },
  "language_info": {
   "codemirror_mode": {
    "name": "ipython",
    "version": 3
   },
   "file_extension": ".py",
   "mimetype": "text/x-python",
   "name": "python",
   "nbconvert_exporter": "python",
   "pygments_lexer": "ipython3",
   "version": "3.7.12"
  },
  "papermill": {
   "default_parameters": {},
   "duration": 8287.140276,
   "end_time": "2023-03-22T10:20:56.385324",
   "environment_variables": {},
   "exception": null,
   "input_path": "__notebook__.ipynb",
   "output_path": "__notebook__.ipynb",
   "parameters": {},
   "start_time": "2023-03-22T08:02:49.245048",
   "version": "2.4.0"
  },
  "widgets": {
   "application/vnd.jupyter.widget-state+json": {
    "state": {
     "06128b0b8c7845178c38d8cf7cb4145e": {
      "model_module": "@jupyter-widgets/controls",
      "model_module_version": "1.5.0",
      "model_name": "DescriptionStyleModel",
      "state": {
       "_model_module": "@jupyter-widgets/controls",
       "_model_module_version": "1.5.0",
       "_model_name": "DescriptionStyleModel",
       "_view_count": null,
       "_view_module": "@jupyter-widgets/base",
       "_view_module_version": "1.2.0",
       "_view_name": "StyleView",
       "description_width": ""
      }
     },
     "0ed40854b03c420ebafcc1063de1adbd": {
      "model_module": "@jupyter-widgets/controls",
      "model_module_version": "1.5.0",
      "model_name": "DescriptionStyleModel",
      "state": {
       "_model_module": "@jupyter-widgets/controls",
       "_model_module_version": "1.5.0",
       "_model_name": "DescriptionStyleModel",
       "_view_count": null,
       "_view_module": "@jupyter-widgets/base",
       "_view_module_version": "1.2.0",
       "_view_name": "StyleView",
       "description_width": ""
      }
     },
     "136b31e496c64c79b079a523262871fa": {
      "model_module": "@jupyter-widgets/base",
      "model_module_version": "1.2.0",
      "model_name": "LayoutModel",
      "state": {
       "_model_module": "@jupyter-widgets/base",
       "_model_module_version": "1.2.0",
       "_model_name": "LayoutModel",
       "_view_count": null,
       "_view_module": "@jupyter-widgets/base",
       "_view_module_version": "1.2.0",
       "_view_name": "LayoutView",
       "align_content": null,
       "align_items": null,
       "align_self": null,
       "border": null,
       "bottom": null,
       "display": null,
       "flex": null,
       "flex_flow": null,
       "grid_area": null,
       "grid_auto_columns": null,
       "grid_auto_flow": null,
       "grid_auto_rows": null,
       "grid_column": null,
       "grid_gap": null,
       "grid_row": null,
       "grid_template_areas": null,
       "grid_template_columns": null,
       "grid_template_rows": null,
       "height": null,
       "justify_content": null,
       "justify_items": null,
       "left": null,
       "margin": null,
       "max_height": null,
       "max_width": null,
       "min_height": null,
       "min_width": null,
       "object_fit": null,
       "object_position": null,
       "order": null,
       "overflow": null,
       "overflow_x": null,
       "overflow_y": null,
       "padding": null,
       "right": null,
       "top": null,
       "visibility": null,
       "width": null
      }
     },
     "2500276aadbe4b58ab3f5002428e504f": {
      "model_module": "@jupyter-widgets/controls",
      "model_module_version": "1.5.0",
      "model_name": "ProgressStyleModel",
      "state": {
       "_model_module": "@jupyter-widgets/controls",
       "_model_module_version": "1.5.0",
       "_model_name": "ProgressStyleModel",
       "_view_count": null,
       "_view_module": "@jupyter-widgets/base",
       "_view_module_version": "1.2.0",
       "_view_name": "StyleView",
       "bar_color": null,
       "description_width": ""
      }
     },
     "418d0640248e4322a773dfc00fbf97c1": {
      "model_module": "@jupyter-widgets/base",
      "model_module_version": "1.2.0",
      "model_name": "LayoutModel",
      "state": {
       "_model_module": "@jupyter-widgets/base",
       "_model_module_version": "1.2.0",
       "_model_name": "LayoutModel",
       "_view_count": null,
       "_view_module": "@jupyter-widgets/base",
       "_view_module_version": "1.2.0",
       "_view_name": "LayoutView",
       "align_content": null,
       "align_items": null,
       "align_self": null,
       "border": null,
       "bottom": null,
       "display": null,
       "flex": null,
       "flex_flow": null,
       "grid_area": null,
       "grid_auto_columns": null,
       "grid_auto_flow": null,
       "grid_auto_rows": null,
       "grid_column": null,
       "grid_gap": null,
       "grid_row": null,
       "grid_template_areas": null,
       "grid_template_columns": null,
       "grid_template_rows": null,
       "height": null,
       "justify_content": null,
       "justify_items": null,
       "left": null,
       "margin": null,
       "max_height": null,
       "max_width": null,
       "min_height": null,
       "min_width": null,
       "object_fit": null,
       "object_position": null,
       "order": null,
       "overflow": null,
       "overflow_x": null,
       "overflow_y": null,
       "padding": null,
       "right": null,
       "top": null,
       "visibility": null,
       "width": null
      }
     },
     "4f69f11a59ce4ddc9383643cfc5af39c": {
      "model_module": "@jupyter-widgets/controls",
      "model_module_version": "1.5.0",
      "model_name": "HTMLModel",
      "state": {
       "_dom_classes": [],
       "_model_module": "@jupyter-widgets/controls",
       "_model_module_version": "1.5.0",
       "_model_name": "HTMLModel",
       "_view_count": null,
       "_view_module": "@jupyter-widgets/controls",
       "_view_module_version": "1.5.0",
       "_view_name": "HTMLView",
       "description": "",
       "description_tooltip": null,
       "layout": "IPY_MODEL_6fbd2a2157274aae81dd4ad535177b0f",
       "placeholder": "​",
       "style": "IPY_MODEL_06128b0b8c7845178c38d8cf7cb4145e",
       "value": "100%"
      }
     },
     "6dbc3da66d494afc8c90d4bee5721959": {
      "model_module": "@jupyter-widgets/base",
      "model_module_version": "1.2.0",
      "model_name": "LayoutModel",
      "state": {
       "_model_module": "@jupyter-widgets/base",
       "_model_module_version": "1.2.0",
       "_model_name": "LayoutModel",
       "_view_count": null,
       "_view_module": "@jupyter-widgets/base",
       "_view_module_version": "1.2.0",
       "_view_name": "LayoutView",
       "align_content": null,
       "align_items": null,
       "align_self": null,
       "border": null,
       "bottom": null,
       "display": null,
       "flex": null,
       "flex_flow": null,
       "grid_area": null,
       "grid_auto_columns": null,
       "grid_auto_flow": null,
       "grid_auto_rows": null,
       "grid_column": null,
       "grid_gap": null,
       "grid_row": null,
       "grid_template_areas": null,
       "grid_template_columns": null,
       "grid_template_rows": null,
       "height": null,
       "justify_content": null,
       "justify_items": null,
       "left": null,
       "margin": null,
       "max_height": null,
       "max_width": null,
       "min_height": null,
       "min_width": null,
       "object_fit": null,
       "object_position": null,
       "order": null,
       "overflow": null,
       "overflow_x": null,
       "overflow_y": null,
       "padding": null,
       "right": null,
       "top": null,
       "visibility": null,
       "width": null
      }
     },
     "6fbd2a2157274aae81dd4ad535177b0f": {
      "model_module": "@jupyter-widgets/base",
      "model_module_version": "1.2.0",
      "model_name": "LayoutModel",
      "state": {
       "_model_module": "@jupyter-widgets/base",
       "_model_module_version": "1.2.0",
       "_model_name": "LayoutModel",
       "_view_count": null,
       "_view_module": "@jupyter-widgets/base",
       "_view_module_version": "1.2.0",
       "_view_name": "LayoutView",
       "align_content": null,
       "align_items": null,
       "align_self": null,
       "border": null,
       "bottom": null,
       "display": null,
       "flex": null,
       "flex_flow": null,
       "grid_area": null,
       "grid_auto_columns": null,
       "grid_auto_flow": null,
       "grid_auto_rows": null,
       "grid_column": null,
       "grid_gap": null,
       "grid_row": null,
       "grid_template_areas": null,
       "grid_template_columns": null,
       "grid_template_rows": null,
       "height": null,
       "justify_content": null,
       "justify_items": null,
       "left": null,
       "margin": null,
       "max_height": null,
       "max_width": null,
       "min_height": null,
       "min_width": null,
       "object_fit": null,
       "object_position": null,
       "order": null,
       "overflow": null,
       "overflow_x": null,
       "overflow_y": null,
       "padding": null,
       "right": null,
       "top": null,
       "visibility": null,
       "width": null
      }
     },
     "cbad185e3c504fe583713bb3b30540f1": {
      "model_module": "@jupyter-widgets/controls",
      "model_module_version": "1.5.0",
      "model_name": "FloatProgressModel",
      "state": {
       "_dom_classes": [],
       "_model_module": "@jupyter-widgets/controls",
       "_model_module_version": "1.5.0",
       "_model_name": "FloatProgressModel",
       "_view_count": null,
       "_view_module": "@jupyter-widgets/controls",
       "_view_module_version": "1.5.0",
       "_view_name": "ProgressView",
       "bar_style": "success",
       "description": "",
       "description_tooltip": null,
       "layout": "IPY_MODEL_418d0640248e4322a773dfc00fbf97c1",
       "max": 340.0,
       "min": 0.0,
       "orientation": "horizontal",
       "style": "IPY_MODEL_2500276aadbe4b58ab3f5002428e504f",
       "value": 340.0
      }
     },
     "def0e7bdd875420e9c3761136bdbb178": {
      "model_module": "@jupyter-widgets/controls",
      "model_module_version": "1.5.0",
      "model_name": "HBoxModel",
      "state": {
       "_dom_classes": [],
       "_model_module": "@jupyter-widgets/controls",
       "_model_module_version": "1.5.0",
       "_model_name": "HBoxModel",
       "_view_count": null,
       "_view_module": "@jupyter-widgets/controls",
       "_view_module_version": "1.5.0",
       "_view_name": "HBoxView",
       "box_style": "",
       "children": [
        "IPY_MODEL_4f69f11a59ce4ddc9383643cfc5af39c",
        "IPY_MODEL_cbad185e3c504fe583713bb3b30540f1",
        "IPY_MODEL_edba54983958442db6d7be5f55e01291"
       ],
       "layout": "IPY_MODEL_6dbc3da66d494afc8c90d4bee5721959"
      }
     },
     "edba54983958442db6d7be5f55e01291": {
      "model_module": "@jupyter-widgets/controls",
      "model_module_version": "1.5.0",
      "model_name": "HTMLModel",
      "state": {
       "_dom_classes": [],
       "_model_module": "@jupyter-widgets/controls",
       "_model_module_version": "1.5.0",
       "_model_name": "HTMLModel",
       "_view_count": null,
       "_view_module": "@jupyter-widgets/controls",
       "_view_module_version": "1.5.0",
       "_view_name": "HTMLView",
       "description": "",
       "description_tooltip": null,
       "layout": "IPY_MODEL_136b31e496c64c79b079a523262871fa",
       "placeholder": "​",
       "style": "IPY_MODEL_0ed40854b03c420ebafcc1063de1adbd",
       "value": " 340/340 [14:17&lt;00:00,  2.55s/it]"
      }
     }
    },
    "version_major": 2,
    "version_minor": 0
   }
  }
 },
 "nbformat": 4,
 "nbformat_minor": 5
}
