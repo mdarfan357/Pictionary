{
 "cells": [
  {
   "cell_type": "markdown",
   "id": "b50070b3",
   "metadata": {
    "papermill": {
     "duration": 0.009737,
     "end_time": "2023-03-22T18:33:14.421333",
     "exception": false,
     "start_time": "2023-03-22T18:33:14.411596",
     "status": "completed"
    },
    "tags": []
   },
   "source": [
    "# 0. Data Importing from kaggle"
   ]
  },
  {
   "cell_type": "code",
   "execution_count": 1,
   "id": "9d75978d",
   "metadata": {
    "execution": {
     "iopub.execute_input": "2023-03-22T18:33:14.440105Z",
     "iopub.status.busy": "2023-03-22T18:33:14.439055Z",
     "iopub.status.idle": "2023-03-22T18:33:14.776781Z",
     "shell.execute_reply": "2023-03-22T18:33:14.775853Z"
    },
    "papermill": {
     "duration": 0.349471,
     "end_time": "2023-03-22T18:33:14.779040",
     "exception": false,
     "start_time": "2023-03-22T18:33:14.429569",
     "status": "completed"
    },
    "tags": []
   },
   "outputs": [
    {
     "data": {
      "application/vnd.jupyter.widget-view+json": {
       "model_id": "83bd3b3543b34f05a66a0934d7fd7f44",
       "version_major": 2,
       "version_minor": 0
      },
      "text/plain": [
       "0it [00:00, ?it/s]"
      ]
     },
     "metadata": {},
     "output_type": "display_data"
    }
   ],
   "source": [
    "import os\n",
    "from tqdm.notebook import tqdm\n",
    "for dirname, _, filenames in tqdm(os.walk('/kaggle/input')):\n",
    "    for filename in filenames:\n",
    "        os.path.join(dirname, filename)\n",
    "#         print(os.path.join(dirname, filename))"
   ]
  },
  {
   "cell_type": "markdown",
   "id": "90b1a820",
   "metadata": {
    "papermill": {
     "duration": 0.007797,
     "end_time": "2023-03-22T18:33:14.795281",
     "exception": false,
     "start_time": "2023-03-22T18:33:14.787484",
     "status": "completed"
    },
    "tags": []
   },
   "source": [
    "# Limiting GPU usage"
   ]
  },
  {
   "cell_type": "code",
   "execution_count": 2,
   "id": "5f1cb493",
   "metadata": {
    "execution": {
     "iopub.execute_input": "2023-03-22T18:33:14.813147Z",
     "iopub.status.busy": "2023-03-22T18:33:14.812226Z",
     "iopub.status.idle": "2023-03-22T18:33:26.022776Z",
     "shell.execute_reply": "2023-03-22T18:33:26.021209Z"
    },
    "papermill": {
     "duration": 11.222123,
     "end_time": "2023-03-22T18:33:26.025337",
     "exception": false,
     "start_time": "2023-03-22T18:33:14.803214",
     "status": "completed"
    },
    "tags": []
   },
   "outputs": [
    {
     "name": "stdout",
     "output_type": "stream",
     "text": [
      "2 Physical GPUs, 2 Logical GPUs\n"
     ]
    }
   ],
   "source": [
    "# limit memory to prevent data leak\n",
    "import tensorflow as tf\n",
    "gpus = tf.config.list_physical_devices('GPU')\n",
    "if gpus:\n",
    "  try:\n",
    "    # Currently, memory growth needs to be the same across GPUs\n",
    "    for gpu in gpus:\n",
    "      tf.config.experimental.set_memory_growth(gpu, True)\n",
    "    logical_gpus = tf.config.list_logical_devices('GPU')\n",
    "    print(len(gpus), \"Physical GPUs,\", len(logical_gpus), \"Logical GPUs\")\n",
    "    \n",
    "    del logical_gpus,gpus\n",
    "  except RuntimeError as e:\n",
    "    # Memory growth must be set before GPUs have been initialized\n",
    "    print(e)\n"
   ]
  },
  {
   "cell_type": "markdown",
   "id": "dfa2ca42",
   "metadata": {
    "papermill": {
     "duration": 0.007949,
     "end_time": "2023-03-22T18:33:26.041465",
     "exception": false,
     "start_time": "2023-03-22T18:33:26.033516",
     "status": "completed"
    },
    "tags": []
   },
   "source": [
    "# 1. Importing modules"
   ]
  },
  {
   "cell_type": "code",
   "execution_count": 3,
   "id": "d99a4426",
   "metadata": {
    "execution": {
     "iopub.execute_input": "2023-03-22T18:33:26.059348Z",
     "iopub.status.busy": "2023-03-22T18:33:26.058687Z",
     "iopub.status.idle": "2023-03-22T18:33:26.239587Z",
     "shell.execute_reply": "2023-03-22T18:33:26.237787Z"
    },
    "papermill": {
     "duration": 0.192052,
     "end_time": "2023-03-22T18:33:26.241691",
     "exception": false,
     "start_time": "2023-03-22T18:33:26.049639",
     "status": "completed"
    },
    "tags": []
   },
   "outputs": [
    {
     "name": "stdout",
     "output_type": "stream",
     "text": [
      "588\n"
     ]
    },
    {
     "data": {
      "text/plain": [
       "56"
      ]
     },
     "execution_count": 3,
     "metadata": {},
     "output_type": "execute_result"
    }
   ],
   "source": [
    "import numpy as np\n",
    "import pandas as pd\n",
    "import json\n",
    "import gc\n",
    "import matplotlib.pyplot as plt\n",
    "%matplotlib inline\n",
    "from glob import glob\n",
    "import os\n",
    "train_files = glob(\"../input/quickdraw-doodle-recognition/train_simplified/*.csv\")\n",
    "\n",
    "# calculating data size per category\n",
    "rows = 200000\n",
    "# rows = 10000\n",
    "rows = rows - (rows % 340)\n",
    "cat_size = rows // 340\n",
    "print(cat_size)\n",
    "gc.collect()"
   ]
  },
  {
   "cell_type": "markdown",
   "id": "65b46f91",
   "metadata": {
    "papermill": {
     "duration": 0.00836,
     "end_time": "2023-03-22T18:33:26.258681",
     "exception": false,
     "start_time": "2023-03-22T18:33:26.250321",
     "status": "completed"
    },
    "tags": []
   },
   "source": [
    "# 2. Image Preprocessing \n",
    "1. converting data in text json to an image \n",
    "2. normalizing the image size\n",
    "3. normalizing the image pixels\n"
   ]
  },
  {
   "cell_type": "code",
   "execution_count": 4,
   "id": "44f7e846",
   "metadata": {
    "execution": {
     "iopub.execute_input": "2023-03-22T18:33:26.277390Z",
     "iopub.status.busy": "2023-03-22T18:33:26.276652Z",
     "iopub.status.idle": "2023-03-22T18:33:26.506412Z",
     "shell.execute_reply": "2023-03-22T18:33:26.505176Z"
    },
    "papermill": {
     "duration": 0.242244,
     "end_time": "2023-03-22T18:33:26.509484",
     "exception": false,
     "start_time": "2023-03-22T18:33:26.267240",
     "status": "completed"
    },
    "tags": []
   },
   "outputs": [],
   "source": [
    "from PIL import Image, ImageDraw\n",
    "from dask import bag\n",
    "def drawStrokes(matrixOfStrokes):\n",
    "    image = Image.new(\"RGB\", (256,256), color=255)\n",
    "    image_draw = ImageDraw.Draw(image)\n",
    "    for stroke in json.loads(matrixOfStrokes):\n",
    "        for i in range(len(stroke[0])-1):\n",
    "            image_draw.line([stroke[0][i], \n",
    "                             stroke[1][i],\n",
    "                             stroke[0][i+1], \n",
    "                             stroke[1][i+1]],\n",
    "                            fill=0, width=5)\n",
    "    return np.array(image.resize((32,32)))/255."
   ]
  },
  {
   "cell_type": "code",
   "execution_count": 5,
   "id": "183cbe65",
   "metadata": {
    "execution": {
     "iopub.execute_input": "2023-03-22T18:33:26.540246Z",
     "iopub.status.busy": "2023-03-22T18:33:26.539701Z",
     "iopub.status.idle": "2023-03-22T18:48:12.577113Z",
     "shell.execute_reply": "2023-03-22T18:48:12.575830Z"
    },
    "papermill": {
     "duration": 886.054284,
     "end_time": "2023-03-22T18:48:12.579476",
     "exception": false,
     "start_time": "2023-03-22T18:33:26.525192",
     "status": "completed"
    },
    "tags": []
   },
   "outputs": [
    {
     "data": {
      "application/vnd.jupyter.widget-view+json": {
       "model_id": "182381cf6cd3465e8edf20ddcea5f4c0",
       "version_major": 2,
       "version_minor": 0
      },
      "text/plain": [
       "  0%|          | 0/340 [00:00<?, ?it/s]"
      ]
     },
     "metadata": {},
     "output_type": "display_data"
    }
   ],
   "source": [
    "from tqdm.notebook import tqdm\n",
    "drawingArray = np.zeros((rows,32,32,3))\n",
    "categories = pd.Series([None] * rows)\n",
    "i = 0\n",
    "for f in tqdm(train_files):\n",
    "    for df in pd.read_csv(f, index_col=\"key_id\", chunksize=1000, nrows=cat_size):\n",
    "        df = df.drop(['countrycode','timestamp','recognized'],axis=1)\n",
    "        imagebag = bag.from_sequence(df.drawing.values).map(drawStrokes)\n",
    "        imagebag = np.array(imagebag.compute())\n",
    "        categories[i:(i + imagebag.shape[0])] = df[\"word\"].replace(\"\\s+\", \"_\", regex=True)\n",
    "        drawingArray[i:(i + imagebag.shape[0])] = imagebag\n",
    "        i += imagebag.shape[0]\n"
   ]
  },
  {
   "cell_type": "code",
   "execution_count": 6,
   "id": "3f6528ef",
   "metadata": {
    "execution": {
     "iopub.execute_input": "2023-03-22T18:48:12.599693Z",
     "iopub.status.busy": "2023-03-22T18:48:12.598803Z",
     "iopub.status.idle": "2023-03-22T18:48:12.814148Z",
     "shell.execute_reply": "2023-03-22T18:48:12.812876Z"
    },
    "papermill": {
     "duration": 0.229404,
     "end_time": "2023-03-22T18:48:12.818096",
     "exception": false,
     "start_time": "2023-03-22T18:48:12.588692",
     "status": "completed"
    },
    "tags": []
   },
   "outputs": [
    {
     "data": {
      "text/plain": [
       "39"
      ]
     },
     "execution_count": 6,
     "metadata": {},
     "output_type": "execute_result"
    }
   ],
   "source": [
    "gc.collect()"
   ]
  },
  {
   "cell_type": "code",
   "execution_count": 7,
   "id": "8e361d1d",
   "metadata": {
    "execution": {
     "iopub.execute_input": "2023-03-22T18:48:12.838411Z",
     "iopub.status.busy": "2023-03-22T18:48:12.837906Z",
     "iopub.status.idle": "2023-03-22T18:48:12.858613Z",
     "shell.execute_reply": "2023-03-22T18:48:12.857508Z"
    },
    "papermill": {
     "duration": 0.033313,
     "end_time": "2023-03-22T18:48:12.861006",
     "exception": false,
     "start_time": "2023-03-22T18:48:12.827693",
     "status": "completed"
    },
    "tags": []
   },
   "outputs": [
    {
     "data": {
      "text/plain": [
       "traffic_light    588\n",
       "umbrella         588\n",
       "house            588\n",
       "trombone         588\n",
       "paper_clip       588\n",
       "                ... \n",
       "rain             588\n",
       "rabbit           588\n",
       "lantern          588\n",
       "toaster          588\n",
       "fish             588\n",
       "Length: 340, dtype: int64"
      ]
     },
     "execution_count": 7,
     "metadata": {},
     "output_type": "execute_result"
    }
   ],
   "source": [
    "categories.value_counts()"
   ]
  },
  {
   "cell_type": "markdown",
   "id": "e6d67751",
   "metadata": {
    "papermill": {
     "duration": 0.008825,
     "end_time": "2023-03-22T18:48:12.879447",
     "exception": false,
     "start_time": "2023-03-22T18:48:12.870622",
     "status": "completed"
    },
    "tags": []
   },
   "source": [
    "# 3. Train Test split"
   ]
  },
  {
   "cell_type": "code",
   "execution_count": 8,
   "id": "941c6008",
   "metadata": {
    "execution": {
     "iopub.execute_input": "2023-03-22T18:48:12.897953Z",
     "iopub.status.busy": "2023-03-22T18:48:12.897648Z",
     "iopub.status.idle": "2023-03-22T18:49:01.486128Z",
     "shell.execute_reply": "2023-03-22T18:49:01.485001Z"
    },
    "papermill": {
     "duration": 48.601042,
     "end_time": "2023-03-22T18:49:01.489180",
     "exception": false,
     "start_time": "2023-03-22T18:48:12.888138",
     "status": "completed"
    },
    "tags": []
   },
   "outputs": [],
   "source": [
    "\n",
    "from sklearn.model_selection import train_test_split\n",
    "indecator = pd.get_dummies(categories)\n",
    "tr_x,tst_x,tr_indecator,tst_indecator = train_test_split(drawingArray, indecator, test_size=0.25,random_state=0,stratify=indecator)\n"
   ]
  },
  {
   "cell_type": "code",
   "execution_count": 9,
   "id": "8423d887",
   "metadata": {
    "execution": {
     "iopub.execute_input": "2023-03-22T18:49:01.508776Z",
     "iopub.status.busy": "2023-03-22T18:49:01.508446Z",
     "iopub.status.idle": "2023-03-22T18:49:01.527006Z",
     "shell.execute_reply": "2023-03-22T18:49:01.525887Z"
    },
    "papermill": {
     "duration": 0.031052,
     "end_time": "2023-03-22T18:49:01.529322",
     "exception": false,
     "start_time": "2023-03-22T18:49:01.498270",
     "status": "completed"
    },
    "tags": []
   },
   "outputs": [
    {
     "name": "stdout",
     "output_type": "stream",
     "text": [
      "The_Eiffel_Tower : 441\n",
      "The_Great_Wall_of_China : 441\n",
      "The_Mona_Lisa : 441\n",
      "airplane : 441\n",
      "alarm_clock : 441\n",
      "ambulance : 441\n"
     ]
    }
   ],
   "source": [
    "itr = 0\n",
    "for df in tr_indecator:\n",
    "    print(f\"{df} : {tr_indecator[df].value_counts()[1]}\")\n",
    "    if itr == 5:\n",
    "        break\n",
    "    else:\n",
    "        itr+= 1"
   ]
  },
  {
   "cell_type": "code",
   "execution_count": 10,
   "id": "6685da41",
   "metadata": {
    "execution": {
     "iopub.execute_input": "2023-03-22T18:49:01.548056Z",
     "iopub.status.busy": "2023-03-22T18:49:01.547733Z",
     "iopub.status.idle": "2023-03-22T18:49:01.558653Z",
     "shell.execute_reply": "2023-03-22T18:49:01.557617Z"
    },
    "papermill": {
     "duration": 0.022861,
     "end_time": "2023-03-22T18:49:01.560803",
     "exception": false,
     "start_time": "2023-03-22T18:49:01.537942",
     "status": "completed"
    },
    "tags": []
   },
   "outputs": [
    {
     "name": "stdout",
     "output_type": "stream",
     "text": [
      "The_Eiffel_Tower : 147\n",
      "The_Great_Wall_of_China : 147\n",
      "The_Mona_Lisa : 147\n",
      "airplane : 147\n",
      "alarm_clock : 147\n",
      "ambulance : 147\n"
     ]
    }
   ],
   "source": [
    "itr = 0\n",
    "for df in tst_indecator:\n",
    "    try:\n",
    "        print(f\"{df} : {tst_indecator[df].value_counts()[1]}\")\n",
    "    except:\n",
    "        print(f\"{df} : 0\")\n",
    "        \n",
    "    if itr == 5:\n",
    "        break\n",
    "    else:\n",
    "        itr+= 1"
   ]
  },
  {
   "cell_type": "code",
   "execution_count": 11,
   "id": "0c4fc2a2",
   "metadata": {
    "execution": {
     "iopub.execute_input": "2023-03-22T18:49:01.580466Z",
     "iopub.status.busy": "2023-03-22T18:49:01.578972Z",
     "iopub.status.idle": "2023-03-22T18:49:02.084854Z",
     "shell.execute_reply": "2023-03-22T18:49:02.083788Z"
    },
    "papermill": {
     "duration": 0.517716,
     "end_time": "2023-03-22T18:49:02.087109",
     "exception": false,
     "start_time": "2023-03-22T18:49:01.569393",
     "status": "completed"
    },
    "tags": []
   },
   "outputs": [
    {
     "data": {
      "text/plain": [
       "63"
      ]
     },
     "execution_count": 11,
     "metadata": {},
     "output_type": "execute_result"
    }
   ],
   "source": [
    "del drawingArray,categories\n",
    "gc.collect()"
   ]
  },
  {
   "cell_type": "markdown",
   "id": "02f966e4",
   "metadata": {
    "papermill": {
     "duration": 0.009291,
     "end_time": "2023-03-22T18:49:02.105558",
     "exception": false,
     "start_time": "2023-03-22T18:49:02.096267",
     "status": "completed"
    },
    "tags": []
   },
   "source": [
    "# 4. Creating Deep learning model"
   ]
  },
  {
   "cell_type": "code",
   "execution_count": 12,
   "id": "0059738b",
   "metadata": {
    "execution": {
     "iopub.execute_input": "2023-03-22T18:49:02.124727Z",
     "iopub.status.busy": "2023-03-22T18:49:02.124427Z",
     "iopub.status.idle": "2023-03-22T18:49:02.131805Z",
     "shell.execute_reply": "2023-03-22T18:49:02.130852Z"
    },
    "papermill": {
     "duration": 0.01944,
     "end_time": "2023-03-22T18:49:02.133871",
     "exception": false,
     "start_time": "2023-03-22T18:49:02.114431",
     "status": "completed"
    },
    "tags": []
   },
   "outputs": [],
   "source": [
    "from keras.callbacks import ModelCheckpoint\n",
    "from tensorflow.keras.optimizers.legacy import Adam\n",
    "\n",
    "filepath = 'my_best_model.hdf5'\n",
    "\n",
    "checkpoint = ModelCheckpoint(filepath=filepath, \n",
    "                             monitor=\"val_loss\", \n",
    "                             save_best_only=True,\n",
    "                             mode='min')\n",
    "\n",
    "callbacks = [checkpoint]"
   ]
  },
  {
   "cell_type": "code",
   "execution_count": 13,
   "id": "4c1db284",
   "metadata": {
    "execution": {
     "iopub.execute_input": "2023-03-22T18:49:02.153777Z",
     "iopub.status.busy": "2023-03-22T18:49:02.153491Z",
     "iopub.status.idle": "2023-03-22T18:49:02.336868Z",
     "shell.execute_reply": "2023-03-22T18:49:02.335791Z"
    },
    "papermill": {
     "duration": 0.195988,
     "end_time": "2023-03-22T18:49:02.339051",
     "exception": false,
     "start_time": "2023-03-22T18:49:02.143063",
     "status": "completed"
    },
    "tags": []
   },
   "outputs": [
    {
     "data": {
      "text/plain": [
       "42"
      ]
     },
     "execution_count": 13,
     "metadata": {},
     "output_type": "execute_result"
    }
   ],
   "source": [
    "gc.collect()"
   ]
  },
  {
   "cell_type": "code",
   "execution_count": 14,
   "id": "a3f7f089",
   "metadata": {
    "execution": {
     "iopub.execute_input": "2023-03-22T18:49:02.361121Z",
     "iopub.status.busy": "2023-03-22T18:49:02.359512Z",
     "iopub.status.idle": "2023-03-22T18:49:02.953959Z",
     "shell.execute_reply": "2023-03-22T18:49:02.952854Z"
    },
    "papermill": {
     "duration": 0.608066,
     "end_time": "2023-03-22T18:49:02.956795",
     "exception": false,
     "start_time": "2023-03-22T18:49:02.348729",
     "status": "completed"
    },
    "tags": []
   },
   "outputs": [],
   "source": [
    "import tensorflow as tf\n",
    "from tensorflow.keras.models import Sequential,Model\n",
    "from tensorflow.keras.layers import *\n",
    "\n",
    "\n",
    "strategy = tf.distribute.MirroredStrategy()\n",
    "with strategy.scope():\n",
    "    model = Sequential()\n",
    "    model.add(Conv2D(128,kernel_size=(5,5),padding=\"same\",activation=\"relu\",input_shape=(32,32,3)))\n",
    "    model.add(MaxPooling2D(pool_size=(2, 2)))\n",
    "    model.add(BatchNormalization())\n",
    "    model.add(Dropout(0.25))\n",
    "    \n",
    "\n",
    "    model.add(Conv2D(128, kernel_size=(3,3),activation=\"relu\", strides=1))\n",
    "    model.add(MaxPooling2D(pool_size=(2, 2)))\n",
    "    model.add(BatchNormalization())\n",
    "    model.add(Dropout(0.25))\n",
    "\n",
    "    model.add(Conv2D(64, kernel_size=(3,3),activation=\"relu\", strides=1))\n",
    "    model.add(MaxPooling2D(pool_size=(2, 2)))\n",
    "    model.add(BatchNormalization())\n",
    "    model.add(Dropout(0.25))\n",
    "\n",
    "    model.add(Flatten())\n",
    "    model.add(Dense(1024,activation=\"relu\"))\n",
    "    model.add(BatchNormalization())\n",
    "    model.add(Dropout(0.3))\n",
    "\n",
    "    model.add(Dense(512,activation=\"relu\"))\n",
    "    model.add(BatchNormalization())\n",
    "    model.add(Dropout(0.25))\n",
    "\n",
    "    model.add(Dense(340,activation=\"softmax\"))"
   ]
  },
  {
   "cell_type": "code",
   "execution_count": 15,
   "id": "39bc0c0f",
   "metadata": {
    "execution": {
     "iopub.execute_input": "2023-03-22T18:49:02.978100Z",
     "iopub.status.busy": "2023-03-22T18:49:02.977206Z",
     "iopub.status.idle": "2023-03-22T18:49:03.004441Z",
     "shell.execute_reply": "2023-03-22T18:49:03.003220Z"
    },
    "papermill": {
     "duration": 0.040526,
     "end_time": "2023-03-22T18:49:03.007089",
     "exception": false,
     "start_time": "2023-03-22T18:49:02.966563",
     "status": "completed"
    },
    "tags": []
   },
   "outputs": [],
   "source": [
    "model.compile(loss='categorical_crossentropy',\n",
    "              optimizer= \"adam\",\n",
    "              metrics=['accuracy'])\n"
   ]
  },
  {
   "cell_type": "code",
   "execution_count": 16,
   "id": "2ecaee24",
   "metadata": {
    "execution": {
     "iopub.execute_input": "2023-03-22T18:49:03.027761Z",
     "iopub.status.busy": "2023-03-22T18:49:03.027435Z",
     "iopub.status.idle": "2023-03-22T18:49:03.077892Z",
     "shell.execute_reply": "2023-03-22T18:49:03.076764Z"
    },
    "papermill": {
     "duration": 0.099402,
     "end_time": "2023-03-22T18:49:03.116155",
     "exception": false,
     "start_time": "2023-03-22T18:49:03.016753",
     "status": "completed"
    },
    "tags": []
   },
   "outputs": [
    {
     "name": "stdout",
     "output_type": "stream",
     "text": [
      "Model: \"sequential\"\n",
      "_________________________________________________________________\n",
      " Layer (type)                Output Shape              Param #   \n",
      "=================================================================\n",
      " conv2d (Conv2D)             (None, 32, 32, 128)       9728      \n",
      "                                                                 \n",
      " max_pooling2d (MaxPooling2D  (None, 16, 16, 128)      0         \n",
      " )                                                               \n",
      "                                                                 \n",
      " batch_normalization (BatchN  (None, 16, 16, 128)      512       \n",
      " ormalization)                                                   \n",
      "                                                                 \n",
      " dropout (Dropout)           (None, 16, 16, 128)       0         \n",
      "                                                                 \n",
      " conv2d_1 (Conv2D)           (None, 14, 14, 128)       147584    \n",
      "                                                                 \n",
      " max_pooling2d_1 (MaxPooling  (None, 7, 7, 128)        0         \n",
      " 2D)                                                             \n",
      "                                                                 \n",
      " batch_normalization_1 (Batc  (None, 7, 7, 128)        512       \n",
      " hNormalization)                                                 \n",
      "                                                                 \n",
      " dropout_1 (Dropout)         (None, 7, 7, 128)         0         \n",
      "                                                                 \n",
      " conv2d_2 (Conv2D)           (None, 5, 5, 64)          73792     \n",
      "                                                                 \n",
      " max_pooling2d_2 (MaxPooling  (None, 2, 2, 64)         0         \n",
      " 2D)                                                             \n",
      "                                                                 \n",
      " batch_normalization_2 (Batc  (None, 2, 2, 64)         256       \n",
      " hNormalization)                                                 \n",
      "                                                                 \n",
      " dropout_2 (Dropout)         (None, 2, 2, 64)          0         \n",
      "                                                                 \n",
      " flatten (Flatten)           (None, 256)               0         \n",
      "                                                                 \n",
      " dense (Dense)               (None, 1024)              263168    \n",
      "                                                                 \n",
      " batch_normalization_3 (Batc  (None, 1024)             4096      \n",
      " hNormalization)                                                 \n",
      "                                                                 \n",
      " dropout_3 (Dropout)         (None, 1024)              0         \n",
      "                                                                 \n",
      " dense_1 (Dense)             (None, 512)               524800    \n",
      "                                                                 \n",
      " batch_normalization_4 (Batc  (None, 512)              2048      \n",
      " hNormalization)                                                 \n",
      "                                                                 \n",
      " dropout_4 (Dropout)         (None, 512)               0         \n",
      "                                                                 \n",
      " dense_2 (Dense)             (None, 340)               174420    \n",
      "                                                                 \n",
      "=================================================================\n",
      "Total params: 1,200,916\n",
      "Trainable params: 1,197,204\n",
      "Non-trainable params: 3,712\n",
      "_________________________________________________________________\n"
     ]
    }
   ],
   "source": [
    "model.summary()"
   ]
  },
  {
   "cell_type": "code",
   "execution_count": 17,
   "id": "553dffdb",
   "metadata": {
    "execution": {
     "iopub.execute_input": "2023-03-22T18:49:03.144346Z",
     "iopub.status.busy": "2023-03-22T18:49:03.143731Z",
     "iopub.status.idle": "2023-03-22T18:49:03.341300Z",
     "shell.execute_reply": "2023-03-22T18:49:03.340167Z"
    },
    "papermill": {
     "duration": 0.214226,
     "end_time": "2023-03-22T18:49:03.343782",
     "exception": false,
     "start_time": "2023-03-22T18:49:03.129556",
     "status": "completed"
    },
    "tags": []
   },
   "outputs": [
    {
     "data": {
      "text/plain": [
       "828"
      ]
     },
     "execution_count": 17,
     "metadata": {},
     "output_type": "execute_result"
    }
   ],
   "source": [
    "gc.collect()"
   ]
  },
  {
   "cell_type": "markdown",
   "id": "82310426",
   "metadata": {
    "papermill": {
     "duration": 0.014052,
     "end_time": "2023-03-22T18:49:03.372642",
     "exception": false,
     "start_time": "2023-03-22T18:49:03.358590",
     "status": "completed"
    },
    "tags": []
   },
   "source": [
    "# 5. Training Deep learning model  "
   ]
  },
  {
   "cell_type": "markdown",
   "id": "6ef8c1dd",
   "metadata": {
    "papermill": {
     "duration": 0.01379,
     "end_time": "2023-03-22T18:49:03.400554",
     "exception": false,
     "start_time": "2023-03-22T18:49:03.386764",
     "status": "completed"
    },
    "tags": []
   },
   "source": [
    "RUN 1"
   ]
  },
  {
   "cell_type": "code",
   "execution_count": 18,
   "id": "1d0e3d8d",
   "metadata": {
    "execution": {
     "iopub.execute_input": "2023-03-22T18:49:03.431009Z",
     "iopub.status.busy": "2023-03-22T18:49:03.430595Z",
     "iopub.status.idle": "2023-03-22T19:05:44.270899Z",
     "shell.execute_reply": "2023-03-22T19:05:44.269884Z"
    },
    "papermill": {
     "duration": 1000.858395,
     "end_time": "2023-03-22T19:05:44.273107",
     "exception": false,
     "start_time": "2023-03-22T18:49:03.414712",
     "status": "completed"
    },
    "tags": []
   },
   "outputs": [
    {
     "name": "stdout",
     "output_type": "stream",
     "text": [
      "Epoch 1/30\n"
     ]
    },
    {
     "name": "stderr",
     "output_type": "stream",
     "text": [
      "2023-03-22 18:49:17.661353: E tensorflow/core/grappler/optimizers/meta_optimizer.cc:954] layout failed: INVALID_ARGUMENT: Size of values 0 does not match size of permutation 4 @ fanin shape insequential/dropout/dropout/SelectV2-2-TransposeNHWCToNCHW-LayoutOptimizer\n"
     ]
    },
    {
     "name": "stdout",
     "output_type": "stream",
     "text": [
      "1172/1172 [==============================] - 55s 31ms/step - loss: 4.0346 - accuracy: 0.1825 - val_loss: 4.1550 - val_accuracy: 0.1855\n",
      "Epoch 2/30\n",
      "1172/1172 [==============================] - 32s 27ms/step - loss: 3.0415 - accuracy: 0.3181 - val_loss: 3.9735 - val_accuracy: 0.1805\n",
      "Epoch 3/30\n",
      "1172/1172 [==============================] - 31s 26ms/step - loss: 2.7637 - accuracy: 0.3676 - val_loss: 4.4286 - val_accuracy: 0.1682\n",
      "Epoch 4/30\n",
      "1172/1172 [==============================] - 32s 28ms/step - loss: 2.6023 - accuracy: 0.3941 - val_loss: 5.7831 - val_accuracy: 0.0566\n",
      "Epoch 5/30\n",
      "1172/1172 [==============================] - 33s 28ms/step - loss: 2.4879 - accuracy: 0.4164 - val_loss: 4.4518 - val_accuracy: 0.1852\n",
      "Epoch 6/30\n",
      "1172/1172 [==============================] - 31s 26ms/step - loss: 2.4051 - accuracy: 0.4316 - val_loss: 2.3781 - val_accuracy: 0.4435\n",
      "Epoch 7/30\n",
      "1172/1172 [==============================] - 33s 28ms/step - loss: 2.3369 - accuracy: 0.4442 - val_loss: 3.9895 - val_accuracy: 0.2165\n",
      "Epoch 8/30\n",
      "1172/1172 [==============================] - 31s 26ms/step - loss: 2.2797 - accuracy: 0.4557 - val_loss: 3.1901 - val_accuracy: 0.3192\n",
      "Epoch 9/30\n",
      "1172/1172 [==============================] - 32s 28ms/step - loss: 2.2387 - accuracy: 0.4634 - val_loss: 2.6439 - val_accuracy: 0.3931\n",
      "Epoch 10/30\n",
      "1172/1172 [==============================] - 33s 28ms/step - loss: 2.1933 - accuracy: 0.4725 - val_loss: 4.0894 - val_accuracy: 0.2033\n",
      "Epoch 11/30\n",
      "1172/1172 [==============================] - 31s 27ms/step - loss: 2.1613 - accuracy: 0.4787 - val_loss: 3.3283 - val_accuracy: 0.2991\n",
      "Epoch 12/30\n",
      "1172/1172 [==============================] - 31s 26ms/step - loss: 2.1307 - accuracy: 0.4834 - val_loss: 2.5494 - val_accuracy: 0.4117\n",
      "Epoch 13/30\n",
      "1172/1172 [==============================] - 31s 27ms/step - loss: 2.1098 - accuracy: 0.4890 - val_loss: 2.2647 - val_accuracy: 0.4702\n",
      "Epoch 14/30\n",
      "1172/1172 [==============================] - 31s 26ms/step - loss: 2.0817 - accuracy: 0.4928 - val_loss: 2.6863 - val_accuracy: 0.3768\n",
      "Epoch 15/30\n",
      "1172/1172 [==============================] - 32s 27ms/step - loss: 2.0593 - accuracy: 0.4968 - val_loss: 1.9846 - val_accuracy: 0.5287\n",
      "Epoch 16/30\n",
      "1172/1172 [==============================] - 34s 29ms/step - loss: 2.0370 - accuracy: 0.5015 - val_loss: 3.0341 - val_accuracy: 0.3152\n",
      "Epoch 17/30\n",
      "1172/1172 [==============================] - 31s 26ms/step - loss: 2.0200 - accuracy: 0.5033 - val_loss: 2.6013 - val_accuracy: 0.4017\n",
      "Epoch 18/30\n",
      "1172/1172 [==============================] - 31s 27ms/step - loss: 1.9983 - accuracy: 0.5087 - val_loss: 3.5171 - val_accuracy: 0.2886\n",
      "Epoch 19/30\n",
      "1172/1172 [==============================] - 32s 28ms/step - loss: 1.9823 - accuracy: 0.5108 - val_loss: 2.8067 - val_accuracy: 0.3742\n",
      "Epoch 20/30\n",
      "1172/1172 [==============================] - 32s 28ms/step - loss: 1.9672 - accuracy: 0.5136 - val_loss: 2.3973 - val_accuracy: 0.4475\n",
      "Epoch 21/30\n",
      "1172/1172 [==============================] - 31s 27ms/step - loss: 1.9548 - accuracy: 0.5182 - val_loss: 2.2144 - val_accuracy: 0.4846\n",
      "Epoch 22/30\n",
      "1172/1172 [==============================] - 34s 29ms/step - loss: 1.9447 - accuracy: 0.5191 - val_loss: 2.1255 - val_accuracy: 0.4967\n",
      "Epoch 23/30\n",
      "1172/1172 [==============================] - 32s 27ms/step - loss: 1.9254 - accuracy: 0.5239 - val_loss: 4.1525 - val_accuracy: 0.2023\n",
      "Epoch 24/30\n",
      "1172/1172 [==============================] - 33s 28ms/step - loss: 1.9204 - accuracy: 0.5234 - val_loss: 2.4762 - val_accuracy: 0.4200\n",
      "Epoch 25/30\n",
      "1172/1172 [==============================] - 34s 29ms/step - loss: 1.9057 - accuracy: 0.5264 - val_loss: 2.1629 - val_accuracy: 0.4914\n",
      "Epoch 26/30\n",
      "1172/1172 [==============================] - 36s 31ms/step - loss: 1.8932 - accuracy: 0.5275 - val_loss: 1.8150 - val_accuracy: 0.5650\n",
      "Epoch 27/30\n",
      "1172/1172 [==============================] - 33s 28ms/step - loss: 1.8798 - accuracy: 0.5314 - val_loss: 2.6750 - val_accuracy: 0.3982\n",
      "Epoch 28/30\n",
      "1172/1172 [==============================] - 34s 29ms/step - loss: 1.8700 - accuracy: 0.5330 - val_loss: 2.6507 - val_accuracy: 0.3890\n",
      "Epoch 29/30\n",
      "1172/1172 [==============================] - 33s 28ms/step - loss: 1.8648 - accuracy: 0.5346 - val_loss: 1.9473 - val_accuracy: 0.5377\n",
      "Epoch 30/30\n",
      "1172/1172 [==============================] - 33s 28ms/step - loss: 1.8537 - accuracy: 0.5379 - val_loss: 1.8266 - val_accuracy: 0.5632\n",
      "dict_keys(['loss', 'accuracy', 'val_loss', 'val_accuracy'])\n"
     ]
    },
    {
     "data": {
      "image/png": "[encoded data removed]",
      "text/plain": [
       "<Figure size 640x480 with 1 Axes>"
      ]
     },
     "metadata": {},
     "output_type": "display_data"
    },
    {
     "data": {
      "image/png": "[encoded data removed]",
      "text/plain": [
       "<Figure size 640x480 with 1 Axes>"
      ]
     },
     "metadata": {},
     "output_type": "display_data"
    }
   ],
   "source": [
    "# history = model.fit(tr_x, tr_indecator,batch_size=200,epochs=100\n",
    "#           ,validation_data=(tst_x,tst_indecator))\n",
    "\n",
    "history = model.fit(tr_x, tr_indecator,batch_size=128,epochs=30\n",
    "          ,validation_data=(tst_x,tst_indecator),callbacks=callbacks)\n",
    "\n",
    "print(history.history.keys())\n",
    "# summarize history for accuracy\n",
    "plt.plot(history.history['accuracy'])\n",
    "plt.plot(history.history['val_accuracy'])\n",
    "plt.title('model accuracy')\n",
    "plt.ylabel('accuracy')\n",
    "plt.xlabel('epoch')\n",
    "plt.legend(['train', 'test'], loc='upper left')\n",
    "plt.show()\n",
    "# summarize history for loss\n",
    "plt.plot(history.history['loss'])\n",
    "plt.plot(history.history['val_loss'])\n",
    "plt.title('model loss')\n",
    "plt.ylabel('loss')\n",
    "plt.xlabel('epoch')\n",
    "plt.legend(['train', 'test'], loc='upper left')\n",
    "plt.show()\n"
   ]
  },
  {
   "cell_type": "markdown",
   "id": "2ba43488",
   "metadata": {
    "papermill": {
     "duration": 0.737397,
     "end_time": "2023-03-22T19:05:45.705149",
     "exception": false,
     "start_time": "2023-03-22T19:05:44.967752",
     "status": "completed"
    },
    "tags": []
   },
   "source": [
    "# 6. Saving model "
   ]
  },
  {
   "cell_type": "code",
   "execution_count": 19,
   "id": "acbc0d3d",
   "metadata": {
    "execution": {
     "iopub.execute_input": "2023-03-22T19:05:47.135028Z",
     "iopub.status.busy": "2023-03-22T19:05:47.134593Z",
     "iopub.status.idle": "2023-03-22T19:05:47.257832Z",
     "shell.execute_reply": "2023-03-22T19:05:47.256679Z"
    },
    "papermill": {
     "duration": 0.870307,
     "end_time": "2023-03-22T19:05:47.260661",
     "exception": false,
     "start_time": "2023-03-22T19:05:46.390354",
     "status": "completed"
    },
    "tags": []
   },
   "outputs": [],
   "source": [
    "from tensorflow.keras.models import save_model\n",
    "save_model(model,\"CNN.h5\")"
   ]
  },
  {
   "cell_type": "markdown",
   "id": "b4944cf3",
   "metadata": {
    "papermill": {
     "duration": 0.747631,
     "end_time": "2023-03-22T19:05:48.702125",
     "exception": false,
     "start_time": "2023-03-22T19:05:47.954494",
     "status": "completed"
    },
    "tags": []
   },
   "source": [
    "RUN 2\n"
   ]
  },
  {
   "cell_type": "code",
   "execution_count": 20,
   "id": "19e23861",
   "metadata": {
    "execution": {
     "iopub.execute_input": "2023-03-22T19:05:50.139860Z",
     "iopub.status.busy": "2023-03-22T19:05:50.139261Z",
     "iopub.status.idle": "2023-03-22T19:05:50.144438Z",
     "shell.execute_reply": "2023-03-22T19:05:50.143342Z"
    },
    "papermill": {
     "duration": 0.755024,
     "end_time": "2023-03-22T19:05:50.146650",
     "exception": false,
     "start_time": "2023-03-22T19:05:49.391626",
     "status": "completed"
    },
    "tags": []
   },
   "outputs": [],
   "source": [
    "# history = model.fit(tr_x, tr_indecator,batch_size=128,epochs=30\n",
    "#           ,validation_data=(tst_x,tst_indecator),callbacks=callbacks)\n",
    "\n",
    "# print(history.history.keys())\n",
    "# # summarize history for accuracy\n",
    "# plt.plot(history.history['accuracy'])\n",
    "# plt.plot(history.history['val_accuracy'])\n",
    "# plt.title('model accuracy')\n",
    "# plt.ylabel('accuracy')\n",
    "# plt.xlabel('epoch')\n",
    "# plt.legend(['train', 'test'], loc='upper left')\n",
    "# plt.show()\n",
    "# # summarize history for loss\n",
    "# plt.plot(history.history['loss'])\n",
    "# plt.plot(history.history['val_loss'])\n",
    "# plt.title('model loss')\n",
    "# plt.ylabel('loss')\n",
    "# plt.xlabel('epoch')\n",
    "# plt.legend(['train', 'test'], loc='upper left')\n",
    "# plt.show()\n"
   ]
  },
  {
   "cell_type": "code",
   "execution_count": 21,
   "id": "10e9a56b",
   "metadata": {
    "execution": {
     "iopub.execute_input": "2023-03-22T19:05:51.629717Z",
     "iopub.status.busy": "2023-03-22T19:05:51.629343Z",
     "iopub.status.idle": "2023-03-22T19:05:51.633780Z",
     "shell.execute_reply": "2023-03-22T19:05:51.632691Z"
    },
    "papermill": {
     "duration": 0.753329,
     "end_time": "2023-03-22T19:05:51.636113",
     "exception": false,
     "start_time": "2023-03-22T19:05:50.882784",
     "status": "completed"
    },
    "tags": []
   },
   "outputs": [],
   "source": [
    "# from tensorflow.keras.models import save_model\n",
    "# save_model(model,\"CNN.h5\")"
   ]
  },
  {
   "cell_type": "code",
   "execution_count": 22,
   "id": "af0c019d",
   "metadata": {
    "execution": {
     "iopub.execute_input": "2023-03-22T19:05:53.045995Z",
     "iopub.status.busy": "2023-03-22T19:05:53.045616Z",
     "iopub.status.idle": "2023-03-22T19:05:53.050049Z",
     "shell.execute_reply": "2023-03-22T19:05:53.049039Z"
    },
    "papermill": {
     "duration": 0.713047,
     "end_time": "2023-03-22T19:05:53.052146",
     "exception": false,
     "start_time": "2023-03-22T19:05:52.339099",
     "status": "completed"
    },
    "tags": []
   },
   "outputs": [],
   "source": [
    "# RUN 1\n",
    "# Epoch 30/30\n",
    "# 600/600 [==============================] - 18s 30ms/step - loss: 2.2876 - accuracy: 0.4391 - val_loss: 2.1696 - val_accuracy: 0.4867\n",
    "\n",
    "# RUN 2\n"
   ]
  },
  {
   "attachments": {
    "4273c578-af84-4c9e-88dd-5444a2f183b6.png": {
     "image/png": "[encoded data removed]"
    }
   },
   "cell_type": "markdown",
   "id": "1a03ad33",
   "metadata": {
    "papermill": {
     "duration": 0.743033,
     "end_time": "2023-03-22T19:05:54.530350",
     "exception": false,
     "start_time": "2023-03-22T19:05:53.787317",
     "status": "completed"
    },
    "tags": []
   },
   "source": [
    "![image.png](attachment:4273c578-af84-4c9e-88dd-5444a2f183b6.png)"
   ]
  },
  {
   "cell_type": "markdown",
   "id": "7a042abf",
   "metadata": {
    "papermill": {
     "duration": 0.693432,
     "end_time": "2023-03-22T19:05:55.902699",
     "exception": false,
     "start_time": "2023-03-22T19:05:55.209267",
     "status": "completed"
    },
    "tags": []
   },
   "source": [
    "RUN 3\n"
   ]
  },
  {
   "attachments": {
    "181b7464-4188-4ae0-ad7a-bf463094a3a3.png": {
     "image/png": "[encoded data removed]"
    }
   },
   "cell_type": "markdown",
   "id": "e2d03b63",
   "metadata": {
    "papermill": {
     "duration": 0.726327,
     "end_time": "2023-03-22T19:05:57.359912",
     "exception": false,
     "start_time": "2023-03-22T19:05:56.633585",
     "status": "completed"
    },
    "tags": []
   },
   "source": [
    "![image.png](attachment:181b7464-4188-4ae0-ad7a-bf463094a3a3.png)"
   ]
  },
  {
   "cell_type": "markdown",
   "id": "2411fa20",
   "metadata": {
    "papermill": {
     "duration": 0.681504,
     "end_time": "2023-03-22T19:05:58.714445",
     "exception": false,
     "start_time": "2023-03-22T19:05:58.032941",
     "status": "completed"
    },
    "tags": []
   },
   "source": [
    "RUN 4\n"
   ]
  },
  {
   "attachments": {
    "94eb3fe7-cc5e-4c3c-ae1e-5b267e5e0a8e.png": {
     "image/png": "[encoded data removed]"
    }
   },
   "cell_type": "markdown",
   "id": "b0ddc062",
   "metadata": {
    "papermill": {
     "duration": 0.734962,
     "end_time": "2023-03-22T19:06:00.183988",
     "exception": false,
     "start_time": "2023-03-22T19:05:59.449026",
     "status": "completed"
    },
    "tags": []
   },
   "source": [
    "![image.png](attachment:94eb3fe7-cc5e-4c3c-ae1e-5b267e5e0a8e.png)"
   ]
  },
  {
   "cell_type": "markdown",
   "id": "a95ca1ca",
   "metadata": {
    "papermill": {
     "duration": 0.677543,
     "end_time": "2023-03-22T19:06:01.596446",
     "exception": false,
     "start_time": "2023-03-22T19:06:00.918903",
     "status": "completed"
    },
    "tags": []
   },
   "source": []
  }
 ],
 "metadata": {
  "kernelspec": {
   "display_name": "Python 3",
   "language": "python",
   "name": "python3"
  },
  "language_info": {
   "codemirror_mode": {
    "name": "ipython",
    "version": 3
   },
   "file_extension": ".py",
   "mimetype": "text/x-python",
   "name": "python",
   "nbconvert_exporter": "python",
   "pygments_lexer": "ipython3",
   "version": "3.7.12"
  },
  "papermill": {
   "default_parameters": {},
   "duration": 1980.791157,
   "end_time": "2023-03-22T19:06:05.458134",
   "environment_variables": {},
   "exception": null,
   "input_path": "__notebook__.ipynb",
   "output_path": "__notebook__.ipynb",
   "parameters": {},
   "start_time": "2023-03-22T18:33:04.666977",
   "version": "2.4.0"
  },
  "widgets": {
   "application/vnd.jupyter.widget-state+json": {
    "state": {
     "011e364625cd4eb2aba926f1dcdbe3d3": {
      "model_module": "@jupyter-widgets/controls",
      "model_module_version": "1.5.0",
      "model_name": "HTMLModel",
      "state": {
       "_dom_classes": [],
       "_model_module": "@jupyter-widgets/controls",
       "_model_module_version": "1.5.0",
       "_model_name": "HTMLModel",
       "_view_count": null,
       "_view_module": "@jupyter-widgets/controls",
       "_view_module_version": "1.5.0",
       "_view_name": "HTMLView",
       "description": "",
       "description_tooltip": null,
       "layout": "IPY_MODEL_f54037fee2544f7893025d49e47fd1b4",
       "placeholder": "​",
       "style": "IPY_MODEL_e1dd7ab720404ab6b4d163761a43e35a",
       "value": ""
      }
     },
     "0c65219da32040d396f6bb3e87e8a246": {
      "model_module": "@jupyter-widgets/controls",
      "model_module_version": "1.5.0",
      "model_name": "HTMLModel",
      "state": {
       "_dom_classes": [],
       "_model_module": "@jupyter-widgets/controls",
       "_model_module_version": "1.5.0",
       "_model_name": "HTMLModel",
       "_view_count": null,
       "_view_module": "@jupyter-widgets/controls",
       "_view_module_version": "1.5.0",
       "_view_name": "HTMLView",
       "description": "",
       "description_tooltip": null,
       "layout": "IPY_MODEL_54f7d1358bce4285804c7cd7f0b55945",
       "placeholder": "​",
       "style": "IPY_MODEL_e73fc522152f401f8c32d6015289fe14",
       "value": " 340/340 [14:45&lt;00:00,  2.68s/it]"
      }
     },
     "182381cf6cd3465e8edf20ddcea5f4c0": {
      "model_module": "@jupyter-widgets/controls",
      "model_module_version": "1.5.0",
      "model_name": "HBoxModel",
      "state": {
       "_dom_classes": [],
       "_model_module": "@jupyter-widgets/controls",
       "_model_module_version": "1.5.0",
       "_model_name": "HBoxModel",
       "_view_count": null,
       "_view_module": "@jupyter-widgets/controls",
       "_view_module_version": "1.5.0",
       "_view_name": "HBoxView",
       "box_style": "",
       "children": [
        "IPY_MODEL_7c33ffacdd5345b6a0f709a785e8105d",
        "IPY_MODEL_5bb0860bcb1444e6a6c86a3cdb93c367",
        "IPY_MODEL_0c65219da32040d396f6bb3e87e8a246"
       ],
       "layout": "IPY_MODEL_3b6c2652bcbf4d34867758dfb300d0ad"
      }
     },
     "18556af3b70941279185e42162ea823f": {
      "model_module": "@jupyter-widgets/base",
      "model_module_version": "1.2.0",
      "model_name": "LayoutModel",
      "state": {
       "_model_module": "@jupyter-widgets/base",
       "_model_module_version": "1.2.0",
       "_model_name": "LayoutModel",
       "_view_count": null,
       "_view_module": "@jupyter-widgets/base",
       "_view_module_version": "1.2.0",
       "_view_name": "LayoutView",
       "align_content": null,
       "align_items": null,
       "align_self": null,
       "border": null,
       "bottom": null,
       "display": null,
       "flex": null,
       "flex_flow": null,
       "grid_area": null,
       "grid_auto_columns": null,
       "grid_auto_flow": null,
       "grid_auto_rows": null,
       "grid_column": null,
       "grid_gap": null,
       "grid_row": null,
       "grid_template_areas": null,
       "grid_template_columns": null,
       "grid_template_rows": null,
       "height": null,
       "justify_content": null,
       "justify_items": null,
       "left": null,
       "margin": null,
       "max_height": null,
       "max_width": null,
       "min_height": null,
       "min_width": null,
       "object_fit": null,
       "object_position": null,
       "order": null,
       "overflow": null,
       "overflow_x": null,
       "overflow_y": null,
       "padding": null,
       "right": null,
       "top": null,
       "visibility": null,
       "width": null
      }
     },
     "39f6901c4cb84a99b7b610d625bfd44a": {
      "model_module": "@jupyter-widgets/controls",
      "model_module_version": "1.5.0",
      "model_name": "DescriptionStyleModel",
      "state": {
       "_model_module": "@jupyter-widgets/controls",
       "_model_module_version": "1.5.0",
       "_model_name": "DescriptionStyleModel",
       "_view_count": null,
       "_view_module": "@jupyter-widgets/base",
       "_view_module_version": "1.2.0",
       "_view_name": "StyleView",
       "description_width": ""
      }
     },
     "3b6c2652bcbf4d34867758dfb300d0ad": {
      "model_module": "@jupyter-widgets/base",
      "model_module_version": "1.2.0",
      "model_name": "LayoutModel",
      "state": {
       "_model_module": "@jupyter-widgets/base",
       "_model_module_version": "1.2.0",
       "_model_name": "LayoutModel",
       "_view_count": null,
       "_view_module": "@jupyter-widgets/base",
       "_view_module_version": "1.2.0",
       "_view_name": "LayoutView",
       "align_content": null,
       "align_items": null,
       "align_self": null,
       "border": null,
       "bottom": null,
       "display": null,
       "flex": null,
       "flex_flow": null,
       "grid_area": null,
       "grid_auto_columns": null,
       "grid_auto_flow": null,
       "grid_auto_rows": null,
       "grid_column": null,
       "grid_gap": null,
       "grid_row": null,
       "grid_template_areas": null,
       "grid_template_columns": null,
       "grid_template_rows": null,
       "height": null,
       "justify_content": null,
       "justify_items": null,
       "left": null,
       "margin": null,
       "max_height": null,
       "max_width": null,
       "min_height": null,
       "min_width": null,
       "object_fit": null,
       "object_position": null,
       "order": null,
       "overflow": null,
       "overflow_x": null,
       "overflow_y": null,
       "padding": null,
       "right": null,
       "top": null,
       "visibility": null,
       "width": null
      }
     },
     "459a415c55df4376a5fbb3b93614e0a9": {
      "model_module": "@jupyter-widgets/controls",
      "model_module_version": "1.5.0",
      "model_name": "ProgressStyleModel",
      "state": {
       "_model_module": "@jupyter-widgets/controls",
       "_model_module_version": "1.5.0",
       "_model_name": "ProgressStyleModel",
       "_view_count": null,
       "_view_module": "@jupyter-widgets/base",
       "_view_module_version": "1.2.0",
       "_view_name": "StyleView",
       "bar_color": null,
       "description_width": ""
      }
     },
     "480f72c39b7b4d66ab5fdcb640bc616d": {
      "model_module": "@jupyter-widgets/base",
      "model_module_version": "1.2.0",
      "model_name": "LayoutModel",
      "state": {
       "_model_module": "@jupyter-widgets/base",
       "_model_module_version": "1.2.0",
       "_model_name": "LayoutModel",
       "_view_count": null,
       "_view_module": "@jupyter-widgets/base",
       "_view_module_version": "1.2.0",
       "_view_name": "LayoutView",
       "align_content": null,
       "align_items": null,
       "align_self": null,
       "border": null,
       "bottom": null,
       "display": null,
       "flex": null,
       "flex_flow": null,
       "grid_area": null,
       "grid_auto_columns": null,
       "grid_auto_flow": null,
       "grid_auto_rows": null,
       "grid_column": null,
       "grid_gap": null,
       "grid_row": null,
       "grid_template_areas": null,
       "grid_template_columns": null,
       "grid_template_rows": null,
       "height": null,
       "justify_content": null,
       "justify_items": null,
       "left": null,
       "margin": null,
       "max_height": null,
       "max_width": null,
       "min_height": null,
       "min_width": null,
       "object_fit": null,
       "object_position": null,
       "order": null,
       "overflow": null,
       "overflow_x": null,
       "overflow_y": null,
       "padding": null,
       "right": null,
       "top": null,
       "visibility": null,
       "width": null
      }
     },
     "54f7d1358bce4285804c7cd7f0b55945": {
      "model_module": "@jupyter-widgets/base",
      "model_module_version": "1.2.0",
      "model_name": "LayoutModel",
      "state": {
       "_model_module": "@jupyter-widgets/base",
       "_model_module_version": "1.2.0",
       "_model_name": "LayoutModel",
       "_view_count": null,
       "_view_module": "@jupyter-widgets/base",
       "_view_module_version": "1.2.0",
       "_view_name": "LayoutView",
       "align_content": null,
       "align_items": null,
       "align_self": null,
       "border": null,
       "bottom": null,
       "display": null,
       "flex": null,
       "flex_flow": null,
       "grid_area": null,
       "grid_auto_columns": null,
       "grid_auto_flow": null,
       "grid_auto_rows": null,
       "grid_column": null,
       "grid_gap": null,
       "grid_row": null,
       "grid_template_areas": null,
       "grid_template_columns": null,
       "grid_template_rows": null,
       "height": null,
       "justify_content": null,
       "justify_items": null,
       "left": null,
       "margin": null,
       "max_height": null,
       "max_width": null,
       "min_height": null,
       "min_width": null,
       "object_fit": null,
       "object_position": null,
       "order": null,
       "overflow": null,
       "overflow_x": null,
       "overflow_y": null,
       "padding": null,
       "right": null,
       "top": null,
       "visibility": null,
       "width": null
      }
     },
     "59ac9a169e554f5589f5e4adfbbcd8e0": {
      "model_module": "@jupyter-widgets/controls",
      "model_module_version": "1.5.0",
      "model_name": "FloatProgressModel",
      "state": {
       "_dom_classes": [],
       "_model_module": "@jupyter-widgets/controls",
       "_model_module_version": "1.5.0",
       "_model_name": "FloatProgressModel",
       "_view_count": null,
       "_view_module": "@jupyter-widgets/controls",
       "_view_module_version": "1.5.0",
       "_view_name": "ProgressView",
       "bar_style": "success",
       "description": "",
       "description_tooltip": null,
       "layout": "IPY_MODEL_a13f82836fb0493388a32824ad0a93f3",
       "max": 1.0,
       "min": 0.0,
       "orientation": "horizontal",
       "style": "IPY_MODEL_9e8dcfa9a279471fafaae4a3a6d434ec",
       "value": 1.0
      }
     },
     "5a4abcdd62214c8aafc51c3f8b856854": {
      "model_module": "@jupyter-widgets/controls",
      "model_module_version": "1.5.0",
      "model_name": "HTMLModel",
      "state": {
       "_dom_classes": [],
       "_model_module": "@jupyter-widgets/controls",
       "_model_module_version": "1.5.0",
       "_model_name": "HTMLModel",
       "_view_count": null,
       "_view_module": "@jupyter-widgets/controls",
       "_view_module_version": "1.5.0",
       "_view_name": "HTMLView",
       "description": "",
       "description_tooltip": null,
       "layout": "IPY_MODEL_18556af3b70941279185e42162ea823f",
       "placeholder": "​",
       "style": "IPY_MODEL_39f6901c4cb84a99b7b610d625bfd44a",
       "value": " 4/? [00:00&lt;00:00, 29.68it/s]"
      }
     },
     "5bb0860bcb1444e6a6c86a3cdb93c367": {
      "model_module": "@jupyter-widgets/controls",
      "model_module_version": "1.5.0",
      "model_name": "FloatProgressModel",
      "state": {
       "_dom_classes": [],
       "_model_module": "@jupyter-widgets/controls",
       "_model_module_version": "1.5.0",
       "_model_name": "FloatProgressModel",
       "_view_count": null,
       "_view_module": "@jupyter-widgets/controls",
       "_view_module_version": "1.5.0",
       "_view_name": "ProgressView",
       "bar_style": "success",
       "description": "",
       "description_tooltip": null,
       "layout": "IPY_MODEL_ae9975f182ef4806af210194dc5d3b79",
       "max": 340.0,
       "min": 0.0,
       "orientation": "horizontal",
       "style": "IPY_MODEL_459a415c55df4376a5fbb3b93614e0a9",
       "value": 340.0
      }
     },
     "7c33ffacdd5345b6a0f709a785e8105d": {
      "model_module": "@jupyter-widgets/controls",
      "model_module_version": "1.5.0",
      "model_name": "HTMLModel",
      "state": {
       "_dom_classes": [],
       "_model_module": "@jupyter-widgets/controls",
       "_model_module_version": "1.5.0",
       "_model_name": "HTMLModel",
       "_view_count": null,
       "_view_module": "@jupyter-widgets/controls",
       "_view_module_version": "1.5.0",
       "_view_name": "HTMLView",
       "description": "",
       "description_tooltip": null,
       "layout": "IPY_MODEL_91a588d6c5a34db38f2241607affa37f",
       "placeholder": "​",
       "style": "IPY_MODEL_827259f9b0074444ba509cd660843905",
       "value": "100%"
      }
     },
     "827259f9b0074444ba509cd660843905": {
      "model_module": "@jupyter-widgets/controls",
      "model_module_version": "1.5.0",
      "model_name": "DescriptionStyleModel",
      "state": {
       "_model_module": "@jupyter-widgets/controls",
       "_model_module_version": "1.5.0",
       "_model_name": "DescriptionStyleModel",
       "_view_count": null,
       "_view_module": "@jupyter-widgets/base",
       "_view_module_version": "1.2.0",
       "_view_name": "StyleView",
       "description_width": ""
      }
     },
     "83bd3b3543b34f05a66a0934d7fd7f44": {
      "model_module": "@jupyter-widgets/controls",
      "model_module_version": "1.5.0",
      "model_name": "HBoxModel",
      "state": {
       "_dom_classes": [],
       "_model_module": "@jupyter-widgets/controls",
       "_model_module_version": "1.5.0",
       "_model_name": "HBoxModel",
       "_view_count": null,
       "_view_module": "@jupyter-widgets/controls",
       "_view_module_version": "1.5.0",
       "_view_name": "HBoxView",
       "box_style": "",
       "children": [
        "IPY_MODEL_011e364625cd4eb2aba926f1dcdbe3d3",
        "IPY_MODEL_59ac9a169e554f5589f5e4adfbbcd8e0",
        "IPY_MODEL_5a4abcdd62214c8aafc51c3f8b856854"
       ],
       "layout": "IPY_MODEL_480f72c39b7b4d66ab5fdcb640bc616d"
      }
     },
     "91a588d6c5a34db38f2241607affa37f": {
      "model_module": "@jupyter-widgets/base",
      "model_module_version": "1.2.0",
      "model_name": "LayoutModel",
      "state": {
       "_model_module": "@jupyter-widgets/base",
       "_model_module_version": "1.2.0",
       "_model_name": "LayoutModel",
       "_view_count": null,
       "_view_module": "@jupyter-widgets/base",
       "_view_module_version": "1.2.0",
       "_view_name": "LayoutView",
       "align_content": null,
       "align_items": null,
       "align_self": null,
       "border": null,
       "bottom": null,
       "display": null,
       "flex": null,
       "flex_flow": null,
       "grid_area": null,
       "grid_auto_columns": null,
       "grid_auto_flow": null,
       "grid_auto_rows": null,
       "grid_column": null,
       "grid_gap": null,
       "grid_row": null,
       "grid_template_areas": null,
       "grid_template_columns": null,
       "grid_template_rows": null,
       "height": null,
       "justify_content": null,
       "justify_items": null,
       "left": null,
       "margin": null,
       "max_height": null,
       "max_width": null,
       "min_height": null,
       "min_width": null,
       "object_fit": null,
       "object_position": null,
       "order": null,
       "overflow": null,
       "overflow_x": null,
       "overflow_y": null,
       "padding": null,
       "right": null,
       "top": null,
       "visibility": null,
       "width": null
      }
     },
     "9e8dcfa9a279471fafaae4a3a6d434ec": {
      "model_module": "@jupyter-widgets/controls",
      "model_module_version": "1.5.0",
      "model_name": "ProgressStyleModel",
      "state": {
       "_model_module": "@jupyter-widgets/controls",
       "_model_module_version": "1.5.0",
       "_model_name": "ProgressStyleModel",
       "_view_count": null,
       "_view_module": "@jupyter-widgets/base",
       "_view_module_version": "1.2.0",
       "_view_name": "StyleView",
       "bar_color": null,
       "description_width": ""
      }
     },
     "a13f82836fb0493388a32824ad0a93f3": {
      "model_module": "@jupyter-widgets/base",
      "model_module_version": "1.2.0",
      "model_name": "LayoutModel",
      "state": {
       "_model_module": "@jupyter-widgets/base",
       "_model_module_version": "1.2.0",
       "_model_name": "LayoutModel",
       "_view_count": null,
       "_view_module": "@jupyter-widgets/base",
       "_view_module_version": "1.2.0",
       "_view_name": "LayoutView",
       "align_content": null,
       "align_items": null,
       "align_self": null,
       "border": null,
       "bottom": null,
       "display": null,
       "flex": null,
       "flex_flow": null,
       "grid_area": null,
       "grid_auto_columns": null,
       "grid_auto_flow": null,
       "grid_auto_rows": null,
       "grid_column": null,
       "grid_gap": null,
       "grid_row": null,
       "grid_template_areas": null,
       "grid_template_columns": null,
       "grid_template_rows": null,
       "height": null,
       "justify_content": null,
       "justify_items": null,
       "left": null,
       "margin": null,
       "max_height": null,
       "max_width": null,
       "min_height": null,
       "min_width": null,
       "object_fit": null,
       "object_position": null,
       "order": null,
       "overflow": null,
       "overflow_x": null,
       "overflow_y": null,
       "padding": null,
       "right": null,
       "top": null,
       "visibility": null,
       "width": "20px"
      }
     },
     "ae9975f182ef4806af210194dc5d3b79": {
      "model_module": "@jupyter-widgets/base",
      "model_module_version": "1.2.0",
      "model_name": "LayoutModel",
      "state": {
       "_model_module": "@jupyter-widgets/base",
       "_model_module_version": "1.2.0",
       "_model_name": "LayoutModel",
       "_view_count": null,
       "_view_module": "@jupyter-widgets/base",
       "_view_module_version": "1.2.0",
       "_view_name": "LayoutView",
       "align_content": null,
       "align_items": null,
       "align_self": null,
       "border": null,
       "bottom": null,
       "display": null,
       "flex": null,
       "flex_flow": null,
       "grid_area": null,
       "grid_auto_columns": null,
       "grid_auto_flow": null,
       "grid_auto_rows": null,
       "grid_column": null,
       "grid_gap": null,
       "grid_row": null,
       "grid_template_areas": null,
       "grid_template_columns": null,
       "grid_template_rows": null,
       "height": null,
       "justify_content": null,
       "justify_items": null,
       "left": null,
       "margin": null,
       "max_height": null,
       "max_width": null,
       "min_height": null,
       "min_width": null,
       "object_fit": null,
       "object_position": null,
       "order": null,
       "overflow": null,
       "overflow_x": null,
       "overflow_y": null,
       "padding": null,
       "right": null,
       "top": null,
       "visibility": null,
       "width": null
      }
     },
     "e1dd7ab720404ab6b4d163761a43e35a": {
      "model_module": "@jupyter-widgets/controls",
      "model_module_version": "1.5.0",
      "model_name": "DescriptionStyleModel",
      "state": {
       "_model_module": "@jupyter-widgets/controls",
       "_model_module_version": "1.5.0",
       "_model_name": "DescriptionStyleModel",
       "_view_count": null,
       "_view_module": "@jupyter-widgets/base",
       "_view_module_version": "1.2.0",
       "_view_name": "StyleView",
       "description_width": ""
      }
     },
     "e73fc522152f401f8c32d6015289fe14": {
      "model_module": "@jupyter-widgets/controls",
      "model_module_version": "1.5.0",
      "model_name": "DescriptionStyleModel",
      "state": {
       "_model_module": "@jupyter-widgets/controls",
       "_model_module_version": "1.5.0",
       "_model_name": "DescriptionStyleModel",
       "_view_count": null,
       "_view_module": "@jupyter-widgets/base",
       "_view_module_version": "1.2.0",
       "_view_name": "StyleView",
       "description_width": ""
      }
     },
     "f54037fee2544f7893025d49e47fd1b4": {
      "model_module": "@jupyter-widgets/base",
      "model_module_version": "1.2.0",
      "model_name": "LayoutModel",
      "state": {
       "_model_module": "@jupyter-widgets/base",
       "_model_module_version": "1.2.0",
       "_model_name": "LayoutModel",
       "_view_count": null,
       "_view_module": "@jupyter-widgets/base",
       "_view_module_version": "1.2.0",
       "_view_name": "LayoutView",
       "align_content": null,
       "align_items": null,
       "align_self": null,
       "border": null,
       "bottom": null,
       "display": null,
       "flex": null,
       "flex_flow": null,
       "grid_area": null,
       "grid_auto_columns": null,
       "grid_auto_flow": null,
       "grid_auto_rows": null,
       "grid_column": null,
       "grid_gap": null,
       "grid_row": null,
       "grid_template_areas": null,
       "grid_template_columns": null,
       "grid_template_rows": null,
       "height": null,
       "justify_content": null,
       "justify_items": null,
       "left": null,
       "margin": null,
       "max_height": null,
       "max_width": null,
       "min_height": null,
       "min_width": null,
       "object_fit": null,
       "object_position": null,
       "order": null,
       "overflow": null,
       "overflow_x": null,
       "overflow_y": null,
       "padding": null,
       "right": null,
       "top": null,
       "visibility": null,
       "width": null
      }
     }
    },
    "version_major": 2,
    "version_minor": 0
   }
  }
 },
 "nbformat": 4,
 "nbformat_minor": 5
}
