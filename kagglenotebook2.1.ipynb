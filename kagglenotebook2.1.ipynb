{
 "cells": [
  {
   "cell_type": "markdown",
   "id": "3a9223e1",
   "metadata": {
    "papermill": {
     "duration": 0.012796,
     "end_time": "2023-03-22T11:53:22.974825",
     "exception": false,
     "start_time": "2023-03-22T11:53:22.962029",
     "status": "completed"
    },
    "tags": []
   },
   "source": [
    "# 0. Data Importing from kaggle"
   ]
  },
  {
   "cell_type": "code",
   "execution_count": 1,
   "id": "2fa71114",
   "metadata": {
    "execution": {
     "iopub.execute_input": "2023-03-22T11:53:22.999568Z",
     "iopub.status.busy": "2023-03-22T11:53:22.998761Z",
     "iopub.status.idle": "2023-03-22T11:53:23.108914Z",
     "shell.execute_reply": "2023-03-22T11:53:23.107779Z"
    },
    "papermill": {
     "duration": 0.125236,
     "end_time": "2023-03-22T11:53:23.111446",
     "exception": false,
     "start_time": "2023-03-22T11:53:22.986210",
     "status": "completed"
    },
    "tags": []
   },
   "outputs": [
    {
     "name": "stdout",
     "output_type": "stream",
     "text": [
      "/kaggle/input/quickdraw-doodle-recognition/sample_submission.csv\n",
      "/kaggle/input/quickdraw-doodle-recognition/test_raw.csv\n",
      "/kaggle/input/quickdraw-doodle-recognition/test_simplified.csv\n",
      "/kaggle/input/quickdraw-doodle-recognition/train_simplified/traffic light.csv\n",
      "/kaggle/input/quickdraw-doodle-recognition/train_simplified/rhinoceros.csv\n",
      "/kaggle/input/quickdraw-doodle-recognition/train_simplified/bed.csv\n",
      "/kaggle/input/quickdraw-doodle-recognition/train_simplified/school bus.csv\n",
      "/kaggle/input/quickdraw-doodle-recognition/train_simplified/van.csv\n",
      "/kaggle/input/quickdraw-doodle-recognition/train_simplified/octopus.csv\n",
      "/kaggle/input/quickdraw-doodle-recognition/train_simplified/firetruck.csv\n",
      "/kaggle/input/quickdraw-doodle-recognition/train_simplified/laptop.csv\n",
      "/kaggle/input/quickdraw-doodle-recognition/train_simplified/tractor.csv\n",
      "/kaggle/input/quickdraw-doodle-recognition/train_simplified/matches.csv\n",
      "/kaggle/input/quickdraw-doodle-recognition/train_simplified/windmill.csv\n",
      "/kaggle/input/quickdraw-doodle-recognition/train_simplified/square.csv\n",
      "/kaggle/input/quickdraw-doodle-recognition/train_simplified/pineapple.csv\n",
      "/kaggle/input/quickdraw-doodle-recognition/train_simplified/candle.csv\n",
      "/kaggle/input/quickdraw-doodle-recognition/train_simplified/mosquito.csv\n",
      "/kaggle/input/quickdraw-doodle-recognition/train_simplified/pear.csv\n",
      "/kaggle/input/quickdraw-doodle-recognition/train_simplified/boomerang.csv\n",
      "/kaggle/input/quickdraw-doodle-recognition/train_simplified/lollipop.csv\n",
      "/kaggle/input/quickdraw-doodle-recognition/train_simplified/yoga.csv\n",
      "/kaggle/input/quickdraw-doodle-recognition/train_simplified/waterslide.csv\n",
      "/kaggle/input/quickdraw-doodle-recognition/train_simplified/swan.csv\n",
      "/kaggle/input/quickdraw-doodle-recognition/train_simplified/triangle.csv\n",
      "/kaggle/input/quickdraw-doodle-recognition/train_simplified/diving board.csv\n",
      "/kaggle/input/quickdraw-doodle-recognition/train_simplified/crayon.csv\n",
      "/kaggle/input/quickdraw-doodle-recognition/train_simplified/hockey puck.csv\n",
      "/kaggle/input/quickdraw-doodle-recognition/train_simplified/moustache.csv\n",
      "/kaggle/input/quickdraw-doodle-recognition/train_simplified/calendar.csv\n",
      "/kaggle/input/quickdraw-doodle-recognition/train_simplified/cow.csv\n",
      "/kaggle/input/quickdraw-doodle-recognition/train_simplified/fire hydrant.csv\n",
      "/kaggle/input/quickdraw-doodle-recognition/train_simplified/hot air balloon.csv\n",
      "/kaggle/input/quickdraw-doodle-recognition/train_simplified/helmet.csv\n",
      "/kaggle/input/quickdraw-doodle-recognition/train_simplified/parrot.csv\n",
      "/kaggle/input/quickdraw-doodle-recognition/train_simplified/hot tub.csv\n",
      "/kaggle/input/quickdraw-doodle-recognition/train_simplified/baseball.csv\n",
      "/kaggle/input/quickdraw-doodle-recognition/train_simplified/saw.csv\n",
      "/kaggle/input/quickdraw-doodle-recognition/train_simplified/mouth.csv\n",
      "/kaggle/input/quickdraw-doodle-recognition/train_simplified/passport.csv\n",
      "/kaggle/input/quickdraw-doodle-recognition/train_simplified/campfire.csv\n",
      "/kaggle/input/quickdraw-doodle-recognition/train_simplified/car.csv\n",
      "/kaggle/input/quickdraw-doodle-recognition/train_simplified/bulldozer.csv\n",
      "/kaggle/input/quickdraw-doodle-recognition/train_simplified/pencil.csv\n",
      "/kaggle/input/quickdraw-doodle-recognition/train_simplified/wine glass.csv\n",
      "/kaggle/input/quickdraw-doodle-recognition/train_simplified/marker.csv\n",
      "/kaggle/input/quickdraw-doodle-recognition/train_simplified/axe.csv\n",
      "/kaggle/input/quickdraw-doodle-recognition/train_simplified/mug.csv\n",
      "/kaggle/input/quickdraw-doodle-recognition/train_simplified/see saw.csv\n",
      "/kaggle/input/quickdraw-doodle-recognition/train_simplified/foot.csv\n",
      "/kaggle/input/quickdraw-doodle-recognition/train_simplified/door.csv\n",
      "/kaggle/input/quickdraw-doodle-recognition/train_simplified/beach.csv\n",
      "/kaggle/input/quickdraw-doodle-recognition/train_simplified/cruise ship.csv\n",
      "/kaggle/input/quickdraw-doodle-recognition/train_simplified/drums.csv\n",
      "/kaggle/input/quickdraw-doodle-recognition/train_simplified/necklace.csv\n",
      "/kaggle/input/quickdraw-doodle-recognition/train_simplified/spoon.csv\n",
      "/kaggle/input/quickdraw-doodle-recognition/train_simplified/motorbike.csv\n",
      "/kaggle/input/quickdraw-doodle-recognition/train_simplified/megaphone.csv\n",
      "/kaggle/input/quickdraw-doodle-recognition/train_simplified/penguin.csv\n",
      "/kaggle/input/quickdraw-doodle-recognition/train_simplified/washing machine.csv\n",
      "/kaggle/input/quickdraw-doodle-recognition/train_simplified/giraffe.csv\n",
      "/kaggle/input/quickdraw-doodle-recognition/train_simplified/monkey.csv\n",
      "/kaggle/input/quickdraw-doodle-recognition/train_simplified/shoe.csv\n",
      "/kaggle/input/quickdraw-doodle-recognition/train_simplified/microphone.csv\n",
      "/kaggle/input/quickdraw-doodle-recognition/train_simplified/skyscraper.csv\n",
      "/kaggle/input/quickdraw-doodle-recognition/train_simplified/blackberry.csv\n",
      "/kaggle/input/quickdraw-doodle-recognition/train_simplified/sword.csv\n",
      "/kaggle/input/quickdraw-doodle-recognition/train_simplified/nail.csv\n",
      "/kaggle/input/quickdraw-doodle-recognition/train_simplified/birthday cake.csv\n",
      "/kaggle/input/quickdraw-doodle-recognition/train_simplified/carrot.csv\n",
      "/kaggle/input/quickdraw-doodle-recognition/train_simplified/lobster.csv\n",
      "/kaggle/input/quickdraw-doodle-recognition/train_simplified/hourglass.csv\n",
      "/kaggle/input/quickdraw-doodle-recognition/train_simplified/microwave.csv\n",
      "/kaggle/input/quickdraw-doodle-recognition/train_simplified/cannon.csv\n",
      "/kaggle/input/quickdraw-doodle-recognition/train_simplified/clarinet.csv\n",
      "/kaggle/input/quickdraw-doodle-recognition/train_simplified/basketball.csv\n",
      "/kaggle/input/quickdraw-doodle-recognition/train_simplified/pliers.csv\n",
      "/kaggle/input/quickdraw-doodle-recognition/train_simplified/bee.csv\n",
      "/kaggle/input/quickdraw-doodle-recognition/train_simplified/flashlight.csv\n",
      "/kaggle/input/quickdraw-doodle-recognition/train_simplified/leaf.csv\n",
      "/kaggle/input/quickdraw-doodle-recognition/train_simplified/belt.csv\n",
      "/kaggle/input/quickdraw-doodle-recognition/train_simplified/grass.csv\n",
      "/kaggle/input/quickdraw-doodle-recognition/train_simplified/river.csv\n",
      "/kaggle/input/quickdraw-doodle-recognition/train_simplified/peas.csv\n",
      "/kaggle/input/quickdraw-doodle-recognition/train_simplified/elbow.csv\n",
      "/kaggle/input/quickdraw-doodle-recognition/train_simplified/tiger.csv\n",
      "/kaggle/input/quickdraw-doodle-recognition/train_simplified/roller coaster.csv\n",
      "/kaggle/input/quickdraw-doodle-recognition/train_simplified/piano.csv\n",
      "/kaggle/input/quickdraw-doodle-recognition/train_simplified/trumpet.csv\n",
      "/kaggle/input/quickdraw-doodle-recognition/train_simplified/snowflake.csv\n",
      "/kaggle/input/quickdraw-doodle-recognition/train_simplified/bandage.csv\n",
      "/kaggle/input/quickdraw-doodle-recognition/train_simplified/bowtie.csv\n",
      "/kaggle/input/quickdraw-doodle-recognition/train_simplified/harp.csv\n",
      "/kaggle/input/quickdraw-doodle-recognition/train_simplified/onion.csv\n",
      "/kaggle/input/quickdraw-doodle-recognition/train_simplified/stairs.csv\n",
      "/kaggle/input/quickdraw-doodle-recognition/train_simplified/bus.csv\n",
      "/kaggle/input/quickdraw-doodle-recognition/train_simplified/oven.csv\n",
      "/kaggle/input/quickdraw-doodle-recognition/train_simplified/stop sign.csv\n",
      "/kaggle/input/quickdraw-doodle-recognition/train_simplified/chair.csv\n",
      "/kaggle/input/quickdraw-doodle-recognition/train_simplified/guitar.csv\n",
      "/kaggle/input/quickdraw-doodle-recognition/train_simplified/headphones.csv\n",
      "/kaggle/input/quickdraw-doodle-recognition/train_simplified/hockey stick.csv\n",
      "/kaggle/input/quickdraw-doodle-recognition/train_simplified/sheep.csv\n",
      "/kaggle/input/quickdraw-doodle-recognition/train_simplified/leg.csv\n",
      "/kaggle/input/quickdraw-doodle-recognition/train_simplified/popsicle.csv\n",
      "/kaggle/input/quickdraw-doodle-recognition/train_simplified/suitcase.csv\n",
      "/kaggle/input/quickdraw-doodle-recognition/train_simplified/snorkel.csv\n",
      "/kaggle/input/quickdraw-doodle-recognition/train_simplified/angel.csv\n",
      "/kaggle/input/quickdraw-doodle-recognition/train_simplified/scissors.csv\n",
      "/kaggle/input/quickdraw-doodle-recognition/train_simplified/line.csv\n",
      "/kaggle/input/quickdraw-doodle-recognition/train_simplified/shorts.csv\n",
      "/kaggle/input/quickdraw-doodle-recognition/train_simplified/toaster.csv\n",
      "/kaggle/input/quickdraw-doodle-recognition/train_simplified/lantern.csv\n",
      "/kaggle/input/quickdraw-doodle-recognition/train_simplified/rabbit.csv\n",
      "/kaggle/input/quickdraw-doodle-recognition/train_simplified/rain.csv\n",
      "/kaggle/input/quickdraw-doodle-recognition/train_simplified/camel.csv\n",
      "/kaggle/input/quickdraw-doodle-recognition/train_simplified/mouse.csv\n",
      "/kaggle/input/quickdraw-doodle-recognition/train_simplified/snail.csv\n",
      "/kaggle/input/quickdraw-doodle-recognition/train_simplified/cell phone.csv\n",
      "/kaggle/input/quickdraw-doodle-recognition/train_simplified/couch.csv\n",
      "/kaggle/input/quickdraw-doodle-recognition/train_simplified/butterfly.csv\n",
      "/kaggle/input/quickdraw-doodle-recognition/train_simplified/bear.csv\n",
      "/kaggle/input/quickdraw-doodle-recognition/train_simplified/light bulb.csv\n",
      "/kaggle/input/quickdraw-doodle-recognition/train_simplified/flower.csv\n",
      "/kaggle/input/quickdraw-doodle-recognition/train_simplified/paint can.csv\n",
      "/kaggle/input/quickdraw-doodle-recognition/train_simplified/hedgehog.csv\n",
      "/kaggle/input/quickdraw-doodle-recognition/train_simplified/teddy-bear.csv\n",
      "/kaggle/input/quickdraw-doodle-recognition/train_simplified/stitches.csv\n",
      "/kaggle/input/quickdraw-doodle-recognition/train_simplified/bathtub.csv\n",
      "/kaggle/input/quickdraw-doodle-recognition/train_simplified/blueberry.csv\n",
      "/kaggle/input/quickdraw-doodle-recognition/train_simplified/police car.csv\n",
      "/kaggle/input/quickdraw-doodle-recognition/train_simplified/crab.csv\n",
      "/kaggle/input/quickdraw-doodle-recognition/train_simplified/jail.csv\n",
      "/kaggle/input/quickdraw-doodle-recognition/train_simplified/ear.csv\n",
      "/kaggle/input/quickdraw-doodle-recognition/train_simplified/violin.csv\n",
      "/kaggle/input/quickdraw-doodle-recognition/train_simplified/grapes.csv\n",
      "/kaggle/input/quickdraw-doodle-recognition/train_simplified/ocean.csv\n",
      "/kaggle/input/quickdraw-doodle-recognition/train_simplified/telephone.csv\n",
      "/kaggle/input/quickdraw-doodle-recognition/train_simplified/bucket.csv\n",
      "/kaggle/input/quickdraw-doodle-recognition/train_simplified/anvil.csv\n",
      "/kaggle/input/quickdraw-doodle-recognition/train_simplified/animal migration.csv\n",
      "/kaggle/input/quickdraw-doodle-recognition/train_simplified/hamburger.csv\n",
      "/kaggle/input/quickdraw-doodle-recognition/train_simplified/dog.csv\n",
      "/kaggle/input/quickdraw-doodle-recognition/train_simplified/bush.csv\n",
      "/kaggle/input/quickdraw-doodle-recognition/train_simplified/whale.csv\n",
      "/kaggle/input/quickdraw-doodle-recognition/train_simplified/dresser.csv\n",
      "/kaggle/input/quickdraw-doodle-recognition/train_simplified/bicycle.csv\n",
      "/kaggle/input/quickdraw-doodle-recognition/train_simplified/church.csv\n",
      "/kaggle/input/quickdraw-doodle-recognition/train_simplified/table.csv\n",
      "/kaggle/input/quickdraw-doodle-recognition/train_simplified/hand.csv\n",
      "/kaggle/input/quickdraw-doodle-recognition/train_simplified/bread.csv\n",
      "/kaggle/input/quickdraw-doodle-recognition/train_simplified/toothpaste.csv\n",
      "/kaggle/input/quickdraw-doodle-recognition/train_simplified/raccoon.csv\n",
      "/kaggle/input/quickdraw-doodle-recognition/train_simplified/sandwich.csv\n",
      "/kaggle/input/quickdraw-doodle-recognition/train_simplified/barn.csv\n",
      "/kaggle/input/quickdraw-doodle-recognition/train_simplified/eyeglasses.csv\n",
      "/kaggle/input/quickdraw-doodle-recognition/train_simplified/cactus.csv\n",
      "/kaggle/input/quickdraw-doodle-recognition/train_simplified/smiley face.csv\n",
      "/kaggle/input/quickdraw-doodle-recognition/train_simplified/screwdriver.csv\n",
      "/kaggle/input/quickdraw-doodle-recognition/train_simplified/sun.csv\n",
      "/kaggle/input/quickdraw-doodle-recognition/train_simplified/envelope.csv\n",
      "/kaggle/input/quickdraw-doodle-recognition/train_simplified/map.csv\n",
      "/kaggle/input/quickdraw-doodle-recognition/train_simplified/radio.csv\n",
      "/kaggle/input/quickdraw-doodle-recognition/train_simplified/lighthouse.csv\n",
      "/kaggle/input/quickdraw-doodle-recognition/train_simplified/frog.csv\n",
      "/kaggle/input/quickdraw-doodle-recognition/train_simplified/peanut.csv\n",
      "/kaggle/input/quickdraw-doodle-recognition/train_simplified/sleeping bag.csv\n",
      "/kaggle/input/quickdraw-doodle-recognition/train_simplified/feather.csv\n",
      "/kaggle/input/quickdraw-doodle-recognition/train_simplified/The Great Wall of China.csv\n",
      "/kaggle/input/quickdraw-doodle-recognition/train_simplified/pillow.csv\n",
      "/kaggle/input/quickdraw-doodle-recognition/train_simplified/stethoscope.csv\n",
      "/kaggle/input/quickdraw-doodle-recognition/train_simplified/baseball bat.csv\n",
      "/kaggle/input/quickdraw-doodle-recognition/train_simplified/vase.csv\n",
      "/kaggle/input/quickdraw-doodle-recognition/train_simplified/sailboat.csv\n",
      "/kaggle/input/quickdraw-doodle-recognition/train_simplified/pond.csv\n",
      "/kaggle/input/quickdraw-doodle-recognition/train_simplified/crocodile.csv\n",
      "/kaggle/input/quickdraw-doodle-recognition/train_simplified/cake.csv\n",
      "/kaggle/input/quickdraw-doodle-recognition/train_simplified/kangaroo.csv\n",
      "/kaggle/input/quickdraw-doodle-recognition/train_simplified/pool.csv\n",
      "/kaggle/input/quickdraw-doodle-recognition/train_simplified/hurricane.csv\n",
      "/kaggle/input/quickdraw-doodle-recognition/train_simplified/hammer.csv\n",
      "/kaggle/input/quickdraw-doodle-recognition/train_simplified/tennis racquet.csv\n",
      "/kaggle/input/quickdraw-doodle-recognition/train_simplified/calculator.csv\n",
      "/kaggle/input/quickdraw-doodle-recognition/train_simplified/knee.csv\n",
      "/kaggle/input/quickdraw-doodle-recognition/train_simplified/The Eiffel Tower.csv\n",
      "/kaggle/input/quickdraw-doodle-recognition/train_simplified/cloud.csv\n",
      "/kaggle/input/quickdraw-doodle-recognition/train_simplified/lion.csv\n",
      "/kaggle/input/quickdraw-doodle-recognition/train_simplified/strawberry.csv\n",
      "/kaggle/input/quickdraw-doodle-recognition/train_simplified/fireplace.csv\n",
      "/kaggle/input/quickdraw-doodle-recognition/train_simplified/sink.csv\n",
      "/kaggle/input/quickdraw-doodle-recognition/train_simplified/hexagon.csv\n",
      "/kaggle/input/quickdraw-doodle-recognition/train_simplified/pizza.csv\n",
      "/kaggle/input/quickdraw-doodle-recognition/train_simplified/lipstick.csv\n",
      "/kaggle/input/quickdraw-doodle-recognition/train_simplified/flamingo.csv\n",
      "/kaggle/input/quickdraw-doodle-recognition/train_simplified/spider.csv\n",
      "/kaggle/input/quickdraw-doodle-recognition/train_simplified/star.csv\n",
      "/kaggle/input/quickdraw-doodle-recognition/train_simplified/streetlight.csv\n",
      "/kaggle/input/quickdraw-doodle-recognition/train_simplified/frying pan.csv\n",
      "/kaggle/input/quickdraw-doodle-recognition/train_simplified/cup.csv\n",
      "/kaggle/input/quickdraw-doodle-recognition/train_simplified/television.csv\n",
      "/kaggle/input/quickdraw-doodle-recognition/train_simplified/palm tree.csv\n",
      "/kaggle/input/quickdraw-doodle-recognition/train_simplified/eye.csv\n",
      "/kaggle/input/quickdraw-doodle-recognition/train_simplified/rake.csv\n",
      "/kaggle/input/quickdraw-doodle-recognition/train_simplified/pants.csv\n",
      "/kaggle/input/quickdraw-doodle-recognition/train_simplified/tooth.csv\n",
      "/kaggle/input/quickdraw-doodle-recognition/train_simplified/string bean.csv\n",
      "/kaggle/input/quickdraw-doodle-recognition/train_simplified/bracelet.csv\n",
      "/kaggle/input/quickdraw-doodle-recognition/train_simplified/crown.csv\n",
      "/kaggle/input/quickdraw-doodle-recognition/train_simplified/flip flops.csv\n",
      "/kaggle/input/quickdraw-doodle-recognition/train_simplified/teapot.csv\n",
      "/kaggle/input/quickdraw-doodle-recognition/train_simplified/compass.csv\n",
      "/kaggle/input/quickdraw-doodle-recognition/train_simplified/power outlet.csv\n",
      "/kaggle/input/quickdraw-doodle-recognition/train_simplified/beard.csv\n",
      "/kaggle/input/quickdraw-doodle-recognition/train_simplified/rainbow.csv\n",
      "/kaggle/input/quickdraw-doodle-recognition/train_simplified/toothbrush.csv\n",
      "/kaggle/input/quickdraw-doodle-recognition/train_simplified/canoe.csv\n",
      "/kaggle/input/quickdraw-doodle-recognition/train_simplified/alarm clock.csv\n",
      "/kaggle/input/quickdraw-doodle-recognition/train_simplified/tornado.csv\n",
      "/kaggle/input/quickdraw-doodle-recognition/train_simplified/circle.csv\n",
      "/kaggle/input/quickdraw-doodle-recognition/train_simplified/pig.csv\n",
      "/kaggle/input/quickdraw-doodle-recognition/train_simplified/horse.csv\n",
      "/kaggle/input/quickdraw-doodle-recognition/train_simplified/computer.csv\n",
      "/kaggle/input/quickdraw-doodle-recognition/train_simplified/squiggle.csv\n",
      "/kaggle/input/quickdraw-doodle-recognition/train_simplified/fan.csv\n",
      "/kaggle/input/quickdraw-doodle-recognition/train_simplified/broccoli.csv\n",
      "/kaggle/input/quickdraw-doodle-recognition/train_simplified/hat.csv\n",
      "/kaggle/input/quickdraw-doodle-recognition/train_simplified/wine bottle.csv\n",
      "/kaggle/input/quickdraw-doodle-recognition/train_simplified/umbrella.csv\n",
      "/kaggle/input/quickdraw-doodle-recognition/train_simplified/The Mona Lisa.csv\n",
      "/kaggle/input/quickdraw-doodle-recognition/train_simplified/backpack.csv\n",
      "/kaggle/input/quickdraw-doodle-recognition/train_simplified/chandelier.csv\n",
      "/kaggle/input/quickdraw-doodle-recognition/train_simplified/cooler.csv\n",
      "/kaggle/input/quickdraw-doodle-recognition/train_simplified/basket.csv\n",
      "/kaggle/input/quickdraw-doodle-recognition/train_simplified/paper clip.csv\n",
      "/kaggle/input/quickdraw-doodle-recognition/train_simplified/trombone.csv\n",
      "/kaggle/input/quickdraw-doodle-recognition/train_simplified/house.csv\n",
      "/kaggle/input/quickdraw-doodle-recognition/train_simplified/cat.csv\n",
      "/kaggle/input/quickdraw-doodle-recognition/train_simplified/dolphin.csv\n",
      "/kaggle/input/quickdraw-doodle-recognition/train_simplified/moon.csv\n",
      "/kaggle/input/quickdraw-doodle-recognition/train_simplified/shark.csv\n",
      "/kaggle/input/quickdraw-doodle-recognition/train_simplified/swing set.csv\n",
      "/kaggle/input/quickdraw-doodle-recognition/train_simplified/speedboat.csv\n",
      "/kaggle/input/quickdraw-doodle-recognition/train_simplified/skull.csv\n",
      "/kaggle/input/quickdraw-doodle-recognition/train_simplified/cello.csv\n",
      "/kaggle/input/quickdraw-doodle-recognition/train_simplified/toe.csv\n",
      "/kaggle/input/quickdraw-doodle-recognition/train_simplified/underwear.csv\n",
      "/kaggle/input/quickdraw-doodle-recognition/train_simplified/golf club.csv\n",
      "/kaggle/input/quickdraw-doodle-recognition/train_simplified/paintbrush.csv\n",
      "/kaggle/input/quickdraw-doodle-recognition/train_simplified/tree.csv\n",
      "/kaggle/input/quickdraw-doodle-recognition/train_simplified/panda.csv\n",
      "/kaggle/input/quickdraw-doodle-recognition/train_simplified/camouflage.csv\n",
      "/kaggle/input/quickdraw-doodle-recognition/train_simplified/pickup truck.csv\n",
      "/kaggle/input/quickdraw-doodle-recognition/train_simplified/ladder.csv\n",
      "/kaggle/input/quickdraw-doodle-recognition/train_simplified/arm.csv\n",
      "/kaggle/input/quickdraw-doodle-recognition/train_simplified/clock.csv\n",
      "/kaggle/input/quickdraw-doodle-recognition/train_simplified/fence.csv\n",
      "/kaggle/input/quickdraw-doodle-recognition/train_simplified/sea turtle.csv\n",
      "/kaggle/input/quickdraw-doodle-recognition/train_simplified/jacket.csv\n",
      "/kaggle/input/quickdraw-doodle-recognition/train_simplified/diamond.csv\n",
      "/kaggle/input/quickdraw-doodle-recognition/train_simplified/octagon.csv\n",
      "/kaggle/input/quickdraw-doodle-recognition/train_simplified/remote control.csv\n",
      "/kaggle/input/quickdraw-doodle-recognition/train_simplified/stove.csv\n",
      "/kaggle/input/quickdraw-doodle-recognition/train_simplified/train.csv\n",
      "/kaggle/input/quickdraw-doodle-recognition/train_simplified/tent.csv\n",
      "/kaggle/input/quickdraw-doodle-recognition/train_simplified/parachute.csv\n",
      "/kaggle/input/quickdraw-doodle-recognition/train_simplified/ice cream.csv\n",
      "/kaggle/input/quickdraw-doodle-recognition/train_simplified/truck.csv\n",
      "/kaggle/input/quickdraw-doodle-recognition/train_simplified/castle.csv\n",
      "/kaggle/input/quickdraw-doodle-recognition/train_simplified/finger.csv\n",
      "/kaggle/input/quickdraw-doodle-recognition/train_simplified/potato.csv\n",
      "/kaggle/input/quickdraw-doodle-recognition/train_simplified/binoculars.csv\n",
      "/kaggle/input/quickdraw-doodle-recognition/train_simplified/helicopter.csv\n",
      "/kaggle/input/quickdraw-doodle-recognition/train_simplified/snowman.csv\n",
      "/kaggle/input/quickdraw-doodle-recognition/train_simplified/ant.csv\n",
      "/kaggle/input/quickdraw-doodle-recognition/train_simplified/toilet.csv\n",
      "/kaggle/input/quickdraw-doodle-recognition/train_simplified/flying saucer.csv\n",
      "/kaggle/input/quickdraw-doodle-recognition/train_simplified/steak.csv\n",
      "/kaggle/input/quickdraw-doodle-recognition/train_simplified/owl.csv\n",
      "/kaggle/input/quickdraw-doodle-recognition/train_simplified/t-shirt.csv\n",
      "/kaggle/input/quickdraw-doodle-recognition/train_simplified/house plant.csv\n",
      "/kaggle/input/quickdraw-doodle-recognition/train_simplified/soccer ball.csv\n",
      "/kaggle/input/quickdraw-doodle-recognition/train_simplified/apple.csv\n",
      "/kaggle/input/quickdraw-doodle-recognition/train_simplified/book.csv\n",
      "/kaggle/input/quickdraw-doodle-recognition/train_simplified/face.csv\n",
      "/kaggle/input/quickdraw-doodle-recognition/train_simplified/sock.csv\n",
      "/kaggle/input/quickdraw-doodle-recognition/train_simplified/drill.csv\n",
      "/kaggle/input/quickdraw-doodle-recognition/train_simplified/donut.csv\n",
      "/kaggle/input/quickdraw-doodle-recognition/train_simplified/saxophone.csv\n",
      "/kaggle/input/quickdraw-doodle-recognition/train_simplified/dishwasher.csv\n",
      "/kaggle/input/quickdraw-doodle-recognition/train_simplified/camera.csv\n",
      "/kaggle/input/quickdraw-doodle-recognition/train_simplified/hospital.csv\n",
      "/kaggle/input/quickdraw-doodle-recognition/train_simplified/broom.csv\n",
      "/kaggle/input/quickdraw-doodle-recognition/train_simplified/lightning.csv\n",
      "/kaggle/input/quickdraw-doodle-recognition/train_simplified/watermelon.csv\n",
      "/kaggle/input/quickdraw-doodle-recognition/train_simplified/spreadsheet.csv\n",
      "/kaggle/input/quickdraw-doodle-recognition/train_simplified/bridge.csv\n",
      "/kaggle/input/quickdraw-doodle-recognition/train_simplified/coffee cup.csv\n",
      "/kaggle/input/quickdraw-doodle-recognition/train_simplified/ambulance.csv\n",
      "/kaggle/input/quickdraw-doodle-recognition/train_simplified/key.csv\n",
      "/kaggle/input/quickdraw-doodle-recognition/train_simplified/picture frame.csv\n",
      "/kaggle/input/quickdraw-doodle-recognition/train_simplified/nose.csv\n",
      "/kaggle/input/quickdraw-doodle-recognition/train_simplified/purse.csv\n",
      "/kaggle/input/quickdraw-doodle-recognition/train_simplified/stereo.csv\n",
      "/kaggle/input/quickdraw-doodle-recognition/train_simplified/keyboard.csv\n",
      "/kaggle/input/quickdraw-doodle-recognition/train_simplified/elephant.csv\n",
      "/kaggle/input/quickdraw-doodle-recognition/train_simplified/zigzag.csv\n",
      "/kaggle/input/quickdraw-doodle-recognition/train_simplified/bird.csv\n",
      "/kaggle/input/quickdraw-doodle-recognition/train_simplified/sweater.csv\n",
      "/kaggle/input/quickdraw-doodle-recognition/train_simplified/mailbox.csv\n",
      "/kaggle/input/quickdraw-doodle-recognition/train_simplified/banana.csv\n",
      "/kaggle/input/quickdraw-doodle-recognition/train_simplified/bench.csv\n",
      "/kaggle/input/quickdraw-doodle-recognition/train_simplified/snake.csv\n",
      "/kaggle/input/quickdraw-doodle-recognition/train_simplified/scorpion.csv\n",
      "/kaggle/input/quickdraw-doodle-recognition/train_simplified/submarine.csv\n",
      "/kaggle/input/quickdraw-doodle-recognition/train_simplified/ceiling fan.csv\n",
      "/kaggle/input/quickdraw-doodle-recognition/train_simplified/duck.csv\n",
      "/kaggle/input/quickdraw-doodle-recognition/train_simplified/skateboard.csv\n",
      "/kaggle/input/quickdraw-doodle-recognition/train_simplified/eraser.csv\n",
      "/kaggle/input/quickdraw-doodle-recognition/train_simplified/fork.csv\n",
      "/kaggle/input/quickdraw-doodle-recognition/train_simplified/hot dog.csv\n",
      "/kaggle/input/quickdraw-doodle-recognition/train_simplified/squirrel.csv\n",
      "/kaggle/input/quickdraw-doodle-recognition/train_simplified/rollerskates.csv\n",
      "/kaggle/input/quickdraw-doodle-recognition/train_simplified/zebra.csv\n",
      "/kaggle/input/quickdraw-doodle-recognition/train_simplified/mountain.csv\n",
      "/kaggle/input/quickdraw-doodle-recognition/train_simplified/wristwatch.csv\n",
      "/kaggle/input/quickdraw-doodle-recognition/train_simplified/dumbbell.csv\n",
      "/kaggle/input/quickdraw-doodle-recognition/train_simplified/mermaid.csv\n",
      "/kaggle/input/quickdraw-doodle-recognition/train_simplified/cookie.csv\n",
      "/kaggle/input/quickdraw-doodle-recognition/train_simplified/garden.csv\n",
      "/kaggle/input/quickdraw-doodle-recognition/train_simplified/asparagus.csv\n",
      "/kaggle/input/quickdraw-doodle-recognition/train_simplified/bottlecap.csv\n",
      "/kaggle/input/quickdraw-doodle-recognition/train_simplified/airplane.csv\n",
      "/kaggle/input/quickdraw-doodle-recognition/train_simplified/mushroom.csv\n",
      "/kaggle/input/quickdraw-doodle-recognition/train_simplified/bat.csv\n",
      "/kaggle/input/quickdraw-doodle-recognition/train_simplified/wheel.csv\n",
      "/kaggle/input/quickdraw-doodle-recognition/train_simplified/dragon.csv\n",
      "/kaggle/input/quickdraw-doodle-recognition/train_simplified/goatee.csv\n",
      "/kaggle/input/quickdraw-doodle-recognition/train_simplified/floor lamp.csv\n",
      "/kaggle/input/quickdraw-doodle-recognition/train_simplified/garden hose.csv\n",
      "/kaggle/input/quickdraw-doodle-recognition/train_simplified/postcard.csv\n",
      "/kaggle/input/quickdraw-doodle-recognition/train_simplified/shovel.csv\n",
      "/kaggle/input/quickdraw-doodle-recognition/train_simplified/brain.csv\n",
      "/kaggle/input/quickdraw-doodle-recognition/train_simplified/fish.csv\n",
      "/kaggle/input/quickdraw-doodle-recognition/train_raw/traffic light.csv\n",
      "/kaggle/input/quickdraw-doodle-recognition/train_raw/rhinoceros.csv\n",
      "/kaggle/input/quickdraw-doodle-recognition/train_raw/bed.csv\n",
      "/kaggle/input/quickdraw-doodle-recognition/train_raw/school bus.csv\n",
      "/kaggle/input/quickdraw-doodle-recognition/train_raw/van.csv\n",
      "/kaggle/input/quickdraw-doodle-recognition/train_raw/octopus.csv\n",
      "/kaggle/input/quickdraw-doodle-recognition/train_raw/firetruck.csv\n",
      "/kaggle/input/quickdraw-doodle-recognition/train_raw/laptop.csv\n",
      "/kaggle/input/quickdraw-doodle-recognition/train_raw/tractor.csv\n",
      "/kaggle/input/quickdraw-doodle-recognition/train_raw/matches.csv\n",
      "/kaggle/input/quickdraw-doodle-recognition/train_raw/windmill.csv\n",
      "/kaggle/input/quickdraw-doodle-recognition/train_raw/square.csv\n",
      "/kaggle/input/quickdraw-doodle-recognition/train_raw/pineapple.csv\n",
      "/kaggle/input/quickdraw-doodle-recognition/train_raw/candle.csv\n",
      "/kaggle/input/quickdraw-doodle-recognition/train_raw/mosquito.csv\n",
      "/kaggle/input/quickdraw-doodle-recognition/train_raw/pear.csv\n",
      "/kaggle/input/quickdraw-doodle-recognition/train_raw/boomerang.csv\n",
      "/kaggle/input/quickdraw-doodle-recognition/train_raw/lollipop.csv\n",
      "/kaggle/input/quickdraw-doodle-recognition/train_raw/yoga.csv\n",
      "/kaggle/input/quickdraw-doodle-recognition/train_raw/waterslide.csv\n",
      "/kaggle/input/quickdraw-doodle-recognition/train_raw/swan.csv\n",
      "/kaggle/input/quickdraw-doodle-recognition/train_raw/triangle.csv\n",
      "/kaggle/input/quickdraw-doodle-recognition/train_raw/diving board.csv\n",
      "/kaggle/input/quickdraw-doodle-recognition/train_raw/crayon.csv\n",
      "/kaggle/input/quickdraw-doodle-recognition/train_raw/hockey puck.csv\n",
      "/kaggle/input/quickdraw-doodle-recognition/train_raw/moustache.csv\n",
      "/kaggle/input/quickdraw-doodle-recognition/train_raw/calendar.csv\n",
      "/kaggle/input/quickdraw-doodle-recognition/train_raw/cow.csv\n",
      "/kaggle/input/quickdraw-doodle-recognition/train_raw/fire hydrant.csv\n",
      "/kaggle/input/quickdraw-doodle-recognition/train_raw/hot air balloon.csv\n",
      "/kaggle/input/quickdraw-doodle-recognition/train_raw/helmet.csv\n",
      "/kaggle/input/quickdraw-doodle-recognition/train_raw/parrot.csv\n",
      "/kaggle/input/quickdraw-doodle-recognition/train_raw/hot tub.csv\n",
      "/kaggle/input/quickdraw-doodle-recognition/train_raw/baseball.csv\n",
      "/kaggle/input/quickdraw-doodle-recognition/train_raw/saw.csv\n",
      "/kaggle/input/quickdraw-doodle-recognition/train_raw/mouth.csv\n",
      "/kaggle/input/quickdraw-doodle-recognition/train_raw/passport.csv\n",
      "/kaggle/input/quickdraw-doodle-recognition/train_raw/campfire.csv\n",
      "/kaggle/input/quickdraw-doodle-recognition/train_raw/car.csv\n",
      "/kaggle/input/quickdraw-doodle-recognition/train_raw/bulldozer.csv\n",
      "/kaggle/input/quickdraw-doodle-recognition/train_raw/pencil.csv\n",
      "/kaggle/input/quickdraw-doodle-recognition/train_raw/wine glass.csv\n",
      "/kaggle/input/quickdraw-doodle-recognition/train_raw/marker.csv\n",
      "/kaggle/input/quickdraw-doodle-recognition/train_raw/axe.csv\n",
      "/kaggle/input/quickdraw-doodle-recognition/train_raw/mug.csv\n",
      "/kaggle/input/quickdraw-doodle-recognition/train_raw/see saw.csv\n",
      "/kaggle/input/quickdraw-doodle-recognition/train_raw/foot.csv\n",
      "/kaggle/input/quickdraw-doodle-recognition/train_raw/door.csv\n",
      "/kaggle/input/quickdraw-doodle-recognition/train_raw/beach.csv\n",
      "/kaggle/input/quickdraw-doodle-recognition/train_raw/cruise ship.csv\n",
      "/kaggle/input/quickdraw-doodle-recognition/train_raw/drums.csv\n",
      "/kaggle/input/quickdraw-doodle-recognition/train_raw/necklace.csv\n",
      "/kaggle/input/quickdraw-doodle-recognition/train_raw/spoon.csv\n",
      "/kaggle/input/quickdraw-doodle-recognition/train_raw/motorbike.csv\n",
      "/kaggle/input/quickdraw-doodle-recognition/train_raw/megaphone.csv\n",
      "/kaggle/input/quickdraw-doodle-recognition/train_raw/penguin.csv\n",
      "/kaggle/input/quickdraw-doodle-recognition/train_raw/washing machine.csv\n",
      "/kaggle/input/quickdraw-doodle-recognition/train_raw/giraffe.csv\n",
      "/kaggle/input/quickdraw-doodle-recognition/train_raw/monkey.csv\n",
      "/kaggle/input/quickdraw-doodle-recognition/train_raw/shoe.csv\n",
      "/kaggle/input/quickdraw-doodle-recognition/train_raw/microphone.csv\n",
      "/kaggle/input/quickdraw-doodle-recognition/train_raw/skyscraper.csv\n",
      "/kaggle/input/quickdraw-doodle-recognition/train_raw/blackberry.csv\n",
      "/kaggle/input/quickdraw-doodle-recognition/train_raw/sword.csv\n",
      "/kaggle/input/quickdraw-doodle-recognition/train_raw/nail.csv\n",
      "/kaggle/input/quickdraw-doodle-recognition/train_raw/birthday cake.csv\n",
      "/kaggle/input/quickdraw-doodle-recognition/train_raw/carrot.csv\n",
      "/kaggle/input/quickdraw-doodle-recognition/train_raw/lobster.csv\n",
      "/kaggle/input/quickdraw-doodle-recognition/train_raw/hourglass.csv\n",
      "/kaggle/input/quickdraw-doodle-recognition/train_raw/microwave.csv\n",
      "/kaggle/input/quickdraw-doodle-recognition/train_raw/cannon.csv\n",
      "/kaggle/input/quickdraw-doodle-recognition/train_raw/clarinet.csv\n",
      "/kaggle/input/quickdraw-doodle-recognition/train_raw/basketball.csv\n",
      "/kaggle/input/quickdraw-doodle-recognition/train_raw/pliers.csv\n",
      "/kaggle/input/quickdraw-doodle-recognition/train_raw/bee.csv\n",
      "/kaggle/input/quickdraw-doodle-recognition/train_raw/flashlight.csv\n",
      "/kaggle/input/quickdraw-doodle-recognition/train_raw/leaf.csv\n",
      "/kaggle/input/quickdraw-doodle-recognition/train_raw/belt.csv\n",
      "/kaggle/input/quickdraw-doodle-recognition/train_raw/grass.csv\n",
      "/kaggle/input/quickdraw-doodle-recognition/train_raw/river.csv\n",
      "/kaggle/input/quickdraw-doodle-recognition/train_raw/peas.csv\n",
      "/kaggle/input/quickdraw-doodle-recognition/train_raw/elbow.csv\n",
      "/kaggle/input/quickdraw-doodle-recognition/train_raw/tiger.csv\n",
      "/kaggle/input/quickdraw-doodle-recognition/train_raw/roller coaster.csv\n",
      "/kaggle/input/quickdraw-doodle-recognition/train_raw/piano.csv\n",
      "/kaggle/input/quickdraw-doodle-recognition/train_raw/trumpet.csv\n",
      "/kaggle/input/quickdraw-doodle-recognition/train_raw/snowflake.csv\n",
      "/kaggle/input/quickdraw-doodle-recognition/train_raw/bandage.csv\n",
      "/kaggle/input/quickdraw-doodle-recognition/train_raw/bowtie.csv\n",
      "/kaggle/input/quickdraw-doodle-recognition/train_raw/harp.csv\n",
      "/kaggle/input/quickdraw-doodle-recognition/train_raw/onion.csv\n",
      "/kaggle/input/quickdraw-doodle-recognition/train_raw/stairs.csv\n",
      "/kaggle/input/quickdraw-doodle-recognition/train_raw/bus.csv\n",
      "/kaggle/input/quickdraw-doodle-recognition/train_raw/oven.csv\n",
      "/kaggle/input/quickdraw-doodle-recognition/train_raw/stop sign.csv\n",
      "/kaggle/input/quickdraw-doodle-recognition/train_raw/chair.csv\n",
      "/kaggle/input/quickdraw-doodle-recognition/train_raw/guitar.csv\n",
      "/kaggle/input/quickdraw-doodle-recognition/train_raw/headphones.csv\n",
      "/kaggle/input/quickdraw-doodle-recognition/train_raw/hockey stick.csv\n",
      "/kaggle/input/quickdraw-doodle-recognition/train_raw/sheep.csv\n",
      "/kaggle/input/quickdraw-doodle-recognition/train_raw/leg.csv\n",
      "/kaggle/input/quickdraw-doodle-recognition/train_raw/popsicle.csv\n",
      "/kaggle/input/quickdraw-doodle-recognition/train_raw/suitcase.csv\n",
      "/kaggle/input/quickdraw-doodle-recognition/train_raw/snorkel.csv\n",
      "/kaggle/input/quickdraw-doodle-recognition/train_raw/angel.csv\n",
      "/kaggle/input/quickdraw-doodle-recognition/train_raw/scissors.csv\n",
      "/kaggle/input/quickdraw-doodle-recognition/train_raw/line.csv\n",
      "/kaggle/input/quickdraw-doodle-recognition/train_raw/shorts.csv\n",
      "/kaggle/input/quickdraw-doodle-recognition/train_raw/toaster.csv\n",
      "/kaggle/input/quickdraw-doodle-recognition/train_raw/lantern.csv\n",
      "/kaggle/input/quickdraw-doodle-recognition/train_raw/rabbit.csv\n",
      "/kaggle/input/quickdraw-doodle-recognition/train_raw/rain.csv\n",
      "/kaggle/input/quickdraw-doodle-recognition/train_raw/camel.csv\n",
      "/kaggle/input/quickdraw-doodle-recognition/train_raw/mouse.csv\n",
      "/kaggle/input/quickdraw-doodle-recognition/train_raw/snail.csv\n",
      "/kaggle/input/quickdraw-doodle-recognition/train_raw/cell phone.csv\n",
      "/kaggle/input/quickdraw-doodle-recognition/train_raw/couch.csv\n",
      "/kaggle/input/quickdraw-doodle-recognition/train_raw/butterfly.csv\n",
      "/kaggle/input/quickdraw-doodle-recognition/train_raw/bear.csv\n",
      "/kaggle/input/quickdraw-doodle-recognition/train_raw/light bulb.csv\n",
      "/kaggle/input/quickdraw-doodle-recognition/train_raw/flower.csv\n",
      "/kaggle/input/quickdraw-doodle-recognition/train_raw/paint can.csv\n",
      "/kaggle/input/quickdraw-doodle-recognition/train_raw/hedgehog.csv\n",
      "/kaggle/input/quickdraw-doodle-recognition/train_raw/teddy-bear.csv\n",
      "/kaggle/input/quickdraw-doodle-recognition/train_raw/stitches.csv\n",
      "/kaggle/input/quickdraw-doodle-recognition/train_raw/bathtub.csv\n",
      "/kaggle/input/quickdraw-doodle-recognition/train_raw/blueberry.csv\n",
      "/kaggle/input/quickdraw-doodle-recognition/train_raw/police car.csv\n",
      "/kaggle/input/quickdraw-doodle-recognition/train_raw/crab.csv\n",
      "/kaggle/input/quickdraw-doodle-recognition/train_raw/jail.csv\n",
      "/kaggle/input/quickdraw-doodle-recognition/train_raw/ear.csv\n",
      "/kaggle/input/quickdraw-doodle-recognition/train_raw/violin.csv\n",
      "/kaggle/input/quickdraw-doodle-recognition/train_raw/grapes.csv\n",
      "/kaggle/input/quickdraw-doodle-recognition/train_raw/ocean.csv\n",
      "/kaggle/input/quickdraw-doodle-recognition/train_raw/telephone.csv\n",
      "/kaggle/input/quickdraw-doodle-recognition/train_raw/bucket.csv\n",
      "/kaggle/input/quickdraw-doodle-recognition/train_raw/anvil.csv\n",
      "/kaggle/input/quickdraw-doodle-recognition/train_raw/animal migration.csv\n",
      "/kaggle/input/quickdraw-doodle-recognition/train_raw/hamburger.csv\n",
      "/kaggle/input/quickdraw-doodle-recognition/train_raw/dog.csv\n",
      "/kaggle/input/quickdraw-doodle-recognition/train_raw/bush.csv\n",
      "/kaggle/input/quickdraw-doodle-recognition/train_raw/whale.csv\n",
      "/kaggle/input/quickdraw-doodle-recognition/train_raw/dresser.csv\n",
      "/kaggle/input/quickdraw-doodle-recognition/train_raw/bicycle.csv\n",
      "/kaggle/input/quickdraw-doodle-recognition/train_raw/church.csv\n",
      "/kaggle/input/quickdraw-doodle-recognition/train_raw/table.csv\n",
      "/kaggle/input/quickdraw-doodle-recognition/train_raw/hand.csv\n",
      "/kaggle/input/quickdraw-doodle-recognition/train_raw/bread.csv\n",
      "/kaggle/input/quickdraw-doodle-recognition/train_raw/toothpaste.csv\n",
      "/kaggle/input/quickdraw-doodle-recognition/train_raw/raccoon.csv\n",
      "/kaggle/input/quickdraw-doodle-recognition/train_raw/sandwich.csv\n",
      "/kaggle/input/quickdraw-doodle-recognition/train_raw/barn.csv\n",
      "/kaggle/input/quickdraw-doodle-recognition/train_raw/eyeglasses.csv\n",
      "/kaggle/input/quickdraw-doodle-recognition/train_raw/cactus.csv\n",
      "/kaggle/input/quickdraw-doodle-recognition/train_raw/smiley face.csv\n",
      "/kaggle/input/quickdraw-doodle-recognition/train_raw/screwdriver.csv\n",
      "/kaggle/input/quickdraw-doodle-recognition/train_raw/sun.csv\n",
      "/kaggle/input/quickdraw-doodle-recognition/train_raw/envelope.csv\n",
      "/kaggle/input/quickdraw-doodle-recognition/train_raw/map.csv\n",
      "/kaggle/input/quickdraw-doodle-recognition/train_raw/radio.csv\n",
      "/kaggle/input/quickdraw-doodle-recognition/train_raw/lighthouse.csv\n",
      "/kaggle/input/quickdraw-doodle-recognition/train_raw/frog.csv\n",
      "/kaggle/input/quickdraw-doodle-recognition/train_raw/peanut.csv\n",
      "/kaggle/input/quickdraw-doodle-recognition/train_raw/sleeping bag.csv\n",
      "/kaggle/input/quickdraw-doodle-recognition/train_raw/feather.csv\n",
      "/kaggle/input/quickdraw-doodle-recognition/train_raw/The Great Wall of China.csv\n",
      "/kaggle/input/quickdraw-doodle-recognition/train_raw/pillow.csv\n",
      "/kaggle/input/quickdraw-doodle-recognition/train_raw/stethoscope.csv\n",
      "/kaggle/input/quickdraw-doodle-recognition/train_raw/baseball bat.csv\n",
      "/kaggle/input/quickdraw-doodle-recognition/train_raw/vase.csv\n",
      "/kaggle/input/quickdraw-doodle-recognition/train_raw/sailboat.csv\n",
      "/kaggle/input/quickdraw-doodle-recognition/train_raw/pond.csv\n",
      "/kaggle/input/quickdraw-doodle-recognition/train_raw/crocodile.csv\n",
      "/kaggle/input/quickdraw-doodle-recognition/train_raw/cake.csv\n",
      "/kaggle/input/quickdraw-doodle-recognition/train_raw/kangaroo.csv\n",
      "/kaggle/input/quickdraw-doodle-recognition/train_raw/pool.csv\n",
      "/kaggle/input/quickdraw-doodle-recognition/train_raw/hurricane.csv\n",
      "/kaggle/input/quickdraw-doodle-recognition/train_raw/hammer.csv\n",
      "/kaggle/input/quickdraw-doodle-recognition/train_raw/tennis racquet.csv\n",
      "/kaggle/input/quickdraw-doodle-recognition/train_raw/calculator.csv\n",
      "/kaggle/input/quickdraw-doodle-recognition/train_raw/knee.csv\n",
      "/kaggle/input/quickdraw-doodle-recognition/train_raw/The Eiffel Tower.csv\n",
      "/kaggle/input/quickdraw-doodle-recognition/train_raw/cloud.csv\n",
      "/kaggle/input/quickdraw-doodle-recognition/train_raw/lion.csv\n",
      "/kaggle/input/quickdraw-doodle-recognition/train_raw/strawberry.csv\n",
      "/kaggle/input/quickdraw-doodle-recognition/train_raw/fireplace.csv\n",
      "/kaggle/input/quickdraw-doodle-recognition/train_raw/sink.csv\n",
      "/kaggle/input/quickdraw-doodle-recognition/train_raw/hexagon.csv\n",
      "/kaggle/input/quickdraw-doodle-recognition/train_raw/pizza.csv\n",
      "/kaggle/input/quickdraw-doodle-recognition/train_raw/lipstick.csv\n",
      "/kaggle/input/quickdraw-doodle-recognition/train_raw/flamingo.csv\n",
      "/kaggle/input/quickdraw-doodle-recognition/train_raw/spider.csv\n",
      "/kaggle/input/quickdraw-doodle-recognition/train_raw/star.csv\n",
      "/kaggle/input/quickdraw-doodle-recognition/train_raw/streetlight.csv\n",
      "/kaggle/input/quickdraw-doodle-recognition/train_raw/frying pan.csv\n",
      "/kaggle/input/quickdraw-doodle-recognition/train_raw/cup.csv\n",
      "/kaggle/input/quickdraw-doodle-recognition/train_raw/television.csv\n",
      "/kaggle/input/quickdraw-doodle-recognition/train_raw/palm tree.csv\n",
      "/kaggle/input/quickdraw-doodle-recognition/train_raw/eye.csv\n",
      "/kaggle/input/quickdraw-doodle-recognition/train_raw/rake.csv\n",
      "/kaggle/input/quickdraw-doodle-recognition/train_raw/pants.csv\n",
      "/kaggle/input/quickdraw-doodle-recognition/train_raw/tooth.csv\n",
      "/kaggle/input/quickdraw-doodle-recognition/train_raw/string bean.csv\n",
      "/kaggle/input/quickdraw-doodle-recognition/train_raw/bracelet.csv\n",
      "/kaggle/input/quickdraw-doodle-recognition/train_raw/crown.csv\n",
      "/kaggle/input/quickdraw-doodle-recognition/train_raw/flip flops.csv\n",
      "/kaggle/input/quickdraw-doodle-recognition/train_raw/teapot.csv\n",
      "/kaggle/input/quickdraw-doodle-recognition/train_raw/compass.csv\n",
      "/kaggle/input/quickdraw-doodle-recognition/train_raw/power outlet.csv\n",
      "/kaggle/input/quickdraw-doodle-recognition/train_raw/beard.csv\n",
      "/kaggle/input/quickdraw-doodle-recognition/train_raw/rainbow.csv\n",
      "/kaggle/input/quickdraw-doodle-recognition/train_raw/toothbrush.csv\n",
      "/kaggle/input/quickdraw-doodle-recognition/train_raw/canoe.csv\n",
      "/kaggle/input/quickdraw-doodle-recognition/train_raw/alarm clock.csv\n",
      "/kaggle/input/quickdraw-doodle-recognition/train_raw/tornado.csv\n",
      "/kaggle/input/quickdraw-doodle-recognition/train_raw/circle.csv\n",
      "/kaggle/input/quickdraw-doodle-recognition/train_raw/pig.csv\n",
      "/kaggle/input/quickdraw-doodle-recognition/train_raw/horse.csv\n",
      "/kaggle/input/quickdraw-doodle-recognition/train_raw/computer.csv\n",
      "/kaggle/input/quickdraw-doodle-recognition/train_raw/squiggle.csv\n",
      "/kaggle/input/quickdraw-doodle-recognition/train_raw/fan.csv\n",
      "/kaggle/input/quickdraw-doodle-recognition/train_raw/broccoli.csv\n",
      "/kaggle/input/quickdraw-doodle-recognition/train_raw/hat.csv\n",
      "/kaggle/input/quickdraw-doodle-recognition/train_raw/wine bottle.csv\n",
      "/kaggle/input/quickdraw-doodle-recognition/train_raw/umbrella.csv\n",
      "/kaggle/input/quickdraw-doodle-recognition/train_raw/The Mona Lisa.csv\n",
      "/kaggle/input/quickdraw-doodle-recognition/train_raw/backpack.csv\n",
      "/kaggle/input/quickdraw-doodle-recognition/train_raw/chandelier.csv\n",
      "/kaggle/input/quickdraw-doodle-recognition/train_raw/cooler.csv\n",
      "/kaggle/input/quickdraw-doodle-recognition/train_raw/basket.csv\n",
      "/kaggle/input/quickdraw-doodle-recognition/train_raw/paper clip.csv\n",
      "/kaggle/input/quickdraw-doodle-recognition/train_raw/trombone.csv\n",
      "/kaggle/input/quickdraw-doodle-recognition/train_raw/house.csv\n",
      "/kaggle/input/quickdraw-doodle-recognition/train_raw/cat.csv\n",
      "/kaggle/input/quickdraw-doodle-recognition/train_raw/dolphin.csv\n",
      "/kaggle/input/quickdraw-doodle-recognition/train_raw/moon.csv\n",
      "/kaggle/input/quickdraw-doodle-recognition/train_raw/shark.csv\n",
      "/kaggle/input/quickdraw-doodle-recognition/train_raw/swing set.csv\n",
      "/kaggle/input/quickdraw-doodle-recognition/train_raw/speedboat.csv\n",
      "/kaggle/input/quickdraw-doodle-recognition/train_raw/skull.csv\n",
      "/kaggle/input/quickdraw-doodle-recognition/train_raw/cello.csv\n",
      "/kaggle/input/quickdraw-doodle-recognition/train_raw/toe.csv\n",
      "/kaggle/input/quickdraw-doodle-recognition/train_raw/underwear.csv\n",
      "/kaggle/input/quickdraw-doodle-recognition/train_raw/golf club.csv\n",
      "/kaggle/input/quickdraw-doodle-recognition/train_raw/paintbrush.csv\n",
      "/kaggle/input/quickdraw-doodle-recognition/train_raw/tree.csv\n",
      "/kaggle/input/quickdraw-doodle-recognition/train_raw/panda.csv\n",
      "/kaggle/input/quickdraw-doodle-recognition/train_raw/camouflage.csv\n",
      "/kaggle/input/quickdraw-doodle-recognition/train_raw/pickup truck.csv\n",
      "/kaggle/input/quickdraw-doodle-recognition/train_raw/ladder.csv\n",
      "/kaggle/input/quickdraw-doodle-recognition/train_raw/arm.csv\n",
      "/kaggle/input/quickdraw-doodle-recognition/train_raw/clock.csv\n",
      "/kaggle/input/quickdraw-doodle-recognition/train_raw/fence.csv\n",
      "/kaggle/input/quickdraw-doodle-recognition/train_raw/sea turtle.csv\n",
      "/kaggle/input/quickdraw-doodle-recognition/train_raw/jacket.csv\n",
      "/kaggle/input/quickdraw-doodle-recognition/train_raw/diamond.csv\n",
      "/kaggle/input/quickdraw-doodle-recognition/train_raw/octagon.csv\n",
      "/kaggle/input/quickdraw-doodle-recognition/train_raw/remote control.csv\n",
      "/kaggle/input/quickdraw-doodle-recognition/train_raw/stove.csv\n",
      "/kaggle/input/quickdraw-doodle-recognition/train_raw/train.csv\n",
      "/kaggle/input/quickdraw-doodle-recognition/train_raw/tent.csv\n",
      "/kaggle/input/quickdraw-doodle-recognition/train_raw/parachute.csv\n",
      "/kaggle/input/quickdraw-doodle-recognition/train_raw/ice cream.csv\n",
      "/kaggle/input/quickdraw-doodle-recognition/train_raw/truck.csv\n",
      "/kaggle/input/quickdraw-doodle-recognition/train_raw/castle.csv\n",
      "/kaggle/input/quickdraw-doodle-recognition/train_raw/finger.csv\n",
      "/kaggle/input/quickdraw-doodle-recognition/train_raw/potato.csv\n",
      "/kaggle/input/quickdraw-doodle-recognition/train_raw/binoculars.csv\n",
      "/kaggle/input/quickdraw-doodle-recognition/train_raw/helicopter.csv\n",
      "/kaggle/input/quickdraw-doodle-recognition/train_raw/snowman.csv\n",
      "/kaggle/input/quickdraw-doodle-recognition/train_raw/ant.csv\n",
      "/kaggle/input/quickdraw-doodle-recognition/train_raw/toilet.csv\n",
      "/kaggle/input/quickdraw-doodle-recognition/train_raw/flying saucer.csv\n",
      "/kaggle/input/quickdraw-doodle-recognition/train_raw/steak.csv\n",
      "/kaggle/input/quickdraw-doodle-recognition/train_raw/owl.csv\n",
      "/kaggle/input/quickdraw-doodle-recognition/train_raw/t-shirt.csv\n",
      "/kaggle/input/quickdraw-doodle-recognition/train_raw/house plant.csv\n",
      "/kaggle/input/quickdraw-doodle-recognition/train_raw/soccer ball.csv\n",
      "/kaggle/input/quickdraw-doodle-recognition/train_raw/apple.csv\n",
      "/kaggle/input/quickdraw-doodle-recognition/train_raw/book.csv\n",
      "/kaggle/input/quickdraw-doodle-recognition/train_raw/face.csv\n",
      "/kaggle/input/quickdraw-doodle-recognition/train_raw/sock.csv\n",
      "/kaggle/input/quickdraw-doodle-recognition/train_raw/drill.csv\n",
      "/kaggle/input/quickdraw-doodle-recognition/train_raw/donut.csv\n",
      "/kaggle/input/quickdraw-doodle-recognition/train_raw/saxophone.csv\n",
      "/kaggle/input/quickdraw-doodle-recognition/train_raw/dishwasher.csv\n",
      "/kaggle/input/quickdraw-doodle-recognition/train_raw/camera.csv\n",
      "/kaggle/input/quickdraw-doodle-recognition/train_raw/hospital.csv\n",
      "/kaggle/input/quickdraw-doodle-recognition/train_raw/broom.csv\n",
      "/kaggle/input/quickdraw-doodle-recognition/train_raw/lightning.csv\n",
      "/kaggle/input/quickdraw-doodle-recognition/train_raw/watermelon.csv\n",
      "/kaggle/input/quickdraw-doodle-recognition/train_raw/spreadsheet.csv\n",
      "/kaggle/input/quickdraw-doodle-recognition/train_raw/bridge.csv\n",
      "/kaggle/input/quickdraw-doodle-recognition/train_raw/coffee cup.csv\n",
      "/kaggle/input/quickdraw-doodle-recognition/train_raw/ambulance.csv\n",
      "/kaggle/input/quickdraw-doodle-recognition/train_raw/key.csv\n",
      "/kaggle/input/quickdraw-doodle-recognition/train_raw/picture frame.csv\n",
      "/kaggle/input/quickdraw-doodle-recognition/train_raw/nose.csv\n",
      "/kaggle/input/quickdraw-doodle-recognition/train_raw/purse.csv\n",
      "/kaggle/input/quickdraw-doodle-recognition/train_raw/stereo.csv\n",
      "/kaggle/input/quickdraw-doodle-recognition/train_raw/keyboard.csv\n",
      "/kaggle/input/quickdraw-doodle-recognition/train_raw/elephant.csv\n",
      "/kaggle/input/quickdraw-doodle-recognition/train_raw/zigzag.csv\n",
      "/kaggle/input/quickdraw-doodle-recognition/train_raw/bird.csv\n",
      "/kaggle/input/quickdraw-doodle-recognition/train_raw/sweater.csv\n",
      "/kaggle/input/quickdraw-doodle-recognition/train_raw/mailbox.csv\n",
      "/kaggle/input/quickdraw-doodle-recognition/train_raw/banana.csv\n",
      "/kaggle/input/quickdraw-doodle-recognition/train_raw/bench.csv\n",
      "/kaggle/input/quickdraw-doodle-recognition/train_raw/snake.csv\n",
      "/kaggle/input/quickdraw-doodle-recognition/train_raw/scorpion.csv\n",
      "/kaggle/input/quickdraw-doodle-recognition/train_raw/submarine.csv\n",
      "/kaggle/input/quickdraw-doodle-recognition/train_raw/ceiling fan.csv\n",
      "/kaggle/input/quickdraw-doodle-recognition/train_raw/duck.csv\n",
      "/kaggle/input/quickdraw-doodle-recognition/train_raw/skateboard.csv\n",
      "/kaggle/input/quickdraw-doodle-recognition/train_raw/eraser.csv\n",
      "/kaggle/input/quickdraw-doodle-recognition/train_raw/fork.csv\n",
      "/kaggle/input/quickdraw-doodle-recognition/train_raw/hot dog.csv\n",
      "/kaggle/input/quickdraw-doodle-recognition/train_raw/squirrel.csv\n",
      "/kaggle/input/quickdraw-doodle-recognition/train_raw/rollerskates.csv\n",
      "/kaggle/input/quickdraw-doodle-recognition/train_raw/zebra.csv\n",
      "/kaggle/input/quickdraw-doodle-recognition/train_raw/mountain.csv\n",
      "/kaggle/input/quickdraw-doodle-recognition/train_raw/wristwatch.csv\n",
      "/kaggle/input/quickdraw-doodle-recognition/train_raw/dumbbell.csv\n",
      "/kaggle/input/quickdraw-doodle-recognition/train_raw/mermaid.csv\n",
      "/kaggle/input/quickdraw-doodle-recognition/train_raw/cookie.csv\n",
      "/kaggle/input/quickdraw-doodle-recognition/train_raw/garden.csv\n",
      "/kaggle/input/quickdraw-doodle-recognition/train_raw/asparagus.csv\n",
      "/kaggle/input/quickdraw-doodle-recognition/train_raw/bottlecap.csv\n",
      "/kaggle/input/quickdraw-doodle-recognition/train_raw/airplane.csv\n",
      "/kaggle/input/quickdraw-doodle-recognition/train_raw/mushroom.csv\n",
      "/kaggle/input/quickdraw-doodle-recognition/train_raw/bat.csv\n",
      "/kaggle/input/quickdraw-doodle-recognition/train_raw/wheel.csv\n",
      "/kaggle/input/quickdraw-doodle-recognition/train_raw/dragon.csv\n",
      "/kaggle/input/quickdraw-doodle-recognition/train_raw/goatee.csv\n",
      "/kaggle/input/quickdraw-doodle-recognition/train_raw/floor lamp.csv\n",
      "/kaggle/input/quickdraw-doodle-recognition/train_raw/garden hose.csv\n",
      "/kaggle/input/quickdraw-doodle-recognition/train_raw/postcard.csv\n",
      "/kaggle/input/quickdraw-doodle-recognition/train_raw/shovel.csv\n",
      "/kaggle/input/quickdraw-doodle-recognition/train_raw/brain.csv\n",
      "/kaggle/input/quickdraw-doodle-recognition/train_raw/fish.csv\n"
     ]
    }
   ],
   "source": [
    "import os\n",
    "for dirname, _, filenames in os.walk('/kaggle/input'):\n",
    "    for filename in filenames:\n",
    "        print(os.path.join(dirname, filename))"
   ]
  },
  {
   "cell_type": "markdown",
   "id": "db35c518",
   "metadata": {
    "papermill": {
     "duration": 0.012118,
     "end_time": "2023-03-22T11:53:23.139633",
     "exception": false,
     "start_time": "2023-03-22T11:53:23.127515",
     "status": "completed"
    },
    "tags": []
   },
   "source": [
    "# Limiting GPU usage"
   ]
  },
  {
   "cell_type": "code",
   "execution_count": 2,
   "id": "c8df7a29",
   "metadata": {
    "execution": {
     "iopub.execute_input": "2023-03-22T11:53:23.165828Z",
     "iopub.status.busy": "2023-03-22T11:53:23.165152Z",
     "iopub.status.idle": "2023-03-22T11:53:30.417099Z",
     "shell.execute_reply": "2023-03-22T11:53:30.415801Z"
    },
    "papermill": {
     "duration": 7.268972,
     "end_time": "2023-03-22T11:53:30.420628",
     "exception": false,
     "start_time": "2023-03-22T11:53:23.151656",
     "status": "completed"
    },
    "tags": []
   },
   "outputs": [
    {
     "name": "stdout",
     "output_type": "stream",
     "text": [
      "1 Physical GPUs, 1 Logical GPUs\n"
     ]
    }
   ],
   "source": [
    "# limit memory to prevent data leak\n",
    "import tensorflow as tf\n",
    "gpus = tf.config.list_physical_devices('GPU')\n",
    "if gpus:\n",
    "  try:\n",
    "    # Currently, memory growth needs to be the same across GPUs\n",
    "    for gpu in gpus:\n",
    "      tf.config.experimental.set_memory_growth(gpu, True)\n",
    "    logical_gpus = tf.config.list_logical_devices('GPU')\n",
    "    print(len(gpus), \"Physical GPUs,\", len(logical_gpus), \"Logical GPUs\")\n",
    "    \n",
    "    del logical_gpus,gpus\n",
    "  except RuntimeError as e:\n",
    "    # Memory growth must be set before GPUs have been initialized\n",
    "    print(e)\n"
   ]
  },
  {
   "cell_type": "markdown",
   "id": "d50f92a5",
   "metadata": {
    "papermill": {
     "duration": 0.008185,
     "end_time": "2023-03-22T11:53:30.438606",
     "exception": false,
     "start_time": "2023-03-22T11:53:30.430421",
     "status": "completed"
    },
    "tags": []
   },
   "source": [
    "# 1. Importing modules"
   ]
  },
  {
   "cell_type": "code",
   "execution_count": 3,
   "id": "489b9043",
   "metadata": {
    "execution": {
     "iopub.execute_input": "2023-03-22T11:53:30.456509Z",
     "iopub.status.busy": "2023-03-22T11:53:30.455883Z",
     "iopub.status.idle": "2023-03-22T11:53:30.636036Z",
     "shell.execute_reply": "2023-03-22T11:53:30.634898Z"
    },
    "papermill": {
     "duration": 0.191584,
     "end_time": "2023-03-22T11:53:30.638299",
     "exception": false,
     "start_time": "2023-03-22T11:53:30.446715",
     "status": "completed"
    },
    "tags": []
   },
   "outputs": [
    {
     "name": "stdout",
     "output_type": "stream",
     "text": [
      "588\n"
     ]
    },
    {
     "data": {
      "text/plain": [
       "56"
      ]
     },
     "execution_count": 3,
     "metadata": {},
     "output_type": "execute_result"
    }
   ],
   "source": [
    "import numpy as np\n",
    "import pandas as pd\n",
    "import json\n",
    "import gc\n",
    "import matplotlib.pyplot as plt\n",
    "%matplotlib inline\n",
    "from glob import glob\n",
    "import os\n",
    "train_files = glob(\"../input/quickdraw-doodle-recognition/train_simplified/*.csv\")\n",
    "\n",
    "# calculating data size per category\n",
    "rows = 200000\n",
    "# rows = 10000\n",
    "rows = rows - (rows % 340)\n",
    "cat_size = rows // 340\n",
    "print(cat_size)\n",
    "gc.collect()"
   ]
  },
  {
   "cell_type": "markdown",
   "id": "42297923",
   "metadata": {
    "papermill": {
     "duration": 0.008233,
     "end_time": "2023-03-22T11:53:30.655343",
     "exception": false,
     "start_time": "2023-03-22T11:53:30.647110",
     "status": "completed"
    },
    "tags": []
   },
   "source": [
    "# 2. Image Preprocessing \n",
    "1. converting data in text json to an image \n",
    "2. normalizing the image size\n",
    "3. normalizing the image pixels\n"
   ]
  },
  {
   "cell_type": "code",
   "execution_count": 4,
   "id": "4088005a",
   "metadata": {
    "execution": {
     "iopub.execute_input": "2023-03-22T11:53:30.673678Z",
     "iopub.status.busy": "2023-03-22T11:53:30.672690Z",
     "iopub.status.idle": "2023-03-22T11:53:30.838929Z",
     "shell.execute_reply": "2023-03-22T11:53:30.837946Z"
    },
    "papermill": {
     "duration": 0.177899,
     "end_time": "2023-03-22T11:53:30.841429",
     "exception": false,
     "start_time": "2023-03-22T11:53:30.663530",
     "status": "completed"
    },
    "tags": []
   },
   "outputs": [],
   "source": [
    "from PIL import Image, ImageDraw\n",
    "from dask import bag\n",
    "def drawStrokes(matrixOfStrokes):\n",
    "    image = Image.new(\"RGB\", (256,256), color=255)\n",
    "    image_draw = ImageDraw.Draw(image)\n",
    "    for stroke in json.loads(matrixOfStrokes):\n",
    "        for i in range(len(stroke[0])-1):\n",
    "            image_draw.line([stroke[0][i], \n",
    "                             stroke[1][i],\n",
    "                             stroke[0][i+1], \n",
    "                             stroke[1][i+1]],\n",
    "                            fill=0, width=5)\n",
    "    return np.array(image.resize((32,32)))/255."
   ]
  },
  {
   "cell_type": "code",
   "execution_count": 5,
   "id": "96d3f196",
   "metadata": {
    "execution": {
     "iopub.execute_input": "2023-03-22T11:53:30.859496Z",
     "iopub.status.busy": "2023-03-22T11:53:30.859186Z",
     "iopub.status.idle": "2023-03-22T12:07:35.340814Z",
     "shell.execute_reply": "2023-03-22T12:07:35.339532Z"
    },
    "papermill": {
     "duration": 844.493236,
     "end_time": "2023-03-22T12:07:35.343097",
     "exception": false,
     "start_time": "2023-03-22T11:53:30.849861",
     "status": "completed"
    },
    "tags": []
   },
   "outputs": [
    {
     "data": {
      "application/vnd.jupyter.widget-view+json": {
       "model_id": "5b3eaa6db67c4ddf844171a8bb3d9f18",
       "version_major": 2,
       "version_minor": 0
      },
      "text/plain": [
       "  0%|          | 0/340 [00:00<?, ?it/s]"
      ]
     },
     "metadata": {},
     "output_type": "display_data"
    }
   ],
   "source": [
    "from tqdm.notebook import tqdm\n",
    "drawingArray = np.zeros((rows,32,32,3))\n",
    "categories = pd.Series([None] * rows)\n",
    "i = 0\n",
    "for f in tqdm(train_files):\n",
    "    for df in pd.read_csv(f, index_col=\"key_id\", chunksize=1000, nrows=cat_size):\n",
    "        df = df.drop(['countrycode','timestamp','recognized'],axis=1)\n",
    "        imagebag = bag.from_sequence(df.drawing.values).map(drawStrokes)\n",
    "        imagebag = np.array(imagebag.compute())\n",
    "        categories[i:(i + imagebag.shape[0])] = df[\"word\"].replace(\"\\s+\", \"_\", regex=True)\n",
    "        drawingArray[i:(i + imagebag.shape[0])] = imagebag\n",
    "        i += imagebag.shape[0]\n"
   ]
  },
  {
   "cell_type": "code",
   "execution_count": 6,
   "id": "0e5dbd58",
   "metadata": {
    "execution": {
     "iopub.execute_input": "2023-03-22T12:07:35.361992Z",
     "iopub.status.busy": "2023-03-22T12:07:35.361655Z",
     "iopub.status.idle": "2023-03-22T12:07:35.574426Z",
     "shell.execute_reply": "2023-03-22T12:07:35.573281Z"
    },
    "papermill": {
     "duration": 0.225567,
     "end_time": "2023-03-22T12:07:35.577411",
     "exception": false,
     "start_time": "2023-03-22T12:07:35.351844",
     "status": "completed"
    },
    "tags": []
   },
   "outputs": [
    {
     "data": {
      "text/plain": [
       "54"
      ]
     },
     "execution_count": 6,
     "metadata": {},
     "output_type": "execute_result"
    }
   ],
   "source": [
    "gc.collect()"
   ]
  },
  {
   "cell_type": "code",
   "execution_count": 7,
   "id": "58dff806",
   "metadata": {
    "execution": {
     "iopub.execute_input": "2023-03-22T12:07:35.597085Z",
     "iopub.status.busy": "2023-03-22T12:07:35.596781Z",
     "iopub.status.idle": "2023-03-22T12:07:35.616847Z",
     "shell.execute_reply": "2023-03-22T12:07:35.615688Z"
    },
    "papermill": {
     "duration": 0.032178,
     "end_time": "2023-03-22T12:07:35.619095",
     "exception": false,
     "start_time": "2023-03-22T12:07:35.586917",
     "status": "completed"
    },
    "tags": []
   },
   "outputs": [
    {
     "data": {
      "text/plain": [
       "traffic_light    588\n",
       "umbrella         588\n",
       "house            588\n",
       "trombone         588\n",
       "paper_clip       588\n",
       "                ... \n",
       "rain             588\n",
       "rabbit           588\n",
       "lantern          588\n",
       "toaster          588\n",
       "fish             588\n",
       "Length: 340, dtype: int64"
      ]
     },
     "execution_count": 7,
     "metadata": {},
     "output_type": "execute_result"
    }
   ],
   "source": [
    "categories.value_counts()"
   ]
  },
  {
   "cell_type": "markdown",
   "id": "b7a7901f",
   "metadata": {
    "papermill": {
     "duration": 0.008649,
     "end_time": "2023-03-22T12:07:35.636299",
     "exception": false,
     "start_time": "2023-03-22T12:07:35.627650",
     "status": "completed"
    },
    "tags": []
   },
   "source": [
    "# 3. Train Test split"
   ]
  },
  {
   "cell_type": "code",
   "execution_count": 8,
   "id": "f89a106d",
   "metadata": {
    "execution": {
     "iopub.execute_input": "2023-03-22T12:07:35.655346Z",
     "iopub.status.busy": "2023-03-22T12:07:35.654396Z",
     "iopub.status.idle": "2023-03-22T12:08:22.367942Z",
     "shell.execute_reply": "2023-03-22T12:08:22.366874Z"
    },
    "papermill": {
     "duration": 46.72566,
     "end_time": "2023-03-22T12:08:22.370613",
     "exception": false,
     "start_time": "2023-03-22T12:07:35.644953",
     "status": "completed"
    },
    "tags": []
   },
   "outputs": [],
   "source": [
    "\n",
    "from sklearn.model_selection import train_test_split\n",
    "indecator = pd.get_dummies(categories)\n",
    "tr_x,tst_x,tr_indecator,tst_indecator = train_test_split(drawingArray, indecator, test_size=0.25,random_state=0,stratify=indecator)\n"
   ]
  },
  {
   "cell_type": "code",
   "execution_count": 9,
   "id": "f071337b",
   "metadata": {
    "execution": {
     "iopub.execute_input": "2023-03-22T12:08:22.390133Z",
     "iopub.status.busy": "2023-03-22T12:08:22.389829Z",
     "iopub.status.idle": "2023-03-22T12:08:22.408050Z",
     "shell.execute_reply": "2023-03-22T12:08:22.406455Z"
    },
    "papermill": {
     "duration": 0.030335,
     "end_time": "2023-03-22T12:08:22.410276",
     "exception": false,
     "start_time": "2023-03-22T12:08:22.379941",
     "status": "completed"
    },
    "tags": []
   },
   "outputs": [
    {
     "name": "stdout",
     "output_type": "stream",
     "text": [
      "The_Eiffel_Tower : 441\n",
      "The_Great_Wall_of_China : 441\n",
      "The_Mona_Lisa : 441\n",
      "airplane : 441\n",
      "alarm_clock : 441\n",
      "ambulance : 441\n"
     ]
    }
   ],
   "source": [
    "itr = 0\n",
    "for df in tr_indecator:\n",
    "    print(f\"{df} : {tr_indecator[df].value_counts()[1]}\")\n",
    "    if itr == 5:\n",
    "        break\n",
    "    else:\n",
    "        itr+= 1"
   ]
  },
  {
   "cell_type": "code",
   "execution_count": 10,
   "id": "4b04e6b5",
   "metadata": {
    "execution": {
     "iopub.execute_input": "2023-03-22T12:08:22.429268Z",
     "iopub.status.busy": "2023-03-22T12:08:22.428959Z",
     "iopub.status.idle": "2023-03-22T12:08:22.442016Z",
     "shell.execute_reply": "2023-03-22T12:08:22.440391Z"
    },
    "papermill": {
     "duration": 0.02584,
     "end_time": "2023-03-22T12:08:22.444861",
     "exception": false,
     "start_time": "2023-03-22T12:08:22.419021",
     "status": "completed"
    },
    "tags": []
   },
   "outputs": [
    {
     "name": "stdout",
     "output_type": "stream",
     "text": [
      "The_Eiffel_Tower : 147\n",
      "The_Great_Wall_of_China : 147\n",
      "The_Mona_Lisa : 147\n",
      "airplane : 147\n",
      "alarm_clock : 147\n",
      "ambulance : 147\n"
     ]
    }
   ],
   "source": [
    "itr = 0\n",
    "for df in tst_indecator:\n",
    "    try:\n",
    "        print(f\"{df} : {tst_indecator[df].value_counts()[1]}\")\n",
    "    except:\n",
    "        print(f\"{df} : 0\")\n",
    "        \n",
    "    if itr == 5:\n",
    "        break\n",
    "    else:\n",
    "        itr+= 1"
   ]
  },
  {
   "cell_type": "code",
   "execution_count": 11,
   "id": "ff333f64",
   "metadata": {
    "execution": {
     "iopub.execute_input": "2023-03-22T12:08:22.464449Z",
     "iopub.status.busy": "2023-03-22T12:08:22.464175Z",
     "iopub.status.idle": "2023-03-22T12:08:23.185142Z",
     "shell.execute_reply": "2023-03-22T12:08:23.183662Z"
    },
    "papermill": {
     "duration": 0.735627,
     "end_time": "2023-03-22T12:08:23.189728",
     "exception": false,
     "start_time": "2023-03-22T12:08:22.454101",
     "status": "completed"
    },
    "tags": []
   },
   "outputs": [
    {
     "data": {
      "text/plain": [
       "21"
      ]
     },
     "execution_count": 11,
     "metadata": {},
     "output_type": "execute_result"
    }
   ],
   "source": [
    "del drawingArray,categories\n",
    "gc.collect()"
   ]
  },
  {
   "cell_type": "markdown",
   "id": "251ba4af",
   "metadata": {
    "papermill": {
     "duration": 0.022599,
     "end_time": "2023-03-22T12:08:23.235869",
     "exception": false,
     "start_time": "2023-03-22T12:08:23.213270",
     "status": "completed"
    },
    "tags": []
   },
   "source": [
    "# 4. Creating Deep learning model"
   ]
  },
  {
   "cell_type": "code",
   "execution_count": 12,
   "id": "f3c252fa",
   "metadata": {
    "execution": {
     "iopub.execute_input": "2023-03-22T12:08:23.286127Z",
     "iopub.status.busy": "2023-03-22T12:08:23.283815Z",
     "iopub.status.idle": "2023-03-22T12:08:23.303900Z",
     "shell.execute_reply": "2023-03-22T12:08:23.301664Z"
    },
    "papermill": {
     "duration": 0.049955,
     "end_time": "2023-03-22T12:08:23.308429",
     "exception": false,
     "start_time": "2023-03-22T12:08:23.258474",
     "status": "completed"
    },
    "tags": []
   },
   "outputs": [],
   "source": [
    "from keras.callbacks import ModelCheckpoint\n",
    "from tensorflow.keras.optimizers.legacy import Adam\n",
    "\n",
    "filepath = 'my_best_model.hdf5'\n",
    "\n",
    "checkpoint = ModelCheckpoint(filepath=filepath, \n",
    "                             monitor=\"val_loss\", \n",
    "                             save_best_only=True,\n",
    "                             mode='min')\n",
    "\n",
    "callbacks = [checkpoint]"
   ]
  },
  {
   "cell_type": "code",
   "execution_count": 13,
   "id": "f8260e59",
   "metadata": {
    "execution": {
     "iopub.execute_input": "2023-03-22T12:08:23.358380Z",
     "iopub.status.busy": "2023-03-22T12:08:23.356879Z",
     "iopub.status.idle": "2023-03-22T12:08:23.538866Z",
     "shell.execute_reply": "2023-03-22T12:08:23.537737Z"
    },
    "papermill": {
     "duration": 0.209659,
     "end_time": "2023-03-22T12:08:23.541431",
     "exception": false,
     "start_time": "2023-03-22T12:08:23.331772",
     "status": "completed"
    },
    "tags": []
   },
   "outputs": [
    {
     "data": {
      "text/plain": [
       "42"
      ]
     },
     "execution_count": 13,
     "metadata": {},
     "output_type": "execute_result"
    }
   ],
   "source": [
    "gc.collect()"
   ]
  },
  {
   "cell_type": "code",
   "execution_count": 14,
   "id": "264b492c",
   "metadata": {
    "execution": {
     "iopub.execute_input": "2023-03-22T12:08:23.561884Z",
     "iopub.status.busy": "2023-03-22T12:08:23.561556Z",
     "iopub.status.idle": "2023-03-22T12:08:23.891960Z",
     "shell.execute_reply": "2023-03-22T12:08:23.890946Z"
    },
    "papermill": {
     "duration": 0.343366,
     "end_time": "2023-03-22T12:08:23.894518",
     "exception": false,
     "start_time": "2023-03-22T12:08:23.551152",
     "status": "completed"
    },
    "tags": []
   },
   "outputs": [],
   "source": [
    "import tensorflow as tf\n",
    "from tensorflow.keras.models import Sequential,Model\n",
    "from tensorflow.keras.layers import Dense,Dropout,Flatten,Conv2D,MaxPooling2D,Activation,BatchNormalization\n",
    "# from tensorflow.keras.optimizers import Adam\n",
    "\n",
    "strategy = tf.distribute.MirroredStrategy()\n",
    "with strategy.scope():\n",
    "    \n",
    "    model = Sequential()\n",
    "\n",
    "#     model.add(Conv2D(128, (3,3), activation = 'relu', padding = 'same'))\n",
    "#     model.add(Conv2D(128, (3,3), activation = 'relu', padding = 'same'))\n",
    "#     model.add(MaxPooling2D(2,2))\n",
    "#     model.add(BatchNormalization())\n",
    "\n",
    "#     model.add(Conv2D(256, (3,3), activation = 'relu', padding = 'same'))\n",
    "#     model.add(Conv2D(256, (3,3), activation = 'relu', padding = 'same'))\n",
    "#     model.add(MaxPooling2D(2,2))\n",
    "#     model.add(BatchNormalization())\n",
    "\n",
    "    model.add(Conv2D(512, (3,3), activation = 'relu', padding = 'same', input_shape=(32, 32, 3)))\n",
    "    model.add(Conv2D(512, (3,3), activation = 'relu', padding = 'same'))\n",
    "    model.add(MaxPooling2D(2,2))\n",
    "    model.add(BatchNormalization())\n",
    "\n",
    "    model.add(Conv2D(1024, (3,3), activation = 'relu', padding = 'same'))\n",
    "    model.add(Conv2D(1024, (3,3), activation = 'relu', padding = 'same'))\n",
    "    model.add(MaxPooling2D(2,2))\n",
    "    model.add(BatchNormalization())\n",
    "    model.add(Flatten())\n",
    "\n",
    "#     model.add(Dense(2048, activation='relu'))\n",
    "#     model.add(BatchNormalization())\n",
    "    \n",
    "#     model.add(Dense(1024, activation='relu'))\n",
    "#     model.add(BatchNormalization())\n",
    "\n",
    "#     model.add(Dense(1024, activation='relu'))\n",
    "#     model.add(BatchNormalization())\n",
    "\n",
    "    model.add(Dense(512, activation='relu'))\n",
    "    model.add(BatchNormalization())\n",
    "\n",
    "    model.add(Dense(340, activation='softmax'))"
   ]
  },
  {
   "cell_type": "code",
   "execution_count": 15,
   "id": "acced7bc",
   "metadata": {
    "execution": {
     "iopub.execute_input": "2023-03-22T12:08:23.915410Z",
     "iopub.status.busy": "2023-03-22T12:08:23.914811Z",
     "iopub.status.idle": "2023-03-22T12:08:23.934605Z",
     "shell.execute_reply": "2023-03-22T12:08:23.933708Z"
    },
    "papermill": {
     "duration": 0.032639,
     "end_time": "2023-03-22T12:08:23.936892",
     "exception": false,
     "start_time": "2023-03-22T12:08:23.904253",
     "status": "completed"
    },
    "tags": []
   },
   "outputs": [],
   "source": [
    "model.compile(loss='categorical_crossentropy',\n",
    "              optimizer= \"adam\",\n",
    "              metrics=['accuracy'])\n",
    "\n",
    "# model.compile(loss='categorical_crossentropy',\n",
    "#                   optimizer=\"adam\",\n",
    "#                   metrics=['accuracy'])\n"
   ]
  },
  {
   "cell_type": "code",
   "execution_count": 16,
   "id": "65e30ca8",
   "metadata": {
    "execution": {
     "iopub.execute_input": "2023-03-22T12:08:23.957639Z",
     "iopub.status.busy": "2023-03-22T12:08:23.956908Z",
     "iopub.status.idle": "2023-03-22T12:08:24.006024Z",
     "shell.execute_reply": "2023-03-22T12:08:24.005075Z"
    },
    "papermill": {
     "duration": 0.075589,
     "end_time": "2023-03-22T12:08:24.022201",
     "exception": false,
     "start_time": "2023-03-22T12:08:23.946612",
     "status": "completed"
    },
    "tags": []
   },
   "outputs": [
    {
     "name": "stdout",
     "output_type": "stream",
     "text": [
      "Model: \"sequential\"\n",
      "_________________________________________________________________\n",
      " Layer (type)                Output Shape              Param #   \n",
      "=================================================================\n",
      " conv2d (Conv2D)             (None, 32, 32, 512)       14336     \n",
      "                                                                 \n",
      " conv2d_1 (Conv2D)           (None, 32, 32, 512)       2359808   \n",
      "                                                                 \n",
      " max_pooling2d (MaxPooling2D  (None, 16, 16, 512)      0         \n",
      " )                                                               \n",
      "                                                                 \n",
      " batch_normalization (BatchN  (None, 16, 16, 512)      2048      \n",
      " ormalization)                                                   \n",
      "                                                                 \n",
      " conv2d_2 (Conv2D)           (None, 16, 16, 1024)      4719616   \n",
      "                                                                 \n",
      " conv2d_3 (Conv2D)           (None, 16, 16, 1024)      9438208   \n",
      "                                                                 \n",
      " max_pooling2d_1 (MaxPooling  (None, 8, 8, 1024)       0         \n",
      " 2D)                                                             \n",
      "                                                                 \n",
      " batch_normalization_1 (Batc  (None, 8, 8, 1024)       4096      \n",
      " hNormalization)                                                 \n",
      "                                                                 \n",
      " flatten (Flatten)           (None, 65536)             0         \n",
      "                                                                 \n",
      " dense (Dense)               (None, 512)               33554944  \n",
      "                                                                 \n",
      " batch_normalization_2 (Batc  (None, 512)              2048      \n",
      " hNormalization)                                                 \n",
      "                                                                 \n",
      " dense_1 (Dense)             (None, 340)               174420    \n",
      "                                                                 \n",
      "=================================================================\n",
      "Total params: 50,269,524\n",
      "Trainable params: 50,265,428\n",
      "Non-trainable params: 4,096\n",
      "_________________________________________________________________\n"
     ]
    }
   ],
   "source": [
    "model.summary()"
   ]
  },
  {
   "cell_type": "code",
   "execution_count": 17,
   "id": "f4cab3f5",
   "metadata": {
    "execution": {
     "iopub.execute_input": "2023-03-22T12:08:24.047582Z",
     "iopub.status.busy": "2023-03-22T12:08:24.047306Z",
     "iopub.status.idle": "2023-03-22T12:08:24.262690Z",
     "shell.execute_reply": "2023-03-22T12:08:24.261718Z"
    },
    "papermill": {
     "duration": 0.229735,
     "end_time": "2023-03-22T12:08:24.264888",
     "exception": false,
     "start_time": "2023-03-22T12:08:24.035153",
     "status": "completed"
    },
    "tags": []
   },
   "outputs": [
    {
     "data": {
      "text/plain": [
       "467"
      ]
     },
     "execution_count": 17,
     "metadata": {},
     "output_type": "execute_result"
    }
   ],
   "source": [
    "gc.collect()"
   ]
  },
  {
   "cell_type": "markdown",
   "id": "deff7852",
   "metadata": {
    "papermill": {
     "duration": 0.011247,
     "end_time": "2023-03-22T12:08:24.288078",
     "exception": false,
     "start_time": "2023-03-22T12:08:24.276831",
     "status": "completed"
    },
    "tags": []
   },
   "source": [
    "# 5. Training Deep learning model  "
   ]
  },
  {
   "cell_type": "code",
   "execution_count": 18,
   "id": "7037849b",
   "metadata": {
    "execution": {
     "iopub.execute_input": "2023-03-22T12:08:24.312173Z",
     "iopub.status.busy": "2023-03-22T12:08:24.311590Z",
     "iopub.status.idle": "2023-03-22T14:13:57.560612Z",
     "shell.execute_reply": "2023-03-22T14:13:57.559656Z"
    },
    "papermill": {
     "duration": 7533.263478,
     "end_time": "2023-03-22T14:13:57.562819",
     "exception": false,
     "start_time": "2023-03-22T12:08:24.299341",
     "status": "completed"
    },
    "tags": []
   },
   "outputs": [
    {
     "name": "stdout",
     "output_type": "stream",
     "text": [
      "Epoch 1/30\n",
      "1172/1172 [==============================] - 277s 221ms/step - loss: 2.9836 - accuracy: 0.3659 - val_loss: 522.8322 - val_accuracy: 0.0030\n",
      "Epoch 2/30\n",
      "1172/1172 [==============================] - 249s 213ms/step - loss: 1.6836 - accuracy: 0.5984 - val_loss: 2.9258 - val_accuracy: 0.3812\n",
      "Epoch 3/30\n",
      "1172/1172 [==============================] - 250s 213ms/step - loss: 0.9709 - accuracy: 0.7540 - val_loss: 2.2932 - val_accuracy: 0.4900\n",
      "Epoch 4/30\n",
      "1172/1172 [==============================] - 248s 212ms/step - loss: 0.3300 - accuracy: 0.9151 - val_loss: 29.4578 - val_accuracy: 0.0133\n",
      "Epoch 5/30\n",
      "1172/1172 [==============================] - 248s 211ms/step - loss: 0.1197 - accuracy: 0.9698 - val_loss: 14.7789 - val_accuracy: 0.0436\n",
      "Epoch 6/30\n",
      "1172/1172 [==============================] - 247s 211ms/step - loss: 0.0888 - accuracy: 0.9755 - val_loss: 3.1120 - val_accuracy: 0.4778\n",
      "Epoch 7/30\n",
      "1172/1172 [==============================] - 264s 226ms/step - loss: 0.1068 - accuracy: 0.9683 - val_loss: 3.4033 - val_accuracy: 0.4678\n",
      "Epoch 8/30\n",
      "1172/1172 [==============================] - 248s 211ms/step - loss: 0.0889 - accuracy: 0.9725 - val_loss: 54.2000 - val_accuracy: 0.0119\n",
      "Epoch 9/30\n",
      "1172/1172 [==============================] - 248s 211ms/step - loss: 0.0605 - accuracy: 0.9819 - val_loss: 3.5542 - val_accuracy: 0.5012\n",
      "Epoch 10/30\n",
      "1172/1172 [==============================] - 248s 211ms/step - loss: 0.0542 - accuracy: 0.9837 - val_loss: 3.8867 - val_accuracy: 0.4928\n",
      "Epoch 11/30\n",
      "1172/1172 [==============================] - 248s 211ms/step - loss: 0.0637 - accuracy: 0.9798 - val_loss: 3.8959 - val_accuracy: 0.4762\n",
      "Epoch 12/30\n",
      "1172/1172 [==============================] - 264s 225ms/step - loss: 0.0495 - accuracy: 0.9847 - val_loss: 4.1667 - val_accuracy: 0.4182\n",
      "Epoch 13/30\n",
      "1172/1172 [==============================] - 248s 212ms/step - loss: 0.0421 - accuracy: 0.9868 - val_loss: 5.8929 - val_accuracy: 0.3412\n",
      "Epoch 14/30\n",
      "1172/1172 [==============================] - 248s 211ms/step - loss: 0.0435 - accuracy: 0.9861 - val_loss: 4.3333 - val_accuracy: 0.4879\n",
      "Epoch 15/30\n",
      "1172/1172 [==============================] - 247s 211ms/step - loss: 0.0399 - accuracy: 0.9870 - val_loss: 4.2855 - val_accuracy: 0.5003\n",
      "Epoch 16/30\n",
      "1172/1172 [==============================] - 248s 211ms/step - loss: 0.0371 - accuracy: 0.9879 - val_loss: 4.7314 - val_accuracy: 0.4751\n",
      "Epoch 17/30\n",
      "1172/1172 [==============================] - 247s 211ms/step - loss: 0.0336 - accuracy: 0.9893 - val_loss: 4.5055 - val_accuracy: 0.5005\n",
      "Epoch 18/30\n",
      "1172/1172 [==============================] - 248s 211ms/step - loss: 0.0356 - accuracy: 0.9889 - val_loss: 4.6630 - val_accuracy: 0.4918\n",
      "Epoch 19/30\n",
      "1172/1172 [==============================] - 247s 211ms/step - loss: 0.0330 - accuracy: 0.9896 - val_loss: 4.5119 - val_accuracy: 0.5037\n",
      "Epoch 20/30\n",
      "1172/1172 [==============================] - 248s 211ms/step - loss: 0.0314 - accuracy: 0.9903 - val_loss: 4.7311 - val_accuracy: 0.4663\n",
      "Epoch 21/30\n",
      "1172/1172 [==============================] - 248s 211ms/step - loss: 0.0287 - accuracy: 0.9907 - val_loss: 4.6461 - val_accuracy: 0.5092\n",
      "Epoch 22/30\n",
      "1172/1172 [==============================] - 247s 211ms/step - loss: 0.0281 - accuracy: 0.9910 - val_loss: 6.8839 - val_accuracy: 0.2065\n",
      "Epoch 23/30\n",
      "1172/1172 [==============================] - 248s 211ms/step - loss: 0.0281 - accuracy: 0.9912 - val_loss: 4.9952 - val_accuracy: 0.5148\n",
      "Epoch 24/30\n",
      "1172/1172 [==============================] - 248s 212ms/step - loss: 0.0235 - accuracy: 0.9925 - val_loss: 4.7955 - val_accuracy: 0.5036\n",
      "Epoch 25/30\n",
      "1172/1172 [==============================] - 248s 212ms/step - loss: 0.0243 - accuracy: 0.9922 - val_loss: 5.6301 - val_accuracy: 0.4862\n",
      "Epoch 26/30\n",
      "1172/1172 [==============================] - 248s 212ms/step - loss: 0.0251 - accuracy: 0.9920 - val_loss: 5.0807 - val_accuracy: 0.4706\n",
      "Epoch 27/30\n",
      "1172/1172 [==============================] - 248s 211ms/step - loss: 0.0210 - accuracy: 0.9932 - val_loss: 58.5986 - val_accuracy: 0.0199\n",
      "Epoch 28/30\n",
      "1172/1172 [==============================] - 248s 211ms/step - loss: 0.0212 - accuracy: 0.9932 - val_loss: 5.4506 - val_accuracy: 0.5103\n",
      "Epoch 29/30\n",
      "1172/1172 [==============================] - 248s 211ms/step - loss: 0.0225 - accuracy: 0.9928 - val_loss: 5.3257 - val_accuracy: 0.4988\n",
      "Epoch 30/30\n",
      "1172/1172 [==============================] - 248s 212ms/step - loss: 0.0210 - accuracy: 0.9933 - val_loss: 5.5264 - val_accuracy: 0.4828\n",
      "dict_keys(['loss', 'accuracy', 'val_loss', 'val_accuracy'])\n"
     ]
    },
    {
     "data": {
      "image/png": "[encoded data removed]",
      "text/plain": [
       "<Figure size 640x480 with 1 Axes>"
      ]
     },
     "metadata": {},
     "output_type": "display_data"
    },
    {
     "data": {
      "image/png": "[encoded data removed]",
      "text/plain": [
       "<Figure size 640x480 with 1 Axes>"
      ]
     },
     "metadata": {},
     "output_type": "display_data"
    }
   ],
   "source": [
    "# history = model.fit(tr_x, tr_indecator,batch_size=200,epochs=100\n",
    "#           ,validation_data=(tst_x,tst_indecator))\n",
    "\n",
    "history = model.fit(tr_x, tr_indecator,batch_size=128,epochs=30\n",
    "          ,validation_data=(tst_x,tst_indecator),callbacks=callbacks)\n",
    "\n",
    "print(history.history.keys())\n",
    "# summarize history for accuracy\n",
    "plt.plot(history.history['accuracy'])\n",
    "plt.plot(history.history['val_accuracy'])\n",
    "plt.title('model accuracy')\n",
    "plt.ylabel('accuracy')\n",
    "plt.xlabel('epoch')\n",
    "plt.legend(['train', 'test'], loc='upper left')\n",
    "plt.show()\n",
    "# summarize history for loss\n",
    "plt.plot(history.history['loss'])\n",
    "plt.plot(history.history['val_loss'])\n",
    "plt.title('model loss')\n",
    "plt.ylabel('loss')\n",
    "plt.xlabel('epoch')\n",
    "plt.legend(['train', 'test'], loc='upper left')\n",
    "plt.show()\n"
   ]
  },
  {
   "cell_type": "markdown",
   "id": "cda669e9",
   "metadata": {
    "papermill": {
     "duration": 1.877931,
     "end_time": "2023-03-22T14:14:01.485435",
     "exception": false,
     "start_time": "2023-03-22T14:13:59.607504",
     "status": "completed"
    },
    "tags": []
   },
   "source": [
    "# 6. Saving model "
   ]
  },
  {
   "cell_type": "code",
   "execution_count": 19,
   "id": "2f5e5f24",
   "metadata": {
    "execution": {
     "iopub.execute_input": "2023-03-22T14:14:05.756181Z",
     "iopub.status.busy": "2023-03-22T14:14:05.755726Z",
     "iopub.status.idle": "2023-03-22T14:14:07.636643Z",
     "shell.execute_reply": "2023-03-22T14:14:07.635151Z"
    },
    "papermill": {
     "duration": 3.848255,
     "end_time": "2023-03-22T14:14:07.641338",
     "exception": false,
     "start_time": "2023-03-22T14:14:03.793083",
     "status": "completed"
    },
    "tags": []
   },
   "outputs": [],
   "source": [
    "# Epoch 3/30\n",
    "# 600/600 [==============================] - 18s 31ms/step - loss: 3.9758 - accuracy: 0.1538 - val_loss: 3.4755 - val_accuracy: 0.2401\n",
    "\n",
    "from tensorflow.keras.models import save_model\n",
    "save_model(model,\"CNN_30ep_20kdata_4layers.h5\")"
   ]
  },
  {
   "cell_type": "code",
   "execution_count": 20,
   "id": "3d634b2a",
   "metadata": {
    "execution": {
     "iopub.execute_input": "2023-03-22T14:14:11.660525Z",
     "iopub.status.busy": "2023-03-22T14:14:11.659896Z",
     "iopub.status.idle": "2023-03-22T14:14:11.665793Z",
     "shell.execute_reply": "2023-03-22T14:14:11.664657Z"
    },
    "papermill": {
     "duration": 1.903524,
     "end_time": "2023-03-22T14:14:11.667913",
     "exception": false,
     "start_time": "2023-03-22T14:14:09.764389",
     "status": "completed"
    },
    "tags": []
   },
   "outputs": [],
   "source": [
    "# RUN 1\n",
    "# Epoch 30/30\n",
    "# 600/600 [==============================] - 18s 30ms/step - loss: 2.2876 - accuracy: 0.4391 - val_loss: 2.1696 - val_accuracy: 0.4867\n",
    "\n",
    "# RUN 2\n"
   ]
  },
  {
   "attachments": {
    "4273c578-af84-4c9e-88dd-5444a2f183b6.png": {
     "image/png": "[encoded data removed]"
    }
   },
   "cell_type": "markdown",
   "id": "49b17983",
   "metadata": {
    "papermill": {
     "duration": 2.280219,
     "end_time": "2023-03-22T14:14:16.002555",
     "exception": false,
     "start_time": "2023-03-22T14:14:13.722336",
     "status": "completed"
    },
    "tags": []
   },
   "source": [
    "![image.png](attachment:4273c578-af84-4c9e-88dd-5444a2f183b6.png)"
   ]
  },
  {
   "cell_type": "markdown",
   "id": "e9e76e4a",
   "metadata": {
    "papermill": {
     "duration": 2.05469,
     "end_time": "2023-03-22T14:14:19.934402",
     "exception": false,
     "start_time": "2023-03-22T14:14:17.879712",
     "status": "completed"
    },
    "tags": []
   },
   "source": [
    "RUN 3\n"
   ]
  },
  {
   "attachments": {
    "181b7464-4188-4ae0-ad7a-bf463094a3a3.png": {
     "image/png": "[encoded data removed]"
    }
   },
   "cell_type": "markdown",
   "id": "a4b57e15",
   "metadata": {
    "papermill": {
     "duration": 1.99857,
     "end_time": "2023-03-22T14:14:23.900165",
     "exception": false,
     "start_time": "2023-03-22T14:14:21.901595",
     "status": "completed"
    },
    "tags": []
   },
   "source": [
    "![image.png](attachment:181b7464-4188-4ae0-ad7a-bf463094a3a3.png)"
   ]
  },
  {
   "cell_type": "markdown",
   "id": "229c594d",
   "metadata": {
    "papermill": {
     "duration": 1.871729,
     "end_time": "2023-03-22T14:14:28.393197",
     "exception": false,
     "start_time": "2023-03-22T14:14:26.521468",
     "status": "completed"
    },
    "tags": []
   },
   "source": [
    "RUN 4\n"
   ]
  },
  {
   "attachments": {
    "94eb3fe7-cc5e-4c3c-ae1e-5b267e5e0a8e.png": {
     "image/png": "[encoded data removed]"
    }
   },
   "cell_type": "markdown",
   "id": "ceb14e36",
   "metadata": {
    "papermill": {
     "duration": 1.893629,
     "end_time": "2023-03-22T14:14:32.334503",
     "exception": false,
     "start_time": "2023-03-22T14:14:30.440874",
     "status": "completed"
    },
    "tags": []
   },
   "source": [
    "![image.png](attachment:94eb3fe7-cc5e-4c3c-ae1e-5b267e5e0a8e.png)"
   ]
  },
  {
   "cell_type": "markdown",
   "id": "6781e340",
   "metadata": {
    "papermill": {
     "duration": 2.120304,
     "end_time": "2023-03-22T14:14:36.538736",
     "exception": false,
     "start_time": "2023-03-22T14:14:34.418432",
     "status": "completed"
    },
    "tags": []
   },
   "source": []
  }
 ],
 "metadata": {
  "kernelspec": {
   "display_name": "Python 3",
   "language": "python",
   "name": "python3"
  },
  "language_info": {
   "codemirror_mode": {
    "name": "ipython",
    "version": 3
   },
   "file_extension": ".py",
   "mimetype": "text/x-python",
   "name": "python",
   "nbconvert_exporter": "python",
   "pygments_lexer": "ipython3",
   "version": "3.7.12"
  },
  "papermill": {
   "default_parameters": {},
   "duration": 8486.723757,
   "end_time": "2023-03-22T14:14:41.508793",
   "environment_variables": {},
   "exception": null,
   "input_path": "__notebook__.ipynb",
   "output_path": "__notebook__.ipynb",
   "parameters": {},
   "start_time": "2023-03-22T11:53:14.785036",
   "version": "2.4.0"
  },
  "widgets": {
   "application/vnd.jupyter.widget-state+json": {
    "state": {
     "0dd6d4860da549cd8188cd579355876f": {
      "model_module": "@jupyter-widgets/controls",
      "model_module_version": "1.5.0",
      "model_name": "DescriptionStyleModel",
      "state": {
       "_model_module": "@jupyter-widgets/controls",
       "_model_module_version": "1.5.0",
       "_model_name": "DescriptionStyleModel",
       "_view_count": null,
       "_view_module": "@jupyter-widgets/base",
       "_view_module_version": "1.2.0",
       "_view_name": "StyleView",
       "description_width": ""
      }
     },
     "1d6c9744e74645729908e0de02b9ae58": {
      "model_module": "@jupyter-widgets/controls",
      "model_module_version": "1.5.0",
      "model_name": "ProgressStyleModel",
      "state": {
       "_model_module": "@jupyter-widgets/controls",
       "_model_module_version": "1.5.0",
       "_model_name": "ProgressStyleModel",
       "_view_count": null,
       "_view_module": "@jupyter-widgets/base",
       "_view_module_version": "1.2.0",
       "_view_name": "StyleView",
       "bar_color": null,
       "description_width": ""
      }
     },
     "485fb06220844760815138f0f6abf2ea": {
      "model_module": "@jupyter-widgets/controls",
      "model_module_version": "1.5.0",
      "model_name": "FloatProgressModel",
      "state": {
       "_dom_classes": [],
       "_model_module": "@jupyter-widgets/controls",
       "_model_module_version": "1.5.0",
       "_model_name": "FloatProgressModel",
       "_view_count": null,
       "_view_module": "@jupyter-widgets/controls",
       "_view_module_version": "1.5.0",
       "_view_name": "ProgressView",
       "bar_style": "success",
       "description": "",
       "description_tooltip": null,
       "layout": "IPY_MODEL_7ef8f76616d948fc99726485cb7d9129",
       "max": 340.0,
       "min": 0.0,
       "orientation": "horizontal",
       "style": "IPY_MODEL_1d6c9744e74645729908e0de02b9ae58",
       "value": 340.0
      }
     },
     "5b3eaa6db67c4ddf844171a8bb3d9f18": {
      "model_module": "@jupyter-widgets/controls",
      "model_module_version": "1.5.0",
      "model_name": "HBoxModel",
      "state": {
       "_dom_classes": [],
       "_model_module": "@jupyter-widgets/controls",
       "_model_module_version": "1.5.0",
       "_model_name": "HBoxModel",
       "_view_count": null,
       "_view_module": "@jupyter-widgets/controls",
       "_view_module_version": "1.5.0",
       "_view_name": "HBoxView",
       "box_style": "",
       "children": [
        "IPY_MODEL_d195b3ea8b054f5faa8d36eb53eebd23",
        "IPY_MODEL_485fb06220844760815138f0f6abf2ea",
        "IPY_MODEL_ca33811233ad41318ca970b7415742f0"
       ],
       "layout": "IPY_MODEL_e931b1e6d0cf4f9c9302c2453b48e229"
      }
     },
     "7ef8f76616d948fc99726485cb7d9129": {
      "model_module": "@jupyter-widgets/base",
      "model_module_version": "1.2.0",
      "model_name": "LayoutModel",
      "state": {
       "_model_module": "@jupyter-widgets/base",
       "_model_module_version": "1.2.0",
       "_model_name": "LayoutModel",
       "_view_count": null,
       "_view_module": "@jupyter-widgets/base",
       "_view_module_version": "1.2.0",
       "_view_name": "LayoutView",
       "align_content": null,
       "align_items": null,
       "align_self": null,
       "border": null,
       "bottom": null,
       "display": null,
       "flex": null,
       "flex_flow": null,
       "grid_area": null,
       "grid_auto_columns": null,
       "grid_auto_flow": null,
       "grid_auto_rows": null,
       "grid_column": null,
       "grid_gap": null,
       "grid_row": null,
       "grid_template_areas": null,
       "grid_template_columns": null,
       "grid_template_rows": null,
       "height": null,
       "justify_content": null,
       "justify_items": null,
       "left": null,
       "margin": null,
       "max_height": null,
       "max_width": null,
       "min_height": null,
       "min_width": null,
       "object_fit": null,
       "object_position": null,
       "order": null,
       "overflow": null,
       "overflow_x": null,
       "overflow_y": null,
       "padding": null,
       "right": null,
       "top": null,
       "visibility": null,
       "width": null
      }
     },
     "950a1e7204c0447fa1483c1cd275efb1": {
      "model_module": "@jupyter-widgets/controls",
      "model_module_version": "1.5.0",
      "model_name": "DescriptionStyleModel",
      "state": {
       "_model_module": "@jupyter-widgets/controls",
       "_model_module_version": "1.5.0",
       "_model_name": "DescriptionStyleModel",
       "_view_count": null,
       "_view_module": "@jupyter-widgets/base",
       "_view_module_version": "1.2.0",
       "_view_name": "StyleView",
       "description_width": ""
      }
     },
     "ca33811233ad41318ca970b7415742f0": {
      "model_module": "@jupyter-widgets/controls",
      "model_module_version": "1.5.0",
      "model_name": "HTMLModel",
      "state": {
       "_dom_classes": [],
       "_model_module": "@jupyter-widgets/controls",
       "_model_module_version": "1.5.0",
       "_model_name": "HTMLModel",
       "_view_count": null,
       "_view_module": "@jupyter-widgets/controls",
       "_view_module_version": "1.5.0",
       "_view_name": "HTMLView",
       "description": "",
       "description_tooltip": null,
       "layout": "IPY_MODEL_dbfa4cbfa6454af399a810fd1dbf125d",
       "placeholder": "​",
       "style": "IPY_MODEL_950a1e7204c0447fa1483c1cd275efb1",
       "value": " 340/340 [14:04&lt;00:00,  2.58s/it]"
      }
     },
     "d08705d52b1e46f6903da58e8d3d87e4": {
      "model_module": "@jupyter-widgets/base",
      "model_module_version": "1.2.0",
      "model_name": "LayoutModel",
      "state": {
       "_model_module": "@jupyter-widgets/base",
       "_model_module_version": "1.2.0",
       "_model_name": "LayoutModel",
       "_view_count": null,
       "_view_module": "@jupyter-widgets/base",
       "_view_module_version": "1.2.0",
       "_view_name": "LayoutView",
       "align_content": null,
       "align_items": null,
       "align_self": null,
       "border": null,
       "bottom": null,
       "display": null,
       "flex": null,
       "flex_flow": null,
       "grid_area": null,
       "grid_auto_columns": null,
       "grid_auto_flow": null,
       "grid_auto_rows": null,
       "grid_column": null,
       "grid_gap": null,
       "grid_row": null,
       "grid_template_areas": null,
       "grid_template_columns": null,
       "grid_template_rows": null,
       "height": null,
       "justify_content": null,
       "justify_items": null,
       "left": null,
       "margin": null,
       "max_height": null,
       "max_width": null,
       "min_height": null,
       "min_width": null,
       "object_fit": null,
       "object_position": null,
       "order": null,
       "overflow": null,
       "overflow_x": null,
       "overflow_y": null,
       "padding": null,
       "right": null,
       "top": null,
       "visibility": null,
       "width": null
      }
     },
     "d195b3ea8b054f5faa8d36eb53eebd23": {
      "model_module": "@jupyter-widgets/controls",
      "model_module_version": "1.5.0",
      "model_name": "HTMLModel",
      "state": {
       "_dom_classes": [],
       "_model_module": "@jupyter-widgets/controls",
       "_model_module_version": "1.5.0",
       "_model_name": "HTMLModel",
       "_view_count": null,
       "_view_module": "@jupyter-widgets/controls",
       "_view_module_version": "1.5.0",
       "_view_name": "HTMLView",
       "description": "",
       "description_tooltip": null,
       "layout": "IPY_MODEL_d08705d52b1e46f6903da58e8d3d87e4",
       "placeholder": "​",
       "style": "IPY_MODEL_0dd6d4860da549cd8188cd579355876f",
       "value": "100%"
      }
     },
     "dbfa4cbfa6454af399a810fd1dbf125d": {
      "model_module": "@jupyter-widgets/base",
      "model_module_version": "1.2.0",
      "model_name": "LayoutModel",
      "state": {
       "_model_module": "@jupyter-widgets/base",
       "_model_module_version": "1.2.0",
       "_model_name": "LayoutModel",
       "_view_count": null,
       "_view_module": "@jupyter-widgets/base",
       "_view_module_version": "1.2.0",
       "_view_name": "LayoutView",
       "align_content": null,
       "align_items": null,
       "align_self": null,
       "border": null,
       "bottom": null,
       "display": null,
       "flex": null,
       "flex_flow": null,
       "grid_area": null,
       "grid_auto_columns": null,
       "grid_auto_flow": null,
       "grid_auto_rows": null,
       "grid_column": null,
       "grid_gap": null,
       "grid_row": null,
       "grid_template_areas": null,
       "grid_template_columns": null,
       "grid_template_rows": null,
       "height": null,
       "justify_content": null,
       "justify_items": null,
       "left": null,
       "margin": null,
       "max_height": null,
       "max_width": null,
       "min_height": null,
       "min_width": null,
       "object_fit": null,
       "object_position": null,
       "order": null,
       "overflow": null,
       "overflow_x": null,
       "overflow_y": null,
       "padding": null,
       "right": null,
       "top": null,
       "visibility": null,
       "width": null
      }
     },
     "e931b1e6d0cf4f9c9302c2453b48e229": {
      "model_module": "@jupyter-widgets/base",
      "model_module_version": "1.2.0",
      "model_name": "LayoutModel",
      "state": {
       "_model_module": "@jupyter-widgets/base",
       "_model_module_version": "1.2.0",
       "_model_name": "LayoutModel",
       "_view_count": null,
       "_view_module": "@jupyter-widgets/base",
       "_view_module_version": "1.2.0",
       "_view_name": "LayoutView",
       "align_content": null,
       "align_items": null,
       "align_self": null,
       "border": null,
       "bottom": null,
       "display": null,
       "flex": null,
       "flex_flow": null,
       "grid_area": null,
       "grid_auto_columns": null,
       "grid_auto_flow": null,
       "grid_auto_rows": null,
       "grid_column": null,
       "grid_gap": null,
       "grid_row": null,
       "grid_template_areas": null,
       "grid_template_columns": null,
       "grid_template_rows": null,
       "height": null,
       "justify_content": null,
       "justify_items": null,
       "left": null,
       "margin": null,
       "max_height": null,
       "max_width": null,
       "min_height": null,
       "min_width": null,
       "object_fit": null,
       "object_position": null,
       "order": null,
       "overflow": null,
       "overflow_x": null,
       "overflow_y": null,
       "padding": null,
       "right": null,
       "top": null,
       "visibility": null,
       "width": null
      }
     }
    },
    "version_major": 2,
    "version_minor": 0
   }
  }
 },
 "nbformat": 4,
 "nbformat_minor": 5
}
