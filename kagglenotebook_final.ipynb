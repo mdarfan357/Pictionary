{
 "cells": [
  {
   "cell_type": "markdown",
   "id": "4f8216ef",
   "metadata": {
    "papermill": {
     "duration": 0.009333,
     "end_time": "2023-03-23T08:16:10.669156",
     "exception": false,
     "start_time": "2023-03-23T08:16:10.659823",
     "status": "completed"
    },
    "tags": []
   },
   "source": [
    "# 0. Data Importing from kaggle"
   ]
  },
  {
   "cell_type": "code",
   "execution_count": 1,
   "id": "ac87593a",
   "metadata": {
    "execution": {
     "iopub.execute_input": "2023-03-23T08:16:10.687536Z",
     "iopub.status.busy": "2023-03-23T08:16:10.686674Z",
     "iopub.status.idle": "2023-03-23T08:16:11.064501Z",
     "shell.execute_reply": "2023-03-23T08:16:11.063238Z"
    },
    "papermill": {
     "duration": 0.389593,
     "end_time": "2023-03-23T08:16:11.066868",
     "exception": false,
     "start_time": "2023-03-23T08:16:10.677275",
     "status": "completed"
    },
    "tags": []
   },
   "outputs": [
    {
     "data": {
      "application/vnd.jupyter.widget-view+json": {
       "model_id": "53f9201237e349969000844343bd1c1e",
       "version_major": 2,
       "version_minor": 0
      },
      "text/plain": [
       "0it [00:00, ?it/s]"
      ]
     },
     "metadata": {},
     "output_type": "display_data"
    }
   ],
   "source": [
    "import os\n",
    "from tqdm.notebook import tqdm\n",
    "for dirname, _, filenames in tqdm(os.walk('/kaggle/input')):\n",
    "    for filename in filenames:\n",
    "        os.path.join(dirname, filename)\n",
    "#         print(os.path.join(dirname, filename))"
   ]
  },
  {
   "cell_type": "markdown",
   "id": "397ef8a9",
   "metadata": {
    "papermill": {
     "duration": 0.007616,
     "end_time": "2023-03-23T08:16:11.082831",
     "exception": false,
     "start_time": "2023-03-23T08:16:11.075215",
     "status": "completed"
    },
    "tags": []
   },
   "source": [
    "# Limiting GPU usage"
   ]
  },
  {
   "cell_type": "code",
   "execution_count": 2,
   "id": "9bfbc43e",
   "metadata": {
    "execution": {
     "iopub.execute_input": "2023-03-23T08:16:11.100569Z",
     "iopub.status.busy": "2023-03-23T08:16:11.100191Z",
     "iopub.status.idle": "2023-03-23T08:16:24.110824Z",
     "shell.execute_reply": "2023-03-23T08:16:24.109310Z"
    },
    "papermill": {
     "duration": 13.022621,
     "end_time": "2023-03-23T08:16:24.113489",
     "exception": false,
     "start_time": "2023-03-23T08:16:11.090868",
     "status": "completed"
    },
    "tags": []
   },
   "outputs": [
    {
     "name": "stdout",
     "output_type": "stream",
     "text": [
      "2 Physical GPUs, 2 Logical GPUs\n"
     ]
    }
   ],
   "source": [
    "# limit memory to prevent data leak\n",
    "import tensorflow as tf\n",
    "gpus = tf.config.list_physical_devices('GPU')\n",
    "if gpus:\n",
    "  try:\n",
    "    # Currently, memory growth needs to be the same across GPUs\n",
    "    for gpu in gpus:\n",
    "      tf.config.experimental.set_memory_growth(gpu, True)\n",
    "    logical_gpus = tf.config.list_logical_devices('GPU')\n",
    "    print(len(gpus), \"Physical GPUs,\", len(logical_gpus), \"Logical GPUs\")\n",
    "    \n",
    "    del logical_gpus,gpus\n",
    "  except RuntimeError as e:\n",
    "    # Memory growth must be set before GPUs have been initialized\n",
    "    print(e)\n"
   ]
  },
  {
   "cell_type": "markdown",
   "id": "29f7f74d",
   "metadata": {
    "papermill": {
     "duration": 0.007686,
     "end_time": "2023-03-23T08:16:24.129538",
     "exception": false,
     "start_time": "2023-03-23T08:16:24.121852",
     "status": "completed"
    },
    "tags": []
   },
   "source": [
    "# 1. Importing modules"
   ]
  },
  {
   "cell_type": "code",
   "execution_count": 3,
   "id": "6f6f131f",
   "metadata": {
    "execution": {
     "iopub.execute_input": "2023-03-23T08:16:24.147652Z",
     "iopub.status.busy": "2023-03-23T08:16:24.146657Z",
     "iopub.status.idle": "2023-03-23T08:16:24.335192Z",
     "shell.execute_reply": "2023-03-23T08:16:24.333121Z"
    },
    "papermill": {
     "duration": 0.199706,
     "end_time": "2023-03-23T08:16:24.337436",
     "exception": false,
     "start_time": "2023-03-23T08:16:24.137730",
     "status": "completed"
    },
    "tags": []
   },
   "outputs": [
    {
     "name": "stdout",
     "output_type": "stream",
     "text": [
      "588\n"
     ]
    },
    {
     "data": {
      "text/plain": [
       "56"
      ]
     },
     "execution_count": 3,
     "metadata": {},
     "output_type": "execute_result"
    }
   ],
   "source": [
    "import numpy as np\n",
    "import pandas as pd\n",
    "import json\n",
    "import gc\n",
    "import matplotlib.pyplot as plt\n",
    "%matplotlib inline\n",
    "from glob import glob\n",
    "import os\n",
    "train_files = glob(\"../input/quickdraw-doodle-recognition/train_simplified/*.csv\")\n",
    "\n",
    "# calculating data size per category\n",
    "rows = 200000\n",
    "# rows = 10000\n",
    "rows = rows - (rows % 340)\n",
    "cat_size = rows // 340\n",
    "print(cat_size)\n",
    "gc.collect()"
   ]
  },
  {
   "cell_type": "markdown",
   "id": "be9c3c3f",
   "metadata": {
    "papermill": {
     "duration": 0.009645,
     "end_time": "2023-03-23T08:16:24.355362",
     "exception": false,
     "start_time": "2023-03-23T08:16:24.345717",
     "status": "completed"
    },
    "tags": []
   },
   "source": [
    "# 2. Image Preprocessing \n",
    "1. converting data in text json to an image \n",
    "2. normalizing the image size\n",
    "3. normalizing the image pixels\n"
   ]
  },
  {
   "cell_type": "code",
   "execution_count": 4,
   "id": "5f3b2953",
   "metadata": {
    "execution": {
     "iopub.execute_input": "2023-03-23T08:16:24.373324Z",
     "iopub.status.busy": "2023-03-23T08:16:24.372296Z",
     "iopub.status.idle": "2023-03-23T08:16:24.578443Z",
     "shell.execute_reply": "2023-03-23T08:16:24.577348Z"
    },
    "papermill": {
     "duration": 0.218031,
     "end_time": "2023-03-23T08:16:24.580991",
     "exception": false,
     "start_time": "2023-03-23T08:16:24.362960",
     "status": "completed"
    },
    "tags": []
   },
   "outputs": [],
   "source": [
    "from PIL import Image, ImageDraw\n",
    "from dask import bag\n",
    "def drawStrokes(matrixOfStrokes):\n",
    "    image = Image.new(\"RGB\", (256,256), color=255)\n",
    "    image_draw = ImageDraw.Draw(image)\n",
    "    for stroke in json.loads(matrixOfStrokes):\n",
    "        for i in range(len(stroke[0])-1):\n",
    "            image_draw.line([stroke[0][i], \n",
    "                             stroke[1][i],\n",
    "                             stroke[0][i+1], \n",
    "                             stroke[1][i+1]],\n",
    "                            fill=0, width=5)\n",
    "    return np.array(image.resize((32,32)))/255."
   ]
  },
  {
   "cell_type": "code",
   "execution_count": 5,
   "id": "d1543f16",
   "metadata": {
    "execution": {
     "iopub.execute_input": "2023-03-23T08:16:24.599688Z",
     "iopub.status.busy": "2023-03-23T08:16:24.599330Z",
     "iopub.status.idle": "2023-03-23T08:32:00.008637Z",
     "shell.execute_reply": "2023-03-23T08:32:00.007427Z"
    },
    "papermill": {
     "duration": 935.421245,
     "end_time": "2023-03-23T08:32:00.011055",
     "exception": false,
     "start_time": "2023-03-23T08:16:24.589810",
     "status": "completed"
    },
    "tags": []
   },
   "outputs": [
    {
     "data": {
      "application/vnd.jupyter.widget-view+json": {
       "model_id": "8e8998789f514c1fa45d36d4b0b9458c",
       "version_major": 2,
       "version_minor": 0
      },
      "text/plain": [
       "  0%|          | 0/340 [00:00<?, ?it/s]"
      ]
     },
     "metadata": {},
     "output_type": "display_data"
    }
   ],
   "source": [
    "from tqdm.notebook import tqdm\n",
    "drawingArray = np.zeros((rows,32,32,3))\n",
    "categories = pd.Series([None] * rows)\n",
    "i = 0\n",
    "for f in tqdm(train_files):\n",
    "    for df in pd.read_csv(f, index_col=\"key_id\", chunksize=1000, nrows=cat_size):\n",
    "        df = df.drop(['countrycode','timestamp','recognized'],axis=1)\n",
    "        imagebag = bag.from_sequence(df.drawing.values).map(drawStrokes)\n",
    "        imagebag = np.array(imagebag.compute())\n",
    "        categories[i:(i + imagebag.shape[0])] = df[\"word\"].replace(\"\\s+\", \"_\", regex=True)\n",
    "        drawingArray[i:(i + imagebag.shape[0])] = imagebag\n",
    "        i += imagebag.shape[0]\n"
   ]
  },
  {
   "cell_type": "code",
   "execution_count": 6,
   "id": "ae1db38e",
   "metadata": {
    "execution": {
     "iopub.execute_input": "2023-03-23T08:32:00.029915Z",
     "iopub.status.busy": "2023-03-23T08:32:00.029561Z",
     "iopub.status.idle": "2023-03-23T08:32:00.252426Z",
     "shell.execute_reply": "2023-03-23T08:32:00.251143Z"
    },
    "papermill": {
     "duration": 0.235285,
     "end_time": "2023-03-23T08:32:00.255006",
     "exception": false,
     "start_time": "2023-03-23T08:32:00.019721",
     "status": "completed"
    },
    "tags": []
   },
   "outputs": [
    {
     "data": {
      "text/plain": [
       "39"
      ]
     },
     "execution_count": 6,
     "metadata": {},
     "output_type": "execute_result"
    }
   ],
   "source": [
    "gc.collect()"
   ]
  },
  {
   "cell_type": "code",
   "execution_count": 7,
   "id": "f3a0c3bc",
   "metadata": {
    "execution": {
     "iopub.execute_input": "2023-03-23T08:32:00.274080Z",
     "iopub.status.busy": "2023-03-23T08:32:00.273755Z",
     "iopub.status.idle": "2023-03-23T08:32:00.294487Z",
     "shell.execute_reply": "2023-03-23T08:32:00.292210Z"
    },
    "papermill": {
     "duration": 0.032538,
     "end_time": "2023-03-23T08:32:00.296645",
     "exception": false,
     "start_time": "2023-03-23T08:32:00.264107",
     "status": "completed"
    },
    "tags": []
   },
   "outputs": [
    {
     "data": {
      "text/plain": [
       "traffic_light    588\n",
       "umbrella         588\n",
       "house            588\n",
       "trombone         588\n",
       "paper_clip       588\n",
       "                ... \n",
       "rain             588\n",
       "rabbit           588\n",
       "lantern          588\n",
       "toaster          588\n",
       "fish             588\n",
       "Length: 340, dtype: int64"
      ]
     },
     "execution_count": 7,
     "metadata": {},
     "output_type": "execute_result"
    }
   ],
   "source": [
    "categories.value_counts()"
   ]
  },
  {
   "cell_type": "markdown",
   "id": "89c8682e",
   "metadata": {
    "papermill": {
     "duration": 0.008596,
     "end_time": "2023-03-23T08:32:00.313808",
     "exception": false,
     "start_time": "2023-03-23T08:32:00.305212",
     "status": "completed"
    },
    "tags": []
   },
   "source": [
    "# 3. Train Test split"
   ]
  },
  {
   "cell_type": "code",
   "execution_count": 8,
   "id": "8bc1530b",
   "metadata": {
    "execution": {
     "iopub.execute_input": "2023-03-23T08:32:00.333293Z",
     "iopub.status.busy": "2023-03-23T08:32:00.332500Z",
     "iopub.status.idle": "2023-03-23T08:32:50.503876Z",
     "shell.execute_reply": "2023-03-23T08:32:50.502780Z"
    },
    "papermill": {
     "duration": 50.18443,
     "end_time": "2023-03-23T08:32:50.506950",
     "exception": false,
     "start_time": "2023-03-23T08:32:00.322520",
     "status": "completed"
    },
    "tags": []
   },
   "outputs": [],
   "source": [
    "\n",
    "from sklearn.model_selection import train_test_split\n",
    "indecator = pd.get_dummies(categories)\n",
    "tr_x,tst_x,tr_indecator,tst_indecator = train_test_split(drawingArray, indecator, test_size=0.25,random_state=25,stratify=indecator)\n"
   ]
  },
  {
   "cell_type": "code",
   "execution_count": 9,
   "id": "8a549250",
   "metadata": {
    "execution": {
     "iopub.execute_input": "2023-03-23T08:32:50.525111Z",
     "iopub.status.busy": "2023-03-23T08:32:50.524765Z",
     "iopub.status.idle": "2023-03-23T08:32:50.546164Z",
     "shell.execute_reply": "2023-03-23T08:32:50.544906Z"
    },
    "papermill": {
     "duration": 0.033603,
     "end_time": "2023-03-23T08:32:50.549062",
     "exception": false,
     "start_time": "2023-03-23T08:32:50.515459",
     "status": "completed"
    },
    "tags": []
   },
   "outputs": [
    {
     "name": "stdout",
     "output_type": "stream",
     "text": [
      "The_Eiffel_Tower : 441\n",
      "The_Great_Wall_of_China : 441\n",
      "The_Mona_Lisa : 441\n",
      "airplane : 441\n",
      "alarm_clock : 441\n",
      "ambulance : 441\n"
     ]
    }
   ],
   "source": [
    "itr = 0\n",
    "for df in tr_indecator:\n",
    "    print(f\"{df} : {tr_indecator[df].value_counts()[1]}\")\n",
    "    if itr == 5:\n",
    "        break\n",
    "    else:\n",
    "        itr+= 1"
   ]
  },
  {
   "cell_type": "code",
   "execution_count": 10,
   "id": "36a4d13d",
   "metadata": {
    "execution": {
     "iopub.execute_input": "2023-03-23T08:32:50.567350Z",
     "iopub.status.busy": "2023-03-23T08:32:50.567009Z",
     "iopub.status.idle": "2023-03-23T08:32:50.578962Z",
     "shell.execute_reply": "2023-03-23T08:32:50.577846Z"
    },
    "papermill": {
     "duration": 0.025102,
     "end_time": "2023-03-23T08:32:50.582618",
     "exception": false,
     "start_time": "2023-03-23T08:32:50.557516",
     "status": "completed"
    },
    "tags": []
   },
   "outputs": [
    {
     "name": "stdout",
     "output_type": "stream",
     "text": [
      "The_Eiffel_Tower : 147\n",
      "The_Great_Wall_of_China : 147\n",
      "The_Mona_Lisa : 147\n",
      "airplane : 147\n",
      "alarm_clock : 147\n",
      "ambulance : 147\n"
     ]
    }
   ],
   "source": [
    "itr = 0\n",
    "for df in tst_indecator:\n",
    "    try:\n",
    "        print(f\"{df} : {tst_indecator[df].value_counts()[1]}\")\n",
    "    except:\n",
    "        print(f\"{df} : 0\")\n",
    "        \n",
    "    if itr == 5:\n",
    "        break\n",
    "    else:\n",
    "        itr+= 1"
   ]
  },
  {
   "cell_type": "code",
   "execution_count": 11,
   "id": "83ce31fc",
   "metadata": {
    "execution": {
     "iopub.execute_input": "2023-03-23T08:32:50.602112Z",
     "iopub.status.busy": "2023-03-23T08:32:50.601240Z",
     "iopub.status.idle": "2023-03-23T08:32:51.344672Z",
     "shell.execute_reply": "2023-03-23T08:32:51.343477Z"
    },
    "papermill": {
     "duration": 0.764164,
     "end_time": "2023-03-23T08:32:51.356114",
     "exception": false,
     "start_time": "2023-03-23T08:32:50.591950",
     "status": "completed"
    },
    "tags": []
   },
   "outputs": [
    {
     "data": {
      "text/plain": [
       "21"
      ]
     },
     "execution_count": 11,
     "metadata": {},
     "output_type": "execute_result"
    }
   ],
   "source": [
    "del drawingArray,categories\n",
    "gc.collect()"
   ]
  },
  {
   "cell_type": "markdown",
   "id": "2a9641ea",
   "metadata": {
    "papermill": {
     "duration": 0.024141,
     "end_time": "2023-03-23T08:32:51.405480",
     "exception": false,
     "start_time": "2023-03-23T08:32:51.381339",
     "status": "completed"
    },
    "tags": []
   },
   "source": [
    "# 4. Creating Deep learning model"
   ]
  },
  {
   "cell_type": "code",
   "execution_count": 12,
   "id": "7216b64f",
   "metadata": {
    "execution": {
     "iopub.execute_input": "2023-03-23T08:32:51.459115Z",
     "iopub.status.busy": "2023-03-23T08:32:51.457447Z",
     "iopub.status.idle": "2023-03-23T08:32:51.472308Z",
     "shell.execute_reply": "2023-03-23T08:32:51.469725Z"
    },
    "papermill": {
     "duration": 0.046928,
     "end_time": "2023-03-23T08:32:51.476660",
     "exception": false,
     "start_time": "2023-03-23T08:32:51.429732",
     "status": "completed"
    },
    "tags": []
   },
   "outputs": [],
   "source": [
    "from keras.callbacks import ModelCheckpoint\n",
    "from tensorflow.keras.optimizers.legacy import Adam\n",
    "\n",
    "filepath = 'my_best_model.hdf5'\n",
    "\n",
    "checkpoint = ModelCheckpoint(filepath=filepath, \n",
    "                             monitor=\"val_loss\", \n",
    "                             save_best_only=True,\n",
    "                             mode='min')\n",
    "\n",
    "callbacks = [checkpoint]"
   ]
  },
  {
   "cell_type": "code",
   "execution_count": 13,
   "id": "86767211",
   "metadata": {
    "execution": {
     "iopub.execute_input": "2023-03-23T08:32:51.528046Z",
     "iopub.status.busy": "2023-03-23T08:32:51.526846Z",
     "iopub.status.idle": "2023-03-23T08:32:51.723859Z",
     "shell.execute_reply": "2023-03-23T08:32:51.722552Z"
    },
    "papermill": {
     "duration": 0.226184,
     "end_time": "2023-03-23T08:32:51.726944",
     "exception": false,
     "start_time": "2023-03-23T08:32:51.500760",
     "status": "completed"
    },
    "tags": []
   },
   "outputs": [
    {
     "data": {
      "text/plain": [
       "42"
      ]
     },
     "execution_count": 13,
     "metadata": {},
     "output_type": "execute_result"
    }
   ],
   "source": [
    "gc.collect()"
   ]
  },
  {
   "cell_type": "code",
   "execution_count": 14,
   "id": "361b7a5d",
   "metadata": {
    "execution": {
     "iopub.execute_input": "2023-03-23T08:32:51.746135Z",
     "iopub.status.busy": "2023-03-23T08:32:51.745789Z",
     "iopub.status.idle": "2023-03-23T08:32:52.186310Z",
     "shell.execute_reply": "2023-03-23T08:32:52.185234Z"
    },
    "papermill": {
     "duration": 0.453174,
     "end_time": "2023-03-23T08:32:52.189090",
     "exception": false,
     "start_time": "2023-03-23T08:32:51.735916",
     "status": "completed"
    },
    "tags": []
   },
   "outputs": [],
   "source": [
    "import tensorflow as tf\n",
    "from tensorflow.keras.models import Sequential,Model\n",
    "from tensorflow.keras.layers import *\n",
    "\n",
    "\n",
    "strategy = tf.distribute.MirroredStrategy()\n",
    "with strategy.scope():\n",
    "    \n",
    "    model = Sequential()\n",
    "    model.add(Conv2D(128,kernel_size=(5,5),padding=\"same\",activation=\"relu\",input_shape=(32,32,3)))\n",
    "    model.add(Activation('relu'))\n",
    "    model.add(MaxPooling2D(pool_size=(2, 2)))\n",
    "    model.add(Dropout(0.25))\n",
    "\n",
    "    model.add(Conv2D(128, kernel_size=(4,4), strides=1))\n",
    "    model.add(Activation('relu'))\n",
    "    model.add(MaxPooling2D(pool_size=(2, 2)))\n",
    "    model.add(Dropout(0.25))\n",
    "\n",
    "    model.add(Conv2D(64, kernel_size=(3,3), strides=1))\n",
    "    model.add(Activation('relu'))\n",
    "    model.add(MaxPooling2D(pool_size=(2, 2)))\n",
    "    model.add(Dropout(0.25))\n",
    "\n",
    "    model.add(Flatten())\n",
    "    model.add(Dense(1024))\n",
    "    model.add(Activation('relu'))\n",
    "    model.add(Dense(512))\n",
    "    model.add(Activation('relu'))\n",
    "    model.add(Dropout(0.25))\n",
    "\n",
    "    model.add(Dense(340))\n",
    "    model.add(Activation('softmax'))\n",
    "\n",
    "    model.compile(loss='categorical_crossentropy',\n",
    "                  optimizer='adam',\n",
    "                  metrics=['accuracy'])"
   ]
  },
  {
   "cell_type": "code",
   "execution_count": 15,
   "id": "ccc981d5",
   "metadata": {
    "execution": {
     "iopub.execute_input": "2023-03-23T08:32:52.209371Z",
     "iopub.status.busy": "2023-03-23T08:32:52.208363Z",
     "iopub.status.idle": "2023-03-23T08:32:52.229973Z",
     "shell.execute_reply": "2023-03-23T08:32:52.229010Z"
    },
    "papermill": {
     "duration": 0.034043,
     "end_time": "2023-03-23T08:32:52.232256",
     "exception": false,
     "start_time": "2023-03-23T08:32:52.198213",
     "status": "completed"
    },
    "tags": []
   },
   "outputs": [],
   "source": [
    "model.compile(loss='categorical_crossentropy',\n",
    "              optimizer= \"adam\",\n",
    "              metrics=['accuracy'])\n"
   ]
  },
  {
   "cell_type": "code",
   "execution_count": 16,
   "id": "bbd1cf4f",
   "metadata": {
    "execution": {
     "iopub.execute_input": "2023-03-23T08:32:52.251969Z",
     "iopub.status.busy": "2023-03-23T08:32:52.251070Z",
     "iopub.status.idle": "2023-03-23T08:32:52.302243Z",
     "shell.execute_reply": "2023-03-23T08:32:52.301345Z"
    },
    "papermill": {
     "duration": 0.106643,
     "end_time": "2023-03-23T08:32:52.347677",
     "exception": false,
     "start_time": "2023-03-23T08:32:52.241034",
     "status": "completed"
    },
    "tags": []
   },
   "outputs": [
    {
     "name": "stdout",
     "output_type": "stream",
     "text": [
      "Model: \"sequential\"\n",
      "_________________________________________________________________\n",
      " Layer (type)                Output Shape              Param #   \n",
      "=================================================================\n",
      " conv2d (Conv2D)             (None, 32, 32, 128)       9728      \n",
      "                                                                 \n",
      " activation (Activation)     (None, 32, 32, 128)       0         \n",
      "                                                                 \n",
      " max_pooling2d (MaxPooling2D  (None, 16, 16, 128)      0         \n",
      " )                                                               \n",
      "                                                                 \n",
      " dropout (Dropout)           (None, 16, 16, 128)       0         \n",
      "                                                                 \n",
      " conv2d_1 (Conv2D)           (None, 13, 13, 128)       262272    \n",
      "                                                                 \n",
      " activation_1 (Activation)   (None, 13, 13, 128)       0         \n",
      "                                                                 \n",
      " max_pooling2d_1 (MaxPooling  (None, 6, 6, 128)        0         \n",
      " 2D)                                                             \n",
      "                                                                 \n",
      " dropout_1 (Dropout)         (None, 6, 6, 128)         0         \n",
      "                                                                 \n",
      " conv2d_2 (Conv2D)           (None, 4, 4, 64)          73792     \n",
      "                                                                 \n",
      " activation_2 (Activation)   (None, 4, 4, 64)          0         \n",
      "                                                                 \n",
      " max_pooling2d_2 (MaxPooling  (None, 2, 2, 64)         0         \n",
      " 2D)                                                             \n",
      "                                                                 \n",
      " dropout_2 (Dropout)         (None, 2, 2, 64)          0         \n",
      "                                                                 \n",
      " flatten (Flatten)           (None, 256)               0         \n",
      "                                                                 \n",
      " dense (Dense)               (None, 1024)              263168    \n",
      "                                                                 \n",
      " activation_3 (Activation)   (None, 1024)              0         \n",
      "                                                                 \n",
      " dense_1 (Dense)             (None, 512)               524800    \n",
      "                                                                 \n",
      " activation_4 (Activation)   (None, 512)               0         \n",
      "                                                                 \n",
      " dropout_3 (Dropout)         (None, 512)               0         \n",
      "                                                                 \n",
      " dense_2 (Dense)             (None, 340)               174420    \n",
      "                                                                 \n",
      " activation_5 (Activation)   (None, 340)               0         \n",
      "                                                                 \n",
      "=================================================================\n",
      "Total params: 1,308,180\n",
      "Trainable params: 1,308,180\n",
      "Non-trainable params: 0\n",
      "_________________________________________________________________\n"
     ]
    }
   ],
   "source": [
    "model.summary()"
   ]
  },
  {
   "cell_type": "code",
   "execution_count": 17,
   "id": "8fd41b3f",
   "metadata": {
    "execution": {
     "iopub.execute_input": "2023-03-23T08:32:52.372877Z",
     "iopub.status.busy": "2023-03-23T08:32:52.372507Z",
     "iopub.status.idle": "2023-03-23T08:32:52.559895Z",
     "shell.execute_reply": "2023-03-23T08:32:52.558702Z"
    },
    "papermill": {
     "duration": 0.203578,
     "end_time": "2023-03-23T08:32:52.563144",
     "exception": false,
     "start_time": "2023-03-23T08:32:52.359566",
     "status": "completed"
    },
    "tags": []
   },
   "outputs": [
    {
     "data": {
      "text/plain": [
       "175"
      ]
     },
     "execution_count": 17,
     "metadata": {},
     "output_type": "execute_result"
    }
   ],
   "source": [
    "gc.collect()"
   ]
  },
  {
   "cell_type": "markdown",
   "id": "4f74a1cd",
   "metadata": {
    "papermill": {
     "duration": 0.011273,
     "end_time": "2023-03-23T08:32:52.586503",
     "exception": false,
     "start_time": "2023-03-23T08:32:52.575230",
     "status": "completed"
    },
    "tags": []
   },
   "source": [
    "# 5. Training Deep learning model  "
   ]
  },
  {
   "cell_type": "markdown",
   "id": "3908685b",
   "metadata": {
    "papermill": {
     "duration": 0.01117,
     "end_time": "2023-03-23T08:32:52.609625",
     "exception": false,
     "start_time": "2023-03-23T08:32:52.598455",
     "status": "completed"
    },
    "tags": []
   },
   "source": [
    "RUN 1"
   ]
  },
  {
   "cell_type": "code",
   "execution_count": 18,
   "id": "994cfb63",
   "metadata": {
    "execution": {
     "iopub.execute_input": "2023-03-23T08:32:52.634615Z",
     "iopub.status.busy": "2023-03-23T08:32:52.633776Z",
     "iopub.status.idle": "2023-03-23T09:25:27.601473Z",
     "shell.execute_reply": "2023-03-23T09:25:27.600452Z"
    },
    "papermill": {
     "duration": 3157.942815,
     "end_time": "2023-03-23T09:25:30.563782",
     "exception": false,
     "start_time": "2023-03-23T08:32:52.620967",
     "status": "completed"
    },
    "tags": []
   },
   "outputs": [
    {
     "name": "stdout",
     "output_type": "stream",
     "text": [
      "Epoch 1/100\n"
     ]
    },
    {
     "name": "stderr",
     "output_type": "stream",
     "text": [
      "2023-03-23 08:33:04.801046: E tensorflow/core/grappler/optimizers/meta_optimizer.cc:954] layout failed: INVALID_ARGUMENT: Size of values 0 does not match size of permutation 4 @ fanin shape insequential/dropout/dropout/SelectV2-2-TransposeNHWCToNCHW-LayoutOptimizer\n"
     ]
    },
    {
     "name": "stdout",
     "output_type": "stream",
     "text": [
      "1172/1172 [==============================] - 52s 29ms/step - loss: 5.8298 - accuracy: 0.0026 - val_loss: 5.8290 - val_accuracy: 0.0029\n",
      "Epoch 2/100\n",
      "1172/1172 [==============================] - 31s 26ms/step - loss: 5.8297 - accuracy: 0.0025 - val_loss: 5.8290 - val_accuracy: 0.0029\n",
      "Epoch 3/100\n",
      "1172/1172 [==============================] - 30s 25ms/step - loss: 5.8297 - accuracy: 0.0026 - val_loss: 5.8290 - val_accuracy: 0.0029\n",
      "Epoch 4/100\n",
      "1172/1172 [==============================] - 29s 25ms/step - loss: 5.8297 - accuracy: 0.0027 - val_loss: 5.8290 - val_accuracy: 0.0029\n",
      "Epoch 5/100\n",
      "1172/1172 [==============================] - 31s 26ms/step - loss: 5.8297 - accuracy: 0.0024 - val_loss: 5.8290 - val_accuracy: 0.0029\n",
      "Epoch 6/100\n",
      "1172/1172 [==============================] - 30s 25ms/step - loss: 5.8297 - accuracy: 0.0025 - val_loss: 5.8290 - val_accuracy: 0.0029\n",
      "Epoch 7/100\n",
      "1172/1172 [==============================] - 32s 27ms/step - loss: 5.8297 - accuracy: 0.0026 - val_loss: 5.8290 - val_accuracy: 0.0029\n",
      "Epoch 8/100\n",
      "1172/1172 [==============================] - 31s 26ms/step - loss: 5.8297 - accuracy: 0.0026 - val_loss: 5.8290 - val_accuracy: 0.0029\n",
      "Epoch 9/100\n",
      "1172/1172 [==============================] - 30s 25ms/step - loss: 5.8298 - accuracy: 0.0024 - val_loss: 5.8290 - val_accuracy: 0.0029\n",
      "Epoch 10/100\n",
      "1172/1172 [==============================] - 29s 25ms/step - loss: 5.8297 - accuracy: 0.0025 - val_loss: 5.8290 - val_accuracy: 0.0029\n",
      "Epoch 11/100\n",
      "1172/1172 [==============================] - 30s 25ms/step - loss: 5.8297 - accuracy: 0.0024 - val_loss: 5.8290 - val_accuracy: 0.0029\n",
      "Epoch 12/100\n",
      "1172/1172 [==============================] - 30s 26ms/step - loss: 5.8297 - accuracy: 0.0023 - val_loss: 5.8290 - val_accuracy: 0.0029\n",
      "Epoch 13/100\n",
      "1172/1172 [==============================] - 29s 25ms/step - loss: 5.8297 - accuracy: 0.0025 - val_loss: 5.8290 - val_accuracy: 0.0029\n",
      "Epoch 14/100\n",
      "1172/1172 [==============================] - 31s 27ms/step - loss: 5.8297 - accuracy: 0.0025 - val_loss: 5.8290 - val_accuracy: 0.0029\n",
      "Epoch 15/100\n",
      "1172/1172 [==============================] - 31s 27ms/step - loss: 5.8297 - accuracy: 0.0024 - val_loss: 5.8290 - val_accuracy: 0.0029\n",
      "Epoch 16/100\n",
      "1172/1172 [==============================] - 31s 27ms/step - loss: 5.8297 - accuracy: 0.0025 - val_loss: 5.8290 - val_accuracy: 0.0029\n",
      "Epoch 17/100\n",
      "1172/1172 [==============================] - 30s 26ms/step - loss: 5.8297 - accuracy: 0.0024 - val_loss: 5.8290 - val_accuracy: 0.0029\n",
      "Epoch 18/100\n",
      "1172/1172 [==============================] - 31s 27ms/step - loss: 5.8297 - accuracy: 0.0023 - val_loss: 5.8290 - val_accuracy: 0.0029\n",
      "Epoch 19/100\n",
      "1172/1172 [==============================] - 30s 25ms/step - loss: 5.8297 - accuracy: 0.0025 - val_loss: 5.8290 - val_accuracy: 0.0029\n",
      "Epoch 20/100\n",
      "1172/1172 [==============================] - 30s 25ms/step - loss: 5.8297 - accuracy: 0.0024 - val_loss: 5.8290 - val_accuracy: 0.0029\n",
      "Epoch 21/100\n",
      "1172/1172 [==============================] - 31s 27ms/step - loss: 5.8297 - accuracy: 0.0026 - val_loss: 5.8290 - val_accuracy: 0.0029\n",
      "Epoch 22/100\n",
      "1172/1172 [==============================] - 29s 25ms/step - loss: 5.8297 - accuracy: 0.0024 - val_loss: 5.8290 - val_accuracy: 0.0029\n",
      "Epoch 23/100\n",
      "1172/1172 [==============================] - 31s 27ms/step - loss: 5.8297 - accuracy: 0.0025 - val_loss: 5.8290 - val_accuracy: 0.0029\n",
      "Epoch 24/100\n",
      "1172/1172 [==============================] - 30s 25ms/step - loss: 5.8297 - accuracy: 0.0025 - val_loss: 5.8290 - val_accuracy: 0.0029\n",
      "Epoch 25/100\n",
      "1172/1172 [==============================] - 30s 26ms/step - loss: 5.8297 - accuracy: 0.0027 - val_loss: 5.8290 - val_accuracy: 0.0029\n",
      "Epoch 26/100\n",
      "1172/1172 [==============================] - 30s 26ms/step - loss: 5.8297 - accuracy: 0.0026 - val_loss: 5.8290 - val_accuracy: 0.0029\n",
      "Epoch 27/100\n",
      "1172/1172 [==============================] - 31s 27ms/step - loss: 5.8297 - accuracy: 0.0026 - val_loss: 5.8290 - val_accuracy: 0.0029\n",
      "Epoch 28/100\n",
      "1172/1172 [==============================] - 31s 26ms/step - loss: 5.8297 - accuracy: 0.0023 - val_loss: 5.8290 - val_accuracy: 0.0029\n",
      "Epoch 29/100\n",
      "1172/1172 [==============================] - 29s 25ms/step - loss: 5.8297 - accuracy: 0.0024 - val_loss: 5.8290 - val_accuracy: 0.0029\n",
      "Epoch 30/100\n",
      "1172/1172 [==============================] - 30s 25ms/step - loss: 5.8297 - accuracy: 0.0026 - val_loss: 5.8290 - val_accuracy: 0.0029\n",
      "Epoch 31/100\n",
      "1172/1172 [==============================] - 30s 25ms/step - loss: 5.8297 - accuracy: 0.0027 - val_loss: 5.8290 - val_accuracy: 0.0029\n",
      "Epoch 32/100\n",
      "1172/1172 [==============================] - 30s 26ms/step - loss: 5.8297 - accuracy: 0.0024 - val_loss: 5.8290 - val_accuracy: 0.0029\n",
      "Epoch 33/100\n",
      "1172/1172 [==============================] - 31s 27ms/step - loss: 5.8297 - accuracy: 0.0025 - val_loss: 5.8290 - val_accuracy: 0.0029\n",
      "Epoch 34/100\n",
      "1172/1172 [==============================] - 30s 25ms/step - loss: 5.8297 - accuracy: 0.0026 - val_loss: 5.8290 - val_accuracy: 0.0029\n",
      "Epoch 35/100\n",
      "1172/1172 [==============================] - 32s 27ms/step - loss: 5.8297 - accuracy: 0.0026 - val_loss: 5.8290 - val_accuracy: 0.0029\n",
      "Epoch 36/100\n",
      "1172/1172 [==============================] - 32s 27ms/step - loss: 5.8297 - accuracy: 0.0025 - val_loss: 5.8290 - val_accuracy: 0.0029\n",
      "Epoch 37/100\n",
      "1172/1172 [==============================] - 30s 26ms/step - loss: 5.8297 - accuracy: 0.0023 - val_loss: 5.8290 - val_accuracy: 0.0029\n",
      "Epoch 38/100\n",
      "1172/1172 [==============================] - 30s 25ms/step - loss: 5.8297 - accuracy: 0.0025 - val_loss: 5.8290 - val_accuracy: 0.0029\n",
      "Epoch 39/100\n",
      "1172/1172 [==============================] - 29s 25ms/step - loss: 5.8297 - accuracy: 0.0027 - val_loss: 5.8290 - val_accuracy: 0.0029\n",
      "Epoch 40/100\n",
      "1172/1172 [==============================] - 30s 26ms/step - loss: 5.8297 - accuracy: 0.0024 - val_loss: 5.8290 - val_accuracy: 0.0029\n",
      "Epoch 41/100\n",
      "1172/1172 [==============================] - 30s 26ms/step - loss: 5.8297 - accuracy: 0.0026 - val_loss: 5.8290 - val_accuracy: 0.0029\n",
      "Epoch 42/100\n",
      "1172/1172 [==============================] - 30s 25ms/step - loss: 5.8297 - accuracy: 0.0025 - val_loss: 5.8290 - val_accuracy: 0.0029\n",
      "Epoch 43/100\n",
      "1172/1172 [==============================] - 30s 26ms/step - loss: 5.8297 - accuracy: 0.0027 - val_loss: 5.8290 - val_accuracy: 0.0029\n",
      "Epoch 44/100\n",
      "1172/1172 [==============================] - 30s 25ms/step - loss: 5.8297 - accuracy: 0.0023 - val_loss: 5.8290 - val_accuracy: 0.0029\n",
      "Epoch 45/100\n",
      "1172/1172 [==============================] - 29s 25ms/step - loss: 5.8297 - accuracy: 0.0026 - val_loss: 5.8290 - val_accuracy: 0.0029\n",
      "Epoch 46/100\n",
      "1172/1172 [==============================] - 32s 27ms/step - loss: 5.8297 - accuracy: 0.0026 - val_loss: 5.8290 - val_accuracy: 0.0029\n",
      "Epoch 47/100\n",
      "1172/1172 [==============================] - 32s 27ms/step - loss: 5.8297 - accuracy: 0.0025 - val_loss: 5.8290 - val_accuracy: 0.0029\n",
      "Epoch 48/100\n",
      "1172/1172 [==============================] - 32s 27ms/step - loss: 5.8297 - accuracy: 0.0024 - val_loss: 5.8290 - val_accuracy: 0.0029\n",
      "Epoch 49/100\n",
      "1172/1172 [==============================] - 30s 26ms/step - loss: 5.8297 - accuracy: 0.0023 - val_loss: 5.8290 - val_accuracy: 0.0029\n",
      "Epoch 50/100\n",
      "1172/1172 [==============================] - 30s 26ms/step - loss: 5.8297 - accuracy: 0.0026 - val_loss: 5.8290 - val_accuracy: 0.0029\n",
      "Epoch 51/100\n",
      "1172/1172 [==============================] - 30s 26ms/step - loss: 5.8297 - accuracy: 0.0024 - val_loss: 5.8290 - val_accuracy: 0.0029\n",
      "Epoch 52/100\n",
      "1172/1172 [==============================] - 31s 27ms/step - loss: 5.8297 - accuracy: 0.0024 - val_loss: 5.8290 - val_accuracy: 0.0029\n",
      "Epoch 53/100\n",
      "1172/1172 [==============================] - 31s 26ms/step - loss: 5.8297 - accuracy: 0.0024 - val_loss: 5.8290 - val_accuracy: 0.0029\n",
      "Epoch 54/100\n",
      "1172/1172 [==============================] - 30s 26ms/step - loss: 5.8297 - accuracy: 0.0026 - val_loss: 5.8290 - val_accuracy: 0.0029\n",
      "Epoch 55/100\n",
      "1172/1172 [==============================] - 32s 27ms/step - loss: 5.8297 - accuracy: 0.0024 - val_loss: 5.8290 - val_accuracy: 0.0029\n",
      "Epoch 56/100\n",
      "1172/1172 [==============================] - 30s 26ms/step - loss: 5.8297 - accuracy: 0.0026 - val_loss: 5.8290 - val_accuracy: 0.0029\n",
      "Epoch 57/100\n",
      "1172/1172 [==============================] - 30s 26ms/step - loss: 5.8297 - accuracy: 0.0027 - val_loss: 5.8290 - val_accuracy: 0.0029\n",
      "Epoch 58/100\n",
      "1172/1172 [==============================] - 30s 26ms/step - loss: 5.8297 - accuracy: 0.0024 - val_loss: 5.8290 - val_accuracy: 0.0029\n",
      "Epoch 59/100\n",
      "1172/1172 [==============================] - 31s 27ms/step - loss: 5.8297 - accuracy: 0.0024 - val_loss: 5.8290 - val_accuracy: 0.0029\n",
      "Epoch 60/100\n",
      "1172/1172 [==============================] - 30s 25ms/step - loss: 5.8297 - accuracy: 0.0023 - val_loss: 5.8290 - val_accuracy: 0.0029\n",
      "Epoch 61/100\n",
      "1172/1172 [==============================] - 32s 27ms/step - loss: 5.8297 - accuracy: 0.0024 - val_loss: 5.8290 - val_accuracy: 0.0029\n",
      "Epoch 62/100\n",
      "1172/1172 [==============================] - 30s 26ms/step - loss: 5.8297 - accuracy: 0.0023 - val_loss: 5.8290 - val_accuracy: 0.0029\n",
      "Epoch 63/100\n",
      "1172/1172 [==============================] - 32s 27ms/step - loss: 5.8297 - accuracy: 0.0025 - val_loss: 5.8290 - val_accuracy: 0.0029\n",
      "Epoch 64/100\n",
      "1172/1172 [==============================] - 30s 26ms/step - loss: 5.8297 - accuracy: 0.0024 - val_loss: 5.8290 - val_accuracy: 0.0029\n",
      "Epoch 65/100\n",
      "1172/1172 [==============================] - 30s 26ms/step - loss: 5.8297 - accuracy: 0.0023 - val_loss: 5.8290 - val_accuracy: 0.0029\n",
      "Epoch 66/100\n",
      "1172/1172 [==============================] - 31s 26ms/step - loss: 5.8297 - accuracy: 0.0025 - val_loss: 5.8290 - val_accuracy: 0.0029\n",
      "Epoch 67/100\n",
      "1172/1172 [==============================] - 31s 26ms/step - loss: 5.8297 - accuracy: 0.0024 - val_loss: 5.8290 - val_accuracy: 0.0029\n",
      "Epoch 68/100\n",
      "1172/1172 [==============================] - 30s 26ms/step - loss: 5.8297 - accuracy: 0.0026 - val_loss: 5.8290 - val_accuracy: 0.0029\n",
      "Epoch 69/100\n",
      "1172/1172 [==============================] - 30s 26ms/step - loss: 5.8297 - accuracy: 0.0024 - val_loss: 5.8290 - val_accuracy: 0.0029\n",
      "Epoch 70/100\n",
      "1172/1172 [==============================] - 30s 25ms/step - loss: 5.8297 - accuracy: 0.0025 - val_loss: 5.8290 - val_accuracy: 0.0029\n",
      "Epoch 71/100\n",
      "1172/1172 [==============================] - 32s 27ms/step - loss: 5.8297 - accuracy: 0.0026 - val_loss: 5.8290 - val_accuracy: 0.0029\n",
      "Epoch 72/100\n",
      "1172/1172 [==============================] - 32s 27ms/step - loss: 5.8297 - accuracy: 0.0027 - val_loss: 5.8290 - val_accuracy: 0.0029\n",
      "Epoch 73/100\n",
      "1172/1172 [==============================] - 32s 27ms/step - loss: 5.8297 - accuracy: 0.0024 - val_loss: 5.8290 - val_accuracy: 0.0029\n",
      "Epoch 74/100\n",
      "1172/1172 [==============================] - 30s 26ms/step - loss: 5.8297 - accuracy: 0.0027 - val_loss: 5.8290 - val_accuracy: 0.0029\n",
      "Epoch 75/100\n",
      "1172/1172 [==============================] - 32s 27ms/step - loss: 5.8297 - accuracy: 0.0025 - val_loss: 5.8290 - val_accuracy: 0.0029\n",
      "Epoch 76/100\n",
      "1172/1172 [==============================] - 32s 27ms/step - loss: 5.8297 - accuracy: 0.0026 - val_loss: 5.8290 - val_accuracy: 0.0029\n",
      "Epoch 77/100\n",
      "1172/1172 [==============================] - 32s 27ms/step - loss: 5.8297 - accuracy: 0.0025 - val_loss: 5.8290 - val_accuracy: 0.0029\n",
      "Epoch 78/100\n",
      "1172/1172 [==============================] - 31s 26ms/step - loss: 5.8297 - accuracy: 0.0025 - val_loss: 5.8290 - val_accuracy: 0.0029\n",
      "Epoch 79/100\n",
      "1172/1172 [==============================] - 29s 25ms/step - loss: 5.8297 - accuracy: 0.0024 - val_loss: 5.8290 - val_accuracy: 0.0029\n",
      "Epoch 80/100\n",
      "1172/1172 [==============================] - 31s 26ms/step - loss: 5.8297 - accuracy: 0.0025 - val_loss: 5.8290 - val_accuracy: 0.0029\n",
      "Epoch 81/100\n",
      "1172/1172 [==============================] - 32s 27ms/step - loss: 5.8297 - accuracy: 0.0024 - val_loss: 5.8290 - val_accuracy: 0.0029\n",
      "Epoch 82/100\n",
      "1172/1172 [==============================] - 32s 27ms/step - loss: 5.8297 - accuracy: 0.0026 - val_loss: 5.8290 - val_accuracy: 0.0029\n",
      "Epoch 83/100\n",
      "1172/1172 [==============================] - 32s 27ms/step - loss: 5.8297 - accuracy: 0.0024 - val_loss: 5.8290 - val_accuracy: 0.0029\n",
      "Epoch 84/100\n",
      "1172/1172 [==============================] - 32s 27ms/step - loss: 5.8297 - accuracy: 0.0026 - val_loss: 5.8290 - val_accuracy: 0.0029\n",
      "Epoch 85/100\n",
      "1172/1172 [==============================] - 31s 26ms/step - loss: 5.8297 - accuracy: 0.0026 - val_loss: 5.8290 - val_accuracy: 0.0029\n",
      "Epoch 86/100\n",
      "1172/1172 [==============================] - 32s 28ms/step - loss: 5.8297 - accuracy: 0.0026 - val_loss: 5.8290 - val_accuracy: 0.0029\n",
      "Epoch 87/100\n",
      "1172/1172 [==============================] - 32s 28ms/step - loss: 5.8297 - accuracy: 0.0025 - val_loss: 5.8290 - val_accuracy: 0.0029\n",
      "Epoch 88/100\n",
      "1172/1172 [==============================] - 30s 26ms/step - loss: 5.8297 - accuracy: 0.0026 - val_loss: 5.8290 - val_accuracy: 0.0029\n",
      "Epoch 89/100\n",
      "1172/1172 [==============================] - 31s 26ms/step - loss: 5.8297 - accuracy: 0.0025 - val_loss: 5.8290 - val_accuracy: 0.0029\n",
      "Epoch 90/100\n",
      "1172/1172 [==============================] - 31s 26ms/step - loss: 5.8297 - accuracy: 0.0026 - val_loss: 5.8290 - val_accuracy: 0.0029\n",
      "Epoch 91/100\n",
      "1172/1172 [==============================] - 30s 26ms/step - loss: 5.8297 - accuracy: 0.0023 - val_loss: 5.8290 - val_accuracy: 0.0029\n",
      "Epoch 92/100\n",
      "1172/1172 [==============================] - 32s 27ms/step - loss: 5.8297 - accuracy: 0.0023 - val_loss: 5.8290 - val_accuracy: 0.0029\n",
      "Epoch 93/100\n",
      "1172/1172 [==============================] - 31s 26ms/step - loss: 5.8297 - accuracy: 0.0025 - val_loss: 5.8290 - val_accuracy: 0.0029\n",
      "Epoch 94/100\n",
      "1172/1172 [==============================] - 31s 26ms/step - loss: 5.8297 - accuracy: 0.0024 - val_loss: 5.8290 - val_accuracy: 0.0029\n",
      "Epoch 95/100\n",
      "1172/1172 [==============================] - 31s 26ms/step - loss: 5.8297 - accuracy: 0.0025 - val_loss: 5.8290 - val_accuracy: 0.0029\n",
      "Epoch 96/100\n",
      "1172/1172 [==============================] - 32s 28ms/step - loss: 5.8297 - accuracy: 0.0023 - val_loss: 5.8290 - val_accuracy: 0.0029\n",
      "Epoch 97/100\n",
      "1172/1172 [==============================] - 31s 26ms/step - loss: 5.8297 - accuracy: 0.0026 - val_loss: 5.8290 - val_accuracy: 0.0029\n",
      "Epoch 98/100\n",
      "1172/1172 [==============================] - 32s 27ms/step - loss: 5.8297 - accuracy: 0.0025 - val_loss: 5.8290 - val_accuracy: 0.0029\n",
      "Epoch 99/100\n",
      "1172/1172 [==============================] - 31s 27ms/step - loss: 5.8297 - accuracy: 0.0024 - val_loss: 5.8290 - val_accuracy: 0.0029\n",
      "Epoch 100/100\n",
      "1172/1172 [==============================] - 31s 26ms/step - loss: 5.8297 - accuracy: 0.0024 - val_loss: 5.8290 - val_accuracy: 0.0029\n",
      "dict_keys(['loss', 'accuracy', 'val_loss', 'val_accuracy'])\n"
     ]
    },
    {
     "data": {
      "image/png": "[encoded data removed]",
      "text/plain": [
       "<Figure size 640x480 with 1 Axes>"
      ]
     },
     "metadata": {},
     "output_type": "display_data"
    },
    {
     "data": {
      "image/png": "[encoded data removed]",
      "text/plain": [
       "<Figure size 640x480 with 1 Axes>"
      ]
     },
     "metadata": {},
     "output_type": "display_data"
    }
   ],
   "source": [
    "# history = model.fit(tr_x, tr_indecator,batch_size=200,epochs=100\n",
    "#           ,validation_data=(tst_x,tst_indecator),callbacks=callbacks)\n",
    "\n",
    "history = model.fit(tr_x, tr_indecator,batch_size=128,epochs=100\n",
    "          ,validation_data=(tst_x,tst_indecator))\n",
    "\n",
    "# history = model.fit(tr_x, tr_indecator,batch_size=128,epochs=30\n",
    "#           ,validation_data=(tst_x,tst_indecator))\n",
    "\n",
    "print(history.history.keys())\n",
    "# summarize history for accuracy\n",
    "plt.plot(history.history['accuracy'])\n",
    "plt.plot(history.history['val_accuracy'])\n",
    "plt.title('model accuracy')\n",
    "plt.ylabel('accuracy')\n",
    "plt.xlabel('epoch')\n",
    "plt.legend(['train', 'test'], loc='upper left')\n",
    "plt.show()\n",
    "# summarize history for loss\n",
    "plt.plot(history.history['loss'])\n",
    "plt.plot(history.history['val_loss'])\n",
    "plt.title('model loss')\n",
    "plt.ylabel('loss')\n",
    "plt.xlabel('epoch')\n",
    "plt.legend(['train', 'test'], loc='upper left')\n",
    "plt.show()\n"
   ]
  },
  {
   "cell_type": "markdown",
   "id": "10f878e3",
   "metadata": {
    "papermill": {
     "duration": 2.772028,
     "end_time": "2023-03-23T09:25:35.897781",
     "exception": false,
     "start_time": "2023-03-23T09:25:33.125753",
     "status": "completed"
    },
    "tags": []
   },
   "source": [
    "# 6. Saving model "
   ]
  },
  {
   "cell_type": "code",
   "execution_count": 19,
   "id": "a08634c0",
   "metadata": {
    "execution": {
     "iopub.execute_input": "2023-03-23T09:25:41.075585Z",
     "iopub.status.busy": "2023-03-23T09:25:41.075174Z",
     "iopub.status.idle": "2023-03-23T09:25:41.196523Z",
     "shell.execute_reply": "2023-03-23T09:25:41.195448Z"
    },
    "papermill": {
     "duration": 2.713856,
     "end_time": "2023-03-23T09:25:41.199339",
     "exception": false,
     "start_time": "2023-03-23T09:25:38.485483",
     "status": "completed"
    },
    "tags": []
   },
   "outputs": [],
   "source": [
    "from tensorflow.keras.models import save_model\n",
    "save_model(model,\"CNN.h5\")"
   ]
  },
  {
   "cell_type": "code",
   "execution_count": null,
   "id": "15ad6db0",
   "metadata": {
    "papermill": {
     "duration": 2.802551,
     "end_time": "2023-03-23T09:25:46.620852",
     "exception": false,
     "start_time": "2023-03-23T09:25:43.818301",
     "status": "completed"
    },
    "tags": []
   },
   "outputs": [],
   "source": []
  },
  {
   "attachments": {
    "ac0c8534-c536-4685-a554-10f57d3fb7f8.png": {
     "image/png": "[encoded data removed]"
    }
   },
   "cell_type": "markdown",
   "id": "b81d508b",
   "metadata": {
    "papermill": {
     "duration": 2.656246,
     "end_time": "2023-03-23T09:25:51.827205",
     "exception": false,
     "start_time": "2023-03-23T09:25:49.170959",
     "status": "completed"
    },
    "tags": []
   },
   "source": [
    "![image.png](attachment:ac0c8534-c536-4685-a554-10f57d3fb7f8.png)"
   ]
  },
  {
   "attachments": {
    "4273c578-af84-4c9e-88dd-5444a2f183b6.png": {
     "image/png": "[encoded data removed]"
    }
   },
   "cell_type": "markdown",
   "id": "d02f7b8c",
   "metadata": {
    "papermill": {
     "duration": 2.802208,
     "end_time": "2023-03-23T09:25:57.175427",
     "exception": false,
     "start_time": "2023-03-23T09:25:54.373219",
     "status": "completed"
    },
    "tags": []
   },
   "source": [
    "![image.png](attachment:4273c578-af84-4c9e-88dd-5444a2f183b6.png)"
   ]
  }
 ],
 "metadata": {
  "kernelspec": {
   "display_name": "Python 3",
   "language": "python",
   "name": "python3"
  },
  "language_info": {
   "codemirror_mode": {
    "name": "ipython",
    "version": 3
   },
   "file_extension": ".py",
   "mimetype": "text/x-python",
   "name": "python",
   "nbconvert_exporter": "python",
   "pygments_lexer": "ipython3",
   "version": "3.7.12"
  },
  "papermill": {
   "default_parameters": {},
   "duration": 4202.797647,
   "end_time": "2023-03-23T09:26:02.998477",
   "environment_variables": {},
   "exception": null,
   "input_path": "__notebook__.ipynb",
   "output_path": "__notebook__.ipynb",
   "parameters": {},
   "start_time": "2023-03-23T08:16:00.200830",
   "version": "2.4.0"
  },
  "widgets": {
   "application/vnd.jupyter.widget-state+json": {
    "state": {
     "0747b6384073412aa050e909972a49a4": {
      "model_module": "@jupyter-widgets/controls",
      "model_module_version": "1.5.0",
      "model_name": "DescriptionStyleModel",
      "state": {
       "_model_module": "@jupyter-widgets/controls",
       "_model_module_version": "1.5.0",
       "_model_name": "DescriptionStyleModel",
       "_view_count": null,
       "_view_module": "@jupyter-widgets/base",
       "_view_module_version": "1.2.0",
       "_view_name": "StyleView",
       "description_width": ""
      }
     },
     "09ac22baf66a4f90aa58b859a0aeb3bc": {
      "model_module": "@jupyter-widgets/controls",
      "model_module_version": "1.5.0",
      "model_name": "HTMLModel",
      "state": {
       "_dom_classes": [],
       "_model_module": "@jupyter-widgets/controls",
       "_model_module_version": "1.5.0",
       "_model_name": "HTMLModel",
       "_view_count": null,
       "_view_module": "@jupyter-widgets/controls",
       "_view_module_version": "1.5.0",
       "_view_name": "HTMLView",
       "description": "",
       "description_tooltip": null,
       "layout": "IPY_MODEL_c43d7e4073bc4b4b91b184c52137f807",
       "placeholder": "​",
       "style": "IPY_MODEL_39ff98e0c1ec49c6ae400b2d5f8fa7f4",
       "value": " 4/? [00:00&lt;00:00, 22.44it/s]"
      }
     },
     "0e310ca94efa4593ae8083048b883402": {
      "model_module": "@jupyter-widgets/base",
      "model_module_version": "1.2.0",
      "model_name": "LayoutModel",
      "state": {
       "_model_module": "@jupyter-widgets/base",
       "_model_module_version": "1.2.0",
       "_model_name": "LayoutModel",
       "_view_count": null,
       "_view_module": "@jupyter-widgets/base",
       "_view_module_version": "1.2.0",
       "_view_name": "LayoutView",
       "align_content": null,
       "align_items": null,
       "align_self": null,
       "border": null,
       "bottom": null,
       "display": null,
       "flex": null,
       "flex_flow": null,
       "grid_area": null,
       "grid_auto_columns": null,
       "grid_auto_flow": null,
       "grid_auto_rows": null,
       "grid_column": null,
       "grid_gap": null,
       "grid_row": null,
       "grid_template_areas": null,
       "grid_template_columns": null,
       "grid_template_rows": null,
       "height": null,
       "justify_content": null,
       "justify_items": null,
       "left": null,
       "margin": null,
       "max_height": null,
       "max_width": null,
       "min_height": null,
       "min_width": null,
       "object_fit": null,
       "object_position": null,
       "order": null,
       "overflow": null,
       "overflow_x": null,
       "overflow_y": null,
       "padding": null,
       "right": null,
       "top": null,
       "visibility": null,
       "width": null
      }
     },
     "133377aa6c2d46e9bdd776a02008eef6": {
      "model_module": "@jupyter-widgets/controls",
      "model_module_version": "1.5.0",
      "model_name": "FloatProgressModel",
      "state": {
       "_dom_classes": [],
       "_model_module": "@jupyter-widgets/controls",
       "_model_module_version": "1.5.0",
       "_model_name": "FloatProgressModel",
       "_view_count": null,
       "_view_module": "@jupyter-widgets/controls",
       "_view_module_version": "1.5.0",
       "_view_name": "ProgressView",
       "bar_style": "success",
       "description": "",
       "description_tooltip": null,
       "layout": "IPY_MODEL_c03e4374e9ba4564b1707dc452656719",
       "max": 1.0,
       "min": 0.0,
       "orientation": "horizontal",
       "style": "IPY_MODEL_46c56af6e13f423ea0eb386a4f10f3ec",
       "value": 1.0
      }
     },
     "36911414b0554fe08714e1a24c8bc1db": {
      "model_module": "@jupyter-widgets/base",
      "model_module_version": "1.2.0",
      "model_name": "LayoutModel",
      "state": {
       "_model_module": "@jupyter-widgets/base",
       "_model_module_version": "1.2.0",
       "_model_name": "LayoutModel",
       "_view_count": null,
       "_view_module": "@jupyter-widgets/base",
       "_view_module_version": "1.2.0",
       "_view_name": "LayoutView",
       "align_content": null,
       "align_items": null,
       "align_self": null,
       "border": null,
       "bottom": null,
       "display": null,
       "flex": null,
       "flex_flow": null,
       "grid_area": null,
       "grid_auto_columns": null,
       "grid_auto_flow": null,
       "grid_auto_rows": null,
       "grid_column": null,
       "grid_gap": null,
       "grid_row": null,
       "grid_template_areas": null,
       "grid_template_columns": null,
       "grid_template_rows": null,
       "height": null,
       "justify_content": null,
       "justify_items": null,
       "left": null,
       "margin": null,
       "max_height": null,
       "max_width": null,
       "min_height": null,
       "min_width": null,
       "object_fit": null,
       "object_position": null,
       "order": null,
       "overflow": null,
       "overflow_x": null,
       "overflow_y": null,
       "padding": null,
       "right": null,
       "top": null,
       "visibility": null,
       "width": null
      }
     },
     "39ff98e0c1ec49c6ae400b2d5f8fa7f4": {
      "model_module": "@jupyter-widgets/controls",
      "model_module_version": "1.5.0",
      "model_name": "DescriptionStyleModel",
      "state": {
       "_model_module": "@jupyter-widgets/controls",
       "_model_module_version": "1.5.0",
       "_model_name": "DescriptionStyleModel",
       "_view_count": null,
       "_view_module": "@jupyter-widgets/base",
       "_view_module_version": "1.2.0",
       "_view_name": "StyleView",
       "description_width": ""
      }
     },
     "3e1dbc2199394c0c999767b39e31d7ea": {
      "model_module": "@jupyter-widgets/controls",
      "model_module_version": "1.5.0",
      "model_name": "HTMLModel",
      "state": {
       "_dom_classes": [],
       "_model_module": "@jupyter-widgets/controls",
       "_model_module_version": "1.5.0",
       "_model_name": "HTMLModel",
       "_view_count": null,
       "_view_module": "@jupyter-widgets/controls",
       "_view_module_version": "1.5.0",
       "_view_name": "HTMLView",
       "description": "",
       "description_tooltip": null,
       "layout": "IPY_MODEL_36911414b0554fe08714e1a24c8bc1db",
       "placeholder": "​",
       "style": "IPY_MODEL_4c9401ec027b4e44b9b8979e88e6ad1e",
       "value": "100%"
      }
     },
     "3e8c68e90aa84dfaaebe33d3d8a94da5": {
      "model_module": "@jupyter-widgets/controls",
      "model_module_version": "1.5.0",
      "model_name": "DescriptionStyleModel",
      "state": {
       "_model_module": "@jupyter-widgets/controls",
       "_model_module_version": "1.5.0",
       "_model_name": "DescriptionStyleModel",
       "_view_count": null,
       "_view_module": "@jupyter-widgets/base",
       "_view_module_version": "1.2.0",
       "_view_name": "StyleView",
       "description_width": ""
      }
     },
     "46c56af6e13f423ea0eb386a4f10f3ec": {
      "model_module": "@jupyter-widgets/controls",
      "model_module_version": "1.5.0",
      "model_name": "ProgressStyleModel",
      "state": {
       "_model_module": "@jupyter-widgets/controls",
       "_model_module_version": "1.5.0",
       "_model_name": "ProgressStyleModel",
       "_view_count": null,
       "_view_module": "@jupyter-widgets/base",
       "_view_module_version": "1.2.0",
       "_view_name": "StyleView",
       "bar_color": null,
       "description_width": ""
      }
     },
     "4b4e81debe994b039255c85a350bfe63": {
      "model_module": "@jupyter-widgets/base",
      "model_module_version": "1.2.0",
      "model_name": "LayoutModel",
      "state": {
       "_model_module": "@jupyter-widgets/base",
       "_model_module_version": "1.2.0",
       "_model_name": "LayoutModel",
       "_view_count": null,
       "_view_module": "@jupyter-widgets/base",
       "_view_module_version": "1.2.0",
       "_view_name": "LayoutView",
       "align_content": null,
       "align_items": null,
       "align_self": null,
       "border": null,
       "bottom": null,
       "display": null,
       "flex": null,
       "flex_flow": null,
       "grid_area": null,
       "grid_auto_columns": null,
       "grid_auto_flow": null,
       "grid_auto_rows": null,
       "grid_column": null,
       "grid_gap": null,
       "grid_row": null,
       "grid_template_areas": null,
       "grid_template_columns": null,
       "grid_template_rows": null,
       "height": null,
       "justify_content": null,
       "justify_items": null,
       "left": null,
       "margin": null,
       "max_height": null,
       "max_width": null,
       "min_height": null,
       "min_width": null,
       "object_fit": null,
       "object_position": null,
       "order": null,
       "overflow": null,
       "overflow_x": null,
       "overflow_y": null,
       "padding": null,
       "right": null,
       "top": null,
       "visibility": null,
       "width": null
      }
     },
     "4c9401ec027b4e44b9b8979e88e6ad1e": {
      "model_module": "@jupyter-widgets/controls",
      "model_module_version": "1.5.0",
      "model_name": "DescriptionStyleModel",
      "state": {
       "_model_module": "@jupyter-widgets/controls",
       "_model_module_version": "1.5.0",
       "_model_name": "DescriptionStyleModel",
       "_view_count": null,
       "_view_module": "@jupyter-widgets/base",
       "_view_module_version": "1.2.0",
       "_view_name": "StyleView",
       "description_width": ""
      }
     },
     "53f9201237e349969000844343bd1c1e": {
      "model_module": "@jupyter-widgets/controls",
      "model_module_version": "1.5.0",
      "model_name": "HBoxModel",
      "state": {
       "_dom_classes": [],
       "_model_module": "@jupyter-widgets/controls",
       "_model_module_version": "1.5.0",
       "_model_name": "HBoxModel",
       "_view_count": null,
       "_view_module": "@jupyter-widgets/controls",
       "_view_module_version": "1.5.0",
       "_view_name": "HBoxView",
       "box_style": "",
       "children": [
        "IPY_MODEL_c8fcf5ae28d14550a3646486ef26fbd4",
        "IPY_MODEL_133377aa6c2d46e9bdd776a02008eef6",
        "IPY_MODEL_09ac22baf66a4f90aa58b859a0aeb3bc"
       ],
       "layout": "IPY_MODEL_550e206514f247d2abd1e712933d9691"
      }
     },
     "550e206514f247d2abd1e712933d9691": {
      "model_module": "@jupyter-widgets/base",
      "model_module_version": "1.2.0",
      "model_name": "LayoutModel",
      "state": {
       "_model_module": "@jupyter-widgets/base",
       "_model_module_version": "1.2.0",
       "_model_name": "LayoutModel",
       "_view_count": null,
       "_view_module": "@jupyter-widgets/base",
       "_view_module_version": "1.2.0",
       "_view_name": "LayoutView",
       "align_content": null,
       "align_items": null,
       "align_self": null,
       "border": null,
       "bottom": null,
       "display": null,
       "flex": null,
       "flex_flow": null,
       "grid_area": null,
       "grid_auto_columns": null,
       "grid_auto_flow": null,
       "grid_auto_rows": null,
       "grid_column": null,
       "grid_gap": null,
       "grid_row": null,
       "grid_template_areas": null,
       "grid_template_columns": null,
       "grid_template_rows": null,
       "height": null,
       "justify_content": null,
       "justify_items": null,
       "left": null,
       "margin": null,
       "max_height": null,
       "max_width": null,
       "min_height": null,
       "min_width": null,
       "object_fit": null,
       "object_position": null,
       "order": null,
       "overflow": null,
       "overflow_x": null,
       "overflow_y": null,
       "padding": null,
       "right": null,
       "top": null,
       "visibility": null,
       "width": null
      }
     },
     "706b72dadeaa47788cdc8ad4b20f77fb": {
      "model_module": "@jupyter-widgets/controls",
      "model_module_version": "1.5.0",
      "model_name": "ProgressStyleModel",
      "state": {
       "_model_module": "@jupyter-widgets/controls",
       "_model_module_version": "1.5.0",
       "_model_name": "ProgressStyleModel",
       "_view_count": null,
       "_view_module": "@jupyter-widgets/base",
       "_view_module_version": "1.2.0",
       "_view_name": "StyleView",
       "bar_color": null,
       "description_width": ""
      }
     },
     "8e8998789f514c1fa45d36d4b0b9458c": {
      "model_module": "@jupyter-widgets/controls",
      "model_module_version": "1.5.0",
      "model_name": "HBoxModel",
      "state": {
       "_dom_classes": [],
       "_model_module": "@jupyter-widgets/controls",
       "_model_module_version": "1.5.0",
       "_model_name": "HBoxModel",
       "_view_count": null,
       "_view_module": "@jupyter-widgets/controls",
       "_view_module_version": "1.5.0",
       "_view_name": "HBoxView",
       "box_style": "",
       "children": [
        "IPY_MODEL_3e1dbc2199394c0c999767b39e31d7ea",
        "IPY_MODEL_96c711566c034744bd0d48174d6d96aa",
        "IPY_MODEL_ee3ef2b6eebf4f74ba36a0c209222fec"
       ],
       "layout": "IPY_MODEL_c21cee44ad87403a904f85c910b5f7b4"
      }
     },
     "96c711566c034744bd0d48174d6d96aa": {
      "model_module": "@jupyter-widgets/controls",
      "model_module_version": "1.5.0",
      "model_name": "FloatProgressModel",
      "state": {
       "_dom_classes": [],
       "_model_module": "@jupyter-widgets/controls",
       "_model_module_version": "1.5.0",
       "_model_name": "FloatProgressModel",
       "_view_count": null,
       "_view_module": "@jupyter-widgets/controls",
       "_view_module_version": "1.5.0",
       "_view_name": "ProgressView",
       "bar_style": "success",
       "description": "",
       "description_tooltip": null,
       "layout": "IPY_MODEL_4b4e81debe994b039255c85a350bfe63",
       "max": 340.0,
       "min": 0.0,
       "orientation": "horizontal",
       "style": "IPY_MODEL_706b72dadeaa47788cdc8ad4b20f77fb",
       "value": 340.0
      }
     },
     "c03e4374e9ba4564b1707dc452656719": {
      "model_module": "@jupyter-widgets/base",
      "model_module_version": "1.2.0",
      "model_name": "LayoutModel",
      "state": {
       "_model_module": "@jupyter-widgets/base",
       "_model_module_version": "1.2.0",
       "_model_name": "LayoutModel",
       "_view_count": null,
       "_view_module": "@jupyter-widgets/base",
       "_view_module_version": "1.2.0",
       "_view_name": "LayoutView",
       "align_content": null,
       "align_items": null,
       "align_self": null,
       "border": null,
       "bottom": null,
       "display": null,
       "flex": null,
       "flex_flow": null,
       "grid_area": null,
       "grid_auto_columns": null,
       "grid_auto_flow": null,
       "grid_auto_rows": null,
       "grid_column": null,
       "grid_gap": null,
       "grid_row": null,
       "grid_template_areas": null,
       "grid_template_columns": null,
       "grid_template_rows": null,
       "height": null,
       "justify_content": null,
       "justify_items": null,
       "left": null,
       "margin": null,
       "max_height": null,
       "max_width": null,
       "min_height": null,
       "min_width": null,
       "object_fit": null,
       "object_position": null,
       "order": null,
       "overflow": null,
       "overflow_x": null,
       "overflow_y": null,
       "padding": null,
       "right": null,
       "top": null,
       "visibility": null,
       "width": "20px"
      }
     },
     "c21cee44ad87403a904f85c910b5f7b4": {
      "model_module": "@jupyter-widgets/base",
      "model_module_version": "1.2.0",
      "model_name": "LayoutModel",
      "state": {
       "_model_module": "@jupyter-widgets/base",
       "_model_module_version": "1.2.0",
       "_model_name": "LayoutModel",
       "_view_count": null,
       "_view_module": "@jupyter-widgets/base",
       "_view_module_version": "1.2.0",
       "_view_name": "LayoutView",
       "align_content": null,
       "align_items": null,
       "align_self": null,
       "border": null,
       "bottom": null,
       "display": null,
       "flex": null,
       "flex_flow": null,
       "grid_area": null,
       "grid_auto_columns": null,
       "grid_auto_flow": null,
       "grid_auto_rows": null,
       "grid_column": null,
       "grid_gap": null,
       "grid_row": null,
       "grid_template_areas": null,
       "grid_template_columns": null,
       "grid_template_rows": null,
       "height": null,
       "justify_content": null,
       "justify_items": null,
       "left": null,
       "margin": null,
       "max_height": null,
       "max_width": null,
       "min_height": null,
       "min_width": null,
       "object_fit": null,
       "object_position": null,
       "order": null,
       "overflow": null,
       "overflow_x": null,
       "overflow_y": null,
       "padding": null,
       "right": null,
       "top": null,
       "visibility": null,
       "width": null
      }
     },
     "c43d7e4073bc4b4b91b184c52137f807": {
      "model_module": "@jupyter-widgets/base",
      "model_module_version": "1.2.0",
      "model_name": "LayoutModel",
      "state": {
       "_model_module": "@jupyter-widgets/base",
       "_model_module_version": "1.2.0",
       "_model_name": "LayoutModel",
       "_view_count": null,
       "_view_module": "@jupyter-widgets/base",
       "_view_module_version": "1.2.0",
       "_view_name": "LayoutView",
       "align_content": null,
       "align_items": null,
       "align_self": null,
       "border": null,
       "bottom": null,
       "display": null,
       "flex": null,
       "flex_flow": null,
       "grid_area": null,
       "grid_auto_columns": null,
       "grid_auto_flow": null,
       "grid_auto_rows": null,
       "grid_column": null,
       "grid_gap": null,
       "grid_row": null,
       "grid_template_areas": null,
       "grid_template_columns": null,
       "grid_template_rows": null,
       "height": null,
       "justify_content": null,
       "justify_items": null,
       "left": null,
       "margin": null,
       "max_height": null,
       "max_width": null,
       "min_height": null,
       "min_width": null,
       "object_fit": null,
       "object_position": null,
       "order": null,
       "overflow": null,
       "overflow_x": null,
       "overflow_y": null,
       "padding": null,
       "right": null,
       "top": null,
       "visibility": null,
       "width": null
      }
     },
     "c8fcf5ae28d14550a3646486ef26fbd4": {
      "model_module": "@jupyter-widgets/controls",
      "model_module_version": "1.5.0",
      "model_name": "HTMLModel",
      "state": {
       "_dom_classes": [],
       "_model_module": "@jupyter-widgets/controls",
       "_model_module_version": "1.5.0",
       "_model_name": "HTMLModel",
       "_view_count": null,
       "_view_module": "@jupyter-widgets/controls",
       "_view_module_version": "1.5.0",
       "_view_name": "HTMLView",
       "description": "",
       "description_tooltip": null,
       "layout": "IPY_MODEL_ddcc635a7e924bd4a0f9f558f0c8aefc",
       "placeholder": "​",
       "style": "IPY_MODEL_3e8c68e90aa84dfaaebe33d3d8a94da5",
       "value": ""
      }
     },
     "ddcc635a7e924bd4a0f9f558f0c8aefc": {
      "model_module": "@jupyter-widgets/base",
      "model_module_version": "1.2.0",
      "model_name": "LayoutModel",
      "state": {
       "_model_module": "@jupyter-widgets/base",
       "_model_module_version": "1.2.0",
       "_model_name": "LayoutModel",
       "_view_count": null,
       "_view_module": "@jupyter-widgets/base",
       "_view_module_version": "1.2.0",
       "_view_name": "LayoutView",
       "align_content": null,
       "align_items": null,
       "align_self": null,
       "border": null,
       "bottom": null,
       "display": null,
       "flex": null,
       "flex_flow": null,
       "grid_area": null,
       "grid_auto_columns": null,
       "grid_auto_flow": null,
       "grid_auto_rows": null,
       "grid_column": null,
       "grid_gap": null,
       "grid_row": null,
       "grid_template_areas": null,
       "grid_template_columns": null,
       "grid_template_rows": null,
       "height": null,
       "justify_content": null,
       "justify_items": null,
       "left": null,
       "margin": null,
       "max_height": null,
       "max_width": null,
       "min_height": null,
       "min_width": null,
       "object_fit": null,
       "object_position": null,
       "order": null,
       "overflow": null,
       "overflow_x": null,
       "overflow_y": null,
       "padding": null,
       "right": null,
       "top": null,
       "visibility": null,
       "width": null
      }
     },
     "ee3ef2b6eebf4f74ba36a0c209222fec": {
      "model_module": "@jupyter-widgets/controls",
      "model_module_version": "1.5.0",
      "model_name": "HTMLModel",
      "state": {
       "_dom_classes": [],
       "_model_module": "@jupyter-widgets/controls",
       "_model_module_version": "1.5.0",
       "_model_name": "HTMLModel",
       "_view_count": null,
       "_view_module": "@jupyter-widgets/controls",
       "_view_module_version": "1.5.0",
       "_view_name": "HTMLView",
       "description": "",
       "description_tooltip": null,
       "layout": "IPY_MODEL_0e310ca94efa4593ae8083048b883402",
       "placeholder": "​",
       "style": "IPY_MODEL_0747b6384073412aa050e909972a49a4",
       "value": " 340/340 [15:35&lt;00:00,  2.77s/it]"
      }
     }
    },
    "version_major": 2,
    "version_minor": 0
   }
  }
 },
 "nbformat": 4,
 "nbformat_minor": 5
}
